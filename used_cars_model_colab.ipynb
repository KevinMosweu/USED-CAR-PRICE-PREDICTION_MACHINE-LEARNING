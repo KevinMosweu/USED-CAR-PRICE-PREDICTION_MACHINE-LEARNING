{
  "nbformat": 4,
  "nbformat_minor": 0,
  "metadata": {
    "colab": {
      "provenance": []
    },
    "kernelspec": {
      "name": "python3",
      "display_name": "Python 3"
    },
    "language_info": {
      "name": "python"
    }
  },
  "cells": [
    {
      "cell_type": "code",
      "execution_count": 1,
      "metadata": {
        "id": "lPqXvWhnqNfq"
      },
      "outputs": [],
      "source": [
        "# Importing Dependencies\n",
        "import pandas as pd\n",
        "import numpy as np\n",
        "import matplotlib.pyplot as plt\n",
        "import seaborn as sns\n",
        "from sklearn.preprocessing import StandardScaler"
      ]
    },
    {
      "cell_type": "markdown",
      "source": [
        "# Loading Data from Amazon S3 bucket using Spark"
      ],
      "metadata": {
        "id": "gXU9ATpUKHiO"
      }
    },
    {
      "cell_type": "code",
      "source": [
        "import os\n",
        "# Find the latest version of spark 3.x  from http://www.apache.org/dist/spark/ and enter as the spark version\n",
        "# For example:\n",
        "# spark_version = 'spark-3.3.1'\n",
        "spark_version = 'spark-3.3.2'\n",
        "os.environ['SPARK_VERSION']=spark_version\n",
        "\n",
        "# Install Spark and Java\n",
        "!apt-get update\n",
        "!apt-get install openjdk-11-jdk-headless -qq > /dev/null\n",
        "!wget -q http://www.apache.org/dist/spark/$SPARK_VERSION/$SPARK_VERSION-bin-hadoop3.tgz\n",
        "!tar xf $SPARK_VERSION-bin-hadoop3.tgz\n",
        "!pip install -q findspark\n",
        "\n",
        "# Set Environment Variables\n",
        "os.environ[\"JAVA_HOME\"] = \"/usr/lib/jvm/java-11-openjdk-amd64\"\n",
        "os.environ[\"SPARK_HOME\"] = f\"/content/{spark_version}-bin-hadoop3\"\n",
        "\n",
        "# Start a SparkSession\n",
        "import findspark\n",
        "findspark.init()\n"
      ],
      "metadata": {
        "colab": {
          "base_uri": "https://localhost:8080/"
        },
        "id": "DS7hJGx5qlSu",
        "outputId": "f8f53187-6763-410e-8308-b63482309086"
      },
      "execution_count": 2,
      "outputs": [
        {
          "output_type": "stream",
          "name": "stdout",
          "text": [
            "Get:1 http://security.ubuntu.com/ubuntu focal-security InRelease [114 kB]\n",
            "Hit:2 https://developer.download.nvidia.com/compute/cuda/repos/ubuntu2004/x86_64  InRelease\n",
            "Get:3 https://cloud.r-project.org/bin/linux/ubuntu focal-cran40/ InRelease [3,622 B]\n",
            "Hit:4 http://ppa.launchpad.net/c2d4u.team/c2d4u4.0+/ubuntu focal InRelease\n",
            "Hit:5 http://archive.ubuntu.com/ubuntu focal InRelease\n",
            "Get:6 http://archive.ubuntu.com/ubuntu focal-updates InRelease [114 kB]\n",
            "Hit:7 http://ppa.launchpad.net/cran/libgit2/ubuntu focal InRelease\n",
            "Hit:8 http://ppa.launchpad.net/deadsnakes/ppa/ubuntu focal InRelease\n",
            "Get:9 http://archive.ubuntu.com/ubuntu focal-backports InRelease [108 kB]\n",
            "Hit:10 http://ppa.launchpad.net/graphics-drivers/ppa/ubuntu focal InRelease\n",
            "Hit:11 http://ppa.launchpad.net/ubuntugis/ppa/ubuntu focal InRelease\n",
            "Get:12 http://security.ubuntu.com/ubuntu focal-security/main amd64 Packages [2,776 kB]\n",
            "Get:13 http://security.ubuntu.com/ubuntu focal-security/universe amd64 Packages [1,058 kB]\n",
            "Get:14 http://archive.ubuntu.com/ubuntu focal-updates/restricted amd64 Packages [2,489 kB]\n",
            "Get:15 http://archive.ubuntu.com/ubuntu focal-updates/main amd64 Packages [3,259 kB]\n",
            "Get:16 http://archive.ubuntu.com/ubuntu focal-updates/universe amd64 Packages [1,355 kB]\n",
            "Fetched 11.3 MB in 8s (1,423 kB/s)\n",
            "Reading package lists... Done\n"
          ]
        }
      ]
    },
    {
      "cell_type": "code",
      "source": [
        "# Import packages\n",
        "from pyspark.sql import SparkSession\n",
        "import time\n",
        "\n",
        "# Create a SparkSession\n",
        "spark = SparkSession.builder\\\n",
        "    .appName(\"SparkSQL\")\\\n",
        "    .config(\"spark.sql.debug.maxToStringFields\", 2000)\\\n",
        "    .config(\"spark.driver.memory\", \"2g\")\\\n",
        "    .getOrCreate()"
      ],
      "metadata": {
        "id": "sUVmBWFjqyZJ"
      },
      "execution_count": 3,
      "outputs": []
    },
    {
      "cell_type": "code",
      "source": [
        "# Read in data from S3 Bucket\n",
        "from pyspark import SparkFiles\n",
        "sales_url = \"https://car-sales-data-group2.s3.amazonaws.com/vehicles.csv\"\n",
        "spark.sparkContext.addFile(sales_url)\n",
        "car_sales_df = spark.read.csv(SparkFiles.get(\"vehicles.csv\"), sep=\",\", header=True)\n",
        "\n",
        "# Show the sales data.\n",
        "car_sales_df.show()"
      ],
      "metadata": {
        "colab": {
          "base_uri": "https://localhost:8080/"
        },
        "id": "OVNzRioBrFHC",
        "outputId": "98ac6ffb-9bbd-4c25-e538-667b7c8220a8"
      },
      "execution_count": 4,
      "outputs": [
        {
          "output_type": "stream",
          "name": "stdout",
          "text": [
            "+----------+--------------------+--------------------+--------------------+-----+----+------------+-----+---------+---------+----+--------+------------+------------+----+-----+----+----+-----------+---------+-----------+------+-----+----+----+------------+\n",
            "|        id|                 url|              region|          region_url|price|year|manufacturer|model|condition|cylinders|fuel|odometer|title_status|transmission| VIN|drive|size|type|paint_color|image_url|description|county|state| lat|long|posting_date|\n",
            "+----------+--------------------+--------------------+--------------------+-----+----+------------+-----+---------+---------+----+--------+------------+------------+----+-----+----+----+-----------+---------+-----------+------+-----+----+----+------------+\n",
            "|7222695916|https://prescott....|            prescott|https://prescott....| 6000|null|        null| null|     null|     null|null|    null|        null|        null|null| null|null|null|       null|     null|       null|  null|   az|null|null|        null|\n",
            "|7218891961|https://fayar.cra...|        fayetteville|https://fayar.cra...|11900|null|        null| null|     null|     null|null|    null|        null|        null|null| null|null|null|       null|     null|       null|  null|   ar|null|null|        null|\n",
            "|7221797935|https://keys.crai...|        florida keys|https://keys.crai...|21000|null|        null| null|     null|     null|null|    null|        null|        null|null| null|null|null|       null|     null|       null|  null|   fl|null|null|        null|\n",
            "|7222270760|https://worcester...|worcester / centr...|https://worcester...| 1500|null|        null| null|     null|     null|null|    null|        null|        null|null| null|null|null|       null|     null|       null|  null|   ma|null|null|        null|\n",
            "|7210384030|https://greensbor...|          greensboro|https://greensbor...| 4900|null|        null| null|     null|     null|null|    null|        null|        null|null| null|null|null|       null|     null|       null|  null|   nc|null|null|        null|\n",
            "|7222379453|https://hudsonval...|       hudson valley|https://hudsonval...| 1600|null|        null| null|     null|     null|null|    null|        null|        null|null| null|null|null|       null|     null|       null|  null|   ny|null|null|        null|\n",
            "|7221952215|https://hudsonval...|       hudson valley|https://hudsonval...| 1000|null|        null| null|     null|     null|null|    null|        null|        null|null| null|null|null|       null|     null|       null|  null|   ny|null|null|        null|\n",
            "|7220195662|https://hudsonval...|       hudson valley|https://hudsonval...|15995|null|        null| null|     null|     null|null|    null|        null|        null|null| null|null|null|       null|     null|       null|  null|   ny|null|null|        null|\n",
            "|7209064557|https://medford.c...|     medford-ashland|https://medford.c...| 5000|null|        null| null|     null|     null|null|    null|        null|        null|null| null|null|null|       null|     null|       null|  null|   or|null|null|        null|\n",
            "|7219485069|https://erie.crai...|                erie|https://erie.crai...| 3000|null|        null| null|     null|     null|null|    null|        null|        null|null| null|null|null|       null|     null|       null|  null|   pa|null|null|        null|\n",
            "|7218893038|https://elpaso.cr...|             el paso|https://elpaso.cr...|    0|null|        null| null|     null|     null|null|    null|        null|        null|null| null|null|null|       null|     null|       null|  null|   tx|null|null|        null|\n",
            "|7218325704|https://elpaso.cr...|             el paso|https://elpaso.cr...|    0|null|        null| null|     null|     null|null|    null|        null|        null|null| null|null|null|       null|     null|       null|  null|   tx|null|null|        null|\n",
            "|7217788283|https://elpaso.cr...|             el paso|https://elpaso.cr...|    0|null|        null| null|     null|     null|null|    null|        null|        null|null| null|null|null|       null|     null|       null|  null|   tx|null|null|        null|\n",
            "|7217147606|https://elpaso.cr...|             el paso|https://elpaso.cr...|    0|null|        null| null|     null|     null|null|    null|        null|        null|null| null|null|null|       null|     null|       null|  null|   tx|null|null|        null|\n",
            "|7209027818|https://elpaso.cr...|             el paso|https://elpaso.cr...|    0|null|        null| null|     null|     null|null|    null|        null|        null|null| null|null|null|       null|     null|       null|  null|   tx|null|null|        null|\n",
            "|7223509794|https://bellingha...|          bellingham|https://bellingha...|13995|null|        null| null|     null|     null|null|    null|        null|        null|null| null|null|null|       null|     null|       null|  null|   wa|null|null|        null|\n",
            "|7222753076|https://bellingha...|          bellingham|https://bellingha...|24999|null|        null| null|     null|     null|null|    null|        null|        null|null| null|null|null|       null|     null|       null|  null|   wa|null|null|        null|\n",
            "|7222206015|https://bellingha...|          bellingham|https://bellingha...|21850|null|        null| null|     null|     null|null|    null|        null|        null|null| null|null|null|       null|     null|       null|  null|   wa|null|null|        null|\n",
            "|7220030122|https://bellingha...|          bellingham|https://bellingha...|26850|null|        null| null|     null|     null|null|    null|        null|        null|null| null|null|null|       null|     null|       null|  null|   wa|null|null|        null|\n",
            "|7218423006|https://bellingha...|          bellingham|https://bellingha...|11999|null|        null| null|     null|     null|null|    null|        null|        null|null| null|null|null|       null|     null|       null|  null|   wa|null|null|        null|\n",
            "+----------+--------------------+--------------------+--------------------+-----+----+------------+-----+---------+---------+----+--------+------------+------------+----+-----+----+----+-----------+---------+-----------+------+-----+----+----+------------+\n",
            "only showing top 20 rows\n",
            "\n"
          ]
        }
      ]
    },
    {
      "cell_type": "code",
      "source": [
        "df = car_sales_df.toPandas()\n"
      ],
      "metadata": {
        "id": "ea7Em5SJsI1b"
      },
      "execution_count": 5,
      "outputs": []
    },
    {
      "cell_type": "markdown",
      "source": [
        "#Exploratory Data Analysis (EDA)"
      ],
      "metadata": {
        "id": "HTZsCv8GsK8w"
      }
    },
    {
      "cell_type": "code",
      "source": [
        "# Display number of rows and columns in the data\n",
        "df.shape\n"
      ],
      "metadata": {
        "colab": {
          "base_uri": "https://localhost:8080/"
        },
        "id": "8mwSmQHHs0O7",
        "outputId": "8a85cbb5-58d0-400b-fde1-1e54a1f8f30b"
      },
      "execution_count": 6,
      "outputs": [
        {
          "output_type": "execute_result",
          "data": {
            "text/plain": [
              "(441802, 26)"
            ]
          },
          "metadata": {},
          "execution_count": 6
        }
      ]
    },
    {
      "cell_type": "code",
      "source": [
        "# Retrieve column names\n",
        "df.columns\n"
      ],
      "metadata": {
        "colab": {
          "base_uri": "https://localhost:8080/"
        },
        "id": "SBDeSaZHs55t",
        "outputId": "397b6a55-53d7-4282-c01d-c5652f2d3180"
      },
      "execution_count": 7,
      "outputs": [
        {
          "output_type": "execute_result",
          "data": {
            "text/plain": [
              "Index(['id', 'url', 'region', 'region_url', 'price', 'year', 'manufacturer',\n",
              "       'model', 'condition', 'cylinders', 'fuel', 'odometer', 'title_status',\n",
              "       'transmission', 'VIN', 'drive', 'size', 'type', 'paint_color',\n",
              "       'image_url', 'description', 'county', 'state', 'lat', 'long',\n",
              "       'posting_date'],\n",
              "      dtype='object')"
            ]
          },
          "metadata": {},
          "execution_count": 7
        }
      ]
    },
    {
      "cell_type": "code",
      "source": [
        "# Check number of null values in each column\n",
        "df.isna().sum()\n"
      ],
      "metadata": {
        "colab": {
          "base_uri": "https://localhost:8080/"
        },
        "id": "E6Wu1T91s-PT",
        "outputId": "7f6fbc3c-ba3b-44c7-e7c7-27fa0171a476"
      },
      "execution_count": 8,
      "outputs": [
        {
          "output_type": "execute_result",
          "data": {
            "text/plain": [
              "id                   0\n",
              "url               9884\n",
              "region            6901\n",
              "region_url        6533\n",
              "price             6446\n",
              "year              7890\n",
              "manufacturer     28937\n",
              "model            17506\n",
              "condition       187143\n",
              "cylinders       190798\n",
              "fuel             16344\n",
              "odometer         17801\n",
              "title_status     21618\n",
              "transmission     15932\n",
              "VIN             174486\n",
              "drive           144178\n",
              "size            319997\n",
              "type            106892\n",
              "paint_color     143839\n",
              "image_url        13732\n",
              "description      13733\n",
              "county          382283\n",
              "state            23077\n",
              "lat              25397\n",
              "long             24715\n",
              "posting_date     22477\n",
              "dtype: int64"
            ]
          },
          "metadata": {},
          "execution_count": 8
        }
      ]
    },
    {
      "cell_type": "code",
      "source": [
        "df.info()\n"
      ],
      "metadata": {
        "colab": {
          "base_uri": "https://localhost:8080/"
        },
        "id": "YctafC_jtCDS",
        "outputId": "0665571b-236e-494c-df45-34156b00482f"
      },
      "execution_count": 9,
      "outputs": [
        {
          "output_type": "stream",
          "name": "stdout",
          "text": [
            "<class 'pandas.core.frame.DataFrame'>\n",
            "RangeIndex: 441802 entries, 0 to 441801\n",
            "Data columns (total 26 columns):\n",
            " #   Column        Non-Null Count   Dtype \n",
            "---  ------        --------------   ----- \n",
            " 0   id            441802 non-null  object\n",
            " 1   url           431918 non-null  object\n",
            " 2   region        434901 non-null  object\n",
            " 3   region_url    435269 non-null  object\n",
            " 4   price         435356 non-null  object\n",
            " 5   year          433912 non-null  object\n",
            " 6   manufacturer  412865 non-null  object\n",
            " 7   model         424296 non-null  object\n",
            " 8   condition     254659 non-null  object\n",
            " 9   cylinders     251004 non-null  object\n",
            " 10  fuel          425458 non-null  object\n",
            " 11  odometer      424001 non-null  object\n",
            " 12  title_status  420184 non-null  object\n",
            " 13  transmission  425870 non-null  object\n",
            " 14  VIN           267316 non-null  object\n",
            " 15  drive         297624 non-null  object\n",
            " 16  size          121805 non-null  object\n",
            " 17  type          334910 non-null  object\n",
            " 18  paint_color   297963 non-null  object\n",
            " 19  image_url     428070 non-null  object\n",
            " 20  description   428069 non-null  object\n",
            " 21  county        59519 non-null   object\n",
            " 22  state         418725 non-null  object\n",
            " 23  lat           416405 non-null  object\n",
            " 24  long          417087 non-null  object\n",
            " 25  posting_date  419325 non-null  object\n",
            "dtypes: object(26)\n",
            "memory usage: 87.6+ MB\n"
          ]
        }
      ]
    },
    {
      "cell_type": "code",
      "source": [
        "# Drop unnecessary columns\n",
        "df.drop(['id', 'url', 'region_url', 'VIN', 'image_url', 'description', 'county', 'lat', 'long', 'size'], axis=1, inplace=True)\n"
      ],
      "metadata": {
        "id": "9M7ia7h3tIju"
      },
      "execution_count": 11,
      "outputs": []
    },
    {
      "cell_type": "code",
      "source": [
        "# Calculate percentage of null values in each column\n",
        "df.isna().sum()/df.shape[0]*100\n"
      ],
      "metadata": {
        "colab": {
          "base_uri": "https://localhost:8080/"
        },
        "id": "NmbMv1MHtcB6",
        "outputId": "0ab6d713-16c1-491c-df72-4e82f3cda3f2"
      },
      "execution_count": 12,
      "outputs": [
        {
          "output_type": "execute_result",
          "data": {
            "text/plain": [
              "region           1.562012\n",
              "price            1.459025\n",
              "year             1.785868\n",
              "manufacturer     6.549767\n",
              "model            3.962408\n",
              "condition       42.359021\n",
              "cylinders       43.186314\n",
              "fuel             3.699395\n",
              "odometer         4.029180\n",
              "title_status     4.893142\n",
              "transmission     3.606140\n",
              "drive           32.634076\n",
              "type            24.194549\n",
              "paint_color     32.557345\n",
              "state            5.223381\n",
              "posting_date     5.087573\n",
              "dtype: float64"
            ]
          },
          "metadata": {},
          "execution_count": 12
        }
      ]
    },
    {
      "cell_type": "code",
      "source": [
        "# Drop rows with null values in key columns\n",
        "df = df.dropna(subset=['year', 'odometer', 'manufacturer', 'model'])"
      ],
      "metadata": {
        "id": "4sdOKpDjt7d8"
      },
      "execution_count": 13,
      "outputs": []
    },
    {
      "cell_type": "code",
      "source": [
        "# Enter unknown for null values in remaining columns to keep more rows of data\n",
        "df.fillna('unknown', inplace=True)\n"
      ],
      "metadata": {
        "id": "joshRMi0t80j"
      },
      "execution_count": 14,
      "outputs": []
    },
    {
      "cell_type": "markdown",
      "source": [
        "Handling duplicated values\n"
      ],
      "metadata": {
        "id": "JzqZ64vTuEPO"
      }
    },
    {
      "cell_type": "code",
      "source": [
        "# Count duplicated rows\n",
        "df.duplicated().sum()\n"
      ],
      "metadata": {
        "colab": {
          "base_uri": "https://localhost:8080/"
        },
        "id": "hhrSvLBjt_yV",
        "outputId": "f80345e6-4a92-493d-d5ff-f1664a2a2464"
      },
      "execution_count": 15,
      "outputs": [
        {
          "output_type": "execute_result",
          "data": {
            "text/plain": [
              "10886"
            ]
          },
          "metadata": {},
          "execution_count": 15
        }
      ]
    },
    {
      "cell_type": "code",
      "source": [
        "# Drop duplicated rows\n",
        "df = df.drop_duplicates()\n"
      ],
      "metadata": {
        "id": "AStGJGSjuScJ"
      },
      "execution_count": 16,
      "outputs": []
    },
    {
      "cell_type": "code",
      "source": [
        "# Display number of rows and columns remaining\n",
        "df.shape\n"
      ],
      "metadata": {
        "colab": {
          "base_uri": "https://localhost:8080/"
        },
        "id": "I7mYFapT71x6",
        "outputId": "59535489-eda2-4672-fb25-e48ed1f5b128"
      },
      "execution_count": 17,
      "outputs": [
        {
          "output_type": "execute_result",
          "data": {
            "text/plain": [
              "(390518, 16)"
            ]
          },
          "metadata": {},
          "execution_count": 17
        }
      ]
    },
    {
      "cell_type": "code",
      "source": [
        "# Collect unique values in manufacturer column by count\n",
        "manufacturer_values = df['manufacturer'].value_counts()\n"
      ],
      "metadata": {
        "id": "h3xppNc377Ri"
      },
      "execution_count": 18,
      "outputs": []
    },
    {
      "cell_type": "code",
      "source": [
        "# Display collected values\n",
        "print(manufacturer_values)\n"
      ],
      "metadata": {
        "colab": {
          "base_uri": "https://localhost:8080/"
        },
        "id": "cxA0WHXN8MoG",
        "outputId": "325cb281-288b-430c-9b3a-464978b91087"
      },
      "execution_count": 19,
      "outputs": [
        {
          "output_type": "stream",
          "name": "stdout",
          "text": [
            "ford                                                             67827\n",
            "chevrolet                                                        52023\n",
            "toyota                                                           32677\n",
            "honda                                                            20547\n",
            "nissan                                                           18254\n",
            "jeep                                                             18129\n",
            "ram                                                              16476\n",
            "gmc                                                              15774\n",
            "bmw                                                              14259\n",
            "dodge                                                            13017\n",
            "mercedes-benz                                                    11210\n",
            "hyundai                                                           9940\n",
            "subaru                                                            9118\n",
            "volkswagen                                                        9008\n",
            "kia                                                               8140\n",
            "lexus                                                             7886\n",
            "audi                                                              7355\n",
            "cadillac                                                          6625\n",
            "acura                                                             5870\n",
            "chrysler                                                          5794\n",
            "buick                                                             5290\n",
            "mazda                                                             5259\n",
            "infiniti                                                          4665\n",
            "lincoln                                                           4054\n",
            "volvo                                                             3208\n",
            "mitsubishi                                                        3166\n",
            "mini                                                              2323\n",
            "pontiac                                                           2223\n",
            "jaguar                                                            1906\n",
            "rover                                                             1762\n",
            "porsche                                                           1300\n",
            "mercury                                                           1157\n",
            "saturn                                                            1051\n",
            "alfa-romeo                                                         890\n",
            "tesla                                                              841\n",
            "fiat                                                               783\n",
            " affordable cars                                                   298\n",
            "harley-davidson                                                    141\n",
            "ferrari                                                             75\n",
            "datsun                                                              62\n",
            " pricing and other specifications are subject to availability       40\n",
            " overall condition of the vehicle                                   28\n",
            "aston-martin                                                        24\n",
            "land rover                                                          21\n",
            " pricing                                                            12\n",
            " Optional Credit Insurance                                           3\n",
            " E150                                                                1\n",
            " Nissan Silverado                                                    1\n",
            " 2010                                                                1\n",
            " recuperaciones anteriores                                           1\n",
            " 40 mpg                                                              1\n",
            " 2015                                                                1\n",
            " Registration Fees                                                   1\n",
            "Name: manufacturer, dtype: int64\n"
          ]
        }
      ]
    },
    {
      "cell_type": "code",
      "source": [
        "# Keep top 20 manufacturers and change remaining values to 'others' to simplify column\n",
        "df['manufacturer'] = df['manufacturer'].apply(lambda x: x if str(x) in manufacturer_values[:20] else 'others')\n"
      ],
      "metadata": {
        "id": "w5tZogcv8Swr"
      },
      "execution_count": 20,
      "outputs": []
    },
    {
      "cell_type": "code",
      "source": [
        "# Collect and display unique values in region column by count\n",
        "region_values = df['region'].value_counts()\n",
        "print(region_values)"
      ],
      "metadata": {
        "colab": {
          "base_uri": "https://localhost:8080/"
        },
        "id": "4xYyBRsc-bKw",
        "outputId": "d2413dd5-1a05-467f-e4cc-b3bf221b0f41"
      },
      "execution_count": 21,
      "outputs": [
        {
          "output_type": "stream",
          "name": "stdout",
          "text": [
            "columbus                 3252\n",
            "jacksonville             3178\n",
            "grand rapids             2844\n",
            "sacramento               2841\n",
            "minneapolis / st paul    2838\n",
            "                         ... \n",
            "gti                         1\n",
            " sin crédito                1\n",
            " low miles                  1\n",
            " any finance charges        1\n",
            " 2011                       1\n",
            "Name: region, Length: 416, dtype: int64\n"
          ]
        }
      ]
    },
    {
      "cell_type": "code",
      "source": [
        "# Keep top 50 regions and change remaining values to 'others' to simplify column\n",
        "df['region'] = df['region'].apply(lambda x: x if str(x) in region_values[:50] else 'others')"
      ],
      "metadata": {
        "id": "n9t_cuWQ-oCt"
      },
      "execution_count": 22,
      "outputs": []
    },
    {
      "cell_type": "code",
      "source": [
        "# Collect and display unique values in model column by count\n",
        "model_values = df['model'].value_counts()"
      ],
      "metadata": {
        "id": "5cKDCTga-19Z"
      },
      "execution_count": 23,
      "outputs": []
    },
    {
      "cell_type": "code",
      "source": [
        "# Keep top 50 models and change remaining values to 'others' to simplify column\n",
        "df['model'] = df['model'].apply(lambda x: x if str(x) in model_values[:50] else 'others')"
      ],
      "metadata": {
        "id": "mSpMgr3oN4OM"
      },
      "execution_count": null,
      "outputs": []
    },
    {
      "cell_type": "code",
      "source": [
        "# Aggregate different names for the same model under one name \n",
        "df.loc[df['model'] == 'f150', 'model'] = 'f-150'\n",
        "df.loc[df['model'] == 'silverado 1500', 'model'] = 'silverado'\n",
        "df.loc[df['model'] == 'silverado 2500hd', 'model'] = 'silverado'\n",
        "df.loc[df['model'] == 'sierra 1500', 'model'] = 'sierra'\n",
        "df.loc[df['model'] == 'wrangler unlimited', 'model'] = 'wrangler'"
      ],
      "metadata": {
        "id": "MtbLvTOhG839"
      },
      "execution_count": 24,
      "outputs": []
    },
    {
      "cell_type": "code",
      "source": [
        "df.loc[(df['model'] == '1500') & (df['manufacturer'] == 'chevrolet'), 'model'] = 'silverado'\n",
        "df.loc[(df['model'] == '2500') & (df['manufacturer'] == 'chevrolet'), 'model'] = 'silverado'\n",
        "df.loc[(df['model'] == '3500') & (df['manufacturer'] == 'chevrolet'), 'model'] = 'silverado'"
      ],
      "metadata": {
        "id": "JB-D2EADPqbQ"
      },
      "execution_count": 25,
      "outputs": []
    },
    {
      "cell_type": "code",
      "source": [
        "df.loc[df['manufacturer'] == 'ram', 'manufacturer'] = 'dodge'\n",
        "df.loc[(df['model'] == '1500') & (df['manufacturer'] == 'dodge'), 'model'] = 'ram 1500'\n",
        "df.loc[(df['model'] == '2500') & (df['manufacturer'] == 'dodge'), 'model'] = 'ram 2500'\n",
        "df.loc[(df['model'] == '3500') & (df['manufacturer'] == 'dodge'), 'model'] = 'ram 3500'\n"
      ],
      "metadata": {
        "id": "Jntz0cM5UesV"
      },
      "execution_count": 26,
      "outputs": []
    },
    {
      "cell_type": "code",
      "source": [
        "# Check model column to verify the same models are under one name\n",
        "df['model'].value_counts()"
      ],
      "metadata": {
        "colab": {
          "base_uri": "https://localhost:8080/"
        },
        "id": "yVytKHO3FTwW",
        "outputId": "796e75a7-f7c4-4d32-b0a8-6b5334ad5819"
      },
      "execution_count": 27,
      "outputs": [
        {
          "output_type": "execute_result",
          "data": {
            "text/plain": [
              "others            291521\n",
              "silverado           9513\n",
              "f-150               8644\n",
              "wrangler            3941\n",
              "ram 1500            3769\n",
              "camry               2986\n",
              "accord              2841\n",
              "sierra              2752\n",
              "civic               2743\n",
              "altima              2671\n",
              "escape              2669\n",
              "tacoma              2417\n",
              "explorer            2405\n",
              "grand cherokee      2398\n",
              "ram 2500            2368\n",
              "mustang             2157\n",
              "corolla             2090\n",
              "equinox             1881\n",
              "fusion              1861\n",
              "cr-v                1857\n",
              "focus               1765\n",
              "malibu              1659\n",
              "charger             1640\n",
              "sonata              1631\n",
              "corvette            1628\n",
              "tahoe               1626\n",
              "rav4                1622\n",
              "impala              1621\n",
              "grand caravan       1559\n",
              "cruze               1496\n",
              "outback             1469\n",
              "odyssey             1454\n",
              "f-250               1438\n",
              "elantra             1428\n",
              "edge                1419\n",
              "prius               1366\n",
              "tundra              1348\n",
              "jetta               1328\n",
              "ram 3500            1294\n",
              "forester            1286\n",
              "rogue               1256\n",
              "sentra              1238\n",
              "soul                1102\n",
              "camaro              1101\n",
              "pilot               1079\n",
              "f-350               1076\n",
              "2500                  62\n",
              "3500                  23\n",
              "1500                  20\n",
              "Name: model, dtype: int64"
            ]
          },
          "metadata": {},
          "execution_count": 27
        }
      ]
    },
    {
      "cell_type": "code",
      "source": [
        "# Create states list to filter data with\n",
        "states_list = [ 'ak', 'al', 'ar', 'az', 'ca', 'co', 'ct', 'dc', 'de', 'fl', 'ga',\n",
        "           'hi', 'ia', 'id', 'il', 'in', 'ks', 'ky', 'la', 'ma', 'md', 'me',\n",
        "           'mi', 'mn', 'mo', 'ms', 'mt', 'nc', 'nd', 'ne', 'nh', 'nj', 'nm',\n",
        "           'nv', 'ny', 'oh', 'ok', 'or', 'pa', 'ri', 'sc', 'sd', 'tn', 'tx',\n",
        "           'ut', 'va', 'vt', 'wa', 'wi', 'wv', 'wy']"
      ],
      "metadata": {
        "id": "JEjNGPW8MAz7"
      },
      "execution_count": 28,
      "outputs": []
    },
    {
      "cell_type": "code",
      "source": [
        "# Keep 51 actual states and change remaining values to 'others' to simplify column\n",
        "df['state'] = df['state'].apply(lambda x: x if str(x) in states_list[:51] else 'others')"
      ],
      "metadata": {
        "id": "XIoYQGPsLZW1"
      },
      "execution_count": 29,
      "outputs": []
    },
    {
      "cell_type": "code",
      "source": [
        "# Remove rows with 'None' value in posting date column\n",
        "df = df.loc[df['posting_date'] != 'None']"
      ],
      "metadata": {
        "id": "sbavE_P8V6ba"
      },
      "execution_count": 30,
      "outputs": []
    },
    {
      "cell_type": "code",
      "source": [
        "# Display values in posting date column\n",
        "df['posting_date'].value_counts()"
      ],
      "metadata": {
        "colab": {
          "base_uri": "https://localhost:8080/"
        },
        "id": "4N_hY8l-X5yj",
        "outputId": "1c8e13eb-991b-4403-a83e-1084df5dccd9"
      },
      "execution_count": 31,
      "outputs": [
        {
          "output_type": "execute_result",
          "data": {
            "text/plain": [
              "unknown                                                                                                                                                                 5873\n",
              " 7.3L Powerstroke Diesels                                                                                                                                               4184\n",
              " you may need help.\\t\\t\\t \\t\\t\\t\\t\\t\\t \\t\\t\\tWe put our bottom line lowest price on every pre-owned vehicle and then let you decide if                                  2815\n",
              " Registration Fees                                                                                                                                                       906\n",
              " or processing fee. Please see a salesperson with any questions you might have before making any purchase commitment on this or any other vehicle we have for sale.\"     794\n",
              "                                                                                                                                                                        ... \n",
              "2021-04-23T16:26:50-0500                                                                                                                                                   1\n",
              "2021-04-23T15:28:59-0500                                                                                                                                                   1\n",
              "2021-04-23T13:38:35-0500                                                                                                                                                   1\n",
              " X6                                                                                                                                                                        1\n",
              "2021-04-04T03:21:07-0600                                                                                                                                                   1\n",
              "Name: posting_date, Length: 315334, dtype: int64"
            ]
          },
          "metadata": {},
          "execution_count": 31
        }
      ]
    },
    {
      "cell_type": "code",
      "source": [
        "# Change posting date to datetime format and coerce non-datetime values to nulls\n",
        "import datetime\n",
        "\n",
        "df['posting_date'] = pd.to_datetime(df['posting_date'], errors='coerce')\n"
      ],
      "metadata": {
        "id": "V_RsmQlLYKGW"
      },
      "execution_count": 32,
      "outputs": []
    },
    {
      "cell_type": "code",
      "source": [
        "# Display values in posting date column to verify conversion\n",
        "df['posting_date'].value_counts()[:30]"
      ],
      "metadata": {
        "colab": {
          "base_uri": "https://localhost:8080/"
        },
        "id": "b_4oRiDCZDDw",
        "outputId": "ed2557b0-0554-4c7c-bdb8-c2b3684a0397"
      },
      "execution_count": 33,
      "outputs": [
        {
          "output_type": "execute_result",
          "data": {
            "text/plain": [
              "2009-01-01 00:00:00          126\n",
              "2010-01-01 00:00:00           84\n",
              "2014-01-01 00:00:00           74\n",
              "2013-01-01 00:00:00           69\n",
              "2011-01-01 00:00:00           49\n",
              "2018-01-01 00:00:00           35\n",
              "2015-01-01 00:00:00           33\n",
              "2016-01-01 00:00:00           28\n",
              "2017-01-01 00:00:00           26\n",
              "2019-01-01 00:00:00           21\n",
              "2012-01-01 00:00:00           18\n",
              "2007-01-01 00:00:00           15\n",
              "2022-01-01 00:00:00           14\n",
              "2021-04-23 19:13:05-07:00     13\n",
              "2021-04-30 10:01:13-04:00     12\n",
              "2021-04-13 13:19:15-05:00     11\n",
              "2021-05-04 09:00:42-06:00     11\n",
              "2021-04-08 11:07:39-04:00     11\n",
              "2002-01-01 00:00:00           11\n",
              "2021-05-03 06:41:54-07:00     11\n",
              "2021-05-01 07:01:20-07:00     11\n",
              "2021-04-29 16:25:19-04:00     11\n",
              "2021-05-01 10:01:07-07:00     10\n",
              "2021-04-30 11:51:02-07:00     10\n",
              "2021-05-03 07:41:08-07:00      9\n",
              "2021-04-29 16:25:47-04:00      9\n",
              "2021-05-03 15:32:03-05:00      9\n",
              "2021-05-04 12:01:13-05:00      9\n",
              "2021-04-26 16:40:44-05:00      9\n",
              "2021-04-27 15:34:58-04:00      9\n",
              "Name: posting_date, dtype: int64"
            ]
          },
          "metadata": {},
          "execution_count": 33
        }
      ]
    },
    {
      "cell_type": "code",
      "source": [
        "# Drop coerced null values from posting date column\n",
        "df = df.dropna(subset=['posting_date'])\n",
        "df"
      ],
      "metadata": {
        "colab": {
          "base_uri": "https://localhost:8080/",
          "height": 835
        },
        "id": "Ck-l4vlzYyaW",
        "outputId": "5b7e8669-cef6-47c2-b17d-18973374d3ab"
      },
      "execution_count": 34,
      "outputs": [
        {
          "output_type": "execute_result",
          "data": {
            "text/plain": [
              "        region  price  year manufacturer      model  condition    cylinders  \\\n",
              "27      others  33590  2014          gmc     others       good  8 cylinders   \n",
              "28      others  22590  2010    chevrolet  silverado       good  8 cylinders   \n",
              "29      others  39590  2020    chevrolet     others       good  8 cylinders   \n",
              "30      others  30990  2017       toyota     others       good  8 cylinders   \n",
              "31      others  15000  2013         ford     others  excellent  6 cylinders   \n",
              "...        ...    ...   ...          ...        ...        ...          ...   \n",
              "441797  others  23590  2019       nissan     others       good  6 cylinders   \n",
              "441798  others  30590  2020       others     others       good      unknown   \n",
              "441799  others  34990  2020     cadillac     others       good      unknown   \n",
              "441800  others  28990  2018        lexus     others       good  6 cylinders   \n",
              "441801  others  30590  2019          bmw     others       good      unknown   \n",
              "\n",
              "          fuel odometer title_status transmission    drive       type  \\\n",
              "27         gas    57923        clean        other  unknown     pickup   \n",
              "28         gas    71229        clean        other  unknown     pickup   \n",
              "29         gas    19160        clean        other  unknown     pickup   \n",
              "30         gas    41124        clean        other  unknown     pickup   \n",
              "31         gas   128000        clean    automatic      rwd      truck   \n",
              "...        ...      ...          ...          ...      ...        ...   \n",
              "441797     gas    32226        clean        other      fwd      sedan   \n",
              "441798     gas    12029        clean        other      fwd      sedan   \n",
              "441799  diesel     4174        clean        other  unknown  hatchback   \n",
              "441800     gas    30112        clean        other      fwd      sedan   \n",
              "441801     gas    22716        clean        other      rwd      coupe   \n",
              "\n",
              "       paint_color state               posting_date  \n",
              "27           white    al  2021-05-04 12:31:18-05:00  \n",
              "28            blue    al  2021-05-04 12:31:08-05:00  \n",
              "29             red    al  2021-05-04 12:31:25-05:00  \n",
              "30             red    al  2021-05-04 10:41:31-05:00  \n",
              "31           black    al  2021-05-03 14:02:03-05:00  \n",
              "...            ...   ...                        ...  \n",
              "441797     unknown    wy  2021-04-04 03:21:31-06:00  \n",
              "441798         red    wy  2021-04-04 03:21:29-06:00  \n",
              "441799       white    wy  2021-04-04 03:21:17-06:00  \n",
              "441800      silver    wy  2021-04-04 03:21:11-06:00  \n",
              "441801     unknown    wy  2021-04-04 03:21:07-06:00  \n",
              "\n",
              "[339216 rows x 16 columns]"
            ],
            "text/html": [
              "\n",
              "  <div id=\"df-552571b5-29d8-4354-a29e-64ce84f716a8\">\n",
              "    <div class=\"colab-df-container\">\n",
              "      <div>\n",
              "<style scoped>\n",
              "    .dataframe tbody tr th:only-of-type {\n",
              "        vertical-align: middle;\n",
              "    }\n",
              "\n",
              "    .dataframe tbody tr th {\n",
              "        vertical-align: top;\n",
              "    }\n",
              "\n",
              "    .dataframe thead th {\n",
              "        text-align: right;\n",
              "    }\n",
              "</style>\n",
              "<table border=\"1\" class=\"dataframe\">\n",
              "  <thead>\n",
              "    <tr style=\"text-align: right;\">\n",
              "      <th></th>\n",
              "      <th>region</th>\n",
              "      <th>price</th>\n",
              "      <th>year</th>\n",
              "      <th>manufacturer</th>\n",
              "      <th>model</th>\n",
              "      <th>condition</th>\n",
              "      <th>cylinders</th>\n",
              "      <th>fuel</th>\n",
              "      <th>odometer</th>\n",
              "      <th>title_status</th>\n",
              "      <th>transmission</th>\n",
              "      <th>drive</th>\n",
              "      <th>type</th>\n",
              "      <th>paint_color</th>\n",
              "      <th>state</th>\n",
              "      <th>posting_date</th>\n",
              "    </tr>\n",
              "  </thead>\n",
              "  <tbody>\n",
              "    <tr>\n",
              "      <th>27</th>\n",
              "      <td>others</td>\n",
              "      <td>33590</td>\n",
              "      <td>2014</td>\n",
              "      <td>gmc</td>\n",
              "      <td>others</td>\n",
              "      <td>good</td>\n",
              "      <td>8 cylinders</td>\n",
              "      <td>gas</td>\n",
              "      <td>57923</td>\n",
              "      <td>clean</td>\n",
              "      <td>other</td>\n",
              "      <td>unknown</td>\n",
              "      <td>pickup</td>\n",
              "      <td>white</td>\n",
              "      <td>al</td>\n",
              "      <td>2021-05-04 12:31:18-05:00</td>\n",
              "    </tr>\n",
              "    <tr>\n",
              "      <th>28</th>\n",
              "      <td>others</td>\n",
              "      <td>22590</td>\n",
              "      <td>2010</td>\n",
              "      <td>chevrolet</td>\n",
              "      <td>silverado</td>\n",
              "      <td>good</td>\n",
              "      <td>8 cylinders</td>\n",
              "      <td>gas</td>\n",
              "      <td>71229</td>\n",
              "      <td>clean</td>\n",
              "      <td>other</td>\n",
              "      <td>unknown</td>\n",
              "      <td>pickup</td>\n",
              "      <td>blue</td>\n",
              "      <td>al</td>\n",
              "      <td>2021-05-04 12:31:08-05:00</td>\n",
              "    </tr>\n",
              "    <tr>\n",
              "      <th>29</th>\n",
              "      <td>others</td>\n",
              "      <td>39590</td>\n",
              "      <td>2020</td>\n",
              "      <td>chevrolet</td>\n",
              "      <td>others</td>\n",
              "      <td>good</td>\n",
              "      <td>8 cylinders</td>\n",
              "      <td>gas</td>\n",
              "      <td>19160</td>\n",
              "      <td>clean</td>\n",
              "      <td>other</td>\n",
              "      <td>unknown</td>\n",
              "      <td>pickup</td>\n",
              "      <td>red</td>\n",
              "      <td>al</td>\n",
              "      <td>2021-05-04 12:31:25-05:00</td>\n",
              "    </tr>\n",
              "    <tr>\n",
              "      <th>30</th>\n",
              "      <td>others</td>\n",
              "      <td>30990</td>\n",
              "      <td>2017</td>\n",
              "      <td>toyota</td>\n",
              "      <td>others</td>\n",
              "      <td>good</td>\n",
              "      <td>8 cylinders</td>\n",
              "      <td>gas</td>\n",
              "      <td>41124</td>\n",
              "      <td>clean</td>\n",
              "      <td>other</td>\n",
              "      <td>unknown</td>\n",
              "      <td>pickup</td>\n",
              "      <td>red</td>\n",
              "      <td>al</td>\n",
              "      <td>2021-05-04 10:41:31-05:00</td>\n",
              "    </tr>\n",
              "    <tr>\n",
              "      <th>31</th>\n",
              "      <td>others</td>\n",
              "      <td>15000</td>\n",
              "      <td>2013</td>\n",
              "      <td>ford</td>\n",
              "      <td>others</td>\n",
              "      <td>excellent</td>\n",
              "      <td>6 cylinders</td>\n",
              "      <td>gas</td>\n",
              "      <td>128000</td>\n",
              "      <td>clean</td>\n",
              "      <td>automatic</td>\n",
              "      <td>rwd</td>\n",
              "      <td>truck</td>\n",
              "      <td>black</td>\n",
              "      <td>al</td>\n",
              "      <td>2021-05-03 14:02:03-05:00</td>\n",
              "    </tr>\n",
              "    <tr>\n",
              "      <th>...</th>\n",
              "      <td>...</td>\n",
              "      <td>...</td>\n",
              "      <td>...</td>\n",
              "      <td>...</td>\n",
              "      <td>...</td>\n",
              "      <td>...</td>\n",
              "      <td>...</td>\n",
              "      <td>...</td>\n",
              "      <td>...</td>\n",
              "      <td>...</td>\n",
              "      <td>...</td>\n",
              "      <td>...</td>\n",
              "      <td>...</td>\n",
              "      <td>...</td>\n",
              "      <td>...</td>\n",
              "      <td>...</td>\n",
              "    </tr>\n",
              "    <tr>\n",
              "      <th>441797</th>\n",
              "      <td>others</td>\n",
              "      <td>23590</td>\n",
              "      <td>2019</td>\n",
              "      <td>nissan</td>\n",
              "      <td>others</td>\n",
              "      <td>good</td>\n",
              "      <td>6 cylinders</td>\n",
              "      <td>gas</td>\n",
              "      <td>32226</td>\n",
              "      <td>clean</td>\n",
              "      <td>other</td>\n",
              "      <td>fwd</td>\n",
              "      <td>sedan</td>\n",
              "      <td>unknown</td>\n",
              "      <td>wy</td>\n",
              "      <td>2021-04-04 03:21:31-06:00</td>\n",
              "    </tr>\n",
              "    <tr>\n",
              "      <th>441798</th>\n",
              "      <td>others</td>\n",
              "      <td>30590</td>\n",
              "      <td>2020</td>\n",
              "      <td>others</td>\n",
              "      <td>others</td>\n",
              "      <td>good</td>\n",
              "      <td>unknown</td>\n",
              "      <td>gas</td>\n",
              "      <td>12029</td>\n",
              "      <td>clean</td>\n",
              "      <td>other</td>\n",
              "      <td>fwd</td>\n",
              "      <td>sedan</td>\n",
              "      <td>red</td>\n",
              "      <td>wy</td>\n",
              "      <td>2021-04-04 03:21:29-06:00</td>\n",
              "    </tr>\n",
              "    <tr>\n",
              "      <th>441799</th>\n",
              "      <td>others</td>\n",
              "      <td>34990</td>\n",
              "      <td>2020</td>\n",
              "      <td>cadillac</td>\n",
              "      <td>others</td>\n",
              "      <td>good</td>\n",
              "      <td>unknown</td>\n",
              "      <td>diesel</td>\n",
              "      <td>4174</td>\n",
              "      <td>clean</td>\n",
              "      <td>other</td>\n",
              "      <td>unknown</td>\n",
              "      <td>hatchback</td>\n",
              "      <td>white</td>\n",
              "      <td>wy</td>\n",
              "      <td>2021-04-04 03:21:17-06:00</td>\n",
              "    </tr>\n",
              "    <tr>\n",
              "      <th>441800</th>\n",
              "      <td>others</td>\n",
              "      <td>28990</td>\n",
              "      <td>2018</td>\n",
              "      <td>lexus</td>\n",
              "      <td>others</td>\n",
              "      <td>good</td>\n",
              "      <td>6 cylinders</td>\n",
              "      <td>gas</td>\n",
              "      <td>30112</td>\n",
              "      <td>clean</td>\n",
              "      <td>other</td>\n",
              "      <td>fwd</td>\n",
              "      <td>sedan</td>\n",
              "      <td>silver</td>\n",
              "      <td>wy</td>\n",
              "      <td>2021-04-04 03:21:11-06:00</td>\n",
              "    </tr>\n",
              "    <tr>\n",
              "      <th>441801</th>\n",
              "      <td>others</td>\n",
              "      <td>30590</td>\n",
              "      <td>2019</td>\n",
              "      <td>bmw</td>\n",
              "      <td>others</td>\n",
              "      <td>good</td>\n",
              "      <td>unknown</td>\n",
              "      <td>gas</td>\n",
              "      <td>22716</td>\n",
              "      <td>clean</td>\n",
              "      <td>other</td>\n",
              "      <td>rwd</td>\n",
              "      <td>coupe</td>\n",
              "      <td>unknown</td>\n",
              "      <td>wy</td>\n",
              "      <td>2021-04-04 03:21:07-06:00</td>\n",
              "    </tr>\n",
              "  </tbody>\n",
              "</table>\n",
              "<p>339216 rows × 16 columns</p>\n",
              "</div>\n",
              "      <button class=\"colab-df-convert\" onclick=\"convertToInteractive('df-552571b5-29d8-4354-a29e-64ce84f716a8')\"\n",
              "              title=\"Convert this dataframe to an interactive table.\"\n",
              "              style=\"display:none;\">\n",
              "        \n",
              "  <svg xmlns=\"http://www.w3.org/2000/svg\" height=\"24px\"viewBox=\"0 0 24 24\"\n",
              "       width=\"24px\">\n",
              "    <path d=\"M0 0h24v24H0V0z\" fill=\"none\"/>\n",
              "    <path d=\"M18.56 5.44l.94 2.06.94-2.06 2.06-.94-2.06-.94-.94-2.06-.94 2.06-2.06.94zm-11 1L8.5 8.5l.94-2.06 2.06-.94-2.06-.94L8.5 2.5l-.94 2.06-2.06.94zm10 10l.94 2.06.94-2.06 2.06-.94-2.06-.94-.94-2.06-.94 2.06-2.06.94z\"/><path d=\"M17.41 7.96l-1.37-1.37c-.4-.4-.92-.59-1.43-.59-.52 0-1.04.2-1.43.59L10.3 9.45l-7.72 7.72c-.78.78-.78 2.05 0 2.83L4 21.41c.39.39.9.59 1.41.59.51 0 1.02-.2 1.41-.59l7.78-7.78 2.81-2.81c.8-.78.8-2.07 0-2.86zM5.41 20L4 18.59l7.72-7.72 1.47 1.35L5.41 20z\"/>\n",
              "  </svg>\n",
              "      </button>\n",
              "      \n",
              "  <style>\n",
              "    .colab-df-container {\n",
              "      display:flex;\n",
              "      flex-wrap:wrap;\n",
              "      gap: 12px;\n",
              "    }\n",
              "\n",
              "    .colab-df-convert {\n",
              "      background-color: #E8F0FE;\n",
              "      border: none;\n",
              "      border-radius: 50%;\n",
              "      cursor: pointer;\n",
              "      display: none;\n",
              "      fill: #1967D2;\n",
              "      height: 32px;\n",
              "      padding: 0 0 0 0;\n",
              "      width: 32px;\n",
              "    }\n",
              "\n",
              "    .colab-df-convert:hover {\n",
              "      background-color: #E2EBFA;\n",
              "      box-shadow: 0px 1px 2px rgba(60, 64, 67, 0.3), 0px 1px 3px 1px rgba(60, 64, 67, 0.15);\n",
              "      fill: #174EA6;\n",
              "    }\n",
              "\n",
              "    [theme=dark] .colab-df-convert {\n",
              "      background-color: #3B4455;\n",
              "      fill: #D2E3FC;\n",
              "    }\n",
              "\n",
              "    [theme=dark] .colab-df-convert:hover {\n",
              "      background-color: #434B5C;\n",
              "      box-shadow: 0px 1px 3px 1px rgba(0, 0, 0, 0.15);\n",
              "      filter: drop-shadow(0px 1px 2px rgba(0, 0, 0, 0.3));\n",
              "      fill: #FFFFFF;\n",
              "    }\n",
              "  </style>\n",
              "\n",
              "      <script>\n",
              "        const buttonEl =\n",
              "          document.querySelector('#df-552571b5-29d8-4354-a29e-64ce84f716a8 button.colab-df-convert');\n",
              "        buttonEl.style.display =\n",
              "          google.colab.kernel.accessAllowed ? 'block' : 'none';\n",
              "\n",
              "        async function convertToInteractive(key) {\n",
              "          const element = document.querySelector('#df-552571b5-29d8-4354-a29e-64ce84f716a8');\n",
              "          const dataTable =\n",
              "            await google.colab.kernel.invokeFunction('convertToInteractive',\n",
              "                                                     [key], {});\n",
              "          if (!dataTable) return;\n",
              "\n",
              "          const docLinkHtml = 'Like what you see? Visit the ' +\n",
              "            '<a target=\"_blank\" href=https://colab.research.google.com/notebooks/data_table.ipynb>data table notebook</a>'\n",
              "            + ' to learn more about interactive tables.';\n",
              "          element.innerHTML = '';\n",
              "          dataTable['output_type'] = 'display_data';\n",
              "          await google.colab.output.renderOutput(dataTable, element);\n",
              "          const docLink = document.createElement('div');\n",
              "          docLink.innerHTML = docLinkHtml;\n",
              "          element.appendChild(docLink);\n",
              "        }\n",
              "      </script>\n",
              "    </div>\n",
              "  </div>\n",
              "  "
            ]
          },
          "metadata": {},
          "execution_count": 34
        }
      ]
    },
    {
      "cell_type": "code",
      "source": [
        "# Display number of unique values in each column\n",
        "for i in df.columns:\n",
        "  print(i, len(df[i].value_counts().index))"
      ],
      "metadata": {
        "colab": {
          "base_uri": "https://localhost:8080/"
        },
        "id": "S83bI4SW-74v",
        "outputId": "a9326121-21a9-48fc-d4e8-78dcf5b436da"
      },
      "execution_count": 35,
      "outputs": [
        {
          "output_type": "stream",
          "name": "stdout",
          "text": [
            "region 51\n",
            "price 12631\n",
            "year 106\n",
            "manufacturer 20\n",
            "model 49\n",
            "condition 7\n",
            "cylinders 9\n",
            "fuel 6\n",
            "odometer 89251\n",
            "title_status 7\n",
            "transmission 4\n",
            "drive 4\n",
            "type 14\n",
            "paint_color 13\n",
            "state 52\n",
            "posting_date 269842\n"
          ]
        }
      ]
    },
    {
      "cell_type": "code",
      "source": [
        "# Change price column to integer and coerce non numeric values to nulls\n",
        "df['price'] = pd.to_numeric(df['price'], errors='coerce')\n"
      ],
      "metadata": {
        "id": "mGNfyhOfAwzo"
      },
      "execution_count": 38,
      "outputs": []
    },
    {
      "cell_type": "code",
      "source": [
        "# Drop coerced null values\n",
        "df = df.dropna(subset=['price'])\n",
        "df"
      ],
      "metadata": {
        "colab": {
          "base_uri": "https://localhost:8080/",
          "height": 835
        },
        "id": "Esk0DXUWPJcd",
        "outputId": "4ad92ed3-7414-4d62-9e23-c2180303f5fd"
      },
      "execution_count": 39,
      "outputs": [
        {
          "output_type": "execute_result",
          "data": {
            "text/plain": [
              "        region  price  year manufacturer      model  condition    cylinders  \\\n",
              "27      others  33590  2014          gmc     others       good  8 cylinders   \n",
              "28      others  22590  2010    chevrolet  silverado       good  8 cylinders   \n",
              "29      others  39590  2020    chevrolet     others       good  8 cylinders   \n",
              "30      others  30990  2017       toyota     others       good  8 cylinders   \n",
              "31      others  15000  2013         ford     others  excellent  6 cylinders   \n",
              "...        ...    ...   ...          ...        ...        ...          ...   \n",
              "441797  others  23590  2019       nissan     others       good  6 cylinders   \n",
              "441798  others  30590  2020       others     others       good      unknown   \n",
              "441799  others  34990  2020     cadillac     others       good      unknown   \n",
              "441800  others  28990  2018        lexus     others       good  6 cylinders   \n",
              "441801  others  30590  2019          bmw     others       good      unknown   \n",
              "\n",
              "          fuel odometer title_status transmission    drive       type  \\\n",
              "27         gas    57923        clean        other  unknown     pickup   \n",
              "28         gas    71229        clean        other  unknown     pickup   \n",
              "29         gas    19160        clean        other  unknown     pickup   \n",
              "30         gas    41124        clean        other  unknown     pickup   \n",
              "31         gas   128000        clean    automatic      rwd      truck   \n",
              "...        ...      ...          ...          ...      ...        ...   \n",
              "441797     gas    32226        clean        other      fwd      sedan   \n",
              "441798     gas    12029        clean        other      fwd      sedan   \n",
              "441799  diesel     4174        clean        other  unknown  hatchback   \n",
              "441800     gas    30112        clean        other      fwd      sedan   \n",
              "441801     gas    22716        clean        other      rwd      coupe   \n",
              "\n",
              "       paint_color state               posting_date  \n",
              "27           white    al  2021-05-04 12:31:18-05:00  \n",
              "28            blue    al  2021-05-04 12:31:08-05:00  \n",
              "29             red    al  2021-05-04 12:31:25-05:00  \n",
              "30             red    al  2021-05-04 10:41:31-05:00  \n",
              "31           black    al  2021-05-03 14:02:03-05:00  \n",
              "...            ...   ...                        ...  \n",
              "441797     unknown    wy  2021-04-04 03:21:31-06:00  \n",
              "441798         red    wy  2021-04-04 03:21:29-06:00  \n",
              "441799       white    wy  2021-04-04 03:21:17-06:00  \n",
              "441800      silver    wy  2021-04-04 03:21:11-06:00  \n",
              "441801     unknown    wy  2021-04-04 03:21:07-06:00  \n",
              "\n",
              "[339216 rows x 16 columns]"
            ],
            "text/html": [
              "\n",
              "  <div id=\"df-a04d20fe-9f13-4ecc-afee-2332e91e94d1\">\n",
              "    <div class=\"colab-df-container\">\n",
              "      <div>\n",
              "<style scoped>\n",
              "    .dataframe tbody tr th:only-of-type {\n",
              "        vertical-align: middle;\n",
              "    }\n",
              "\n",
              "    .dataframe tbody tr th {\n",
              "        vertical-align: top;\n",
              "    }\n",
              "\n",
              "    .dataframe thead th {\n",
              "        text-align: right;\n",
              "    }\n",
              "</style>\n",
              "<table border=\"1\" class=\"dataframe\">\n",
              "  <thead>\n",
              "    <tr style=\"text-align: right;\">\n",
              "      <th></th>\n",
              "      <th>region</th>\n",
              "      <th>price</th>\n",
              "      <th>year</th>\n",
              "      <th>manufacturer</th>\n",
              "      <th>model</th>\n",
              "      <th>condition</th>\n",
              "      <th>cylinders</th>\n",
              "      <th>fuel</th>\n",
              "      <th>odometer</th>\n",
              "      <th>title_status</th>\n",
              "      <th>transmission</th>\n",
              "      <th>drive</th>\n",
              "      <th>type</th>\n",
              "      <th>paint_color</th>\n",
              "      <th>state</th>\n",
              "      <th>posting_date</th>\n",
              "    </tr>\n",
              "  </thead>\n",
              "  <tbody>\n",
              "    <tr>\n",
              "      <th>27</th>\n",
              "      <td>others</td>\n",
              "      <td>33590</td>\n",
              "      <td>2014</td>\n",
              "      <td>gmc</td>\n",
              "      <td>others</td>\n",
              "      <td>good</td>\n",
              "      <td>8 cylinders</td>\n",
              "      <td>gas</td>\n",
              "      <td>57923</td>\n",
              "      <td>clean</td>\n",
              "      <td>other</td>\n",
              "      <td>unknown</td>\n",
              "      <td>pickup</td>\n",
              "      <td>white</td>\n",
              "      <td>al</td>\n",
              "      <td>2021-05-04 12:31:18-05:00</td>\n",
              "    </tr>\n",
              "    <tr>\n",
              "      <th>28</th>\n",
              "      <td>others</td>\n",
              "      <td>22590</td>\n",
              "      <td>2010</td>\n",
              "      <td>chevrolet</td>\n",
              "      <td>silverado</td>\n",
              "      <td>good</td>\n",
              "      <td>8 cylinders</td>\n",
              "      <td>gas</td>\n",
              "      <td>71229</td>\n",
              "      <td>clean</td>\n",
              "      <td>other</td>\n",
              "      <td>unknown</td>\n",
              "      <td>pickup</td>\n",
              "      <td>blue</td>\n",
              "      <td>al</td>\n",
              "      <td>2021-05-04 12:31:08-05:00</td>\n",
              "    </tr>\n",
              "    <tr>\n",
              "      <th>29</th>\n",
              "      <td>others</td>\n",
              "      <td>39590</td>\n",
              "      <td>2020</td>\n",
              "      <td>chevrolet</td>\n",
              "      <td>others</td>\n",
              "      <td>good</td>\n",
              "      <td>8 cylinders</td>\n",
              "      <td>gas</td>\n",
              "      <td>19160</td>\n",
              "      <td>clean</td>\n",
              "      <td>other</td>\n",
              "      <td>unknown</td>\n",
              "      <td>pickup</td>\n",
              "      <td>red</td>\n",
              "      <td>al</td>\n",
              "      <td>2021-05-04 12:31:25-05:00</td>\n",
              "    </tr>\n",
              "    <tr>\n",
              "      <th>30</th>\n",
              "      <td>others</td>\n",
              "      <td>30990</td>\n",
              "      <td>2017</td>\n",
              "      <td>toyota</td>\n",
              "      <td>others</td>\n",
              "      <td>good</td>\n",
              "      <td>8 cylinders</td>\n",
              "      <td>gas</td>\n",
              "      <td>41124</td>\n",
              "      <td>clean</td>\n",
              "      <td>other</td>\n",
              "      <td>unknown</td>\n",
              "      <td>pickup</td>\n",
              "      <td>red</td>\n",
              "      <td>al</td>\n",
              "      <td>2021-05-04 10:41:31-05:00</td>\n",
              "    </tr>\n",
              "    <tr>\n",
              "      <th>31</th>\n",
              "      <td>others</td>\n",
              "      <td>15000</td>\n",
              "      <td>2013</td>\n",
              "      <td>ford</td>\n",
              "      <td>others</td>\n",
              "      <td>excellent</td>\n",
              "      <td>6 cylinders</td>\n",
              "      <td>gas</td>\n",
              "      <td>128000</td>\n",
              "      <td>clean</td>\n",
              "      <td>automatic</td>\n",
              "      <td>rwd</td>\n",
              "      <td>truck</td>\n",
              "      <td>black</td>\n",
              "      <td>al</td>\n",
              "      <td>2021-05-03 14:02:03-05:00</td>\n",
              "    </tr>\n",
              "    <tr>\n",
              "      <th>...</th>\n",
              "      <td>...</td>\n",
              "      <td>...</td>\n",
              "      <td>...</td>\n",
              "      <td>...</td>\n",
              "      <td>...</td>\n",
              "      <td>...</td>\n",
              "      <td>...</td>\n",
              "      <td>...</td>\n",
              "      <td>...</td>\n",
              "      <td>...</td>\n",
              "      <td>...</td>\n",
              "      <td>...</td>\n",
              "      <td>...</td>\n",
              "      <td>...</td>\n",
              "      <td>...</td>\n",
              "      <td>...</td>\n",
              "    </tr>\n",
              "    <tr>\n",
              "      <th>441797</th>\n",
              "      <td>others</td>\n",
              "      <td>23590</td>\n",
              "      <td>2019</td>\n",
              "      <td>nissan</td>\n",
              "      <td>others</td>\n",
              "      <td>good</td>\n",
              "      <td>6 cylinders</td>\n",
              "      <td>gas</td>\n",
              "      <td>32226</td>\n",
              "      <td>clean</td>\n",
              "      <td>other</td>\n",
              "      <td>fwd</td>\n",
              "      <td>sedan</td>\n",
              "      <td>unknown</td>\n",
              "      <td>wy</td>\n",
              "      <td>2021-04-04 03:21:31-06:00</td>\n",
              "    </tr>\n",
              "    <tr>\n",
              "      <th>441798</th>\n",
              "      <td>others</td>\n",
              "      <td>30590</td>\n",
              "      <td>2020</td>\n",
              "      <td>others</td>\n",
              "      <td>others</td>\n",
              "      <td>good</td>\n",
              "      <td>unknown</td>\n",
              "      <td>gas</td>\n",
              "      <td>12029</td>\n",
              "      <td>clean</td>\n",
              "      <td>other</td>\n",
              "      <td>fwd</td>\n",
              "      <td>sedan</td>\n",
              "      <td>red</td>\n",
              "      <td>wy</td>\n",
              "      <td>2021-04-04 03:21:29-06:00</td>\n",
              "    </tr>\n",
              "    <tr>\n",
              "      <th>441799</th>\n",
              "      <td>others</td>\n",
              "      <td>34990</td>\n",
              "      <td>2020</td>\n",
              "      <td>cadillac</td>\n",
              "      <td>others</td>\n",
              "      <td>good</td>\n",
              "      <td>unknown</td>\n",
              "      <td>diesel</td>\n",
              "      <td>4174</td>\n",
              "      <td>clean</td>\n",
              "      <td>other</td>\n",
              "      <td>unknown</td>\n",
              "      <td>hatchback</td>\n",
              "      <td>white</td>\n",
              "      <td>wy</td>\n",
              "      <td>2021-04-04 03:21:17-06:00</td>\n",
              "    </tr>\n",
              "    <tr>\n",
              "      <th>441800</th>\n",
              "      <td>others</td>\n",
              "      <td>28990</td>\n",
              "      <td>2018</td>\n",
              "      <td>lexus</td>\n",
              "      <td>others</td>\n",
              "      <td>good</td>\n",
              "      <td>6 cylinders</td>\n",
              "      <td>gas</td>\n",
              "      <td>30112</td>\n",
              "      <td>clean</td>\n",
              "      <td>other</td>\n",
              "      <td>fwd</td>\n",
              "      <td>sedan</td>\n",
              "      <td>silver</td>\n",
              "      <td>wy</td>\n",
              "      <td>2021-04-04 03:21:11-06:00</td>\n",
              "    </tr>\n",
              "    <tr>\n",
              "      <th>441801</th>\n",
              "      <td>others</td>\n",
              "      <td>30590</td>\n",
              "      <td>2019</td>\n",
              "      <td>bmw</td>\n",
              "      <td>others</td>\n",
              "      <td>good</td>\n",
              "      <td>unknown</td>\n",
              "      <td>gas</td>\n",
              "      <td>22716</td>\n",
              "      <td>clean</td>\n",
              "      <td>other</td>\n",
              "      <td>rwd</td>\n",
              "      <td>coupe</td>\n",
              "      <td>unknown</td>\n",
              "      <td>wy</td>\n",
              "      <td>2021-04-04 03:21:07-06:00</td>\n",
              "    </tr>\n",
              "  </tbody>\n",
              "</table>\n",
              "<p>339216 rows × 16 columns</p>\n",
              "</div>\n",
              "      <button class=\"colab-df-convert\" onclick=\"convertToInteractive('df-a04d20fe-9f13-4ecc-afee-2332e91e94d1')\"\n",
              "              title=\"Convert this dataframe to an interactive table.\"\n",
              "              style=\"display:none;\">\n",
              "        \n",
              "  <svg xmlns=\"http://www.w3.org/2000/svg\" height=\"24px\"viewBox=\"0 0 24 24\"\n",
              "       width=\"24px\">\n",
              "    <path d=\"M0 0h24v24H0V0z\" fill=\"none\"/>\n",
              "    <path d=\"M18.56 5.44l.94 2.06.94-2.06 2.06-.94-2.06-.94-.94-2.06-.94 2.06-2.06.94zm-11 1L8.5 8.5l.94-2.06 2.06-.94-2.06-.94L8.5 2.5l-.94 2.06-2.06.94zm10 10l.94 2.06.94-2.06 2.06-.94-2.06-.94-.94-2.06-.94 2.06-2.06.94z\"/><path d=\"M17.41 7.96l-1.37-1.37c-.4-.4-.92-.59-1.43-.59-.52 0-1.04.2-1.43.59L10.3 9.45l-7.72 7.72c-.78.78-.78 2.05 0 2.83L4 21.41c.39.39.9.59 1.41.59.51 0 1.02-.2 1.41-.59l7.78-7.78 2.81-2.81c.8-.78.8-2.07 0-2.86zM5.41 20L4 18.59l7.72-7.72 1.47 1.35L5.41 20z\"/>\n",
              "  </svg>\n",
              "      </button>\n",
              "      \n",
              "  <style>\n",
              "    .colab-df-container {\n",
              "      display:flex;\n",
              "      flex-wrap:wrap;\n",
              "      gap: 12px;\n",
              "    }\n",
              "\n",
              "    .colab-df-convert {\n",
              "      background-color: #E8F0FE;\n",
              "      border: none;\n",
              "      border-radius: 50%;\n",
              "      cursor: pointer;\n",
              "      display: none;\n",
              "      fill: #1967D2;\n",
              "      height: 32px;\n",
              "      padding: 0 0 0 0;\n",
              "      width: 32px;\n",
              "    }\n",
              "\n",
              "    .colab-df-convert:hover {\n",
              "      background-color: #E2EBFA;\n",
              "      box-shadow: 0px 1px 2px rgba(60, 64, 67, 0.3), 0px 1px 3px 1px rgba(60, 64, 67, 0.15);\n",
              "      fill: #174EA6;\n",
              "    }\n",
              "\n",
              "    [theme=dark] .colab-df-convert {\n",
              "      background-color: #3B4455;\n",
              "      fill: #D2E3FC;\n",
              "    }\n",
              "\n",
              "    [theme=dark] .colab-df-convert:hover {\n",
              "      background-color: #434B5C;\n",
              "      box-shadow: 0px 1px 3px 1px rgba(0, 0, 0, 0.15);\n",
              "      filter: drop-shadow(0px 1px 2px rgba(0, 0, 0, 0.3));\n",
              "      fill: #FFFFFF;\n",
              "    }\n",
              "  </style>\n",
              "\n",
              "      <script>\n",
              "        const buttonEl =\n",
              "          document.querySelector('#df-a04d20fe-9f13-4ecc-afee-2332e91e94d1 button.colab-df-convert');\n",
              "        buttonEl.style.display =\n",
              "          google.colab.kernel.accessAllowed ? 'block' : 'none';\n",
              "\n",
              "        async function convertToInteractive(key) {\n",
              "          const element = document.querySelector('#df-a04d20fe-9f13-4ecc-afee-2332e91e94d1');\n",
              "          const dataTable =\n",
              "            await google.colab.kernel.invokeFunction('convertToInteractive',\n",
              "                                                     [key], {});\n",
              "          if (!dataTable) return;\n",
              "\n",
              "          const docLinkHtml = 'Like what you see? Visit the ' +\n",
              "            '<a target=\"_blank\" href=https://colab.research.google.com/notebooks/data_table.ipynb>data table notebook</a>'\n",
              "            + ' to learn more about interactive tables.';\n",
              "          element.innerHTML = '';\n",
              "          dataTable['output_type'] = 'display_data';\n",
              "          await google.colab.output.renderOutput(dataTable, element);\n",
              "          const docLink = document.createElement('div');\n",
              "          docLink.innerHTML = docLinkHtml;\n",
              "          element.appendChild(docLink);\n",
              "        }\n",
              "      </script>\n",
              "    </div>\n",
              "  </div>\n",
              "  "
            ]
          },
          "metadata": {},
          "execution_count": 39
        }
      ]
    },
    {
      "cell_type": "markdown",
      "source": [
        "# Numerical Data Cleaning\n",
        "\n"
      ],
      "metadata": {
        "id": "QYlvKJh2PSrG"
      }
    },
    {
      "cell_type": "code",
      "source": [
        "# Display statistics for price column\n",
        "df.describe()"
      ],
      "metadata": {
        "colab": {
          "base_uri": "https://localhost:8080/",
          "height": 300
        },
        "id": "yornKTQXPMln",
        "outputId": "e6bbb0df-6642-4635-bb12-54a894d6dd46"
      },
      "execution_count": 40,
      "outputs": [
        {
          "output_type": "execute_result",
          "data": {
            "text/plain": [
              "              price\n",
              "count  3.392160e+05\n",
              "mean   7.017696e+04\n",
              "std    1.226951e+07\n",
              "min    0.000000e+00\n",
              "25%    5.990000e+03\n",
              "50%    1.345000e+04\n",
              "75%    2.559000e+04\n",
              "max    3.736929e+09"
            ],
            "text/html": [
              "\n",
              "  <div id=\"df-45177a3a-b6c7-4fb2-95cf-babc3f8ed334\">\n",
              "    <div class=\"colab-df-container\">\n",
              "      <div>\n",
              "<style scoped>\n",
              "    .dataframe tbody tr th:only-of-type {\n",
              "        vertical-align: middle;\n",
              "    }\n",
              "\n",
              "    .dataframe tbody tr th {\n",
              "        vertical-align: top;\n",
              "    }\n",
              "\n",
              "    .dataframe thead th {\n",
              "        text-align: right;\n",
              "    }\n",
              "</style>\n",
              "<table border=\"1\" class=\"dataframe\">\n",
              "  <thead>\n",
              "    <tr style=\"text-align: right;\">\n",
              "      <th></th>\n",
              "      <th>price</th>\n",
              "    </tr>\n",
              "  </thead>\n",
              "  <tbody>\n",
              "    <tr>\n",
              "      <th>count</th>\n",
              "      <td>3.392160e+05</td>\n",
              "    </tr>\n",
              "    <tr>\n",
              "      <th>mean</th>\n",
              "      <td>7.017696e+04</td>\n",
              "    </tr>\n",
              "    <tr>\n",
              "      <th>std</th>\n",
              "      <td>1.226951e+07</td>\n",
              "    </tr>\n",
              "    <tr>\n",
              "      <th>min</th>\n",
              "      <td>0.000000e+00</td>\n",
              "    </tr>\n",
              "    <tr>\n",
              "      <th>25%</th>\n",
              "      <td>5.990000e+03</td>\n",
              "    </tr>\n",
              "    <tr>\n",
              "      <th>50%</th>\n",
              "      <td>1.345000e+04</td>\n",
              "    </tr>\n",
              "    <tr>\n",
              "      <th>75%</th>\n",
              "      <td>2.559000e+04</td>\n",
              "    </tr>\n",
              "    <tr>\n",
              "      <th>max</th>\n",
              "      <td>3.736929e+09</td>\n",
              "    </tr>\n",
              "  </tbody>\n",
              "</table>\n",
              "</div>\n",
              "      <button class=\"colab-df-convert\" onclick=\"convertToInteractive('df-45177a3a-b6c7-4fb2-95cf-babc3f8ed334')\"\n",
              "              title=\"Convert this dataframe to an interactive table.\"\n",
              "              style=\"display:none;\">\n",
              "        \n",
              "  <svg xmlns=\"http://www.w3.org/2000/svg\" height=\"24px\"viewBox=\"0 0 24 24\"\n",
              "       width=\"24px\">\n",
              "    <path d=\"M0 0h24v24H0V0z\" fill=\"none\"/>\n",
              "    <path d=\"M18.56 5.44l.94 2.06.94-2.06 2.06-.94-2.06-.94-.94-2.06-.94 2.06-2.06.94zm-11 1L8.5 8.5l.94-2.06 2.06-.94-2.06-.94L8.5 2.5l-.94 2.06-2.06.94zm10 10l.94 2.06.94-2.06 2.06-.94-2.06-.94-.94-2.06-.94 2.06-2.06.94z\"/><path d=\"M17.41 7.96l-1.37-1.37c-.4-.4-.92-.59-1.43-.59-.52 0-1.04.2-1.43.59L10.3 9.45l-7.72 7.72c-.78.78-.78 2.05 0 2.83L4 21.41c.39.39.9.59 1.41.59.51 0 1.02-.2 1.41-.59l7.78-7.78 2.81-2.81c.8-.78.8-2.07 0-2.86zM5.41 20L4 18.59l7.72-7.72 1.47 1.35L5.41 20z\"/>\n",
              "  </svg>\n",
              "      </button>\n",
              "      \n",
              "  <style>\n",
              "    .colab-df-container {\n",
              "      display:flex;\n",
              "      flex-wrap:wrap;\n",
              "      gap: 12px;\n",
              "    }\n",
              "\n",
              "    .colab-df-convert {\n",
              "      background-color: #E8F0FE;\n",
              "      border: none;\n",
              "      border-radius: 50%;\n",
              "      cursor: pointer;\n",
              "      display: none;\n",
              "      fill: #1967D2;\n",
              "      height: 32px;\n",
              "      padding: 0 0 0 0;\n",
              "      width: 32px;\n",
              "    }\n",
              "\n",
              "    .colab-df-convert:hover {\n",
              "      background-color: #E2EBFA;\n",
              "      box-shadow: 0px 1px 2px rgba(60, 64, 67, 0.3), 0px 1px 3px 1px rgba(60, 64, 67, 0.15);\n",
              "      fill: #174EA6;\n",
              "    }\n",
              "\n",
              "    [theme=dark] .colab-df-convert {\n",
              "      background-color: #3B4455;\n",
              "      fill: #D2E3FC;\n",
              "    }\n",
              "\n",
              "    [theme=dark] .colab-df-convert:hover {\n",
              "      background-color: #434B5C;\n",
              "      box-shadow: 0px 1px 3px 1px rgba(0, 0, 0, 0.15);\n",
              "      filter: drop-shadow(0px 1px 2px rgba(0, 0, 0, 0.3));\n",
              "      fill: #FFFFFF;\n",
              "    }\n",
              "  </style>\n",
              "\n",
              "      <script>\n",
              "        const buttonEl =\n",
              "          document.querySelector('#df-45177a3a-b6c7-4fb2-95cf-babc3f8ed334 button.colab-df-convert');\n",
              "        buttonEl.style.display =\n",
              "          google.colab.kernel.accessAllowed ? 'block' : 'none';\n",
              "\n",
              "        async function convertToInteractive(key) {\n",
              "          const element = document.querySelector('#df-45177a3a-b6c7-4fb2-95cf-babc3f8ed334');\n",
              "          const dataTable =\n",
              "            await google.colab.kernel.invokeFunction('convertToInteractive',\n",
              "                                                     [key], {});\n",
              "          if (!dataTable) return;\n",
              "\n",
              "          const docLinkHtml = 'Like what you see? Visit the ' +\n",
              "            '<a target=\"_blank\" href=https://colab.research.google.com/notebooks/data_table.ipynb>data table notebook</a>'\n",
              "            + ' to learn more about interactive tables.';\n",
              "          element.innerHTML = '';\n",
              "          dataTable['output_type'] = 'display_data';\n",
              "          await google.colab.output.renderOutput(dataTable, element);\n",
              "          const docLink = document.createElement('div');\n",
              "          docLink.innerHTML = docLinkHtml;\n",
              "          element.appendChild(docLink);\n",
              "        }\n",
              "      </script>\n",
              "    </div>\n",
              "  </div>\n",
              "  "
            ]
          },
          "metadata": {},
          "execution_count": 40
        }
      ]
    },
    {
      "cell_type": "markdown",
      "source": [
        "Removing Outliers"
      ],
      "metadata": {
        "id": "DjRUbFntPmFY"
      }
    },
    {
      "cell_type": "code",
      "source": [
        "# Calculate quartiles and interquartile range for price\n",
        "price_percentile25 = df['price'].quantile(0.25)\n",
        "price_percentile75 = df['price'].quantile(0.75)\n",
        "price_iqr = price_percentile75 - price_percentile25"
      ],
      "metadata": {
        "id": "1cTZ91lQPiTT"
      },
      "execution_count": 41,
      "outputs": []
    },
    {
      "cell_type": "code",
      "source": [
        "# Set upper and lower limit for price\n",
        "price_upper_limit = price_percentile75 + 1.5 * price_iqr\n",
        "price_lower_limit = df['price'].quantile(0.15)"
      ],
      "metadata": {
        "id": "Rpwv1McSPlPl"
      },
      "execution_count": 42,
      "outputs": []
    },
    {
      "cell_type": "code",
      "source": [
        "# Remove outliers and create new dataframe\n",
        "new_df = df[(df['price'] < price_upper_limit) & (df['price'] > price_lower_limit)]"
      ],
      "metadata": {
        "id": "mY6owVHzPrMS"
      },
      "execution_count": 43,
      "outputs": []
    },
    {
      "cell_type": "code",
      "source": [
        "# Change year and odometer columns to integer and float respectively and coerce non numeric values to nulls\n",
        "# Drop coerced null values\n",
        "new_df['year'] = pd.to_numeric(new_df['year'], errors='coerce')\n",
        "new_df = new_df.dropna(subset=['year'])\n",
        "new_df['year'] = new_df['year'].astype(int)\n",
        "\n",
        "new_df['odometer'] = pd.to_numeric(new_df['odometer'], errors='coerce')\n",
        "new_df = new_df.dropna(subset=['odometer'])\n",
        "new_df['odometer'] = new_df['odometer'].astype(float)"
      ],
      "metadata": {
        "id": "tNLTJwUiPvuS",
        "colab": {
          "base_uri": "https://localhost:8080/"
        },
        "outputId": "0cd8a167-f564-414a-eab3-4d580f7e0cf6"
      },
      "execution_count": 44,
      "outputs": [
        {
          "output_type": "stream",
          "name": "stderr",
          "text": [
            "<ipython-input-44-027208018140>:1: SettingWithCopyWarning: \n",
            "A value is trying to be set on a copy of a slice from a DataFrame.\n",
            "Try using .loc[row_indexer,col_indexer] = value instead\n",
            "\n",
            "See the caveats in the documentation: https://pandas.pydata.org/pandas-docs/stable/user_guide/indexing.html#returning-a-view-versus-a-copy\n",
            "  new_df['year'] = pd.to_numeric(new_df['year'], errors='coerce')\n"
          ]
        }
      ]
    },
    {
      "cell_type": "code",
      "source": [
        "# Calculate quartiles and interquartile range for odometer\n",
        "# Set upper and lower limit for odometer\n",
        "odometer_percentile75 = new_df['odometer'].quantile(0.75)\n",
        "odometer_percentile25 = new_df['odometer'].quantile(0.25)\n",
        "odometer_iqr = odometer_percentile75 - odometer_percentile25\n",
        "odometer_upper_limit = odometer_percentile75 + 1.5 * odometer_iqr\n",
        "odometer_lower_limit = new_df['odometer'].quantile(0.05)"
      ],
      "metadata": {
        "id": "8VuB7THzQHja"
      },
      "execution_count": 45,
      "outputs": []
    },
    {
      "cell_type": "code",
      "source": [
        "# Display statistics for numeric columns\n",
        "new_df.describe()\n"
      ],
      "metadata": {
        "colab": {
          "base_uri": "https://localhost:8080/",
          "height": 300
        },
        "id": "XHtvgqHsQLUn",
        "outputId": "9084a62a-fc6c-495d-ecdc-231bff2225f9"
      },
      "execution_count": 46,
      "outputs": [
        {
          "output_type": "execute_result",
          "data": {
            "text/plain": [
              "               price           year      odometer\n",
              "count  281636.000000  281636.000000  2.816360e+05\n",
              "mean    18772.114744    2011.738251  9.290991e+04\n",
              "std     11756.155533       8.482231  1.442411e+05\n",
              "min      3525.000000    1900.000000  0.000000e+00\n",
              "25%      8500.000000    2009.000000  3.705600e+04\n",
              "50%     15995.000000    2013.000000  8.511000e+04\n",
              "75%     26997.000000    2017.000000  1.312192e+05\n",
              "max     54989.000000    2022.000000  1.000000e+07"
            ],
            "text/html": [
              "\n",
              "  <div id=\"df-61838160-a845-4802-acfb-542a9bb54539\">\n",
              "    <div class=\"colab-df-container\">\n",
              "      <div>\n",
              "<style scoped>\n",
              "    .dataframe tbody tr th:only-of-type {\n",
              "        vertical-align: middle;\n",
              "    }\n",
              "\n",
              "    .dataframe tbody tr th {\n",
              "        vertical-align: top;\n",
              "    }\n",
              "\n",
              "    .dataframe thead th {\n",
              "        text-align: right;\n",
              "    }\n",
              "</style>\n",
              "<table border=\"1\" class=\"dataframe\">\n",
              "  <thead>\n",
              "    <tr style=\"text-align: right;\">\n",
              "      <th></th>\n",
              "      <th>price</th>\n",
              "      <th>year</th>\n",
              "      <th>odometer</th>\n",
              "    </tr>\n",
              "  </thead>\n",
              "  <tbody>\n",
              "    <tr>\n",
              "      <th>count</th>\n",
              "      <td>281636.000000</td>\n",
              "      <td>281636.000000</td>\n",
              "      <td>2.816360e+05</td>\n",
              "    </tr>\n",
              "    <tr>\n",
              "      <th>mean</th>\n",
              "      <td>18772.114744</td>\n",
              "      <td>2011.738251</td>\n",
              "      <td>9.290991e+04</td>\n",
              "    </tr>\n",
              "    <tr>\n",
              "      <th>std</th>\n",
              "      <td>11756.155533</td>\n",
              "      <td>8.482231</td>\n",
              "      <td>1.442411e+05</td>\n",
              "    </tr>\n",
              "    <tr>\n",
              "      <th>min</th>\n",
              "      <td>3525.000000</td>\n",
              "      <td>1900.000000</td>\n",
              "      <td>0.000000e+00</td>\n",
              "    </tr>\n",
              "    <tr>\n",
              "      <th>25%</th>\n",
              "      <td>8500.000000</td>\n",
              "      <td>2009.000000</td>\n",
              "      <td>3.705600e+04</td>\n",
              "    </tr>\n",
              "    <tr>\n",
              "      <th>50%</th>\n",
              "      <td>15995.000000</td>\n",
              "      <td>2013.000000</td>\n",
              "      <td>8.511000e+04</td>\n",
              "    </tr>\n",
              "    <tr>\n",
              "      <th>75%</th>\n",
              "      <td>26997.000000</td>\n",
              "      <td>2017.000000</td>\n",
              "      <td>1.312192e+05</td>\n",
              "    </tr>\n",
              "    <tr>\n",
              "      <th>max</th>\n",
              "      <td>54989.000000</td>\n",
              "      <td>2022.000000</td>\n",
              "      <td>1.000000e+07</td>\n",
              "    </tr>\n",
              "  </tbody>\n",
              "</table>\n",
              "</div>\n",
              "      <button class=\"colab-df-convert\" onclick=\"convertToInteractive('df-61838160-a845-4802-acfb-542a9bb54539')\"\n",
              "              title=\"Convert this dataframe to an interactive table.\"\n",
              "              style=\"display:none;\">\n",
              "        \n",
              "  <svg xmlns=\"http://www.w3.org/2000/svg\" height=\"24px\"viewBox=\"0 0 24 24\"\n",
              "       width=\"24px\">\n",
              "    <path d=\"M0 0h24v24H0V0z\" fill=\"none\"/>\n",
              "    <path d=\"M18.56 5.44l.94 2.06.94-2.06 2.06-.94-2.06-.94-.94-2.06-.94 2.06-2.06.94zm-11 1L8.5 8.5l.94-2.06 2.06-.94-2.06-.94L8.5 2.5l-.94 2.06-2.06.94zm10 10l.94 2.06.94-2.06 2.06-.94-2.06-.94-.94-2.06-.94 2.06-2.06.94z\"/><path d=\"M17.41 7.96l-1.37-1.37c-.4-.4-.92-.59-1.43-.59-.52 0-1.04.2-1.43.59L10.3 9.45l-7.72 7.72c-.78.78-.78 2.05 0 2.83L4 21.41c.39.39.9.59 1.41.59.51 0 1.02-.2 1.41-.59l7.78-7.78 2.81-2.81c.8-.78.8-2.07 0-2.86zM5.41 20L4 18.59l7.72-7.72 1.47 1.35L5.41 20z\"/>\n",
              "  </svg>\n",
              "      </button>\n",
              "      \n",
              "  <style>\n",
              "    .colab-df-container {\n",
              "      display:flex;\n",
              "      flex-wrap:wrap;\n",
              "      gap: 12px;\n",
              "    }\n",
              "\n",
              "    .colab-df-convert {\n",
              "      background-color: #E8F0FE;\n",
              "      border: none;\n",
              "      border-radius: 50%;\n",
              "      cursor: pointer;\n",
              "      display: none;\n",
              "      fill: #1967D2;\n",
              "      height: 32px;\n",
              "      padding: 0 0 0 0;\n",
              "      width: 32px;\n",
              "    }\n",
              "\n",
              "    .colab-df-convert:hover {\n",
              "      background-color: #E2EBFA;\n",
              "      box-shadow: 0px 1px 2px rgba(60, 64, 67, 0.3), 0px 1px 3px 1px rgba(60, 64, 67, 0.15);\n",
              "      fill: #174EA6;\n",
              "    }\n",
              "\n",
              "    [theme=dark] .colab-df-convert {\n",
              "      background-color: #3B4455;\n",
              "      fill: #D2E3FC;\n",
              "    }\n",
              "\n",
              "    [theme=dark] .colab-df-convert:hover {\n",
              "      background-color: #434B5C;\n",
              "      box-shadow: 0px 1px 3px 1px rgba(0, 0, 0, 0.15);\n",
              "      filter: drop-shadow(0px 1px 2px rgba(0, 0, 0, 0.3));\n",
              "      fill: #FFFFFF;\n",
              "    }\n",
              "  </style>\n",
              "\n",
              "      <script>\n",
              "        const buttonEl =\n",
              "          document.querySelector('#df-61838160-a845-4802-acfb-542a9bb54539 button.colab-df-convert');\n",
              "        buttonEl.style.display =\n",
              "          google.colab.kernel.accessAllowed ? 'block' : 'none';\n",
              "\n",
              "        async function convertToInteractive(key) {\n",
              "          const element = document.querySelector('#df-61838160-a845-4802-acfb-542a9bb54539');\n",
              "          const dataTable =\n",
              "            await google.colab.kernel.invokeFunction('convertToInteractive',\n",
              "                                                     [key], {});\n",
              "          if (!dataTable) return;\n",
              "\n",
              "          const docLinkHtml = 'Like what you see? Visit the ' +\n",
              "            '<a target=\"_blank\" href=https://colab.research.google.com/notebooks/data_table.ipynb>data table notebook</a>'\n",
              "            + ' to learn more about interactive tables.';\n",
              "          element.innerHTML = '';\n",
              "          dataTable['output_type'] = 'display_data';\n",
              "          await google.colab.output.renderOutput(dataTable, element);\n",
              "          const docLink = document.createElement('div');\n",
              "          docLink.innerHTML = docLinkHtml;\n",
              "          element.appendChild(docLink);\n",
              "        }\n",
              "      </script>\n",
              "    </div>\n",
              "  </div>\n",
              "  "
            ]
          },
          "metadata": {},
          "execution_count": 46
        }
      ]
    },
    {
      "cell_type": "code",
      "source": [
        "# Remove outliers for odometer\n",
        "new_df = new_df[(new_df['odometer'] < odometer_upper_limit) & (new_df['odometer'] > odometer_lower_limit)]\n"
      ],
      "metadata": {
        "id": "7pQIIPOAQPlT"
      },
      "execution_count": 48,
      "outputs": []
    },
    {
      "cell_type": "code",
      "source": [
        "# Display number or rows and columns in the new dataframe\n",
        "new_df.shape"
      ],
      "metadata": {
        "colab": {
          "base_uri": "https://localhost:8080/"
        },
        "id": "Dvu7T7V4QSI1",
        "outputId": "6c1a2112-5845-4475-d17c-e0ece8ecf989"
      },
      "execution_count": 49,
      "outputs": [
        {
          "output_type": "execute_result",
          "data": {
            "text/plain": [
              "(265482, 16)"
            ]
          },
          "metadata": {},
          "execution_count": 49
        }
      ]
    },
    {
      "cell_type": "code",
      "source": [
        "# Display sample of new dataframe\n",
        "new_df.sample(5)\n"
      ],
      "metadata": {
        "colab": {
          "base_uri": "https://localhost:8080/",
          "height": 444
        },
        "id": "kehKdum8QYL_",
        "outputId": "f3872fb3-46d7-4ec0-8e28-b3bca1f3e2c1"
      },
      "execution_count": 50,
      "outputs": [
        {
          "output_type": "execute_result",
          "data": {
            "text/plain": [
              "             region  price  year manufacturer     model  condition  \\\n",
              "280725  long island  35000  2020         ford    others   like new   \n",
              "64203   SF bay area  21981  2018       toyota     camry    unknown   \n",
              "196144       others  10995  2011        honda    others    unknown   \n",
              "352143       others  13500  2010         jeep  wrangler       good   \n",
              "229730       others   8500  2011       toyota     camry  excellent   \n",
              "\n",
              "          cylinders fuel  odometer title_status transmission    drive  \\\n",
              "280725  6 cylinders  gas   50395.0        clean    automatic      rwd   \n",
              "64203   4 cylinders  gas   34205.0        clean    automatic      fwd   \n",
              "196144      unknown  gas  106000.0        clean    automatic  unknown   \n",
              "352143      unknown  gas  123000.0        clean    automatic      4wd   \n",
              "229730  4 cylinders  gas  157963.0        clean    automatic      fwd   \n",
              "\n",
              "           type paint_color state               posting_date  \n",
              "280725      van       white    ny  2021-05-02 22:09:49-04:00  \n",
              "64203     sedan       white    ca  2021-05-02 16:33:09-07:00  \n",
              "196144  unknown     unknown    ma  2021-05-03 22:19:51-04:00  \n",
              "352143  unknown         red    pa  2021-04-20 15:34:24-04:00  \n",
              "229730    sedan       white    mo  2021-04-16 17:05:19-05:00  "
            ],
            "text/html": [
              "\n",
              "  <div id=\"df-2e246419-5e9a-4af4-abf2-333509744f6f\">\n",
              "    <div class=\"colab-df-container\">\n",
              "      <div>\n",
              "<style scoped>\n",
              "    .dataframe tbody tr th:only-of-type {\n",
              "        vertical-align: middle;\n",
              "    }\n",
              "\n",
              "    .dataframe tbody tr th {\n",
              "        vertical-align: top;\n",
              "    }\n",
              "\n",
              "    .dataframe thead th {\n",
              "        text-align: right;\n",
              "    }\n",
              "</style>\n",
              "<table border=\"1\" class=\"dataframe\">\n",
              "  <thead>\n",
              "    <tr style=\"text-align: right;\">\n",
              "      <th></th>\n",
              "      <th>region</th>\n",
              "      <th>price</th>\n",
              "      <th>year</th>\n",
              "      <th>manufacturer</th>\n",
              "      <th>model</th>\n",
              "      <th>condition</th>\n",
              "      <th>cylinders</th>\n",
              "      <th>fuel</th>\n",
              "      <th>odometer</th>\n",
              "      <th>title_status</th>\n",
              "      <th>transmission</th>\n",
              "      <th>drive</th>\n",
              "      <th>type</th>\n",
              "      <th>paint_color</th>\n",
              "      <th>state</th>\n",
              "      <th>posting_date</th>\n",
              "    </tr>\n",
              "  </thead>\n",
              "  <tbody>\n",
              "    <tr>\n",
              "      <th>280725</th>\n",
              "      <td>long island</td>\n",
              "      <td>35000</td>\n",
              "      <td>2020</td>\n",
              "      <td>ford</td>\n",
              "      <td>others</td>\n",
              "      <td>like new</td>\n",
              "      <td>6 cylinders</td>\n",
              "      <td>gas</td>\n",
              "      <td>50395.0</td>\n",
              "      <td>clean</td>\n",
              "      <td>automatic</td>\n",
              "      <td>rwd</td>\n",
              "      <td>van</td>\n",
              "      <td>white</td>\n",
              "      <td>ny</td>\n",
              "      <td>2021-05-02 22:09:49-04:00</td>\n",
              "    </tr>\n",
              "    <tr>\n",
              "      <th>64203</th>\n",
              "      <td>SF bay area</td>\n",
              "      <td>21981</td>\n",
              "      <td>2018</td>\n",
              "      <td>toyota</td>\n",
              "      <td>camry</td>\n",
              "      <td>unknown</td>\n",
              "      <td>4 cylinders</td>\n",
              "      <td>gas</td>\n",
              "      <td>34205.0</td>\n",
              "      <td>clean</td>\n",
              "      <td>automatic</td>\n",
              "      <td>fwd</td>\n",
              "      <td>sedan</td>\n",
              "      <td>white</td>\n",
              "      <td>ca</td>\n",
              "      <td>2021-05-02 16:33:09-07:00</td>\n",
              "    </tr>\n",
              "    <tr>\n",
              "      <th>196144</th>\n",
              "      <td>others</td>\n",
              "      <td>10995</td>\n",
              "      <td>2011</td>\n",
              "      <td>honda</td>\n",
              "      <td>others</td>\n",
              "      <td>unknown</td>\n",
              "      <td>unknown</td>\n",
              "      <td>gas</td>\n",
              "      <td>106000.0</td>\n",
              "      <td>clean</td>\n",
              "      <td>automatic</td>\n",
              "      <td>unknown</td>\n",
              "      <td>unknown</td>\n",
              "      <td>unknown</td>\n",
              "      <td>ma</td>\n",
              "      <td>2021-05-03 22:19:51-04:00</td>\n",
              "    </tr>\n",
              "    <tr>\n",
              "      <th>352143</th>\n",
              "      <td>others</td>\n",
              "      <td>13500</td>\n",
              "      <td>2010</td>\n",
              "      <td>jeep</td>\n",
              "      <td>wrangler</td>\n",
              "      <td>good</td>\n",
              "      <td>unknown</td>\n",
              "      <td>gas</td>\n",
              "      <td>123000.0</td>\n",
              "      <td>clean</td>\n",
              "      <td>automatic</td>\n",
              "      <td>4wd</td>\n",
              "      <td>unknown</td>\n",
              "      <td>red</td>\n",
              "      <td>pa</td>\n",
              "      <td>2021-04-20 15:34:24-04:00</td>\n",
              "    </tr>\n",
              "    <tr>\n",
              "      <th>229730</th>\n",
              "      <td>others</td>\n",
              "      <td>8500</td>\n",
              "      <td>2011</td>\n",
              "      <td>toyota</td>\n",
              "      <td>camry</td>\n",
              "      <td>excellent</td>\n",
              "      <td>4 cylinders</td>\n",
              "      <td>gas</td>\n",
              "      <td>157963.0</td>\n",
              "      <td>clean</td>\n",
              "      <td>automatic</td>\n",
              "      <td>fwd</td>\n",
              "      <td>sedan</td>\n",
              "      <td>white</td>\n",
              "      <td>mo</td>\n",
              "      <td>2021-04-16 17:05:19-05:00</td>\n",
              "    </tr>\n",
              "  </tbody>\n",
              "</table>\n",
              "</div>\n",
              "      <button class=\"colab-df-convert\" onclick=\"convertToInteractive('df-2e246419-5e9a-4af4-abf2-333509744f6f')\"\n",
              "              title=\"Convert this dataframe to an interactive table.\"\n",
              "              style=\"display:none;\">\n",
              "        \n",
              "  <svg xmlns=\"http://www.w3.org/2000/svg\" height=\"24px\"viewBox=\"0 0 24 24\"\n",
              "       width=\"24px\">\n",
              "    <path d=\"M0 0h24v24H0V0z\" fill=\"none\"/>\n",
              "    <path d=\"M18.56 5.44l.94 2.06.94-2.06 2.06-.94-2.06-.94-.94-2.06-.94 2.06-2.06.94zm-11 1L8.5 8.5l.94-2.06 2.06-.94-2.06-.94L8.5 2.5l-.94 2.06-2.06.94zm10 10l.94 2.06.94-2.06 2.06-.94-2.06-.94-.94-2.06-.94 2.06-2.06.94z\"/><path d=\"M17.41 7.96l-1.37-1.37c-.4-.4-.92-.59-1.43-.59-.52 0-1.04.2-1.43.59L10.3 9.45l-7.72 7.72c-.78.78-.78 2.05 0 2.83L4 21.41c.39.39.9.59 1.41.59.51 0 1.02-.2 1.41-.59l7.78-7.78 2.81-2.81c.8-.78.8-2.07 0-2.86zM5.41 20L4 18.59l7.72-7.72 1.47 1.35L5.41 20z\"/>\n",
              "  </svg>\n",
              "      </button>\n",
              "      \n",
              "  <style>\n",
              "    .colab-df-container {\n",
              "      display:flex;\n",
              "      flex-wrap:wrap;\n",
              "      gap: 12px;\n",
              "    }\n",
              "\n",
              "    .colab-df-convert {\n",
              "      background-color: #E8F0FE;\n",
              "      border: none;\n",
              "      border-radius: 50%;\n",
              "      cursor: pointer;\n",
              "      display: none;\n",
              "      fill: #1967D2;\n",
              "      height: 32px;\n",
              "      padding: 0 0 0 0;\n",
              "      width: 32px;\n",
              "    }\n",
              "\n",
              "    .colab-df-convert:hover {\n",
              "      background-color: #E2EBFA;\n",
              "      box-shadow: 0px 1px 2px rgba(60, 64, 67, 0.3), 0px 1px 3px 1px rgba(60, 64, 67, 0.15);\n",
              "      fill: #174EA6;\n",
              "    }\n",
              "\n",
              "    [theme=dark] .colab-df-convert {\n",
              "      background-color: #3B4455;\n",
              "      fill: #D2E3FC;\n",
              "    }\n",
              "\n",
              "    [theme=dark] .colab-df-convert:hover {\n",
              "      background-color: #434B5C;\n",
              "      box-shadow: 0px 1px 3px 1px rgba(0, 0, 0, 0.15);\n",
              "      filter: drop-shadow(0px 1px 2px rgba(0, 0, 0, 0.3));\n",
              "      fill: #FFFFFF;\n",
              "    }\n",
              "  </style>\n",
              "\n",
              "      <script>\n",
              "        const buttonEl =\n",
              "          document.querySelector('#df-2e246419-5e9a-4af4-abf2-333509744f6f button.colab-df-convert');\n",
              "        buttonEl.style.display =\n",
              "          google.colab.kernel.accessAllowed ? 'block' : 'none';\n",
              "\n",
              "        async function convertToInteractive(key) {\n",
              "          const element = document.querySelector('#df-2e246419-5e9a-4af4-abf2-333509744f6f');\n",
              "          const dataTable =\n",
              "            await google.colab.kernel.invokeFunction('convertToInteractive',\n",
              "                                                     [key], {});\n",
              "          if (!dataTable) return;\n",
              "\n",
              "          const docLinkHtml = 'Like what you see? Visit the ' +\n",
              "            '<a target=\"_blank\" href=https://colab.research.google.com/notebooks/data_table.ipynb>data table notebook</a>'\n",
              "            + ' to learn more about interactive tables.';\n",
              "          element.innerHTML = '';\n",
              "          dataTable['output_type'] = 'display_data';\n",
              "          await google.colab.output.renderOutput(dataTable, element);\n",
              "          const docLink = document.createElement('div');\n",
              "          docLink.innerHTML = docLinkHtml;\n",
              "          element.appendChild(docLink);\n",
              "        }\n",
              "      </script>\n",
              "    </div>\n",
              "  </div>\n",
              "  "
            ]
          },
          "metadata": {},
          "execution_count": 50
        }
      ]
    },
    {
      "cell_type": "code",
      "source": [
        "# Check data types of columns in new dataframe\n",
        "new_df.dtypes"
      ],
      "metadata": {
        "colab": {
          "base_uri": "https://localhost:8080/"
        },
        "id": "js9W2xHOQpS_",
        "outputId": "da7d3c46-66e8-4dbe-c149-4a2a0ea66c93"
      },
      "execution_count": 51,
      "outputs": [
        {
          "output_type": "execute_result",
          "data": {
            "text/plain": [
              "region           object\n",
              "price             int64\n",
              "year              int64\n",
              "manufacturer     object\n",
              "model            object\n",
              "condition        object\n",
              "cylinders        object\n",
              "fuel             object\n",
              "odometer        float64\n",
              "title_status     object\n",
              "transmission     object\n",
              "drive            object\n",
              "type             object\n",
              "paint_color      object\n",
              "state            object\n",
              "posting_date     object\n",
              "dtype: object"
            ]
          },
          "metadata": {},
          "execution_count": 51
        }
      ]
    },
    {
      "cell_type": "code",
      "source": [
        "# Plot Price vs Car Year\n",
        "plt.rcParams[\"figure.autolayout\"] = True\n",
        "sns.set_palette('summer_r')\n",
        "plt.figure(figsize =(12,9))\n",
        "sns.barplot(y=new_df['price'],x=new_df['year'])\n",
        "plt.title(\"Price VS Year\",fontsize=20,fontweight ='bold')\n",
        "plt.xlabel('year',fontsize = 20)\n",
        "plt.xticks(rotation=60)\n",
        "plt.ylabel('price ',fontsize = 20)\n",
        "plt.tight_layout()\n",
        "plt.show()"
      ],
      "metadata": {
        "colab": {
          "base_uri": "https://localhost:8080/",
          "height": 884
        },
        "id": "BWoUJmOBQvYb",
        "outputId": "b8de5018-a106-44a7-8efb-21dd6605cd90"
      },
      "execution_count": 52,
      "outputs": [
        {
          "output_type": "display_data",
          "data": {
            "text/plain": [
              "<Figure size 1200x900 with 1 Axes>"
            ],
            "image/png": "[encoded data removed]"
          },
          "metadata": {}
        }
      ]
    },
    {
      "cell_type": "code",
      "source": [
        "# Remove cars manufactured before 1993 to simplify data and remove classic/vintage effect on price\n",
        "# Check number of rows and columns\n",
        "new_df = new_df[new_df['year'] > 1993]\n",
        "new_df.shape\n"
      ],
      "metadata": {
        "colab": {
          "base_uri": "https://localhost:8080/"
        },
        "id": "PttBkhdnRWhx",
        "outputId": "6f1e8025-b246-454c-cf86-92b38e687511"
      },
      "execution_count": 53,
      "outputs": [
        {
          "output_type": "execute_result",
          "data": {
            "text/plain": [
              "(258900, 16)"
            ]
          },
          "metadata": {},
          "execution_count": 53
        }
      ]
    },
    {
      "cell_type": "code",
      "source": [
        "# Check the range of year values to verify\n",
        "new_df['year'].value_counts()"
      ],
      "metadata": {
        "colab": {
          "base_uri": "https://localhost:8080/"
        },
        "id": "AWioYzHWS-ET",
        "outputId": "49dee97a-33cf-450b-947a-a4ff2a1b2131"
      },
      "execution_count": 54,
      "outputs": [
        {
          "output_type": "execute_result",
          "data": {
            "text/plain": [
              "2018    23709\n",
              "2017    23641\n",
              "2013    21863\n",
              "2014    20768\n",
              "2015    20301\n",
              "2016    19404\n",
              "2012    17341\n",
              "2011    14841\n",
              "2019    13747\n",
              "2008    11866\n",
              "2010    11455\n",
              "2007     9785\n",
              "2009     8726\n",
              "2006     7816\n",
              "2020     7560\n",
              "2005     6300\n",
              "2004     5091\n",
              "2003     3796\n",
              "2002     2698\n",
              "2001     2039\n",
              "2000     1569\n",
              "1999     1302\n",
              "1998      788\n",
              "1997      722\n",
              "1995      603\n",
              "1996      597\n",
              "1994      441\n",
              "2021      130\n",
              "2022        1\n",
              "Name: year, dtype: int64"
            ]
          },
          "metadata": {},
          "execution_count": 54
        }
      ]
    },
    {
      "cell_type": "code",
      "source": [
        "# Create posting year column from posting date\n",
        "# Display dataframe to verify column creation\n",
        "new_df['posting_date'] = pd.to_datetime(new_df['posting_date'], utc=True)\n",
        "new_df['posting_year'] = new_df['posting_date'].dt.strftime('%Y')\n",
        "\n",
        "new_df\n"
      ],
      "metadata": {
        "colab": {
          "base_uri": "https://localhost:8080/",
          "height": 661
        },
        "id": "LKpyGRKHd1jh",
        "outputId": "f02aa706-3f33-4830-f780-72ff9e9123c8"
      },
      "execution_count": 55,
      "outputs": [
        {
          "output_type": "execute_result",
          "data": {
            "text/plain": [
              "        region  price  year manufacturer      model  condition    cylinders  \\\n",
              "27      others  33590  2014          gmc     others       good  8 cylinders   \n",
              "28      others  22590  2010    chevrolet  silverado       good  8 cylinders   \n",
              "29      others  39590  2020    chevrolet     others       good  8 cylinders   \n",
              "30      others  30990  2017       toyota     others       good  8 cylinders   \n",
              "31      others  15000  2013         ford     others  excellent  6 cylinders   \n",
              "...        ...    ...   ...          ...        ...        ...          ...   \n",
              "441796  others  33590  2018        lexus     others       good  6 cylinders   \n",
              "441797  others  23590  2019       nissan     others       good  6 cylinders   \n",
              "441798  others  30590  2020       others     others       good      unknown   \n",
              "441800  others  28990  2018        lexus     others       good  6 cylinders   \n",
              "441801  others  30590  2019          bmw     others       good      unknown   \n",
              "\n",
              "       fuel  odometer title_status transmission    drive    type paint_color  \\\n",
              "27      gas   57923.0        clean        other  unknown  pickup       white   \n",
              "28      gas   71229.0        clean        other  unknown  pickup        blue   \n",
              "29      gas   19160.0        clean        other  unknown  pickup         red   \n",
              "30      gas   41124.0        clean        other  unknown  pickup         red   \n",
              "31      gas  128000.0        clean    automatic      rwd   truck       black   \n",
              "...     ...       ...          ...          ...      ...     ...         ...   \n",
              "441796  gas   30814.0        clean    automatic      rwd   sedan       white   \n",
              "441797  gas   32226.0        clean        other      fwd   sedan     unknown   \n",
              "441798  gas   12029.0        clean        other      fwd   sedan         red   \n",
              "441800  gas   30112.0        clean        other      fwd   sedan      silver   \n",
              "441801  gas   22716.0        clean        other      rwd   coupe     unknown   \n",
              "\n",
              "       state              posting_date posting_year  \n",
              "27        al 2021-05-04 17:31:18+00:00         2021  \n",
              "28        al 2021-05-04 17:31:08+00:00         2021  \n",
              "29        al 2021-05-04 17:31:25+00:00         2021  \n",
              "30        al 2021-05-04 15:41:31+00:00         2021  \n",
              "31        al 2021-05-03 19:02:03+00:00         2021  \n",
              "...      ...                       ...          ...  \n",
              "441796    wy 2021-04-04 09:21:34+00:00         2021  \n",
              "441797    wy 2021-04-04 09:21:31+00:00         2021  \n",
              "441798    wy 2021-04-04 09:21:29+00:00         2021  \n",
              "441800    wy 2021-04-04 09:21:11+00:00         2021  \n",
              "441801    wy 2021-04-04 09:21:07+00:00         2021  \n",
              "\n",
              "[258900 rows x 17 columns]"
            ],
            "text/html": [
              "\n",
              "  <div id=\"df-a3393982-7fa7-4403-82cc-ebe8e7e34488\">\n",
              "    <div class=\"colab-df-container\">\n",
              "      <div>\n",
              "<style scoped>\n",
              "    .dataframe tbody tr th:only-of-type {\n",
              "        vertical-align: middle;\n",
              "    }\n",
              "\n",
              "    .dataframe tbody tr th {\n",
              "        vertical-align: top;\n",
              "    }\n",
              "\n",
              "    .dataframe thead th {\n",
              "        text-align: right;\n",
              "    }\n",
              "</style>\n",
              "<table border=\"1\" class=\"dataframe\">\n",
              "  <thead>\n",
              "    <tr style=\"text-align: right;\">\n",
              "      <th></th>\n",
              "      <th>region</th>\n",
              "      <th>price</th>\n",
              "      <th>year</th>\n",
              "      <th>manufacturer</th>\n",
              "      <th>model</th>\n",
              "      <th>condition</th>\n",
              "      <th>cylinders</th>\n",
              "      <th>fuel</th>\n",
              "      <th>odometer</th>\n",
              "      <th>title_status</th>\n",
              "      <th>transmission</th>\n",
              "      <th>drive</th>\n",
              "      <th>type</th>\n",
              "      <th>paint_color</th>\n",
              "      <th>state</th>\n",
              "      <th>posting_date</th>\n",
              "      <th>posting_year</th>\n",
              "    </tr>\n",
              "  </thead>\n",
              "  <tbody>\n",
              "    <tr>\n",
              "      <th>27</th>\n",
              "      <td>others</td>\n",
              "      <td>33590</td>\n",
              "      <td>2014</td>\n",
              "      <td>gmc</td>\n",
              "      <td>others</td>\n",
              "      <td>good</td>\n",
              "      <td>8 cylinders</td>\n",
              "      <td>gas</td>\n",
              "      <td>57923.0</td>\n",
              "      <td>clean</td>\n",
              "      <td>other</td>\n",
              "      <td>unknown</td>\n",
              "      <td>pickup</td>\n",
              "      <td>white</td>\n",
              "      <td>al</td>\n",
              "      <td>2021-05-04 17:31:18+00:00</td>\n",
              "      <td>2021</td>\n",
              "    </tr>\n",
              "    <tr>\n",
              "      <th>28</th>\n",
              "      <td>others</td>\n",
              "      <td>22590</td>\n",
              "      <td>2010</td>\n",
              "      <td>chevrolet</td>\n",
              "      <td>silverado</td>\n",
              "      <td>good</td>\n",
              "      <td>8 cylinders</td>\n",
              "      <td>gas</td>\n",
              "      <td>71229.0</td>\n",
              "      <td>clean</td>\n",
              "      <td>other</td>\n",
              "      <td>unknown</td>\n",
              "      <td>pickup</td>\n",
              "      <td>blue</td>\n",
              "      <td>al</td>\n",
              "      <td>2021-05-04 17:31:08+00:00</td>\n",
              "      <td>2021</td>\n",
              "    </tr>\n",
              "    <tr>\n",
              "      <th>29</th>\n",
              "      <td>others</td>\n",
              "      <td>39590</td>\n",
              "      <td>2020</td>\n",
              "      <td>chevrolet</td>\n",
              "      <td>others</td>\n",
              "      <td>good</td>\n",
              "      <td>8 cylinders</td>\n",
              "      <td>gas</td>\n",
              "      <td>19160.0</td>\n",
              "      <td>clean</td>\n",
              "      <td>other</td>\n",
              "      <td>unknown</td>\n",
              "      <td>pickup</td>\n",
              "      <td>red</td>\n",
              "      <td>al</td>\n",
              "      <td>2021-05-04 17:31:25+00:00</td>\n",
              "      <td>2021</td>\n",
              "    </tr>\n",
              "    <tr>\n",
              "      <th>30</th>\n",
              "      <td>others</td>\n",
              "      <td>30990</td>\n",
              "      <td>2017</td>\n",
              "      <td>toyota</td>\n",
              "      <td>others</td>\n",
              "      <td>good</td>\n",
              "      <td>8 cylinders</td>\n",
              "      <td>gas</td>\n",
              "      <td>41124.0</td>\n",
              "      <td>clean</td>\n",
              "      <td>other</td>\n",
              "      <td>unknown</td>\n",
              "      <td>pickup</td>\n",
              "      <td>red</td>\n",
              "      <td>al</td>\n",
              "      <td>2021-05-04 15:41:31+00:00</td>\n",
              "      <td>2021</td>\n",
              "    </tr>\n",
              "    <tr>\n",
              "      <th>31</th>\n",
              "      <td>others</td>\n",
              "      <td>15000</td>\n",
              "      <td>2013</td>\n",
              "      <td>ford</td>\n",
              "      <td>others</td>\n",
              "      <td>excellent</td>\n",
              "      <td>6 cylinders</td>\n",
              "      <td>gas</td>\n",
              "      <td>128000.0</td>\n",
              "      <td>clean</td>\n",
              "      <td>automatic</td>\n",
              "      <td>rwd</td>\n",
              "      <td>truck</td>\n",
              "      <td>black</td>\n",
              "      <td>al</td>\n",
              "      <td>2021-05-03 19:02:03+00:00</td>\n",
              "      <td>2021</td>\n",
              "    </tr>\n",
              "    <tr>\n",
              "      <th>...</th>\n",
              "      <td>...</td>\n",
              "      <td>...</td>\n",
              "      <td>...</td>\n",
              "      <td>...</td>\n",
              "      <td>...</td>\n",
              "      <td>...</td>\n",
              "      <td>...</td>\n",
              "      <td>...</td>\n",
              "      <td>...</td>\n",
              "      <td>...</td>\n",
              "      <td>...</td>\n",
              "      <td>...</td>\n",
              "      <td>...</td>\n",
              "      <td>...</td>\n",
              "      <td>...</td>\n",
              "      <td>...</td>\n",
              "      <td>...</td>\n",
              "    </tr>\n",
              "    <tr>\n",
              "      <th>441796</th>\n",
              "      <td>others</td>\n",
              "      <td>33590</td>\n",
              "      <td>2018</td>\n",
              "      <td>lexus</td>\n",
              "      <td>others</td>\n",
              "      <td>good</td>\n",
              "      <td>6 cylinders</td>\n",
              "      <td>gas</td>\n",
              "      <td>30814.0</td>\n",
              "      <td>clean</td>\n",
              "      <td>automatic</td>\n",
              "      <td>rwd</td>\n",
              "      <td>sedan</td>\n",
              "      <td>white</td>\n",
              "      <td>wy</td>\n",
              "      <td>2021-04-04 09:21:34+00:00</td>\n",
              "      <td>2021</td>\n",
              "    </tr>\n",
              "    <tr>\n",
              "      <th>441797</th>\n",
              "      <td>others</td>\n",
              "      <td>23590</td>\n",
              "      <td>2019</td>\n",
              "      <td>nissan</td>\n",
              "      <td>others</td>\n",
              "      <td>good</td>\n",
              "      <td>6 cylinders</td>\n",
              "      <td>gas</td>\n",
              "      <td>32226.0</td>\n",
              "      <td>clean</td>\n",
              "      <td>other</td>\n",
              "      <td>fwd</td>\n",
              "      <td>sedan</td>\n",
              "      <td>unknown</td>\n",
              "      <td>wy</td>\n",
              "      <td>2021-04-04 09:21:31+00:00</td>\n",
              "      <td>2021</td>\n",
              "    </tr>\n",
              "    <tr>\n",
              "      <th>441798</th>\n",
              "      <td>others</td>\n",
              "      <td>30590</td>\n",
              "      <td>2020</td>\n",
              "      <td>others</td>\n",
              "      <td>others</td>\n",
              "      <td>good</td>\n",
              "      <td>unknown</td>\n",
              "      <td>gas</td>\n",
              "      <td>12029.0</td>\n",
              "      <td>clean</td>\n",
              "      <td>other</td>\n",
              "      <td>fwd</td>\n",
              "      <td>sedan</td>\n",
              "      <td>red</td>\n",
              "      <td>wy</td>\n",
              "      <td>2021-04-04 09:21:29+00:00</td>\n",
              "      <td>2021</td>\n",
              "    </tr>\n",
              "    <tr>\n",
              "      <th>441800</th>\n",
              "      <td>others</td>\n",
              "      <td>28990</td>\n",
              "      <td>2018</td>\n",
              "      <td>lexus</td>\n",
              "      <td>others</td>\n",
              "      <td>good</td>\n",
              "      <td>6 cylinders</td>\n",
              "      <td>gas</td>\n",
              "      <td>30112.0</td>\n",
              "      <td>clean</td>\n",
              "      <td>other</td>\n",
              "      <td>fwd</td>\n",
              "      <td>sedan</td>\n",
              "      <td>silver</td>\n",
              "      <td>wy</td>\n",
              "      <td>2021-04-04 09:21:11+00:00</td>\n",
              "      <td>2021</td>\n",
              "    </tr>\n",
              "    <tr>\n",
              "      <th>441801</th>\n",
              "      <td>others</td>\n",
              "      <td>30590</td>\n",
              "      <td>2019</td>\n",
              "      <td>bmw</td>\n",
              "      <td>others</td>\n",
              "      <td>good</td>\n",
              "      <td>unknown</td>\n",
              "      <td>gas</td>\n",
              "      <td>22716.0</td>\n",
              "      <td>clean</td>\n",
              "      <td>other</td>\n",
              "      <td>rwd</td>\n",
              "      <td>coupe</td>\n",
              "      <td>unknown</td>\n",
              "      <td>wy</td>\n",
              "      <td>2021-04-04 09:21:07+00:00</td>\n",
              "      <td>2021</td>\n",
              "    </tr>\n",
              "  </tbody>\n",
              "</table>\n",
              "<p>258900 rows × 17 columns</p>\n",
              "</div>\n",
              "      <button class=\"colab-df-convert\" onclick=\"convertToInteractive('df-a3393982-7fa7-4403-82cc-ebe8e7e34488')\"\n",
              "              title=\"Convert this dataframe to an interactive table.\"\n",
              "              style=\"display:none;\">\n",
              "        \n",
              "  <svg xmlns=\"http://www.w3.org/2000/svg\" height=\"24px\"viewBox=\"0 0 24 24\"\n",
              "       width=\"24px\">\n",
              "    <path d=\"M0 0h24v24H0V0z\" fill=\"none\"/>\n",
              "    <path d=\"M18.56 5.44l.94 2.06.94-2.06 2.06-.94-2.06-.94-.94-2.06-.94 2.06-2.06.94zm-11 1L8.5 8.5l.94-2.06 2.06-.94-2.06-.94L8.5 2.5l-.94 2.06-2.06.94zm10 10l.94 2.06.94-2.06 2.06-.94-2.06-.94-.94-2.06-.94 2.06-2.06.94z\"/><path d=\"M17.41 7.96l-1.37-1.37c-.4-.4-.92-.59-1.43-.59-.52 0-1.04.2-1.43.59L10.3 9.45l-7.72 7.72c-.78.78-.78 2.05 0 2.83L4 21.41c.39.39.9.59 1.41.59.51 0 1.02-.2 1.41-.59l7.78-7.78 2.81-2.81c.8-.78.8-2.07 0-2.86zM5.41 20L4 18.59l7.72-7.72 1.47 1.35L5.41 20z\"/>\n",
              "  </svg>\n",
              "      </button>\n",
              "      \n",
              "  <style>\n",
              "    .colab-df-container {\n",
              "      display:flex;\n",
              "      flex-wrap:wrap;\n",
              "      gap: 12px;\n",
              "    }\n",
              "\n",
              "    .colab-df-convert {\n",
              "      background-color: #E8F0FE;\n",
              "      border: none;\n",
              "      border-radius: 50%;\n",
              "      cursor: pointer;\n",
              "      display: none;\n",
              "      fill: #1967D2;\n",
              "      height: 32px;\n",
              "      padding: 0 0 0 0;\n",
              "      width: 32px;\n",
              "    }\n",
              "\n",
              "    .colab-df-convert:hover {\n",
              "      background-color: #E2EBFA;\n",
              "      box-shadow: 0px 1px 2px rgba(60, 64, 67, 0.3), 0px 1px 3px 1px rgba(60, 64, 67, 0.15);\n",
              "      fill: #174EA6;\n",
              "    }\n",
              "\n",
              "    [theme=dark] .colab-df-convert {\n",
              "      background-color: #3B4455;\n",
              "      fill: #D2E3FC;\n",
              "    }\n",
              "\n",
              "    [theme=dark] .colab-df-convert:hover {\n",
              "      background-color: #434B5C;\n",
              "      box-shadow: 0px 1px 3px 1px rgba(0, 0, 0, 0.15);\n",
              "      filter: drop-shadow(0px 1px 2px rgba(0, 0, 0, 0.3));\n",
              "      fill: #FFFFFF;\n",
              "    }\n",
              "  </style>\n",
              "\n",
              "      <script>\n",
              "        const buttonEl =\n",
              "          document.querySelector('#df-a3393982-7fa7-4403-82cc-ebe8e7e34488 button.colab-df-convert');\n",
              "        buttonEl.style.display =\n",
              "          google.colab.kernel.accessAllowed ? 'block' : 'none';\n",
              "\n",
              "        async function convertToInteractive(key) {\n",
              "          const element = document.querySelector('#df-a3393982-7fa7-4403-82cc-ebe8e7e34488');\n",
              "          const dataTable =\n",
              "            await google.colab.kernel.invokeFunction('convertToInteractive',\n",
              "                                                     [key], {});\n",
              "          if (!dataTable) return;\n",
              "\n",
              "          const docLinkHtml = 'Like what you see? Visit the ' +\n",
              "            '<a target=\"_blank\" href=https://colab.research.google.com/notebooks/data_table.ipynb>data table notebook</a>'\n",
              "            + ' to learn more about interactive tables.';\n",
              "          element.innerHTML = '';\n",
              "          dataTable['output_type'] = 'display_data';\n",
              "          await google.colab.output.renderOutput(dataTable, element);\n",
              "          const docLink = document.createElement('div');\n",
              "          docLink.innerHTML = docLinkHtml;\n",
              "          element.appendChild(docLink);\n",
              "        }\n",
              "      </script>\n",
              "    </div>\n",
              "  </div>\n",
              "  "
            ]
          },
          "metadata": {},
          "execution_count": 55
        }
      ]
    },
    {
      "cell_type": "code",
      "source": [
        "# Check posting years\n",
        "new_df['posting_year'].value_counts()"
      ],
      "metadata": {
        "colab": {
          "base_uri": "https://localhost:8080/"
        },
        "id": "rsf0D5_NjPP8",
        "outputId": "530f2e89-4585-42b6-87cd-9e8b5036ef5f"
      },
      "execution_count": 56,
      "outputs": [
        {
          "output_type": "execute_result",
          "data": {
            "text/plain": [
              "2021    258489\n",
              "2013        62\n",
              "2014        52\n",
              "2015        32\n",
              "2011        29\n",
              "2018        29\n",
              "2010        28\n",
              "2016        27\n",
              "2017        26\n",
              "2009        20\n",
              "2019        18\n",
              "2012        18\n",
              "2007        15\n",
              "2002        11\n",
              "2022        10\n",
              "2020         9\n",
              "1996         5\n",
              "2004         4\n",
              "1995         4\n",
              "2005         2\n",
              "2003         2\n",
              "2008         2\n",
              "2006         2\n",
              "1997         1\n",
              "2032         1\n",
              "1998         1\n",
              "1992         1\n",
              "Name: posting_year, dtype: int64"
            ]
          },
          "metadata": {},
          "execution_count": 56
        }
      ]
    },
    {
      "cell_type": "code",
      "source": [
        "# Remove bad data\n",
        "new_df = new_df.loc[new_df['posting_year'] != '2032']"
      ],
      "metadata": {
        "id": "MIBKFzGNjcDk"
      },
      "execution_count": 57,
      "outputs": []
    },
    {
      "cell_type": "code",
      "source": [
        "# Verify bad data is removed\n",
        "new_df['posting_year'].value_counts()"
      ],
      "metadata": {
        "colab": {
          "base_uri": "https://localhost:8080/"
        },
        "id": "oAOfaUvBj7T-",
        "outputId": "12a3142b-791e-4b84-e2df-52792144417a"
      },
      "execution_count": 59,
      "outputs": [
        {
          "output_type": "execute_result",
          "data": {
            "text/plain": [
              "2021    258489\n",
              "2013        62\n",
              "2014        52\n",
              "2015        32\n",
              "2011        29\n",
              "2018        29\n",
              "2010        28\n",
              "2016        27\n",
              "2017        26\n",
              "2009        20\n",
              "2019        18\n",
              "2012        18\n",
              "2007        15\n",
              "2002        11\n",
              "2022        10\n",
              "2020         9\n",
              "1996         5\n",
              "2004         4\n",
              "1995         4\n",
              "2003         2\n",
              "2005         2\n",
              "2008         2\n",
              "2006         2\n",
              "1997         1\n",
              "1998         1\n",
              "1992         1\n",
              "Name: posting_year, dtype: int64"
            ]
          },
          "metadata": {},
          "execution_count": 59
        }
      ]
    },
    {
      "cell_type": "code",
      "source": [
        "# Check data types for columns to see posting year data type\n",
        "new_df.dtypes"
      ],
      "metadata": {
        "colab": {
          "base_uri": "https://localhost:8080/"
        },
        "id": "QjuErhfkmEdG",
        "outputId": "c1b80d05-699c-4b83-9e16-aec18c7383a0"
      },
      "execution_count": 60,
      "outputs": [
        {
          "output_type": "execute_result",
          "data": {
            "text/plain": [
              "region                       object\n",
              "price                         int64\n",
              "year                          int64\n",
              "manufacturer                 object\n",
              "model                        object\n",
              "condition                    object\n",
              "cylinders                    object\n",
              "fuel                         object\n",
              "odometer                    float64\n",
              "title_status                 object\n",
              "transmission                 object\n",
              "drive                        object\n",
              "type                         object\n",
              "paint_color                  object\n",
              "state                        object\n",
              "posting_date    datetime64[ns, UTC]\n",
              "posting_year                 object\n",
              "dtype: object"
            ]
          },
          "metadata": {},
          "execution_count": 60
        }
      ]
    },
    {
      "cell_type": "code",
      "source": [
        "# Change posting year data type to integer\n",
        "new_df['posting_year'] = new_df['posting_year'].astype(int)"
      ],
      "metadata": {
        "id": "w7JpTvERmIL0",
        "colab": {
          "base_uri": "https://localhost:8080/"
        },
        "outputId": "15831286-7227-46ca-f388-14e3fcfc36e2"
      },
      "execution_count": 61,
      "outputs": [
        {
          "output_type": "stream",
          "name": "stderr",
          "text": [
            "<ipython-input-61-dd5936292a69>:1: SettingWithCopyWarning: \n",
            "A value is trying to be set on a copy of a slice from a DataFrame.\n",
            "Try using .loc[row_indexer,col_indexer] = value instead\n",
            "\n",
            "See the caveats in the documentation: https://pandas.pydata.org/pandas-docs/stable/user_guide/indexing.html#returning-a-view-versus-a-copy\n",
            "  new_df['posting_year'] = new_df['posting_year'].astype(int)\n"
          ]
        }
      ]
    },
    {
      "cell_type": "code",
      "source": [
        "# Verify data type is changed\n",
        "new_df.dtypes"
      ],
      "metadata": {
        "colab": {
          "base_uri": "https://localhost:8080/"
        },
        "id": "LY1GXVbZmZEz",
        "outputId": "f004eaaf-e4e7-4517-bee8-2517c5730478"
      },
      "execution_count": 62,
      "outputs": [
        {
          "output_type": "execute_result",
          "data": {
            "text/plain": [
              "region                       object\n",
              "price                         int64\n",
              "year                          int64\n",
              "manufacturer                 object\n",
              "model                        object\n",
              "condition                    object\n",
              "cylinders                    object\n",
              "fuel                         object\n",
              "odometer                    float64\n",
              "title_status                 object\n",
              "transmission                 object\n",
              "drive                        object\n",
              "type                         object\n",
              "paint_color                  object\n",
              "state                        object\n",
              "posting_date    datetime64[ns, UTC]\n",
              "posting_year                  int64\n",
              "dtype: object"
            ]
          },
          "metadata": {},
          "execution_count": 62
        }
      ]
    },
    {
      "cell_type": "code",
      "source": [
        "# Calculate age of car at the time of craiglist posting and create new column for car age\n",
        "# Display data frame to verify new column\n",
        "new_df['car_age'] = new_df['posting_year'] - new_df['year']\n",
        "new_df"
      ],
      "metadata": {
        "colab": {
          "base_uri": "https://localhost:8080/",
          "height": 765
        },
        "id": "veVheUYem-2i",
        "outputId": "4377598b-45c1-452e-9e53-147301dedaec"
      },
      "execution_count": 63,
      "outputs": [
        {
          "output_type": "stream",
          "name": "stderr",
          "text": [
            "<ipython-input-63-4408ca9ead24>:1: SettingWithCopyWarning: \n",
            "A value is trying to be set on a copy of a slice from a DataFrame.\n",
            "Try using .loc[row_indexer,col_indexer] = value instead\n",
            "\n",
            "See the caveats in the documentation: https://pandas.pydata.org/pandas-docs/stable/user_guide/indexing.html#returning-a-view-versus-a-copy\n",
            "  new_df['car_age'] = new_df['posting_year'] - new_df['year']\n"
          ]
        },
        {
          "output_type": "execute_result",
          "data": {
            "text/plain": [
              "        region  price  year manufacturer      model  condition    cylinders  \\\n",
              "27      others  33590  2014          gmc     others       good  8 cylinders   \n",
              "28      others  22590  2010    chevrolet  silverado       good  8 cylinders   \n",
              "29      others  39590  2020    chevrolet     others       good  8 cylinders   \n",
              "30      others  30990  2017       toyota     others       good  8 cylinders   \n",
              "31      others  15000  2013         ford     others  excellent  6 cylinders   \n",
              "...        ...    ...   ...          ...        ...        ...          ...   \n",
              "441796  others  33590  2018        lexus     others       good  6 cylinders   \n",
              "441797  others  23590  2019       nissan     others       good  6 cylinders   \n",
              "441798  others  30590  2020       others     others       good      unknown   \n",
              "441800  others  28990  2018        lexus     others       good  6 cylinders   \n",
              "441801  others  30590  2019          bmw     others       good      unknown   \n",
              "\n",
              "       fuel  odometer title_status transmission    drive    type paint_color  \\\n",
              "27      gas   57923.0        clean        other  unknown  pickup       white   \n",
              "28      gas   71229.0        clean        other  unknown  pickup        blue   \n",
              "29      gas   19160.0        clean        other  unknown  pickup         red   \n",
              "30      gas   41124.0        clean        other  unknown  pickup         red   \n",
              "31      gas  128000.0        clean    automatic      rwd   truck       black   \n",
              "...     ...       ...          ...          ...      ...     ...         ...   \n",
              "441796  gas   30814.0        clean    automatic      rwd   sedan       white   \n",
              "441797  gas   32226.0        clean        other      fwd   sedan     unknown   \n",
              "441798  gas   12029.0        clean        other      fwd   sedan         red   \n",
              "441800  gas   30112.0        clean        other      fwd   sedan      silver   \n",
              "441801  gas   22716.0        clean        other      rwd   coupe     unknown   \n",
              "\n",
              "       state              posting_date  posting_year  car_age  \n",
              "27        al 2021-05-04 17:31:18+00:00          2021        7  \n",
              "28        al 2021-05-04 17:31:08+00:00          2021       11  \n",
              "29        al 2021-05-04 17:31:25+00:00          2021        1  \n",
              "30        al 2021-05-04 15:41:31+00:00          2021        4  \n",
              "31        al 2021-05-03 19:02:03+00:00          2021        8  \n",
              "...      ...                       ...           ...      ...  \n",
              "441796    wy 2021-04-04 09:21:34+00:00          2021        3  \n",
              "441797    wy 2021-04-04 09:21:31+00:00          2021        2  \n",
              "441798    wy 2021-04-04 09:21:29+00:00          2021        1  \n",
              "441800    wy 2021-04-04 09:21:11+00:00          2021        3  \n",
              "441801    wy 2021-04-04 09:21:07+00:00          2021        2  \n",
              "\n",
              "[258899 rows x 18 columns]"
            ],
            "text/html": [
              "\n",
              "  <div id=\"df-17f70ea2-a605-4191-ae90-3b9019bbdb8a\">\n",
              "    <div class=\"colab-df-container\">\n",
              "      <div>\n",
              "<style scoped>\n",
              "    .dataframe tbody tr th:only-of-type {\n",
              "        vertical-align: middle;\n",
              "    }\n",
              "\n",
              "    .dataframe tbody tr th {\n",
              "        vertical-align: top;\n",
              "    }\n",
              "\n",
              "    .dataframe thead th {\n",
              "        text-align: right;\n",
              "    }\n",
              "</style>\n",
              "<table border=\"1\" class=\"dataframe\">\n",
              "  <thead>\n",
              "    <tr style=\"text-align: right;\">\n",
              "      <th></th>\n",
              "      <th>region</th>\n",
              "      <th>price</th>\n",
              "      <th>year</th>\n",
              "      <th>manufacturer</th>\n",
              "      <th>model</th>\n",
              "      <th>condition</th>\n",
              "      <th>cylinders</th>\n",
              "      <th>fuel</th>\n",
              "      <th>odometer</th>\n",
              "      <th>title_status</th>\n",
              "      <th>transmission</th>\n",
              "      <th>drive</th>\n",
              "      <th>type</th>\n",
              "      <th>paint_color</th>\n",
              "      <th>state</th>\n",
              "      <th>posting_date</th>\n",
              "      <th>posting_year</th>\n",
              "      <th>car_age</th>\n",
              "    </tr>\n",
              "  </thead>\n",
              "  <tbody>\n",
              "    <tr>\n",
              "      <th>27</th>\n",
              "      <td>others</td>\n",
              "      <td>33590</td>\n",
              "      <td>2014</td>\n",
              "      <td>gmc</td>\n",
              "      <td>others</td>\n",
              "      <td>good</td>\n",
              "      <td>8 cylinders</td>\n",
              "      <td>gas</td>\n",
              "      <td>57923.0</td>\n",
              "      <td>clean</td>\n",
              "      <td>other</td>\n",
              "      <td>unknown</td>\n",
              "      <td>pickup</td>\n",
              "      <td>white</td>\n",
              "      <td>al</td>\n",
              "      <td>2021-05-04 17:31:18+00:00</td>\n",
              "      <td>2021</td>\n",
              "      <td>7</td>\n",
              "    </tr>\n",
              "    <tr>\n",
              "      <th>28</th>\n",
              "      <td>others</td>\n",
              "      <td>22590</td>\n",
              "      <td>2010</td>\n",
              "      <td>chevrolet</td>\n",
              "      <td>silverado</td>\n",
              "      <td>good</td>\n",
              "      <td>8 cylinders</td>\n",
              "      <td>gas</td>\n",
              "      <td>71229.0</td>\n",
              "      <td>clean</td>\n",
              "      <td>other</td>\n",
              "      <td>unknown</td>\n",
              "      <td>pickup</td>\n",
              "      <td>blue</td>\n",
              "      <td>al</td>\n",
              "      <td>2021-05-04 17:31:08+00:00</td>\n",
              "      <td>2021</td>\n",
              "      <td>11</td>\n",
              "    </tr>\n",
              "    <tr>\n",
              "      <th>29</th>\n",
              "      <td>others</td>\n",
              "      <td>39590</td>\n",
              "      <td>2020</td>\n",
              "      <td>chevrolet</td>\n",
              "      <td>others</td>\n",
              "      <td>good</td>\n",
              "      <td>8 cylinders</td>\n",
              "      <td>gas</td>\n",
              "      <td>19160.0</td>\n",
              "      <td>clean</td>\n",
              "      <td>other</td>\n",
              "      <td>unknown</td>\n",
              "      <td>pickup</td>\n",
              "      <td>red</td>\n",
              "      <td>al</td>\n",
              "      <td>2021-05-04 17:31:25+00:00</td>\n",
              "      <td>2021</td>\n",
              "      <td>1</td>\n",
              "    </tr>\n",
              "    <tr>\n",
              "      <th>30</th>\n",
              "      <td>others</td>\n",
              "      <td>30990</td>\n",
              "      <td>2017</td>\n",
              "      <td>toyota</td>\n",
              "      <td>others</td>\n",
              "      <td>good</td>\n",
              "      <td>8 cylinders</td>\n",
              "      <td>gas</td>\n",
              "      <td>41124.0</td>\n",
              "      <td>clean</td>\n",
              "      <td>other</td>\n",
              "      <td>unknown</td>\n",
              "      <td>pickup</td>\n",
              "      <td>red</td>\n",
              "      <td>al</td>\n",
              "      <td>2021-05-04 15:41:31+00:00</td>\n",
              "      <td>2021</td>\n",
              "      <td>4</td>\n",
              "    </tr>\n",
              "    <tr>\n",
              "      <th>31</th>\n",
              "      <td>others</td>\n",
              "      <td>15000</td>\n",
              "      <td>2013</td>\n",
              "      <td>ford</td>\n",
              "      <td>others</td>\n",
              "      <td>excellent</td>\n",
              "      <td>6 cylinders</td>\n",
              "      <td>gas</td>\n",
              "      <td>128000.0</td>\n",
              "      <td>clean</td>\n",
              "      <td>automatic</td>\n",
              "      <td>rwd</td>\n",
              "      <td>truck</td>\n",
              "      <td>black</td>\n",
              "      <td>al</td>\n",
              "      <td>2021-05-03 19:02:03+00:00</td>\n",
              "      <td>2021</td>\n",
              "      <td>8</td>\n",
              "    </tr>\n",
              "    <tr>\n",
              "      <th>...</th>\n",
              "      <td>...</td>\n",
              "      <td>...</td>\n",
              "      <td>...</td>\n",
              "      <td>...</td>\n",
              "      <td>...</td>\n",
              "      <td>...</td>\n",
              "      <td>...</td>\n",
              "      <td>...</td>\n",
              "      <td>...</td>\n",
              "      <td>...</td>\n",
              "      <td>...</td>\n",
              "      <td>...</td>\n",
              "      <td>...</td>\n",
              "      <td>...</td>\n",
              "      <td>...</td>\n",
              "      <td>...</td>\n",
              "      <td>...</td>\n",
              "      <td>...</td>\n",
              "    </tr>\n",
              "    <tr>\n",
              "      <th>441796</th>\n",
              "      <td>others</td>\n",
              "      <td>33590</td>\n",
              "      <td>2018</td>\n",
              "      <td>lexus</td>\n",
              "      <td>others</td>\n",
              "      <td>good</td>\n",
              "      <td>6 cylinders</td>\n",
              "      <td>gas</td>\n",
              "      <td>30814.0</td>\n",
              "      <td>clean</td>\n",
              "      <td>automatic</td>\n",
              "      <td>rwd</td>\n",
              "      <td>sedan</td>\n",
              "      <td>white</td>\n",
              "      <td>wy</td>\n",
              "      <td>2021-04-04 09:21:34+00:00</td>\n",
              "      <td>2021</td>\n",
              "      <td>3</td>\n",
              "    </tr>\n",
              "    <tr>\n",
              "      <th>441797</th>\n",
              "      <td>others</td>\n",
              "      <td>23590</td>\n",
              "      <td>2019</td>\n",
              "      <td>nissan</td>\n",
              "      <td>others</td>\n",
              "      <td>good</td>\n",
              "      <td>6 cylinders</td>\n",
              "      <td>gas</td>\n",
              "      <td>32226.0</td>\n",
              "      <td>clean</td>\n",
              "      <td>other</td>\n",
              "      <td>fwd</td>\n",
              "      <td>sedan</td>\n",
              "      <td>unknown</td>\n",
              "      <td>wy</td>\n",
              "      <td>2021-04-04 09:21:31+00:00</td>\n",
              "      <td>2021</td>\n",
              "      <td>2</td>\n",
              "    </tr>\n",
              "    <tr>\n",
              "      <th>441798</th>\n",
              "      <td>others</td>\n",
              "      <td>30590</td>\n",
              "      <td>2020</td>\n",
              "      <td>others</td>\n",
              "      <td>others</td>\n",
              "      <td>good</td>\n",
              "      <td>unknown</td>\n",
              "      <td>gas</td>\n",
              "      <td>12029.0</td>\n",
              "      <td>clean</td>\n",
              "      <td>other</td>\n",
              "      <td>fwd</td>\n",
              "      <td>sedan</td>\n",
              "      <td>red</td>\n",
              "      <td>wy</td>\n",
              "      <td>2021-04-04 09:21:29+00:00</td>\n",
              "      <td>2021</td>\n",
              "      <td>1</td>\n",
              "    </tr>\n",
              "    <tr>\n",
              "      <th>441800</th>\n",
              "      <td>others</td>\n",
              "      <td>28990</td>\n",
              "      <td>2018</td>\n",
              "      <td>lexus</td>\n",
              "      <td>others</td>\n",
              "      <td>good</td>\n",
              "      <td>6 cylinders</td>\n",
              "      <td>gas</td>\n",
              "      <td>30112.0</td>\n",
              "      <td>clean</td>\n",
              "      <td>other</td>\n",
              "      <td>fwd</td>\n",
              "      <td>sedan</td>\n",
              "      <td>silver</td>\n",
              "      <td>wy</td>\n",
              "      <td>2021-04-04 09:21:11+00:00</td>\n",
              "      <td>2021</td>\n",
              "      <td>3</td>\n",
              "    </tr>\n",
              "    <tr>\n",
              "      <th>441801</th>\n",
              "      <td>others</td>\n",
              "      <td>30590</td>\n",
              "      <td>2019</td>\n",
              "      <td>bmw</td>\n",
              "      <td>others</td>\n",
              "      <td>good</td>\n",
              "      <td>unknown</td>\n",
              "      <td>gas</td>\n",
              "      <td>22716.0</td>\n",
              "      <td>clean</td>\n",
              "      <td>other</td>\n",
              "      <td>rwd</td>\n",
              "      <td>coupe</td>\n",
              "      <td>unknown</td>\n",
              "      <td>wy</td>\n",
              "      <td>2021-04-04 09:21:07+00:00</td>\n",
              "      <td>2021</td>\n",
              "      <td>2</td>\n",
              "    </tr>\n",
              "  </tbody>\n",
              "</table>\n",
              "<p>258899 rows × 18 columns</p>\n",
              "</div>\n",
              "      <button class=\"colab-df-convert\" onclick=\"convertToInteractive('df-17f70ea2-a605-4191-ae90-3b9019bbdb8a')\"\n",
              "              title=\"Convert this dataframe to an interactive table.\"\n",
              "              style=\"display:none;\">\n",
              "        \n",
              "  <svg xmlns=\"http://www.w3.org/2000/svg\" height=\"24px\"viewBox=\"0 0 24 24\"\n",
              "       width=\"24px\">\n",
              "    <path d=\"M0 0h24v24H0V0z\" fill=\"none\"/>\n",
              "    <path d=\"M18.56 5.44l.94 2.06.94-2.06 2.06-.94-2.06-.94-.94-2.06-.94 2.06-2.06.94zm-11 1L8.5 8.5l.94-2.06 2.06-.94-2.06-.94L8.5 2.5l-.94 2.06-2.06.94zm10 10l.94 2.06.94-2.06 2.06-.94-2.06-.94-.94-2.06-.94 2.06-2.06.94z\"/><path d=\"M17.41 7.96l-1.37-1.37c-.4-.4-.92-.59-1.43-.59-.52 0-1.04.2-1.43.59L10.3 9.45l-7.72 7.72c-.78.78-.78 2.05 0 2.83L4 21.41c.39.39.9.59 1.41.59.51 0 1.02-.2 1.41-.59l7.78-7.78 2.81-2.81c.8-.78.8-2.07 0-2.86zM5.41 20L4 18.59l7.72-7.72 1.47 1.35L5.41 20z\"/>\n",
              "  </svg>\n",
              "      </button>\n",
              "      \n",
              "  <style>\n",
              "    .colab-df-container {\n",
              "      display:flex;\n",
              "      flex-wrap:wrap;\n",
              "      gap: 12px;\n",
              "    }\n",
              "\n",
              "    .colab-df-convert {\n",
              "      background-color: #E8F0FE;\n",
              "      border: none;\n",
              "      border-radius: 50%;\n",
              "      cursor: pointer;\n",
              "      display: none;\n",
              "      fill: #1967D2;\n",
              "      height: 32px;\n",
              "      padding: 0 0 0 0;\n",
              "      width: 32px;\n",
              "    }\n",
              "\n",
              "    .colab-df-convert:hover {\n",
              "      background-color: #E2EBFA;\n",
              "      box-shadow: 0px 1px 2px rgba(60, 64, 67, 0.3), 0px 1px 3px 1px rgba(60, 64, 67, 0.15);\n",
              "      fill: #174EA6;\n",
              "    }\n",
              "\n",
              "    [theme=dark] .colab-df-convert {\n",
              "      background-color: #3B4455;\n",
              "      fill: #D2E3FC;\n",
              "    }\n",
              "\n",
              "    [theme=dark] .colab-df-convert:hover {\n",
              "      background-color: #434B5C;\n",
              "      box-shadow: 0px 1px 3px 1px rgba(0, 0, 0, 0.15);\n",
              "      filter: drop-shadow(0px 1px 2px rgba(0, 0, 0, 0.3));\n",
              "      fill: #FFFFFF;\n",
              "    }\n",
              "  </style>\n",
              "\n",
              "      <script>\n",
              "        const buttonEl =\n",
              "          document.querySelector('#df-17f70ea2-a605-4191-ae90-3b9019bbdb8a button.colab-df-convert');\n",
              "        buttonEl.style.display =\n",
              "          google.colab.kernel.accessAllowed ? 'block' : 'none';\n",
              "\n",
              "        async function convertToInteractive(key) {\n",
              "          const element = document.querySelector('#df-17f70ea2-a605-4191-ae90-3b9019bbdb8a');\n",
              "          const dataTable =\n",
              "            await google.colab.kernel.invokeFunction('convertToInteractive',\n",
              "                                                     [key], {});\n",
              "          if (!dataTable) return;\n",
              "\n",
              "          const docLinkHtml = 'Like what you see? Visit the ' +\n",
              "            '<a target=\"_blank\" href=https://colab.research.google.com/notebooks/data_table.ipynb>data table notebook</a>'\n",
              "            + ' to learn more about interactive tables.';\n",
              "          element.innerHTML = '';\n",
              "          dataTable['output_type'] = 'display_data';\n",
              "          await google.colab.output.renderOutput(dataTable, element);\n",
              "          const docLink = document.createElement('div');\n",
              "          docLink.innerHTML = docLinkHtml;\n",
              "          element.appendChild(docLink);\n",
              "        }\n",
              "      </script>\n",
              "    </div>\n",
              "  </div>\n",
              "  "
            ]
          },
          "metadata": {},
          "execution_count": 63
        }
      ]
    },
    {
      "cell_type": "code",
      "source": [
        "# Display values in car age column\n",
        "new_df['car_age'].value_counts()"
      ],
      "metadata": {
        "colab": {
          "base_uri": "https://localhost:8080/"
        },
        "id": "qT_w5LM1p3xW",
        "outputId": "755d1180-7285-4bc1-acc6-9dfdacbc96a4"
      },
      "execution_count": 64,
      "outputs": [
        {
          "output_type": "execute_result",
          "data": {
            "text/plain": [
              " 3     23707\n",
              " 4     23595\n",
              " 8     21828\n",
              " 7     20726\n",
              " 6     20257\n",
              " 5     19363\n",
              " 9     17325\n",
              " 10    14815\n",
              " 2     13738\n",
              " 13    11862\n",
              " 11    11450\n",
              " 14     9781\n",
              " 12     8722\n",
              " 15     7811\n",
              " 1      7554\n",
              " 16     6299\n",
              " 17     5087\n",
              " 18     3796\n",
              " 19     2698\n",
              " 20     2036\n",
              " 21     1569\n",
              " 22     1302\n",
              " 23      781\n",
              " 24      722\n",
              " 26      603\n",
              " 25      597\n",
              " 27      441\n",
              " 0       162\n",
              "-4       119\n",
              "-1        52\n",
              "-2        44\n",
              "-5        10\n",
              "-3        10\n",
              "-6         8\n",
              "-7         4\n",
              "-8         4\n",
              "-9         4\n",
              "-10        3\n",
              "-11        3\n",
              "-21        2\n",
              "-24        2\n",
              "-12        2\n",
              "-14        2\n",
              "-15        1\n",
              "-17        1\n",
              "-13        1\n",
              "Name: car_age, dtype: int64"
            ]
          },
          "metadata": {},
          "execution_count": 64
        }
      ]
    },
    {
      "cell_type": "code",
      "source": [
        "# Remove rows with negative values\n",
        "new_df = new_df.loc[new_df['car_age'] >= 0]"
      ],
      "metadata": {
        "id": "drNMBxXjp4ei"
      },
      "execution_count": 65,
      "outputs": []
    },
    {
      "cell_type": "code",
      "source": [
        "# Check bad data has been removed\n",
        "new_df['car_age'].value_counts()"
      ],
      "metadata": {
        "colab": {
          "base_uri": "https://localhost:8080/"
        },
        "id": "gkxuMb6zp_oM",
        "outputId": "13fa6de2-7d55-479a-806e-8d17c6f9cf64"
      },
      "execution_count": 66,
      "outputs": [
        {
          "output_type": "execute_result",
          "data": {
            "text/plain": [
              "3     23707\n",
              "4     23595\n",
              "8     21828\n",
              "7     20726\n",
              "6     20257\n",
              "5     19363\n",
              "9     17325\n",
              "10    14815\n",
              "2     13738\n",
              "13    11862\n",
              "11    11450\n",
              "14     9781\n",
              "12     8722\n",
              "15     7811\n",
              "1      7554\n",
              "16     6299\n",
              "17     5087\n",
              "18     3796\n",
              "19     2698\n",
              "20     2036\n",
              "21     1569\n",
              "22     1302\n",
              "23      781\n",
              "24      722\n",
              "26      603\n",
              "25      597\n",
              "27      441\n",
              "0       162\n",
              "Name: car_age, dtype: int64"
            ]
          },
          "metadata": {},
          "execution_count": 66
        }
      ]
    },
    {
      "cell_type": "code",
      "source": [
        "# Drop posting posting date, year and posting year columns now that car age column has been created and cleaned\n",
        "# Check statistics for numerical columns in dataframe\n",
        "new_df.drop(['posting_date'], axis = 1, inplace = True)\n",
        "new_df.drop(['year'], axis = 1, inplace = True)\n",
        "new_df.drop(['posting_year'], axis = 1, inplace = True)\n",
        "new_df.describe()"
      ],
      "metadata": {
        "colab": {
          "base_uri": "https://localhost:8080/",
          "height": 561
        },
        "id": "2hsQFbV0RvoW",
        "outputId": "22eb69d4-6a67-4ed2-c706-a1617ec005f0"
      },
      "execution_count": 67,
      "outputs": [
        {
          "output_type": "stream",
          "name": "stderr",
          "text": [
            "<ipython-input-67-475fd224dd1c>:1: SettingWithCopyWarning: \n",
            "A value is trying to be set on a copy of a slice from a DataFrame\n",
            "\n",
            "See the caveats in the documentation: https://pandas.pydata.org/pandas-docs/stable/user_guide/indexing.html#returning-a-view-versus-a-copy\n",
            "  new_df.drop(['posting_date'], axis = 1, inplace = True)\n",
            "<ipython-input-67-475fd224dd1c>:2: SettingWithCopyWarning: \n",
            "A value is trying to be set on a copy of a slice from a DataFrame\n",
            "\n",
            "See the caveats in the documentation: https://pandas.pydata.org/pandas-docs/stable/user_guide/indexing.html#returning-a-view-versus-a-copy\n",
            "  new_df.drop(['year'], axis = 1, inplace = True)\n",
            "<ipython-input-67-475fd224dd1c>:3: SettingWithCopyWarning: \n",
            "A value is trying to be set on a copy of a slice from a DataFrame\n",
            "\n",
            "See the caveats in the documentation: https://pandas.pydata.org/pandas-docs/stable/user_guide/indexing.html#returning-a-view-versus-a-copy\n",
            "  new_df.drop(['posting_year'], axis = 1, inplace = True)\n"
          ]
        },
        {
          "output_type": "execute_result",
          "data": {
            "text/plain": [
              "               price       odometer        car_age\n",
              "count  258627.000000  258627.000000  258627.000000\n",
              "mean    18440.297262   93141.284243       8.384875\n",
              "std     11529.679267   56790.048887       5.073075\n",
              "min      3525.000000    7653.000000       0.000000\n",
              "25%      8500.000000   42642.000000       4.000000\n",
              "50%     15988.000000   89774.000000       8.000000\n",
              "75%     26590.000000  133130.000000      11.000000\n",
              "max     54988.000000  272412.000000      27.000000"
            ],
            "text/html": [
              "\n",
              "  <div id=\"df-608c456e-9a57-4d2a-9ce8-427878805c1f\">\n",
              "    <div class=\"colab-df-container\">\n",
              "      <div>\n",
              "<style scoped>\n",
              "    .dataframe tbody tr th:only-of-type {\n",
              "        vertical-align: middle;\n",
              "    }\n",
              "\n",
              "    .dataframe tbody tr th {\n",
              "        vertical-align: top;\n",
              "    }\n",
              "\n",
              "    .dataframe thead th {\n",
              "        text-align: right;\n",
              "    }\n",
              "</style>\n",
              "<table border=\"1\" class=\"dataframe\">\n",
              "  <thead>\n",
              "    <tr style=\"text-align: right;\">\n",
              "      <th></th>\n",
              "      <th>price</th>\n",
              "      <th>odometer</th>\n",
              "      <th>car_age</th>\n",
              "    </tr>\n",
              "  </thead>\n",
              "  <tbody>\n",
              "    <tr>\n",
              "      <th>count</th>\n",
              "      <td>258627.000000</td>\n",
              "      <td>258627.000000</td>\n",
              "      <td>258627.000000</td>\n",
              "    </tr>\n",
              "    <tr>\n",
              "      <th>mean</th>\n",
              "      <td>18440.297262</td>\n",
              "      <td>93141.284243</td>\n",
              "      <td>8.384875</td>\n",
              "    </tr>\n",
              "    <tr>\n",
              "      <th>std</th>\n",
              "      <td>11529.679267</td>\n",
              "      <td>56790.048887</td>\n",
              "      <td>5.073075</td>\n",
              "    </tr>\n",
              "    <tr>\n",
              "      <th>min</th>\n",
              "      <td>3525.000000</td>\n",
              "      <td>7653.000000</td>\n",
              "      <td>0.000000</td>\n",
              "    </tr>\n",
              "    <tr>\n",
              "      <th>25%</th>\n",
              "      <td>8500.000000</td>\n",
              "      <td>42642.000000</td>\n",
              "      <td>4.000000</td>\n",
              "    </tr>\n",
              "    <tr>\n",
              "      <th>50%</th>\n",
              "      <td>15988.000000</td>\n",
              "      <td>89774.000000</td>\n",
              "      <td>8.000000</td>\n",
              "    </tr>\n",
              "    <tr>\n",
              "      <th>75%</th>\n",
              "      <td>26590.000000</td>\n",
              "      <td>133130.000000</td>\n",
              "      <td>11.000000</td>\n",
              "    </tr>\n",
              "    <tr>\n",
              "      <th>max</th>\n",
              "      <td>54988.000000</td>\n",
              "      <td>272412.000000</td>\n",
              "      <td>27.000000</td>\n",
              "    </tr>\n",
              "  </tbody>\n",
              "</table>\n",
              "</div>\n",
              "      <button class=\"colab-df-convert\" onclick=\"convertToInteractive('df-608c456e-9a57-4d2a-9ce8-427878805c1f')\"\n",
              "              title=\"Convert this dataframe to an interactive table.\"\n",
              "              style=\"display:none;\">\n",
              "        \n",
              "  <svg xmlns=\"http://www.w3.org/2000/svg\" height=\"24px\"viewBox=\"0 0 24 24\"\n",
              "       width=\"24px\">\n",
              "    <path d=\"M0 0h24v24H0V0z\" fill=\"none\"/>\n",
              "    <path d=\"M18.56 5.44l.94 2.06.94-2.06 2.06-.94-2.06-.94-.94-2.06-.94 2.06-2.06.94zm-11 1L8.5 8.5l.94-2.06 2.06-.94-2.06-.94L8.5 2.5l-.94 2.06-2.06.94zm10 10l.94 2.06.94-2.06 2.06-.94-2.06-.94-.94-2.06-.94 2.06-2.06.94z\"/><path d=\"M17.41 7.96l-1.37-1.37c-.4-.4-.92-.59-1.43-.59-.52 0-1.04.2-1.43.59L10.3 9.45l-7.72 7.72c-.78.78-.78 2.05 0 2.83L4 21.41c.39.39.9.59 1.41.59.51 0 1.02-.2 1.41-.59l7.78-7.78 2.81-2.81c.8-.78.8-2.07 0-2.86zM5.41 20L4 18.59l7.72-7.72 1.47 1.35L5.41 20z\"/>\n",
              "  </svg>\n",
              "      </button>\n",
              "      \n",
              "  <style>\n",
              "    .colab-df-container {\n",
              "      display:flex;\n",
              "      flex-wrap:wrap;\n",
              "      gap: 12px;\n",
              "    }\n",
              "\n",
              "    .colab-df-convert {\n",
              "      background-color: #E8F0FE;\n",
              "      border: none;\n",
              "      border-radius: 50%;\n",
              "      cursor: pointer;\n",
              "      display: none;\n",
              "      fill: #1967D2;\n",
              "      height: 32px;\n",
              "      padding: 0 0 0 0;\n",
              "      width: 32px;\n",
              "    }\n",
              "\n",
              "    .colab-df-convert:hover {\n",
              "      background-color: #E2EBFA;\n",
              "      box-shadow: 0px 1px 2px rgba(60, 64, 67, 0.3), 0px 1px 3px 1px rgba(60, 64, 67, 0.15);\n",
              "      fill: #174EA6;\n",
              "    }\n",
              "\n",
              "    [theme=dark] .colab-df-convert {\n",
              "      background-color: #3B4455;\n",
              "      fill: #D2E3FC;\n",
              "    }\n",
              "\n",
              "    [theme=dark] .colab-df-convert:hover {\n",
              "      background-color: #434B5C;\n",
              "      box-shadow: 0px 1px 3px 1px rgba(0, 0, 0, 0.15);\n",
              "      filter: drop-shadow(0px 1px 2px rgba(0, 0, 0, 0.3));\n",
              "      fill: #FFFFFF;\n",
              "    }\n",
              "  </style>\n",
              "\n",
              "      <script>\n",
              "        const buttonEl =\n",
              "          document.querySelector('#df-608c456e-9a57-4d2a-9ce8-427878805c1f button.colab-df-convert');\n",
              "        buttonEl.style.display =\n",
              "          google.colab.kernel.accessAllowed ? 'block' : 'none';\n",
              "\n",
              "        async function convertToInteractive(key) {\n",
              "          const element = document.querySelector('#df-608c456e-9a57-4d2a-9ce8-427878805c1f');\n",
              "          const dataTable =\n",
              "            await google.colab.kernel.invokeFunction('convertToInteractive',\n",
              "                                                     [key], {});\n",
              "          if (!dataTable) return;\n",
              "\n",
              "          const docLinkHtml = 'Like what you see? Visit the ' +\n",
              "            '<a target=\"_blank\" href=https://colab.research.google.com/notebooks/data_table.ipynb>data table notebook</a>'\n",
              "            + ' to learn more about interactive tables.';\n",
              "          element.innerHTML = '';\n",
              "          dataTable['output_type'] = 'display_data';\n",
              "          await google.colab.output.renderOutput(dataTable, element);\n",
              "          const docLink = document.createElement('div');\n",
              "          docLink.innerHTML = docLinkHtml;\n",
              "          element.appendChild(docLink);\n",
              "        }\n",
              "      </script>\n",
              "    </div>\n",
              "  </div>\n",
              "  "
            ]
          },
          "metadata": {},
          "execution_count": 67
        }
      ]
    },
    {
      "cell_type": "code",
      "source": [
        "# Export cleaned data to CSV\n",
        "new_df.to_csv(\"final_car_sales.csv\", index = False)"
      ],
      "metadata": {
        "id": "lmgOWsBkqH0J"
      },
      "execution_count": 68,
      "outputs": []
    },
    {
      "cell_type": "markdown",
      "source": [
        "#Data Visualization"
      ],
      "metadata": {
        "id": "-2CgB985q7_w"
      }
    },
    {
      "cell_type": "code",
      "source": [
        "# Display correlation heatmap for numeric columns\n",
        "sns.heatmap(new_df.corr(), annot=True)"
      ],
      "metadata": {
        "colab": {
          "base_uri": "https://localhost:8080/",
          "height": 559
        },
        "id": "S7Q8fH-9rXed",
        "outputId": "aedf42c4-6a52-41a1-da5d-15eb76879220"
      },
      "execution_count": 69,
      "outputs": [
        {
          "output_type": "stream",
          "name": "stderr",
          "text": [
            "<ipython-input-69-a4ff67bfeb7b>:1: FutureWarning: The default value of numeric_only in DataFrame.corr is deprecated. In a future version, it will default to False. Select only valid columns or specify the value of numeric_only to silence this warning.\n",
            "  sns.heatmap(new_df.corr(), annot=True)\n"
          ]
        },
        {
          "output_type": "execute_result",
          "data": {
            "text/plain": [
              "<Axes: >"
            ]
          },
          "metadata": {},
          "execution_count": 69
        },
        {
          "output_type": "display_data",
          "data": {
            "text/plain": [
              "<Figure size 640x480 with 2 Axes>"
            ],
            "image/png": "[encoded data removed]"
          },
          "metadata": {}
        }
      ]
    },
    {
      "cell_type": "code",
      "source": [
        "# Display column names to verify columns in final CSV\n",
        "new_df.columns\n"
      ],
      "metadata": {
        "colab": {
          "base_uri": "https://localhost:8080/"
        },
        "id": "ANrR8hpYr7Bz",
        "outputId": "e4c2677b-3ee6-4f4c-b804-1fde0a91e464"
      },
      "execution_count": 70,
      "outputs": [
        {
          "output_type": "execute_result",
          "data": {
            "text/plain": [
              "Index(['region', 'price', 'manufacturer', 'model', 'condition', 'cylinders',\n",
              "       'fuel', 'odometer', 'title_status', 'transmission', 'drive', 'type',\n",
              "       'paint_color', 'state', 'car_age'],\n",
              "      dtype='object')"
            ]
          },
          "metadata": {},
          "execution_count": 70
        }
      ]
    },
    {
      "cell_type": "code",
      "source": [
        "# Prepare copy of cleaned data for machine learning models\n",
        "training_df = new_df.copy()"
      ],
      "metadata": {
        "id": "aSocs-gUsSUk"
      },
      "execution_count": 71,
      "outputs": []
    },
    {
      "cell_type": "code",
      "source": [
        "# Export to CSV for machine learning models\n",
        "training_df.to_csv(\"training_df.csv\", index = False)"
      ],
      "metadata": {
        "id": "tJGehesUsWhV"
      },
      "execution_count": 72,
      "outputs": []
    },
    {
      "cell_type": "markdown",
      "source": [
        "#Machine Learning Models"
      ],
      "metadata": {
        "id": "R_VLTkS1seSV"
      }
    },
    {
      "cell_type": "code",
      "source": [
        "# Read training data into pandas dataframe\n",
        "import pandas as pd\n",
        "\n",
        "training_df = pd.read_csv('/content/training_df.csv' )"
      ],
      "metadata": {
        "id": "imvtBZcr5d8N"
      },
      "execution_count": 73,
      "outputs": []
    },
    {
      "cell_type": "code",
      "source": [
        "# Drop the non-beneficial columns, 'region', 'paint_color' and 'title_status'.\n",
        "training_df = training_df.drop(['region', 'paint_color', 'title_status'], axis=1)\n",
        "training_df.head()"
      ],
      "metadata": {
        "colab": {
          "base_uri": "https://localhost:8080/",
          "height": 206
        },
        "id": "38s0tqdsyT0A",
        "outputId": "4507abbe-e2c3-4df4-bbf0-dbb7723ed262"
      },
      "execution_count": 74,
      "outputs": [
        {
          "output_type": "execute_result",
          "data": {
            "text/plain": [
              "   price manufacturer      model  condition    cylinders fuel  odometer  \\\n",
              "0  33590          gmc     others       good  8 cylinders  gas   57923.0   \n",
              "1  22590    chevrolet  silverado       good  8 cylinders  gas   71229.0   \n",
              "2  39590    chevrolet     others       good  8 cylinders  gas   19160.0   \n",
              "3  30990       toyota     others       good  8 cylinders  gas   41124.0   \n",
              "4  15000         ford     others  excellent  6 cylinders  gas  128000.0   \n",
              "\n",
              "  transmission    drive    type state  car_age  \n",
              "0        other  unknown  pickup    al        7  \n",
              "1        other  unknown  pickup    al       11  \n",
              "2        other  unknown  pickup    al        1  \n",
              "3        other  unknown  pickup    al        4  \n",
              "4    automatic      rwd   truck    al        8  "
            ],
            "text/html": [
              "\n",
              "  <div id=\"df-479d11f7-76ef-4a3b-a2e6-563c7df67f56\">\n",
              "    <div class=\"colab-df-container\">\n",
              "      <div>\n",
              "<style scoped>\n",
              "    .dataframe tbody tr th:only-of-type {\n",
              "        vertical-align: middle;\n",
              "    }\n",
              "\n",
              "    .dataframe tbody tr th {\n",
              "        vertical-align: top;\n",
              "    }\n",
              "\n",
              "    .dataframe thead th {\n",
              "        text-align: right;\n",
              "    }\n",
              "</style>\n",
              "<table border=\"1\" class=\"dataframe\">\n",
              "  <thead>\n",
              "    <tr style=\"text-align: right;\">\n",
              "      <th></th>\n",
              "      <th>price</th>\n",
              "      <th>manufacturer</th>\n",
              "      <th>model</th>\n",
              "      <th>condition</th>\n",
              "      <th>cylinders</th>\n",
              "      <th>fuel</th>\n",
              "      <th>odometer</th>\n",
              "      <th>transmission</th>\n",
              "      <th>drive</th>\n",
              "      <th>type</th>\n",
              "      <th>state</th>\n",
              "      <th>car_age</th>\n",
              "    </tr>\n",
              "  </thead>\n",
              "  <tbody>\n",
              "    <tr>\n",
              "      <th>0</th>\n",
              "      <td>33590</td>\n",
              "      <td>gmc</td>\n",
              "      <td>others</td>\n",
              "      <td>good</td>\n",
              "      <td>8 cylinders</td>\n",
              "      <td>gas</td>\n",
              "      <td>57923.0</td>\n",
              "      <td>other</td>\n",
              "      <td>unknown</td>\n",
              "      <td>pickup</td>\n",
              "      <td>al</td>\n",
              "      <td>7</td>\n",
              "    </tr>\n",
              "    <tr>\n",
              "      <th>1</th>\n",
              "      <td>22590</td>\n",
              "      <td>chevrolet</td>\n",
              "      <td>silverado</td>\n",
              "      <td>good</td>\n",
              "      <td>8 cylinders</td>\n",
              "      <td>gas</td>\n",
              "      <td>71229.0</td>\n",
              "      <td>other</td>\n",
              "      <td>unknown</td>\n",
              "      <td>pickup</td>\n",
              "      <td>al</td>\n",
              "      <td>11</td>\n",
              "    </tr>\n",
              "    <tr>\n",
              "      <th>2</th>\n",
              "      <td>39590</td>\n",
              "      <td>chevrolet</td>\n",
              "      <td>others</td>\n",
              "      <td>good</td>\n",
              "      <td>8 cylinders</td>\n",
              "      <td>gas</td>\n",
              "      <td>19160.0</td>\n",
              "      <td>other</td>\n",
              "      <td>unknown</td>\n",
              "      <td>pickup</td>\n",
              "      <td>al</td>\n",
              "      <td>1</td>\n",
              "    </tr>\n",
              "    <tr>\n",
              "      <th>3</th>\n",
              "      <td>30990</td>\n",
              "      <td>toyota</td>\n",
              "      <td>others</td>\n",
              "      <td>good</td>\n",
              "      <td>8 cylinders</td>\n",
              "      <td>gas</td>\n",
              "      <td>41124.0</td>\n",
              "      <td>other</td>\n",
              "      <td>unknown</td>\n",
              "      <td>pickup</td>\n",
              "      <td>al</td>\n",
              "      <td>4</td>\n",
              "    </tr>\n",
              "    <tr>\n",
              "      <th>4</th>\n",
              "      <td>15000</td>\n",
              "      <td>ford</td>\n",
              "      <td>others</td>\n",
              "      <td>excellent</td>\n",
              "      <td>6 cylinders</td>\n",
              "      <td>gas</td>\n",
              "      <td>128000.0</td>\n",
              "      <td>automatic</td>\n",
              "      <td>rwd</td>\n",
              "      <td>truck</td>\n",
              "      <td>al</td>\n",
              "      <td>8</td>\n",
              "    </tr>\n",
              "  </tbody>\n",
              "</table>\n",
              "</div>\n",
              "      <button class=\"colab-df-convert\" onclick=\"convertToInteractive('df-479d11f7-76ef-4a3b-a2e6-563c7df67f56')\"\n",
              "              title=\"Convert this dataframe to an interactive table.\"\n",
              "              style=\"display:none;\">\n",
              "        \n",
              "  <svg xmlns=\"http://www.w3.org/2000/svg\" height=\"24px\"viewBox=\"0 0 24 24\"\n",
              "       width=\"24px\">\n",
              "    <path d=\"M0 0h24v24H0V0z\" fill=\"none\"/>\n",
              "    <path d=\"M18.56 5.44l.94 2.06.94-2.06 2.06-.94-2.06-.94-.94-2.06-.94 2.06-2.06.94zm-11 1L8.5 8.5l.94-2.06 2.06-.94-2.06-.94L8.5 2.5l-.94 2.06-2.06.94zm10 10l.94 2.06.94-2.06 2.06-.94-2.06-.94-.94-2.06-.94 2.06-2.06.94z\"/><path d=\"M17.41 7.96l-1.37-1.37c-.4-.4-.92-.59-1.43-.59-.52 0-1.04.2-1.43.59L10.3 9.45l-7.72 7.72c-.78.78-.78 2.05 0 2.83L4 21.41c.39.39.9.59 1.41.59.51 0 1.02-.2 1.41-.59l7.78-7.78 2.81-2.81c.8-.78.8-2.07 0-2.86zM5.41 20L4 18.59l7.72-7.72 1.47 1.35L5.41 20z\"/>\n",
              "  </svg>\n",
              "      </button>\n",
              "      \n",
              "  <style>\n",
              "    .colab-df-container {\n",
              "      display:flex;\n",
              "      flex-wrap:wrap;\n",
              "      gap: 12px;\n",
              "    }\n",
              "\n",
              "    .colab-df-convert {\n",
              "      background-color: #E8F0FE;\n",
              "      border: none;\n",
              "      border-radius: 50%;\n",
              "      cursor: pointer;\n",
              "      display: none;\n",
              "      fill: #1967D2;\n",
              "      height: 32px;\n",
              "      padding: 0 0 0 0;\n",
              "      width: 32px;\n",
              "    }\n",
              "\n",
              "    .colab-df-convert:hover {\n",
              "      background-color: #E2EBFA;\n",
              "      box-shadow: 0px 1px 2px rgba(60, 64, 67, 0.3), 0px 1px 3px 1px rgba(60, 64, 67, 0.15);\n",
              "      fill: #174EA6;\n",
              "    }\n",
              "\n",
              "    [theme=dark] .colab-df-convert {\n",
              "      background-color: #3B4455;\n",
              "      fill: #D2E3FC;\n",
              "    }\n",
              "\n",
              "    [theme=dark] .colab-df-convert:hover {\n",
              "      background-color: #434B5C;\n",
              "      box-shadow: 0px 1px 3px 1px rgba(0, 0, 0, 0.15);\n",
              "      filter: drop-shadow(0px 1px 2px rgba(0, 0, 0, 0.3));\n",
              "      fill: #FFFFFF;\n",
              "    }\n",
              "  </style>\n",
              "\n",
              "      <script>\n",
              "        const buttonEl =\n",
              "          document.querySelector('#df-479d11f7-76ef-4a3b-a2e6-563c7df67f56 button.colab-df-convert');\n",
              "        buttonEl.style.display =\n",
              "          google.colab.kernel.accessAllowed ? 'block' : 'none';\n",
              "\n",
              "        async function convertToInteractive(key) {\n",
              "          const element = document.querySelector('#df-479d11f7-76ef-4a3b-a2e6-563c7df67f56');\n",
              "          const dataTable =\n",
              "            await google.colab.kernel.invokeFunction('convertToInteractive',\n",
              "                                                     [key], {});\n",
              "          if (!dataTable) return;\n",
              "\n",
              "          const docLinkHtml = 'Like what you see? Visit the ' +\n",
              "            '<a target=\"_blank\" href=https://colab.research.google.com/notebooks/data_table.ipynb>data table notebook</a>'\n",
              "            + ' to learn more about interactive tables.';\n",
              "          element.innerHTML = '';\n",
              "          dataTable['output_type'] = 'display_data';\n",
              "          await google.colab.output.renderOutput(dataTable, element);\n",
              "          const docLink = document.createElement('div');\n",
              "          docLink.innerHTML = docLinkHtml;\n",
              "          element.appendChild(docLink);\n",
              "        }\n",
              "      </script>\n",
              "    </div>\n",
              "  </div>\n",
              "  "
            ]
          },
          "metadata": {},
          "execution_count": 74
        }
      ]
    },
    {
      "cell_type": "code",
      "source": [
        "# Convert categorical columns to numeric\n",
        "numeric_dummies = pd.get_dummies(training_df)\n",
        "numeric_dummies"
      ],
      "metadata": {
        "colab": {
          "base_uri": "https://localhost:8080/",
          "height": 488
        },
        "id": "dL9Lk6HHsdmr",
        "outputId": "3dc72894-e804-4fb3-e129-7baba5b7cc6c"
      },
      "execution_count": 75,
      "outputs": [
        {
          "output_type": "execute_result",
          "data": {
            "text/plain": [
              "        price  odometer  car_age  manufacturer_acura  manufacturer_audi  \\\n",
              "0       33590   57923.0        7                   0                  0   \n",
              "1       22590   71229.0       11                   0                  0   \n",
              "2       39590   19160.0        1                   0                  0   \n",
              "3       30990   41124.0        4                   0                  0   \n",
              "4       15000  128000.0        8                   0                  0   \n",
              "...       ...       ...      ...                 ...                ...   \n",
              "258622  33590   30814.0        3                   0                  0   \n",
              "258623  23590   32226.0        2                   0                  0   \n",
              "258624  30590   12029.0        1                   0                  0   \n",
              "258625  28990   30112.0        3                   0                  0   \n",
              "258626  30590   22716.0        2                   0                  0   \n",
              "\n",
              "        manufacturer_bmw  manufacturer_cadillac  manufacturer_chevrolet  \\\n",
              "0                      0                      0                       0   \n",
              "1                      0                      0                       1   \n",
              "2                      0                      0                       1   \n",
              "3                      0                      0                       0   \n",
              "4                      0                      0                       0   \n",
              "...                  ...                    ...                     ...   \n",
              "258622                 0                      0                       0   \n",
              "258623                 0                      0                       0   \n",
              "258624                 0                      0                       0   \n",
              "258625                 0                      0                       0   \n",
              "258626                 1                      0                       0   \n",
              "\n",
              "        manufacturer_chrysler  manufacturer_dodge  ...  state_sd  state_tn  \\\n",
              "0                           0                   0  ...         0         0   \n",
              "1                           0                   0  ...         0         0   \n",
              "2                           0                   0  ...         0         0   \n",
              "3                           0                   0  ...         0         0   \n",
              "4                           0                   0  ...         0         0   \n",
              "...                       ...                 ...  ...       ...       ...   \n",
              "258622                      0                   0  ...         0         0   \n",
              "258623                      0                   0  ...         0         0   \n",
              "258624                      0                   0  ...         0         0   \n",
              "258625                      0                   0  ...         0         0   \n",
              "258626                      0                   0  ...         0         0   \n",
              "\n",
              "        state_tx  state_ut  state_va  state_vt  state_wa  state_wi  state_wv  \\\n",
              "0              0         0         0         0         0         0         0   \n",
              "1              0         0         0         0         0         0         0   \n",
              "2              0         0         0         0         0         0         0   \n",
              "3              0         0         0         0         0         0         0   \n",
              "4              0         0         0         0         0         0         0   \n",
              "...          ...       ...       ...       ...       ...       ...       ...   \n",
              "258622         0         0         0         0         0         0         0   \n",
              "258623         0         0         0         0         0         0         0   \n",
              "258624         0         0         0         0         0         0         0   \n",
              "258625         0         0         0         0         0         0         0   \n",
              "258626         0         0         0         0         0         0         0   \n",
              "\n",
              "        state_wy  \n",
              "0              0  \n",
              "1              0  \n",
              "2              0  \n",
              "3              0  \n",
              "4              0  \n",
              "...          ...  \n",
              "258622         1  \n",
              "258623         1  \n",
              "258624         1  \n",
              "258625         1  \n",
              "258626         1  \n",
              "\n",
              "[258627 rows x 168 columns]"
            ],
            "text/html": [
              "\n",
              "  <div id=\"df-d14ee7cd-ca2a-4af6-a439-bd920b82fd0a\">\n",
              "    <div class=\"colab-df-container\">\n",
              "      <div>\n",
              "<style scoped>\n",
              "    .dataframe tbody tr th:only-of-type {\n",
              "        vertical-align: middle;\n",
              "    }\n",
              "\n",
              "    .dataframe tbody tr th {\n",
              "        vertical-align: top;\n",
              "    }\n",
              "\n",
              "    .dataframe thead th {\n",
              "        text-align: right;\n",
              "    }\n",
              "</style>\n",
              "<table border=\"1\" class=\"dataframe\">\n",
              "  <thead>\n",
              "    <tr style=\"text-align: right;\">\n",
              "      <th></th>\n",
              "      <th>price</th>\n",
              "      <th>odometer</th>\n",
              "      <th>car_age</th>\n",
              "      <th>manufacturer_acura</th>\n",
              "      <th>manufacturer_audi</th>\n",
              "      <th>manufacturer_bmw</th>\n",
              "      <th>manufacturer_cadillac</th>\n",
              "      <th>manufacturer_chevrolet</th>\n",
              "      <th>manufacturer_chrysler</th>\n",
              "      <th>manufacturer_dodge</th>\n",
              "      <th>...</th>\n",
              "      <th>state_sd</th>\n",
              "      <th>state_tn</th>\n",
              "      <th>state_tx</th>\n",
              "      <th>state_ut</th>\n",
              "      <th>state_va</th>\n",
              "      <th>state_vt</th>\n",
              "      <th>state_wa</th>\n",
              "      <th>state_wi</th>\n",
              "      <th>state_wv</th>\n",
              "      <th>state_wy</th>\n",
              "    </tr>\n",
              "  </thead>\n",
              "  <tbody>\n",
              "    <tr>\n",
              "      <th>0</th>\n",
              "      <td>33590</td>\n",
              "      <td>57923.0</td>\n",
              "      <td>7</td>\n",
              "      <td>0</td>\n",
              "      <td>0</td>\n",
              "      <td>0</td>\n",
              "      <td>0</td>\n",
              "      <td>0</td>\n",
              "      <td>0</td>\n",
              "      <td>0</td>\n",
              "      <td>...</td>\n",
              "      <td>0</td>\n",
              "      <td>0</td>\n",
              "      <td>0</td>\n",
              "      <td>0</td>\n",
              "      <td>0</td>\n",
              "      <td>0</td>\n",
              "      <td>0</td>\n",
              "      <td>0</td>\n",
              "      <td>0</td>\n",
              "      <td>0</td>\n",
              "    </tr>\n",
              "    <tr>\n",
              "      <th>1</th>\n",
              "      <td>22590</td>\n",
              "      <td>71229.0</td>\n",
              "      <td>11</td>\n",
              "      <td>0</td>\n",
              "      <td>0</td>\n",
              "      <td>0</td>\n",
              "      <td>0</td>\n",
              "      <td>1</td>\n",
              "      <td>0</td>\n",
              "      <td>0</td>\n",
              "      <td>...</td>\n",
              "      <td>0</td>\n",
              "      <td>0</td>\n",
              "      <td>0</td>\n",
              "      <td>0</td>\n",
              "      <td>0</td>\n",
              "      <td>0</td>\n",
              "      <td>0</td>\n",
              "      <td>0</td>\n",
              "      <td>0</td>\n",
              "      <td>0</td>\n",
              "    </tr>\n",
              "    <tr>\n",
              "      <th>2</th>\n",
              "      <td>39590</td>\n",
              "      <td>19160.0</td>\n",
              "      <td>1</td>\n",
              "      <td>0</td>\n",
              "      <td>0</td>\n",
              "      <td>0</td>\n",
              "      <td>0</td>\n",
              "      <td>1</td>\n",
              "      <td>0</td>\n",
              "      <td>0</td>\n",
              "      <td>...</td>\n",
              "      <td>0</td>\n",
              "      <td>0</td>\n",
              "      <td>0</td>\n",
              "      <td>0</td>\n",
              "      <td>0</td>\n",
              "      <td>0</td>\n",
              "      <td>0</td>\n",
              "      <td>0</td>\n",
              "      <td>0</td>\n",
              "      <td>0</td>\n",
              "    </tr>\n",
              "    <tr>\n",
              "      <th>3</th>\n",
              "      <td>30990</td>\n",
              "      <td>41124.0</td>\n",
              "      <td>4</td>\n",
              "      <td>0</td>\n",
              "      <td>0</td>\n",
              "      <td>0</td>\n",
              "      <td>0</td>\n",
              "      <td>0</td>\n",
              "      <td>0</td>\n",
              "      <td>0</td>\n",
              "      <td>...</td>\n",
              "      <td>0</td>\n",
              "      <td>0</td>\n",
              "      <td>0</td>\n",
              "      <td>0</td>\n",
              "      <td>0</td>\n",
              "      <td>0</td>\n",
              "      <td>0</td>\n",
              "      <td>0</td>\n",
              "      <td>0</td>\n",
              "      <td>0</td>\n",
              "    </tr>\n",
              "    <tr>\n",
              "      <th>4</th>\n",
              "      <td>15000</td>\n",
              "      <td>128000.0</td>\n",
              "      <td>8</td>\n",
              "      <td>0</td>\n",
              "      <td>0</td>\n",
              "      <td>0</td>\n",
              "      <td>0</td>\n",
              "      <td>0</td>\n",
              "      <td>0</td>\n",
              "      <td>0</td>\n",
              "      <td>...</td>\n",
              "      <td>0</td>\n",
              "      <td>0</td>\n",
              "      <td>0</td>\n",
              "      <td>0</td>\n",
              "      <td>0</td>\n",
              "      <td>0</td>\n",
              "      <td>0</td>\n",
              "      <td>0</td>\n",
              "      <td>0</td>\n",
              "      <td>0</td>\n",
              "    </tr>\n",
              "    <tr>\n",
              "      <th>...</th>\n",
              "      <td>...</td>\n",
              "      <td>...</td>\n",
              "      <td>...</td>\n",
              "      <td>...</td>\n",
              "      <td>...</td>\n",
              "      <td>...</td>\n",
              "      <td>...</td>\n",
              "      <td>...</td>\n",
              "      <td>...</td>\n",
              "      <td>...</td>\n",
              "      <td>...</td>\n",
              "      <td>...</td>\n",
              "      <td>...</td>\n",
              "      <td>...</td>\n",
              "      <td>...</td>\n",
              "      <td>...</td>\n",
              "      <td>...</td>\n",
              "      <td>...</td>\n",
              "      <td>...</td>\n",
              "      <td>...</td>\n",
              "      <td>...</td>\n",
              "    </tr>\n",
              "    <tr>\n",
              "      <th>258622</th>\n",
              "      <td>33590</td>\n",
              "      <td>30814.0</td>\n",
              "      <td>3</td>\n",
              "      <td>0</td>\n",
              "      <td>0</td>\n",
              "      <td>0</td>\n",
              "      <td>0</td>\n",
              "      <td>0</td>\n",
              "      <td>0</td>\n",
              "      <td>0</td>\n",
              "      <td>...</td>\n",
              "      <td>0</td>\n",
              "      <td>0</td>\n",
              "      <td>0</td>\n",
              "      <td>0</td>\n",
              "      <td>0</td>\n",
              "      <td>0</td>\n",
              "      <td>0</td>\n",
              "      <td>0</td>\n",
              "      <td>0</td>\n",
              "      <td>1</td>\n",
              "    </tr>\n",
              "    <tr>\n",
              "      <th>258623</th>\n",
              "      <td>23590</td>\n",
              "      <td>32226.0</td>\n",
              "      <td>2</td>\n",
              "      <td>0</td>\n",
              "      <td>0</td>\n",
              "      <td>0</td>\n",
              "      <td>0</td>\n",
              "      <td>0</td>\n",
              "      <td>0</td>\n",
              "      <td>0</td>\n",
              "      <td>...</td>\n",
              "      <td>0</td>\n",
              "      <td>0</td>\n",
              "      <td>0</td>\n",
              "      <td>0</td>\n",
              "      <td>0</td>\n",
              "      <td>0</td>\n",
              "      <td>0</td>\n",
              "      <td>0</td>\n",
              "      <td>0</td>\n",
              "      <td>1</td>\n",
              "    </tr>\n",
              "    <tr>\n",
              "      <th>258624</th>\n",
              "      <td>30590</td>\n",
              "      <td>12029.0</td>\n",
              "      <td>1</td>\n",
              "      <td>0</td>\n",
              "      <td>0</td>\n",
              "      <td>0</td>\n",
              "      <td>0</td>\n",
              "      <td>0</td>\n",
              "      <td>0</td>\n",
              "      <td>0</td>\n",
              "      <td>...</td>\n",
              "      <td>0</td>\n",
              "      <td>0</td>\n",
              "      <td>0</td>\n",
              "      <td>0</td>\n",
              "      <td>0</td>\n",
              "      <td>0</td>\n",
              "      <td>0</td>\n",
              "      <td>0</td>\n",
              "      <td>0</td>\n",
              "      <td>1</td>\n",
              "    </tr>\n",
              "    <tr>\n",
              "      <th>258625</th>\n",
              "      <td>28990</td>\n",
              "      <td>30112.0</td>\n",
              "      <td>3</td>\n",
              "      <td>0</td>\n",
              "      <td>0</td>\n",
              "      <td>0</td>\n",
              "      <td>0</td>\n",
              "      <td>0</td>\n",
              "      <td>0</td>\n",
              "      <td>0</td>\n",
              "      <td>...</td>\n",
              "      <td>0</td>\n",
              "      <td>0</td>\n",
              "      <td>0</td>\n",
              "      <td>0</td>\n",
              "      <td>0</td>\n",
              "      <td>0</td>\n",
              "      <td>0</td>\n",
              "      <td>0</td>\n",
              "      <td>0</td>\n",
              "      <td>1</td>\n",
              "    </tr>\n",
              "    <tr>\n",
              "      <th>258626</th>\n",
              "      <td>30590</td>\n",
              "      <td>22716.0</td>\n",
              "      <td>2</td>\n",
              "      <td>0</td>\n",
              "      <td>0</td>\n",
              "      <td>1</td>\n",
              "      <td>0</td>\n",
              "      <td>0</td>\n",
              "      <td>0</td>\n",
              "      <td>0</td>\n",
              "      <td>...</td>\n",
              "      <td>0</td>\n",
              "      <td>0</td>\n",
              "      <td>0</td>\n",
              "      <td>0</td>\n",
              "      <td>0</td>\n",
              "      <td>0</td>\n",
              "      <td>0</td>\n",
              "      <td>0</td>\n",
              "      <td>0</td>\n",
              "      <td>1</td>\n",
              "    </tr>\n",
              "  </tbody>\n",
              "</table>\n",
              "<p>258627 rows × 168 columns</p>\n",
              "</div>\n",
              "      <button class=\"colab-df-convert\" onclick=\"convertToInteractive('df-d14ee7cd-ca2a-4af6-a439-bd920b82fd0a')\"\n",
              "              title=\"Convert this dataframe to an interactive table.\"\n",
              "              style=\"display:none;\">\n",
              "        \n",
              "  <svg xmlns=\"http://www.w3.org/2000/svg\" height=\"24px\"viewBox=\"0 0 24 24\"\n",
              "       width=\"24px\">\n",
              "    <path d=\"M0 0h24v24H0V0z\" fill=\"none\"/>\n",
              "    <path d=\"M18.56 5.44l.94 2.06.94-2.06 2.06-.94-2.06-.94-.94-2.06-.94 2.06-2.06.94zm-11 1L8.5 8.5l.94-2.06 2.06-.94-2.06-.94L8.5 2.5l-.94 2.06-2.06.94zm10 10l.94 2.06.94-2.06 2.06-.94-2.06-.94-.94-2.06-.94 2.06-2.06.94z\"/><path d=\"M17.41 7.96l-1.37-1.37c-.4-.4-.92-.59-1.43-.59-.52 0-1.04.2-1.43.59L10.3 9.45l-7.72 7.72c-.78.78-.78 2.05 0 2.83L4 21.41c.39.39.9.59 1.41.59.51 0 1.02-.2 1.41-.59l7.78-7.78 2.81-2.81c.8-.78.8-2.07 0-2.86zM5.41 20L4 18.59l7.72-7.72 1.47 1.35L5.41 20z\"/>\n",
              "  </svg>\n",
              "      </button>\n",
              "      \n",
              "  <style>\n",
              "    .colab-df-container {\n",
              "      display:flex;\n",
              "      flex-wrap:wrap;\n",
              "      gap: 12px;\n",
              "    }\n",
              "\n",
              "    .colab-df-convert {\n",
              "      background-color: #E8F0FE;\n",
              "      border: none;\n",
              "      border-radius: 50%;\n",
              "      cursor: pointer;\n",
              "      display: none;\n",
              "      fill: #1967D2;\n",
              "      height: 32px;\n",
              "      padding: 0 0 0 0;\n",
              "      width: 32px;\n",
              "    }\n",
              "\n",
              "    .colab-df-convert:hover {\n",
              "      background-color: #E2EBFA;\n",
              "      box-shadow: 0px 1px 2px rgba(60, 64, 67, 0.3), 0px 1px 3px 1px rgba(60, 64, 67, 0.15);\n",
              "      fill: #174EA6;\n",
              "    }\n",
              "\n",
              "    [theme=dark] .colab-df-convert {\n",
              "      background-color: #3B4455;\n",
              "      fill: #D2E3FC;\n",
              "    }\n",
              "\n",
              "    [theme=dark] .colab-df-convert:hover {\n",
              "      background-color: #434B5C;\n",
              "      box-shadow: 0px 1px 3px 1px rgba(0, 0, 0, 0.15);\n",
              "      filter: drop-shadow(0px 1px 2px rgba(0, 0, 0, 0.3));\n",
              "      fill: #FFFFFF;\n",
              "    }\n",
              "  </style>\n",
              "\n",
              "      <script>\n",
              "        const buttonEl =\n",
              "          document.querySelector('#df-d14ee7cd-ca2a-4af6-a439-bd920b82fd0a button.colab-df-convert');\n",
              "        buttonEl.style.display =\n",
              "          google.colab.kernel.accessAllowed ? 'block' : 'none';\n",
              "\n",
              "        async function convertToInteractive(key) {\n",
              "          const element = document.querySelector('#df-d14ee7cd-ca2a-4af6-a439-bd920b82fd0a');\n",
              "          const dataTable =\n",
              "            await google.colab.kernel.invokeFunction('convertToInteractive',\n",
              "                                                     [key], {});\n",
              "          if (!dataTable) return;\n",
              "\n",
              "          const docLinkHtml = 'Like what you see? Visit the ' +\n",
              "            '<a target=\"_blank\" href=https://colab.research.google.com/notebooks/data_table.ipynb>data table notebook</a>'\n",
              "            + ' to learn more about interactive tables.';\n",
              "          element.innerHTML = '';\n",
              "          dataTable['output_type'] = 'display_data';\n",
              "          await google.colab.output.renderOutput(dataTable, element);\n",
              "          const docLink = document.createElement('div');\n",
              "          docLink.innerHTML = docLinkHtml;\n",
              "          element.appendChild(docLink);\n",
              "        }\n",
              "      </script>\n",
              "    </div>\n",
              "  </div>\n",
              "  "
            ]
          },
          "metadata": {},
          "execution_count": 75
        }
      ]
    },
    {
      "cell_type": "code",
      "source": [
        "# Collect names for all feature columns and remove target column\n",
        "columns = numeric_dummies.columns.tolist()\n",
        "columns.remove('price')\n",
        "columns"
      ],
      "metadata": {
        "colab": {
          "base_uri": "https://localhost:8080/"
        },
        "id": "-jqXLMxQuV1S",
        "outputId": "f6850fd6-35f4-4224-cb8f-7061caa0ddf0"
      },
      "execution_count": 76,
      "outputs": [
        {
          "output_type": "execute_result",
          "data": {
            "text/plain": [
              "['odometer',\n",
              " 'car_age',\n",
              " 'manufacturer_acura',\n",
              " 'manufacturer_audi',\n",
              " 'manufacturer_bmw',\n",
              " 'manufacturer_cadillac',\n",
              " 'manufacturer_chevrolet',\n",
              " 'manufacturer_chrysler',\n",
              " 'manufacturer_dodge',\n",
              " 'manufacturer_ford',\n",
              " 'manufacturer_gmc',\n",
              " 'manufacturer_honda',\n",
              " 'manufacturer_hyundai',\n",
              " 'manufacturer_jeep',\n",
              " 'manufacturer_kia',\n",
              " 'manufacturer_lexus',\n",
              " 'manufacturer_mercedes-benz',\n",
              " 'manufacturer_nissan',\n",
              " 'manufacturer_others',\n",
              " 'manufacturer_subaru',\n",
              " 'manufacturer_toyota',\n",
              " 'manufacturer_volkswagen',\n",
              " 'model_1500',\n",
              " 'model_2500',\n",
              " 'model_3500',\n",
              " 'model_accord',\n",
              " 'model_altima',\n",
              " 'model_camaro',\n",
              " 'model_camry',\n",
              " 'model_charger',\n",
              " 'model_civic',\n",
              " 'model_corolla',\n",
              " 'model_corvette',\n",
              " 'model_cr-v',\n",
              " 'model_cruze',\n",
              " 'model_edge',\n",
              " 'model_elantra',\n",
              " 'model_equinox',\n",
              " 'model_escape',\n",
              " 'model_explorer',\n",
              " 'model_f-150',\n",
              " 'model_f-250',\n",
              " 'model_f-350',\n",
              " 'model_focus',\n",
              " 'model_forester',\n",
              " 'model_fusion',\n",
              " 'model_grand caravan',\n",
              " 'model_grand cherokee',\n",
              " 'model_impala',\n",
              " 'model_jetta',\n",
              " 'model_malibu',\n",
              " 'model_mustang',\n",
              " 'model_odyssey',\n",
              " 'model_others',\n",
              " 'model_outback',\n",
              " 'model_pilot',\n",
              " 'model_prius',\n",
              " 'model_ram 1500',\n",
              " 'model_ram 2500',\n",
              " 'model_ram 3500',\n",
              " 'model_rav4',\n",
              " 'model_rogue',\n",
              " 'model_sentra',\n",
              " 'model_sierra',\n",
              " 'model_silverado',\n",
              " 'model_sonata',\n",
              " 'model_soul',\n",
              " 'model_tacoma',\n",
              " 'model_tahoe',\n",
              " 'model_tundra',\n",
              " 'model_wrangler',\n",
              " 'condition_excellent',\n",
              " 'condition_fair',\n",
              " 'condition_good',\n",
              " 'condition_like new',\n",
              " 'condition_new',\n",
              " 'condition_salvage',\n",
              " 'condition_unknown',\n",
              " 'cylinders_10 cylinders',\n",
              " 'cylinders_12 cylinders',\n",
              " 'cylinders_3 cylinders',\n",
              " 'cylinders_4 cylinders',\n",
              " 'cylinders_5 cylinders',\n",
              " 'cylinders_6 cylinders',\n",
              " 'cylinders_8 cylinders',\n",
              " 'cylinders_other',\n",
              " 'cylinders_unknown',\n",
              " 'fuel_diesel',\n",
              " 'fuel_electric',\n",
              " 'fuel_gas',\n",
              " 'fuel_hybrid',\n",
              " 'fuel_other',\n",
              " 'fuel_unknown',\n",
              " 'transmission_automatic',\n",
              " 'transmission_manual',\n",
              " 'transmission_other',\n",
              " 'transmission_unknown',\n",
              " 'drive_4wd',\n",
              " 'drive_fwd',\n",
              " 'drive_rwd',\n",
              " 'drive_unknown',\n",
              " 'type_SUV',\n",
              " 'type_bus',\n",
              " 'type_convertible',\n",
              " 'type_coupe',\n",
              " 'type_hatchback',\n",
              " 'type_mini-van',\n",
              " 'type_offroad',\n",
              " 'type_other',\n",
              " 'type_pickup',\n",
              " 'type_sedan',\n",
              " 'type_truck',\n",
              " 'type_unknown',\n",
              " 'type_van',\n",
              " 'type_wagon',\n",
              " 'state_ak',\n",
              " 'state_al',\n",
              " 'state_ar',\n",
              " 'state_az',\n",
              " 'state_ca',\n",
              " 'state_co',\n",
              " 'state_ct',\n",
              " 'state_dc',\n",
              " 'state_de',\n",
              " 'state_fl',\n",
              " 'state_ga',\n",
              " 'state_hi',\n",
              " 'state_ia',\n",
              " 'state_id',\n",
              " 'state_il',\n",
              " 'state_in',\n",
              " 'state_ks',\n",
              " 'state_ky',\n",
              " 'state_la',\n",
              " 'state_ma',\n",
              " 'state_md',\n",
              " 'state_me',\n",
              " 'state_mi',\n",
              " 'state_mn',\n",
              " 'state_mo',\n",
              " 'state_ms',\n",
              " 'state_mt',\n",
              " 'state_nc',\n",
              " 'state_nd',\n",
              " 'state_ne',\n",
              " 'state_nh',\n",
              " 'state_nj',\n",
              " 'state_nm',\n",
              " 'state_nv',\n",
              " 'state_ny',\n",
              " 'state_oh',\n",
              " 'state_ok',\n",
              " 'state_or',\n",
              " 'state_others',\n",
              " 'state_pa',\n",
              " 'state_ri',\n",
              " 'state_sc',\n",
              " 'state_sd',\n",
              " 'state_tn',\n",
              " 'state_tx',\n",
              " 'state_ut',\n",
              " 'state_va',\n",
              " 'state_vt',\n",
              " 'state_wa',\n",
              " 'state_wi',\n",
              " 'state_wv',\n",
              " 'state_wy']"
            ]
          },
          "metadata": {},
          "execution_count": 76
        }
      ]
    },
    {
      "cell_type": "code",
      "source": [
        "# Create separate arrays for feature and target columns\n",
        "X = numeric_dummies[columns].values\n",
        "y = numeric_dummies['price'].values.reshape(-1,1)\n",
        "print(X.shape, y.shape)\n"
      ],
      "metadata": {
        "colab": {
          "base_uri": "https://localhost:8080/"
        },
        "id": "bGjefpxrteu3",
        "outputId": "21814eef-5dd9-4979-92fc-372dcb2a9e50"
      },
      "execution_count": 77,
      "outputs": [
        {
          "output_type": "stream",
          "name": "stdout",
          "text": [
            "(258627, 167) (258627, 1)\n"
          ]
        }
      ]
    },
    {
      "cell_type": "code",
      "source": [
        "# Split the data into training and testing\n",
        "from sklearn.model_selection import train_test_split\n",
        "\n",
        "X_train, X_test, y_train, y_test = train_test_split(X, y, random_state=42)"
      ],
      "metadata": {
        "id": "USX7siDbvLYf"
      },
      "execution_count": 78,
      "outputs": []
    },
    {
      "cell_type": "code",
      "source": [
        "from sklearn.preprocessing import StandardScaler\n",
        "\n",
        "# Create a StandardScater model and fit it to the training data\n",
        "\n",
        "X_scaler = StandardScaler().fit(X_train)"
      ],
      "metadata": {
        "id": "lN1TtJcYvYTY"
      },
      "execution_count": 79,
      "outputs": []
    },
    {
      "cell_type": "code",
      "source": [
        "# Transform the training and testing data using the X_scaler models\n",
        "X_train_scaled = X_scaler.transform(X_train)\n",
        "X_test_scaled = X_scaler.transform(X_test)"
      ],
      "metadata": {
        "id": "g1gFs2w7vZc6"
      },
      "execution_count": 80,
      "outputs": []
    },
    {
      "cell_type": "code",
      "source": [
        "# Define function to calculate and store model performance scores\n",
        "from sklearn.metrics import mean_squared_error, mean_absolute_error,  r2_score, mean_squared_log_error\n",
        "\n",
        "def result(y_test, predictions):\n",
        "    r=[]\n",
        "    r.append('%.4f' % r2_score(y_test,predictions))\n",
        "    r.append('%.4f' % (r2_score(y_test,predictions)*100))\n",
        "    r.append('%.2f' % mean_squared_error(y_test, predictions))\n",
        "    r.append('%.2f' % mean_absolute_error(y_test, predictions))\n",
        "    r.append('%.2f' % np.sqrt(mean_squared_error(y_test, predictions)))\n",
        "    \n",
        "    return (r)\n",
        "\n",
        "#dataframe that store the performance of each model\n",
        "score_data = pd.DataFrame(index=['R2 Score', 'Accuracy(%)', 'Mean Squared Error', 'Mean Absolute Error', 'Root MSE'])"
      ],
      "metadata": {
        "id": "S2exVG4lA0Eq"
      },
      "execution_count": 81,
      "outputs": []
    },
    {
      "cell_type": "code",
      "source": [
        "# Create a LinearRegression model and fit it to the scaled training data\n",
        "import warnings\n",
        "warnings.filterwarnings('ignore')\n",
        "\n",
        "from sklearn.linear_model import LinearRegression\n",
        "model = LinearRegression()\n",
        "model.fit(X_train_scaled, y_train)\n",
        "predictions = model.predict(X_test_scaled)\n"
      ],
      "metadata": {
        "id": "CN7NOoI-vdFu"
      },
      "execution_count": 82,
      "outputs": []
    },
    {
      "cell_type": "code",
      "source": [
        "# Calculating and recording model peformance\n",
        "score_linear = result(y_test, predictions)\n",
        "score_data['Linear Regression'] = score_linear\n",
        "print('R2_score: ', score_linear[0])\n",
        "print('Mean squared error: ', score_linear[2])\n",
        "print('Mean absolute error: ', score_linear[3])\n",
        "print('Root mean squared error: ', score_linear[4])"
      ],
      "metadata": {
        "colab": {
          "base_uri": "https://localhost:8080/"
        },
        "id": "EPFsa5hPoR8S",
        "outputId": "4ecd20eb-7822-454b-9043-3202d6dc115d"
      },
      "execution_count": 83,
      "outputs": [
        {
          "output_type": "stream",
          "name": "stdout",
          "text": [
            "R2_score:  0.7403\n",
            "Mean squared error:  34549047.32\n",
            "Mean absolute error:  4398.06\n",
            "Root mean squared error:  5877.84\n"
          ]
        }
      ]
    },
    {
      "cell_type": "code",
      "source": [
        " # LASSO model\n",
        "# Note: Use an alpha of .01 when creating the model\n",
        "from sklearn.linear_model import Lasso\n",
        "\n",
        "lasso = Lasso(alpha=.01).fit(X_train_scaled, y_train)\n",
        "\n",
        "predictions = lasso.predict(X_test_scaled)     "
      ],
      "metadata": {
        "id": "HF7gzwv6wsp8"
      },
      "execution_count": 84,
      "outputs": []
    },
    {
      "cell_type": "code",
      "source": [
        "# Calculating and recording model peformance\n",
        "score_lasso = result(y_test, predictions)\n",
        "score_data['Lasso Regression'] = score_lasso\n",
        "print('R2_score: ', score_lasso[0])\n",
        "print('Mean squared error: ', score_lasso[2])\n",
        "print('Mean absolute error: ', score_lasso[3])\n",
        "print('Root mean squared error: ', score_lasso[4])"
      ],
      "metadata": {
        "colab": {
          "base_uri": "https://localhost:8080/"
        },
        "id": "af33hOr7o50Y",
        "outputId": "77cd9e43-5449-47b4-e653-11bb508de752"
      },
      "execution_count": 85,
      "outputs": [
        {
          "output_type": "stream",
          "name": "stdout",
          "text": [
            "R2_score:  0.7404\n",
            "Mean squared error:  34544079.71\n",
            "Mean absolute error:  4397.41\n",
            "Root mean squared error:  5877.42\n"
          ]
        }
      ]
    },
    {
      "cell_type": "code",
      "source": [
        " # Ridge model\n",
        "# Note: Use an alpha of .01 when creating the model\n",
        "from sklearn.linear_model import Ridge\n",
        "\n",
        "ridge = Ridge(alpha=.01).fit(X_train_scaled, y_train)\n",
        "\n",
        "predictions = ridge.predict(X_test_scaled)"
      ],
      "metadata": {
        "id": "jE2Qil7RwzvQ"
      },
      "execution_count": 86,
      "outputs": []
    },
    {
      "cell_type": "code",
      "source": [
        "# Calculating and recording model peformance\n",
        "score_ridge = result(y_test, predictions)\n",
        "score_data['Ridge Regression'] = score_ridge\n",
        "print('R2_score: ', score_ridge[0])\n",
        "print('Mean squared error: ', score_ridge[2])\n",
        "print('Mean absolute error: ', score_ridge[3])\n",
        "print('Root mean squared error: ', score_ridge[4])"
      ],
      "metadata": {
        "colab": {
          "base_uri": "https://localhost:8080/"
        },
        "id": "M-XC_KuHphq-",
        "outputId": "7aba7523-ba9d-4871-9aa1-356cfc3aee7e"
      },
      "execution_count": 87,
      "outputs": [
        {
          "output_type": "stream",
          "name": "stdout",
          "text": [
            "R2_score:  0.7404\n",
            "Mean squared error:  34544089.32\n",
            "Mean absolute error:  4397.41\n",
            "Root mean squared error:  5877.42\n"
          ]
        }
      ]
    },
    {
      "cell_type": "code",
      "source": [
        " # ElasticNet model\n",
        "# Note: Use an alpha of .01 when creating the model\n",
        "from sklearn.linear_model import ElasticNet\n",
        "\n",
        "elasticnet = ElasticNet(alpha=.01).fit(X_train_scaled, y_train)\n",
        "\n",
        "predictions = elasticnet.predict(X_test_scaled)"
      ],
      "metadata": {
        "id": "sJQ0ZAGbw4zI"
      },
      "execution_count": 88,
      "outputs": []
    },
    {
      "cell_type": "code",
      "source": [
        "# Calculating and recording model peformance\n",
        "score_elasticnet = result(y_test, predictions)\n",
        "score_data['Elastic Net Regression'] = score_elasticnet\n",
        "print('R2_score: ', score_elasticnet[0])\n",
        "print('Mean squared error: ', score_elasticnet[2])\n",
        "print('Mean absolute error: ', score_elasticnet[3])\n",
        "print('Root mean squared error: ', score_elasticnet[4])"
      ],
      "metadata": {
        "colab": {
          "base_uri": "https://localhost:8080/"
        },
        "id": "cnPp1a53p9EV",
        "outputId": "d6727ddd-ef3f-40c1-d61a-478178b572f2"
      },
      "execution_count": 89,
      "outputs": [
        {
          "output_type": "stream",
          "name": "stdout",
          "text": [
            "R2_score:  0.7403\n",
            "Mean squared error:  34546477.28\n",
            "Mean absolute error:  4396.77\n",
            "Root mean squared error:  5877.63\n"
          ]
        }
      ]
    },
    {
      "cell_type": "code",
      "source": [
        "# Random Forest Model\n",
        "from sklearn.ensemble import RandomForestRegressor\n",
        "\n",
        "# Create a random forest regressor\n",
        "rf_model = RandomForestRegressor(n_estimators=150,random_state=0, min_samples_leaf=1, max_features=0.3, n_jobs=-1, oob_score=True)\n",
        "\n",
        "# Fitting the model\n",
        "rf_model = rf_model.fit(X_train_scaled, y_train)\n",
        "\n",
        "# Making predictions using the testing data\n",
        "predictions = rf_model.predict(X_test_scaled)"
      ],
      "metadata": {
        "id": "nEDiqhiPxHhS"
      },
      "execution_count": 90,
      "outputs": []
    },
    {
      "cell_type": "code",
      "source": [
        "# Calculating and recording model peformance\n",
        "score_rfr = result(y_test, predictions)\n",
        "score_data['Random Forest Regression'] = score_rfr\n",
        "print('R2 score: ', score_rfr[0])\n",
        "print('Mean squared error: ', score_rfr[2])\n",
        "print('Mean absolute error: ', score_rfr[3])\n",
        "print('Root mean squared error: ', score_rfr[4])"
      ],
      "metadata": {
        "colab": {
          "base_uri": "https://localhost:8080/"
        },
        "id": "IVB4tDwNifK4",
        "outputId": "8ef5c45f-52ec-41a6-e9e8-eb605ea140ec"
      },
      "execution_count": 91,
      "outputs": [
        {
          "output_type": "stream",
          "name": "stdout",
          "text": [
            "R2 score:  0.9288\n",
            "Mean squared error:  9475684.23\n",
            "Mean absolute error:  1611.74\n",
            "Root mean squared error:  3078.26\n"
          ]
        }
      ]
    },
    {
      "cell_type": "code",
      "source": [
        "# Decision Tree Model\n",
        "from sklearn import tree\n",
        "from sklearn.tree import DecisionTreeRegressor\n",
        "\n",
        "# Create the decision tree regressor instance\n",
        "model = tree.DecisionTreeRegressor()\n",
        "\n",
        "# Fit the model\n",
        "model = model.fit(X_train_scaled, y_train)\n",
        "\n",
        "# Making predictions using the testing data\n",
        "predictions = model.predict(X_test_scaled)"
      ],
      "metadata": {
        "id": "l0LyyKl_jzlG"
      },
      "execution_count": 92,
      "outputs": []
    },
    {
      "cell_type": "code",
      "source": [
        "# Calculating and recording model peformance\n",
        "score_decision = result(y_test, predictions)\n",
        "score_data['Decision Tree Regression'] = score_decision\n",
        "print('R2 score: ', score_decision[0])\n",
        "print('Mean squared error: ', score_decision[2])\n",
        "print('Mean absolute error: ', score_decision[3])\n",
        "print('Root mean squared error: ', score_decision[4])"
      ],
      "metadata": {
        "colab": {
          "base_uri": "https://localhost:8080/"
        },
        "id": "NF87GO40lIjj",
        "outputId": "c8a8e611-6e61-43a1-c00e-c61eaec23c4b"
      },
      "execution_count": 93,
      "outputs": [
        {
          "output_type": "stream",
          "name": "stdout",
          "text": [
            "R2 score:  0.8666\n",
            "Mean squared error:  17747292.34\n",
            "Mean absolute error:  1896.94\n",
            "Root mean squared error:  4212.75\n"
          ]
        }
      ]
    },
    {
      "cell_type": "code",
      "source": [
        "# Display performance scores for each model\n",
        "score_data"
      ],
      "metadata": {
        "colab": {
          "base_uri": "https://localhost:8080/",
          "height": 250
        },
        "id": "o4WCZatcqkrS",
        "outputId": "6caa358c-64f1-4318-8a6d-128d4f319a36"
      },
      "execution_count": 94,
      "outputs": [
        {
          "output_type": "execute_result",
          "data": {
            "text/plain": [
              "                    Linear Regression Lasso Regression Ridge Regression  \\\n",
              "R2 Score                       0.7403           0.7404           0.7404   \n",
              "Accuracy(%)                   74.0320          74.0357          74.0357   \n",
              "Mean Squared Error        34549047.32      34544079.71      34544089.32   \n",
              "Mean Absolute Error           4398.06          4397.41          4397.41   \n",
              "Root MSE                      5877.84          5877.42          5877.42   \n",
              "\n",
              "                    Elastic Net Regression Random Forest Regression  \\\n",
              "R2 Score                            0.7403                   0.9288   \n",
              "Accuracy(%)                        74.0339                  92.8778   \n",
              "Mean Squared Error             34546477.28               9475684.23   \n",
              "Mean Absolute Error                4396.77                  1611.74   \n",
              "Root MSE                           5877.63                  3078.26   \n",
              "\n",
              "                    Decision Tree Regression  \n",
              "R2 Score                              0.8666  \n",
              "Accuracy(%)                          86.6606  \n",
              "Mean Squared Error               17747292.34  \n",
              "Mean Absolute Error                  1896.94  \n",
              "Root MSE                             4212.75  "
            ],
            "text/html": [
              "\n",
              "  <div id=\"df-5f2cf30c-1fc4-4e96-b1a6-9af49395c016\">\n",
              "    <div class=\"colab-df-container\">\n",
              "      <div>\n",
              "<style scoped>\n",
              "    .dataframe tbody tr th:only-of-type {\n",
              "        vertical-align: middle;\n",
              "    }\n",
              "\n",
              "    .dataframe tbody tr th {\n",
              "        vertical-align: top;\n",
              "    }\n",
              "\n",
              "    .dataframe thead th {\n",
              "        text-align: right;\n",
              "    }\n",
              "</style>\n",
              "<table border=\"1\" class=\"dataframe\">\n",
              "  <thead>\n",
              "    <tr style=\"text-align: right;\">\n",
              "      <th></th>\n",
              "      <th>Linear Regression</th>\n",
              "      <th>Lasso Regression</th>\n",
              "      <th>Ridge Regression</th>\n",
              "      <th>Elastic Net Regression</th>\n",
              "      <th>Random Forest Regression</th>\n",
              "      <th>Decision Tree Regression</th>\n",
              "    </tr>\n",
              "  </thead>\n",
              "  <tbody>\n",
              "    <tr>\n",
              "      <th>R2 Score</th>\n",
              "      <td>0.7403</td>\n",
              "      <td>0.7404</td>\n",
              "      <td>0.7404</td>\n",
              "      <td>0.7403</td>\n",
              "      <td>0.9288</td>\n",
              "      <td>0.8666</td>\n",
              "    </tr>\n",
              "    <tr>\n",
              "      <th>Accuracy(%)</th>\n",
              "      <td>74.0320</td>\n",
              "      <td>74.0357</td>\n",
              "      <td>74.0357</td>\n",
              "      <td>74.0339</td>\n",
              "      <td>92.8778</td>\n",
              "      <td>86.6606</td>\n",
              "    </tr>\n",
              "    <tr>\n",
              "      <th>Mean Squared Error</th>\n",
              "      <td>34549047.32</td>\n",
              "      <td>34544079.71</td>\n",
              "      <td>34544089.32</td>\n",
              "      <td>34546477.28</td>\n",
              "      <td>9475684.23</td>\n",
              "      <td>17747292.34</td>\n",
              "    </tr>\n",
              "    <tr>\n",
              "      <th>Mean Absolute Error</th>\n",
              "      <td>4398.06</td>\n",
              "      <td>4397.41</td>\n",
              "      <td>4397.41</td>\n",
              "      <td>4396.77</td>\n",
              "      <td>1611.74</td>\n",
              "      <td>1896.94</td>\n",
              "    </tr>\n",
              "    <tr>\n",
              "      <th>Root MSE</th>\n",
              "      <td>5877.84</td>\n",
              "      <td>5877.42</td>\n",
              "      <td>5877.42</td>\n",
              "      <td>5877.63</td>\n",
              "      <td>3078.26</td>\n",
              "      <td>4212.75</td>\n",
              "    </tr>\n",
              "  </tbody>\n",
              "</table>\n",
              "</div>\n",
              "      <button class=\"colab-df-convert\" onclick=\"convertToInteractive('df-5f2cf30c-1fc4-4e96-b1a6-9af49395c016')\"\n",
              "              title=\"Convert this dataframe to an interactive table.\"\n",
              "              style=\"display:none;\">\n",
              "        \n",
              "  <svg xmlns=\"http://www.w3.org/2000/svg\" height=\"24px\"viewBox=\"0 0 24 24\"\n",
              "       width=\"24px\">\n",
              "    <path d=\"M0 0h24v24H0V0z\" fill=\"none\"/>\n",
              "    <path d=\"M18.56 5.44l.94 2.06.94-2.06 2.06-.94-2.06-.94-.94-2.06-.94 2.06-2.06.94zm-11 1L8.5 8.5l.94-2.06 2.06-.94-2.06-.94L8.5 2.5l-.94 2.06-2.06.94zm10 10l.94 2.06.94-2.06 2.06-.94-2.06-.94-.94-2.06-.94 2.06-2.06.94z\"/><path d=\"M17.41 7.96l-1.37-1.37c-.4-.4-.92-.59-1.43-.59-.52 0-1.04.2-1.43.59L10.3 9.45l-7.72 7.72c-.78.78-.78 2.05 0 2.83L4 21.41c.39.39.9.59 1.41.59.51 0 1.02-.2 1.41-.59l7.78-7.78 2.81-2.81c.8-.78.8-2.07 0-2.86zM5.41 20L4 18.59l7.72-7.72 1.47 1.35L5.41 20z\"/>\n",
              "  </svg>\n",
              "      </button>\n",
              "      \n",
              "  <style>\n",
              "    .colab-df-container {\n",
              "      display:flex;\n",
              "      flex-wrap:wrap;\n",
              "      gap: 12px;\n",
              "    }\n",
              "\n",
              "    .colab-df-convert {\n",
              "      background-color: #E8F0FE;\n",
              "      border: none;\n",
              "      border-radius: 50%;\n",
              "      cursor: pointer;\n",
              "      display: none;\n",
              "      fill: #1967D2;\n",
              "      height: 32px;\n",
              "      padding: 0 0 0 0;\n",
              "      width: 32px;\n",
              "    }\n",
              "\n",
              "    .colab-df-convert:hover {\n",
              "      background-color: #E2EBFA;\n",
              "      box-shadow: 0px 1px 2px rgba(60, 64, 67, 0.3), 0px 1px 3px 1px rgba(60, 64, 67, 0.15);\n",
              "      fill: #174EA6;\n",
              "    }\n",
              "\n",
              "    [theme=dark] .colab-df-convert {\n",
              "      background-color: #3B4455;\n",
              "      fill: #D2E3FC;\n",
              "    }\n",
              "\n",
              "    [theme=dark] .colab-df-convert:hover {\n",
              "      background-color: #434B5C;\n",
              "      box-shadow: 0px 1px 3px 1px rgba(0, 0, 0, 0.15);\n",
              "      filter: drop-shadow(0px 1px 2px rgba(0, 0, 0, 0.3));\n",
              "      fill: #FFFFFF;\n",
              "    }\n",
              "  </style>\n",
              "\n",
              "      <script>\n",
              "        const buttonEl =\n",
              "          document.querySelector('#df-5f2cf30c-1fc4-4e96-b1a6-9af49395c016 button.colab-df-convert');\n",
              "        buttonEl.style.display =\n",
              "          google.colab.kernel.accessAllowed ? 'block' : 'none';\n",
              "\n",
              "        async function convertToInteractive(key) {\n",
              "          const element = document.querySelector('#df-5f2cf30c-1fc4-4e96-b1a6-9af49395c016');\n",
              "          const dataTable =\n",
              "            await google.colab.kernel.invokeFunction('convertToInteractive',\n",
              "                                                     [key], {});\n",
              "          if (!dataTable) return;\n",
              "\n",
              "          const docLinkHtml = 'Like what you see? Visit the ' +\n",
              "            '<a target=\"_blank\" href=https://colab.research.google.com/notebooks/data_table.ipynb>data table notebook</a>'\n",
              "            + ' to learn more about interactive tables.';\n",
              "          element.innerHTML = '';\n",
              "          dataTable['output_type'] = 'display_data';\n",
              "          await google.colab.output.renderOutput(dataTable, element);\n",
              "          const docLink = document.createElement('div');\n",
              "          docLink.innerHTML = docLinkHtml;\n",
              "          element.appendChild(docLink);\n",
              "        }\n",
              "      </script>\n",
              "    </div>\n",
              "  </div>\n",
              "  "
            ]
          },
          "metadata": {},
          "execution_count": 94
        }
      ]
    },
    {
      "cell_type": "code",
      "source": [
        "# Export model score data to CSV\n",
        "score_data.to_csv('Model_peformance.csv')"
      ],
      "metadata": {
        "id": "6NeAxy_2ELFC"
      },
      "execution_count": 95,
      "outputs": []
    },
    {
      "cell_type": "markdown",
      "source": [
        "Random Forest Regression is the best performing model. Changing parameters to see if accuracy can be improved"
      ],
      "metadata": {
        "id": "Qhy9_7Z2cyXo"
      }
    },
    {
      "cell_type": "markdown",
      "source": [
        "#Optimising the model"
      ],
      "metadata": {
        "id": "tYYgmpDDchLu"
      }
    },
    {
      "cell_type": "code",
      "source": [
        "# Random Forest Model Optimisation - Increasing number of estimators\n",
        "from sklearn.ensemble import RandomForestRegressor\n",
        "\n",
        "# Create a random forest regressor\n",
        "rf_model = RandomForestRegressor(n_estimators=300 ,random_state=0, min_samples_leaf=1, max_features=0.3, n_jobs=-1, oob_score=True)\n",
        "\n",
        "# Fitting the model\n",
        "rf_model = rf_model.fit(X_train_scaled, y_train)\n",
        "\n",
        "# Making predictions using the testing data\n",
        "predictions = rf_model.predict(X_test_scaled)"
      ],
      "metadata": {
        "id": "Y2P7_6yGHHNV"
      },
      "execution_count": 98,
      "outputs": []
    },
    {
      "cell_type": "code",
      "source": [
        "# Calculate and displat model peformance\n",
        "print('R2 score: ', '%.4f' % r2_score(y_test,predictions))\n",
        "print('Mean squared error: ', '%.2f' % mean_squared_error(y_test, predictions))\n",
        "print('Mean absolute error: ', '%.2f' % mean_absolute_error(y_test, predictions))\n",
        "print('Root mean squared error: ', '%.2f' % np.sqrt(mean_squared_error(y_test, predictions)))"
      ],
      "metadata": {
        "colab": {
          "base_uri": "https://localhost:8080/"
        },
        "id": "muqX-41cbEsE",
        "outputId": "ee946a0e-e73f-4b9a-914e-5af9d73cdc6a"
      },
      "execution_count": 99,
      "outputs": [
        {
          "output_type": "stream",
          "name": "stdout",
          "text": [
            "R2 score:  0.9290\n",
            "Mean squared error:  9442190.55\n",
            "Mean absolute error:  1607.26\n",
            "Root mean squared error:  3072.81\n"
          ]
        }
      ]
    },
    {
      "cell_type": "code",
      "source": [
        "# Random Forest Model Optimisation - Setting max features to automatic\n",
        "from sklearn.ensemble import RandomForestRegressor\n",
        "\n",
        "# Create a random forest regressor\n",
        "rf_model = RandomForestRegressor(n_estimators=150 ,random_state=0, min_samples_leaf=1, max_features='auto', n_jobs=-1, oob_score=True)\n",
        "\n",
        "# Fitting the model\n",
        "rf_model = rf_model.fit(X_train_scaled, y_train)\n",
        "\n",
        "# Making predictions using the testing data\n",
        "predictions = rf_model.predict(X_test_scaled)\n",
        "\n",
        "# Calculate and displat model peformance\n",
        "print('R2 score: ', '%.4f' % r2_score(y_test,predictions))\n",
        "print('Mean squared error: ', '%.2f' % mean_squared_error(y_test, predictions))\n",
        "print('Mean absolute error: ', '%.2f' % mean_absolute_error(y_test, predictions))\n",
        "print('Root mean squared error: ', '%.2f' % np.sqrt(mean_squared_error(y_test, predictions)))"
      ],
      "metadata": {
        "colab": {
          "base_uri": "https://localhost:8080/"
        },
        "id": "Aa_upal5xo9b",
        "outputId": "2c6ebc73-fdad-4b4d-e4b4-c19d274b725c"
      },
      "execution_count": 100,
      "outputs": [
        {
          "output_type": "stream",
          "name": "stdout",
          "text": [
            "R2 score:  0.9231\n",
            "Mean squared error:  10232632.90\n",
            "Mean absolute error:  1646.27\n",
            "Root mean squared error:  3198.85\n"
          ]
        }
      ]
    },
    {
      "cell_type": "code",
      "source": [
        "# Random Forest Model Optimisation - Setting max features to square root of number of features\n",
        "from sklearn.ensemble import RandomForestRegressor\n",
        "\n",
        "# Create a random forest regressor\n",
        "rf_model = RandomForestRegressor(n_estimators=150 ,random_state=0, min_samples_leaf=1, max_features='sqrt', n_jobs=-1, oob_score=True)\n",
        "\n",
        "# Fitting the model\n",
        "rf_model = rf_model.fit(X_train_scaled, y_train)\n",
        "\n",
        "# Making predictions using the testing data\n",
        "predictions = rf_model.predict(X_test_scaled)\n",
        "\n",
        "# Calculate and displat model peformance\n",
        "print('R2 score: ', '%.4f' % r2_score(y_test,predictions))\n",
        "print('Mean squared error: ', '%.2f' % mean_squared_error(y_test, predictions))\n",
        "print('Mean absolute error: ', '%.2f' % mean_absolute_error(y_test, predictions))\n",
        "print('Root mean squared error: ', '%.2f' % np.sqrt(mean_squared_error(y_test, predictions)))"
      ],
      "metadata": {
        "colab": {
          "base_uri": "https://localhost:8080/"
        },
        "outputId": "161a2faa-d88d-4108-9bc0-9338634b8db3",
        "id": "BsU4BtUE3ett"
      },
      "execution_count": 101,
      "outputs": [
        {
          "output_type": "stream",
          "name": "stdout",
          "text": [
            "R2 score:  0.9253\n",
            "Mean squared error:  9934296.46\n",
            "Mean absolute error:  1758.89\n",
            "Root mean squared error:  3151.87\n"
          ]
        }
      ]
    },
    {
      "cell_type": "code",
      "source": [
        "# Random Forest Model Optimisation - Setting max features to the logarithim in base 2 of the number of features\n",
        "from sklearn.ensemble import RandomForestRegressor\n",
        "\n",
        "# Create a random forest regressor\n",
        "rf_model = RandomForestRegressor(n_estimators=150 ,random_state=0, min_samples_leaf=1, max_features='log2', n_jobs=-1, oob_score=True)\n",
        "\n",
        "# Fitting the model\n",
        "rf_model = rf_model.fit(X_train_scaled, y_train)\n",
        "\n",
        "# Making predictions using the testing data\n",
        "predictions = rf_model.predict(X_test_scaled)\n",
        "\n",
        "# Calculate and displat model peformance\n",
        "print('R2 score: ', '%.4f' % r2_score(y_test,predictions))\n",
        "print('Mean squared error: ', '%.2f' % mean_squared_error(y_test, predictions))\n",
        "print('Mean absolute error: ', '%.2f' % mean_absolute_error(y_test, predictions))\n",
        "print('Root mean squared error: ', '%.2f' % np.sqrt(mean_squared_error(y_test, predictions)))"
      ],
      "metadata": {
        "colab": {
          "base_uri": "https://localhost:8080/"
        },
        "outputId": "df4be0ec-34ad-4ec2-9bcf-849e9cd93687",
        "id": "f_NvWmyg34JU"
      },
      "execution_count": 102,
      "outputs": [
        {
          "output_type": "stream",
          "name": "stdout",
          "text": [
            "R2 score:  0.9199\n",
            "Mean squared error:  10658089.58\n",
            "Mean absolute error:  1870.23\n",
            "Root mean squared error:  3264.67\n"
          ]
        }
      ]
    },
    {
      "cell_type": "markdown",
      "source": [
        "The best peforming Random Tree Regressor parameters:\\\n",
        "n_estimators=300\\\n",
        "random_state=0\\\n",
        "min_samples_leaf=1\\\n",
        "max_features=0.3\\\n",
        "n_jobs=-1\\\n",
        "oob_score=True"
      ],
      "metadata": {
        "id": "8q24KuBj_Mc1"
      }
    },
    {
      "cell_type": "markdown",
      "source": [
        "#Displaying the most important features"
      ],
      "metadata": {
        "id": "66ruVamXA-DJ"
      }
    },
    {
      "cell_type": "code",
      "source": [
        "# Random Forest Model\n",
        "from sklearn.ensemble import RandomForestRegressor\n",
        "\n",
        "# Create a random forest regressor\n",
        "rf_model = RandomForestRegressor(n_estimators=300,random_state=0, min_samples_leaf=1, max_features=0.3, n_jobs=-1, oob_score=True)\n",
        "\n",
        "# Fitting the model\n",
        "rf_model = rf_model.fit(X_train_scaled, y_train)\n",
        "\n",
        "# Making predictions using the testing data\n",
        "predictions = rf_model.predict(X_test_scaled)\n",
        "\n",
        "print('R2 score: ', '%.4f' % r2_score(y_test,predictions))\n",
        "print('Mean squared error: ', '%.2f' % mean_squared_error(y_test, predictions))\n",
        "print('Mean absolute error: ', '%.2f' % mean_absolute_error(y_test, predictions))\n",
        "print('Root mean squared error: ', '%.2f' % np.sqrt(mean_squared_error(y_test, predictions)))"
      ],
      "metadata": {
        "colab": {
          "base_uri": "https://localhost:8080/"
        },
        "id": "Bx3k3S9xAcsU",
        "outputId": "1dc89182-975e-4eaf-a481-0a7a8e79a2c7"
      },
      "execution_count": 133,
      "outputs": [
        {
          "output_type": "stream",
          "name": "stdout",
          "text": [
            "R2 score:  0.9290\n",
            "Mean squared error:  9442190.55\n",
            "Mean absolute error:  1607.26\n",
            "Root mean squared error:  3072.81\n"
          ]
        }
      ]
    },
    {
      "cell_type": "code",
      "source": [
        "# Extract feature importances from model sort by descending importance and select the top 15\n",
        "importances = rf_model.feature_importances_\n",
        "\n",
        "feature_names = columns\n",
        "feature_importances = pd.Series(importances, index=feature_names)\n",
        "\n",
        "sorted_importances = feature_importances.sort_values(ascending=False)\n",
        "\n",
        "sorted_importances_top15 = sorted_importances[:15]"
      ],
      "metadata": {
        "id": "lX2YiUzLAeQo"
      },
      "execution_count": 136,
      "outputs": []
    },
    {
      "cell_type": "code",
      "source": [
        "# Plot the top 15 most important features\n",
        "import matplotlib.pyplot as plt\n",
        "\n",
        "plt.figure(figsize=(10, 6))\n",
        "sorted_importances_top10.plot(kind='bar')\n",
        "plt.xlabel('Features')\n",
        "plt.ylabel('Importance')\n",
        "plt.title('Feature Importances')\n",
        "plt.show()"
      ],
      "metadata": {
        "colab": {
          "base_uri": "https://localhost:8080/",
          "height": 607
        },
        "id": "vVW-ZwhqAwQq",
        "outputId": "d6a764ca-2996-4561-def8-44781ddf1786"
      },
      "execution_count": 137,
      "outputs": [
        {
          "output_type": "display_data",
          "data": {
            "text/plain": [
              "<Figure size 1000x600 with 1 Axes>"
            ],
            "image/png": "[encoded data removed]"
          },
          "metadata": {}
        }
      ]
    },
    {
      "cell_type": "markdown",
      "source": [
        "# Statistical tests for 5 of the most important features:\n",
        "Car Age\\\n",
        "Odometer\\\n",
        "Drive\\\n",
        "Number of Cylinders\\\n",
        "Fuel"
      ],
      "metadata": {
        "id": "Md-9ujZfBduh"
      }
    },
    {
      "cell_type": "code",
      "source": [
        "# Read training data csv into dataframe for statistical tests\n",
        "stat_test_df = pd.read_csv('/content/training_df.csv' )"
      ],
      "metadata": {
        "id": "-B6WHpHj81NG"
      },
      "execution_count": 139,
      "outputs": []
    },
    {
      "cell_type": "code",
      "source": [
        "# Correlation for car age and price including R-squared and P-Value\n",
        "from scipy.stats import linregress\n",
        "\n",
        "x_values = stat_test_df['car_age']\n",
        "y_values = stat_test_df['price']\n",
        "(slope, intercept, rvalue, pvalue, stderr) = linregress(x_values, y_values)\n",
        "regress_values = x_values * slope + intercept\n",
        "line_eq = \"y = \" + str(round(slope,2)) + \"x + \" + str(round(intercept,2))\n",
        "\n",
        "print(f\"The r-value is: {rvalue}\")\n",
        "print(f\"The r-squared is: {rvalue**2}\")\n",
        "print(f\"The p-value is: {pvalue}\")"
      ],
      "metadata": {
        "colab": {
          "base_uri": "https://localhost:8080/"
        },
        "id": "X_gjFXNTaSrM",
        "outputId": "4f1a86f2-0cdf-47ad-a5b7-63e72408fbe2"
      },
      "execution_count": 146,
      "outputs": [
        {
          "output_type": "stream",
          "name": "stdout",
          "text": [
            "The r-value is: -0.6040623809163396\n",
            "The r-squared is: 0.3648913600383169\n",
            "The p-value is: 0.0\n"
          ]
        }
      ]
    },
    {
      "cell_type": "code",
      "source": [
        "# Correlation for odometer and price including R-squared and P-Value\n",
        "from scipy.stats import linregress\n",
        "\n",
        "x_values = stat_test_df['odometer']\n",
        "y_values = stat_test_df['price']\n",
        "(slope, intercept, rvalue, pvalue, stderr) = linregress(x_values, y_values)\n",
        "regress_values = x_values * slope + intercept\n",
        "line_eq = \"y = \" + str(round(slope,2)) + \"x + \" + str(round(intercept,2))\n",
        "\n",
        "print(f\"The r-value is: {rvalue}\")\n",
        "print(f\"The r-squared is: {rvalue**2}\")\n",
        "print(f\"The p-value is: {pvalue}\")"
      ],
      "metadata": {
        "colab": {
          "base_uri": "https://localhost:8080/"
        },
        "id": "N3oFJMubE74V",
        "outputId": "7b6a0aa2-9fab-4a41-d1d3-90926b871882"
      },
      "execution_count": 147,
      "outputs": [
        {
          "output_type": "stream",
          "name": "stdout",
          "text": [
            "The r-value is: -0.5816809266015465\n",
            "The r-squared is: 0.3383527003720337\n",
            "The p-value is: 0.0\n"
          ]
        }
      ]
    },
    {
      "cell_type": "code",
      "source": [
        "# Display unique values for drive category\n",
        "stat_test_df['drive'].unique()"
      ],
      "metadata": {
        "colab": {
          "base_uri": "https://localhost:8080/"
        },
        "id": "4tQ-jzWD89O0",
        "outputId": "a28fb6d8-8a5a-40a9-cb17-28f9106e2156"
      },
      "execution_count": 104,
      "outputs": [
        {
          "output_type": "execute_result",
          "data": {
            "text/plain": [
              "array(['unknown', 'rwd', '4wd', 'fwd'], dtype=object)"
            ]
          },
          "metadata": {},
          "execution_count": 104
        }
      ]
    },
    {
      "cell_type": "code",
      "source": [
        "# Separate data into groups by different types of drive\n",
        "drive_population = stat_test_df['price']\n",
        "group_unknown_drive = stat_test_df[stat_test_df['drive'] == 'unknown']['price']\n",
        "group_rwd_drive = stat_test_df[stat_test_df['drive'] == 'rwd']['price']\n",
        "group_4wd_drive = stat_test_df[stat_test_df['drive'] == '4wd']['price']\n",
        "group_fwd_drive = stat_test_df[stat_test_df['drive'] == 'fwd']['price']"
      ],
      "metadata": {
        "id": "88XBaah099ir"
      },
      "execution_count": 105,
      "outputs": []
    },
    {
      "cell_type": "code",
      "source": [
        "# Anova Tests between different types of drive to see if there is any statisticaly siginificant difference in price among them\n",
        "import scipy.stats as stats\n",
        "\n",
        "stats.f_oneway(group_unknown_drive, group_rwd_drive, group_4wd_drive, group_fwd_drive)"
      ],
      "metadata": {
        "colab": {
          "base_uri": "https://localhost:8080/"
        },
        "id": "Ku7Lmq3-DEaR",
        "outputId": "c1f283aa-761a-4b05-b63f-9fd64e1f7494"
      },
      "execution_count": 106,
      "outputs": [
        {
          "output_type": "execute_result",
          "data": {
            "text/plain": [
              "F_onewayResult(statistic=8154.609146953132, pvalue=0.0)"
            ]
          },
          "metadata": {},
          "execution_count": 106
        }
      ]
    },
    {
      "cell_type": "markdown",
      "source": [
        "P-Value is less than 0.05, the average price of at least 1 of the groups differs from that of another with statistical significance"
      ],
      "metadata": {
        "id": "2Fk-EVPYFvSC"
      }
    },
    {
      "cell_type": "code",
      "source": [
        "# One sample T-test between unknown drive type price and population price to see if there is a statisticaly siginificant difference\n",
        "stats.ttest_1samp(group_unknown_drive, drive_population.mean())"
      ],
      "metadata": {
        "colab": {
          "base_uri": "https://localhost:8080/"
        },
        "id": "RBhLCeL4D-R1",
        "outputId": "2b14860d-8fd8-44dc-d700-8a7978fad653"
      },
      "execution_count": 107,
      "outputs": [
        {
          "output_type": "execute_result",
          "data": {
            "text/plain": [
              "TtestResult(statistic=19.205586048423193, pvalue=5.0782022916924896e-82, df=80422)"
            ]
          },
          "metadata": {},
          "execution_count": 107
        }
      ]
    },
    {
      "cell_type": "markdown",
      "source": [
        "P-Value is less than 0.05, the average price of cars with no drive type mentioned differs from that of all the cars taken as a whole"
      ],
      "metadata": {
        "id": "VI5drQ2oF6dz"
      }
    },
    {
      "cell_type": "code",
      "source": [
        "# One sample T-test between rear wheel drive type price and population price to see if there is a statisticaly siginificant difference\n",
        "stats.ttest_1samp(group_rwd_drive, drive_population.mean())"
      ],
      "metadata": {
        "colab": {
          "base_uri": "https://localhost:8080/"
        },
        "id": "1isEDb7sEMQJ",
        "outputId": "96617837-baab-4aef-f327-331660ee2a20"
      },
      "execution_count": 108,
      "outputs": [
        {
          "output_type": "execute_result",
          "data": {
            "text/plain": [
              "TtestResult(statistic=36.66930571468746, pvalue=1.6164107024406855e-288, df=32681)"
            ]
          },
          "metadata": {},
          "execution_count": 108
        }
      ]
    },
    {
      "cell_type": "markdown",
      "source": [
        "P-Value is less than 0.05, the average price of cars with rear wheel drive differs from that of all the cars taken as a whole"
      ],
      "metadata": {
        "id": "koig3x7SGsn4"
      }
    },
    {
      "cell_type": "code",
      "source": [
        "# One sample T-test between four wheel drive type price and population price to see if there is a statisticaly siginificant difference\n",
        "stats.ttest_1samp(group_4wd_drive, drive_population.mean())"
      ],
      "metadata": {
        "colab": {
          "base_uri": "https://localhost:8080/"
        },
        "id": "Y97btbkFFHZA",
        "outputId": "c4fa8ecf-4a0a-4dcb-c8b1-69f0a277a3eb"
      },
      "execution_count": 109,
      "outputs": [
        {
          "output_type": "execute_result",
          "data": {
            "text/plain": [
              "TtestResult(statistic=67.52589764670944, pvalue=0.0, df=77163)"
            ]
          },
          "metadata": {},
          "execution_count": 109
        }
      ]
    },
    {
      "cell_type": "markdown",
      "source": [
        "P-Value is less than 0.05, the average price of cars with four wheel drive differs from that of all the cars taken as a whole"
      ],
      "metadata": {
        "id": "VrEcssVpHARZ"
      }
    },
    {
      "cell_type": "code",
      "source": [
        "# One sample T-test between front wheel drive type price and population price to see if there is a statisticaly siginificant difference\n",
        "stats.ttest_1samp(group_fwd_drive, drive_population.mean())"
      ],
      "metadata": {
        "colab": {
          "base_uri": "https://localhost:8080/"
        },
        "id": "wH8w5YpoFYdG",
        "outputId": "93e7e860-8b6c-425f-ccd1-191b83211aa1"
      },
      "execution_count": 110,
      "outputs": [
        {
          "output_type": "execute_result",
          "data": {
            "text/plain": [
              "TtestResult(statistic=-186.99902446861032, pvalue=0.0, df=68357)"
            ]
          },
          "metadata": {},
          "execution_count": 110
        }
      ]
    },
    {
      "cell_type": "markdown",
      "source": [
        "P-Value is less than 0.05, the average price of cars with front wheel drive differs from that of all the cars taken as a whole"
      ],
      "metadata": {
        "id": "406FZTwnHECj"
      }
    },
    {
      "cell_type": "code",
      "source": [
        "# Display unique values for cylinders category\n",
        "t_test_df['cylinders'].unique()"
      ],
      "metadata": {
        "colab": {
          "base_uri": "https://localhost:8080/"
        },
        "id": "Eie_GhEG9V6Y",
        "outputId": "db29ddf1-ca5f-4d80-d87c-045cbde35ac6"
      },
      "execution_count": 111,
      "outputs": [
        {
          "output_type": "execute_result",
          "data": {
            "text/plain": [
              "array(['8 cylinders', '6 cylinders', 'unknown', '4 cylinders',\n",
              "       '5 cylinders', '10 cylinders', 'other', '3 cylinders',\n",
              "       '12 cylinders'], dtype=object)"
            ]
          },
          "metadata": {},
          "execution_count": 111
        }
      ]
    },
    {
      "cell_type": "code",
      "source": [
        "# Separate data into groups by number of engine cylinders\n",
        "cylinder_population = stat_test_df['price']\n",
        "group_unknown_cylinders = stat_test_df[stat_test_df['cylinders'] == 'unknown']['price']\n",
        "group_other_cylinders = stat_test_df[stat_test_df['cylinders'] == 'other']['price']\n",
        "group_3_cylinders = stat_test_df[stat_test_df['cylinders'] == '3 cylinders']['price']\n",
        "group_4_cylinders = stat_test_df[stat_test_df['cylinders'] == '4 cylinders']['price']\n",
        "group_5_cylinders = stat_test_df[stat_test_df['cylinders'] == '5 cylinders']['price']\n",
        "group_6_cylinders = stat_test_df[stat_test_df['cylinders'] == '6 cylinders']['price']\n",
        "group_8_cylinders = stat_test_df[stat_test_df['cylinders'] == '8 cylinders']['price']\n",
        "group_10_cylinders = stat_test_df[stat_test_df['cylinders'] == '10 cylinders']['price']\n",
        "group_12_cylinders = stat_test_df[stat_test_df['cylinders'] == '12 cylinders']['price']"
      ],
      "metadata": {
        "id": "72sc5U0rHJDD"
      },
      "execution_count": 112,
      "outputs": []
    },
    {
      "cell_type": "code",
      "source": [
        "# Anova Tests between different number of cylinders to see if there is any statisticaly siginificant difference in price among them\n",
        "\n",
        "stats.f_oneway(group_unknown_cylinders, group_other_cylinders, group_3_cylinders, group_4_cylinders, group_5_cylinders,\n",
        "               group_6_cylinders, group_8_cylinders, group_10_cylinders, group_12_cylinders)"
      ],
      "metadata": {
        "colab": {
          "base_uri": "https://localhost:8080/"
        },
        "id": "S_rHuEYiI0i8",
        "outputId": "0892a02f-59fd-4010-89d7-da9575fdef26"
      },
      "execution_count": 113,
      "outputs": [
        {
          "output_type": "execute_result",
          "data": {
            "text/plain": [
              "F_onewayResult(statistic=3747.7818754004606, pvalue=0.0)"
            ]
          },
          "metadata": {},
          "execution_count": 113
        }
      ]
    },
    {
      "cell_type": "markdown",
      "source": [
        "P-Value is less than 0.05, the average price of at least 1 of the groups differs from that of another with statistical significance"
      ],
      "metadata": {
        "id": "_Sq_qQUxJRmW"
      }
    },
    {
      "cell_type": "code",
      "source": [
        "# One sample T-test between unknown cylinder number avg price and population avg price to see if there is a statisticaly siginificant difference\n",
        "stats.ttest_1samp(group_unknown_cylinders, drive_population.mean())"
      ],
      "metadata": {
        "colab": {
          "base_uri": "https://localhost:8080/"
        },
        "id": "Jhe5R6YiJSj9",
        "outputId": "052580e2-4994-4b4d-bd79-3443cb014e43"
      },
      "execution_count": 114,
      "outputs": [
        {
          "output_type": "execute_result",
          "data": {
            "text/plain": [
              "TtestResult(statistic=45.16984409108229, pvalue=0.0, df=104897)"
            ]
          },
          "metadata": {},
          "execution_count": 114
        }
      ]
    },
    {
      "cell_type": "markdown",
      "source": [
        "P-Value is less than 0.05, the average price of cars with an unlisted number of cylinders differs from that of all the cars taken as a whole"
      ],
      "metadata": {
        "id": "f5wZxFmkLHQb"
      }
    },
    {
      "cell_type": "code",
      "source": [
        "# One sample T-test between other cylinder number avg price and population avg price to see if there is a statisticaly siginificant difference\n",
        "stats.ttest_1samp(group_other_cylinders, drive_population.mean())"
      ],
      "metadata": {
        "colab": {
          "base_uri": "https://localhost:8080/"
        },
        "id": "PdMcYnjMJVKq",
        "outputId": "a01d1c50-b099-42e9-d723-02938c87b374"
      },
      "execution_count": 115,
      "outputs": [
        {
          "output_type": "execute_result",
          "data": {
            "text/plain": [
              "TtestResult(statistic=-4.231232411522524, pvalue=2.9950187445455892e-05, df=339)"
            ]
          },
          "metadata": {},
          "execution_count": 115
        }
      ]
    },
    {
      "cell_type": "markdown",
      "source": [
        "P-Value is less than 0.05, the average price of cars with an 'other' number of cylinders differs from that of all the cars taken as a whole"
      ],
      "metadata": {
        "id": "QdfDpVx5MVTq"
      }
    },
    {
      "cell_type": "code",
      "source": [
        "# One sample T-test between 3 cylinders avg price and population avg price to see if there is a statisticaly siginificant difference\n",
        "stats.ttest_1samp(group_3_cylinders, drive_population.mean())"
      ],
      "metadata": {
        "colab": {
          "base_uri": "https://localhost:8080/"
        },
        "id": "CENRJmZxJWTz",
        "outputId": "75565eea-98e6-49e7-9fb5-db1884a528bc"
      },
      "execution_count": 116,
      "outputs": [
        {
          "output_type": "execute_result",
          "data": {
            "text/plain": [
              "TtestResult(statistic=-12.804185225985709, pvalue=4.430166780316896e-29, df=245)"
            ]
          },
          "metadata": {},
          "execution_count": 116
        }
      ]
    },
    {
      "cell_type": "markdown",
      "source": [
        "P-Value is less than 0.05, the average price of cars with 3 engine cylinders differs from that of all the cars taken as a whole"
      ],
      "metadata": {
        "id": "t6gwL6l3MeN_"
      }
    },
    {
      "cell_type": "code",
      "source": [
        "# One sample T-test between 4 cylinders avg price and population avg price to see if there is a statisticaly siginificant difference\n",
        "stats.ttest_1samp(group_4_cylinders, drive_population.mean())"
      ],
      "metadata": {
        "colab": {
          "base_uri": "https://localhost:8080/"
        },
        "id": "q-HnoRKvJWQY",
        "outputId": "38f0982c-a878-4b61-ac94-c12a8ccbaffc"
      },
      "execution_count": 117,
      "outputs": [
        {
          "output_type": "execute_result",
          "data": {
            "text/plain": [
              "TtestResult(statistic=-237.36874618214134, pvalue=0.0, df=49360)"
            ]
          },
          "metadata": {},
          "execution_count": 117
        }
      ]
    },
    {
      "cell_type": "markdown",
      "source": [
        "P-Value is less than 0.05, the average price of cars with 4 engine cylinders differs from that of all the cars taken as a whole"
      ],
      "metadata": {
        "id": "0uSMa7cYMmft"
      }
    },
    {
      "cell_type": "code",
      "source": [
        "# One sample T-test between 5 cylinders avg price and population avg price to see if there is a statisticaly siginificant difference\n",
        "stats.ttest_1samp(group_5_cylinders, drive_population.mean())"
      ],
      "metadata": {
        "colab": {
          "base_uri": "https://localhost:8080/"
        },
        "id": "-mZUtPKrJWOQ",
        "outputId": "e5267b46-db8b-42fa-e291-c496208905f1"
      },
      "execution_count": 118,
      "outputs": [
        {
          "output_type": "execute_result",
          "data": {
            "text/plain": [
              "TtestResult(statistic=-62.102196012931614, pvalue=0.0, df=1034)"
            ]
          },
          "metadata": {},
          "execution_count": 118
        }
      ]
    },
    {
      "cell_type": "markdown",
      "source": [
        "P-Value is less than 0.05, the average price of cars with 5 engine cylinders differs from that of all the cars taken as a whole"
      ],
      "metadata": {
        "id": "yTS9dZVjMoU5"
      }
    },
    {
      "cell_type": "code",
      "source": [
        "# One sample T-test between 6 cylinders avg price and population avg price to see if there is a statisticaly siginificant difference\n",
        "stats.ttest_1samp(group_6_cylinders, drive_population.mean())"
      ],
      "metadata": {
        "colab": {
          "base_uri": "https://localhost:8080/"
        },
        "id": "vfuk1e2kJWLz",
        "outputId": "b7c2b809-2e11-45e8-f32e-6a4534b65620"
      },
      "execution_count": 119,
      "outputs": [
        {
          "output_type": "execute_result",
          "data": {
            "text/plain": [
              "TtestResult(statistic=6.341942866772404, pvalue=2.2846504557938425e-10, df=61133)"
            ]
          },
          "metadata": {},
          "execution_count": 119
        }
      ]
    },
    {
      "cell_type": "markdown",
      "source": [
        "P-Value is less than 0.05, the average price of cars with 6 engine cylinders differs from that of all the cars taken as a whole"
      ],
      "metadata": {
        "id": "wyM8pJukMqZk"
      }
    },
    {
      "cell_type": "code",
      "source": [
        "# One sample T-test between 8 cylinders avg price and population avg price to see if there is a statisticaly siginificant difference\n",
        "stats.ttest_1samp(group_8_cylinders, drive_population.mean())"
      ],
      "metadata": {
        "colab": {
          "base_uri": "https://localhost:8080/"
        },
        "id": "9Nxs1ImkJWJX",
        "outputId": "2fd814e1-9a2b-4887-bd46-5e621d0d608a"
      },
      "execution_count": 120,
      "outputs": [
        {
          "output_type": "execute_result",
          "data": {
            "text/plain": [
              "TtestResult(statistic=67.24027384734468, pvalue=0.0, df=40757)"
            ]
          },
          "metadata": {},
          "execution_count": 120
        }
      ]
    },
    {
      "cell_type": "markdown",
      "source": [
        "P-Value is less than 0.05, the average price of cars with 8 engine cylinders differs from that of all the cars taken as a whole"
      ],
      "metadata": {
        "id": "_rpf0JqUMseh"
      }
    },
    {
      "cell_type": "code",
      "source": [
        "# One sample T-test between 10 cylinders avg price and population avg price to see if there is a statisticaly siginificant difference\n",
        "stats.ttest_1samp(group_10_cylinders, drive_population.mean())"
      ],
      "metadata": {
        "colab": {
          "base_uri": "https://localhost:8080/"
        },
        "id": "JBCKciFWJWGv",
        "outputId": "c5bd6a7a-b44e-4137-8ac2-ffe75f85356d"
      },
      "execution_count": 121,
      "outputs": [
        {
          "output_type": "execute_result",
          "data": {
            "text/plain": [
              "TtestResult(statistic=5.2712640814539125, pvalue=1.741646801228202e-07, df=805)"
            ]
          },
          "metadata": {},
          "execution_count": 121
        }
      ]
    },
    {
      "cell_type": "markdown",
      "source": [
        "P-Value is less than 0.05, the average price of cars with 10 engine cylinders differs from that of all the cars taken as a whole"
      ],
      "metadata": {
        "id": "SMwZaG-wMuvw"
      }
    },
    {
      "cell_type": "code",
      "source": [
        "# One sample T-test between 12 cylinders avg price and population avg price to see if there is a statisticaly siginificant difference\n",
        "stats.ttest_1samp(group_12_cylinders, drive_population.mean())"
      ],
      "metadata": {
        "colab": {
          "base_uri": "https://localhost:8080/"
        },
        "id": "Cq6bBZz_JWD6",
        "outputId": "eaca847f-fe68-4865-d36b-fe258a51cde3"
      },
      "execution_count": 122,
      "outputs": [
        {
          "output_type": "execute_result",
          "data": {
            "text/plain": [
              "TtestResult(statistic=1.4824747815214676, pvalue=0.14475016469686203, df=48)"
            ]
          },
          "metadata": {},
          "execution_count": 122
        }
      ]
    },
    {
      "cell_type": "markdown",
      "source": [
        "P-Value is less than 0.05, the average price of cars with 12 engine cylinders differs from that of all the cars taken as a whole"
      ],
      "metadata": {
        "id": "3gEKpj7wMyJP"
      }
    },
    {
      "cell_type": "code",
      "source": [
        "# Display unique values for fuel category\n",
        "stat_test_df['fuel'].unique()"
      ],
      "metadata": {
        "colab": {
          "base_uri": "https://localhost:8080/"
        },
        "id": "GVk104_w9Xgo",
        "outputId": "5b57113d-e17f-4b12-96cd-5a5c8be80690"
      },
      "execution_count": 123,
      "outputs": [
        {
          "output_type": "execute_result",
          "data": {
            "text/plain": [
              "array(['gas', 'other', 'diesel', 'hybrid', 'unknown', 'electric'],\n",
              "      dtype=object)"
            ]
          },
          "metadata": {},
          "execution_count": 123
        }
      ]
    },
    {
      "cell_type": "code",
      "source": [
        "# Separate data into groups by type of fuel used\n",
        "fuel_population = stat_test_df['fuel']\n",
        "group_unknown_fuel = stat_test_df[stat_test_df['fuel'] == 'unknown']['price']\n",
        "group_other_fuel = stat_test_df[stat_test_df['fuel'] == 'other']['price']\n",
        "group_gas_fuel = stat_test_df[stat_test_df['fuel'] == 'gas']['price']\n",
        "group_diesel_fuel = stat_test_df[stat_test_df['fuel'] == 'diesel']['price']\n",
        "group_hybrid_fuel = stat_test_df[stat_test_df['fuel'] == 'hybrid']['price']\n",
        "group_electric_fuel = stat_test_df[stat_test_df['fuel'] == 'electric']['price']"
      ],
      "metadata": {
        "id": "oB_Le9sCM3Fz"
      },
      "execution_count": 124,
      "outputs": []
    },
    {
      "cell_type": "code",
      "source": [
        "# Anova Tests between different fuel/car types to see if there is any statisticaly siginificant difference in price among them\n",
        "\n",
        "stats.f_oneway(group_unknown_fuel, group_other_fuel, group_gas_fuel, group_diesel_fuel, group_hybrid_fuel, group_electric_fuel)"
      ],
      "metadata": {
        "colab": {
          "base_uri": "https://localhost:8080/"
        },
        "id": "8EYP_LO4OcM_",
        "outputId": "5d55d21c-d4ec-44b3-f639-057b515e9d07"
      },
      "execution_count": 125,
      "outputs": [
        {
          "output_type": "execute_result",
          "data": {
            "text/plain": [
              "F_onewayResult(statistic=5787.657963924253, pvalue=0.0)"
            ]
          },
          "metadata": {},
          "execution_count": 125
        }
      ]
    },
    {
      "cell_type": "markdown",
      "source": [
        "P-Value is less than 0.05, the average price of at least 1 of the groups differs from that of another with statistical significance"
      ],
      "metadata": {
        "id": "RcF5TzZSO6-O"
      }
    },
    {
      "cell_type": "code",
      "source": [
        "# One sample T-test between unknown fuel type avg price and population avg price to see if there is a statisticaly siginificant difference\n",
        "stats.ttest_1samp(group_unknown_fuel, drive_population.mean())"
      ],
      "metadata": {
        "colab": {
          "base_uri": "https://localhost:8080/"
        },
        "id": "uV5qEZhAO4V9",
        "outputId": "330b9b15-569b-4d6c-fbee-af09ecd05d72"
      },
      "execution_count": 126,
      "outputs": [
        {
          "output_type": "execute_result",
          "data": {
            "text/plain": [
              "TtestResult(statistic=4.454648515376429, pvalue=9.290258102562568e-06, df=1065)"
            ]
          },
          "metadata": {},
          "execution_count": 126
        }
      ]
    },
    {
      "cell_type": "markdown",
      "source": [
        "P-Value is less than 0.05, the average price of cars with an unlisted fuel type differs from that of all the cars taken as a whole"
      ],
      "metadata": {
        "id": "7CwlK4EQPxUA"
      }
    },
    {
      "cell_type": "code",
      "source": [
        "# One sample T-test between other fuel type avg price and population avg price to see if there is a statisticaly siginificant difference\n",
        "stats.ttest_1samp(group_other_fuel, drive_population.mean())"
      ],
      "metadata": {
        "colab": {
          "base_uri": "https://localhost:8080/"
        },
        "id": "Mq9uTCzxPLE1",
        "outputId": "8fb2a9d6-5852-44c3-a254-73b7080d59ce"
      },
      "execution_count": 127,
      "outputs": [
        {
          "output_type": "execute_result",
          "data": {
            "text/plain": [
              "TtestResult(statistic=125.65746684592179, pvalue=0.0, df=21470)"
            ]
          },
          "metadata": {},
          "execution_count": 127
        }
      ]
    },
    {
      "cell_type": "markdown",
      "source": [
        "P-Value is less than 0.05, the average price of cars with an other fuel type differs from that of all the cars taken as a whole"
      ],
      "metadata": {
        "id": "PxUTeOEkQCUI"
      }
    },
    {
      "cell_type": "code",
      "source": [
        "# One sample T-test between gas fuel type avg price and population avg price to see if there is a statisticaly siginificant difference\n",
        "stats.ttest_1samp(group_gas_fuel, drive_population.mean())"
      ],
      "metadata": {
        "colab": {
          "base_uri": "https://localhost:8080/"
        },
        "id": "EhSXk_uiPKOl",
        "outputId": "c5488f47-00ae-4baa-f82f-7f139b1f0fe2"
      },
      "execution_count": 128,
      "outputs": [
        {
          "output_type": "execute_result",
          "data": {
            "text/plain": [
              "TtestResult(statistic=-60.70328549602604, pvalue=0.0, df=218458)"
            ]
          },
          "metadata": {},
          "execution_count": 128
        }
      ]
    },
    {
      "cell_type": "markdown",
      "source": [
        "P-Value is less than 0.05, the average price of gas fueled cars differs from that of all the cars taken as a whole"
      ],
      "metadata": {
        "id": "oRAD7bzgQHce"
      }
    },
    {
      "cell_type": "code",
      "source": [
        "# One sample T-test between diesel fuel type avg price and population avg price to see if there is a statisticaly siginificant difference\n",
        "stats.ttest_1samp(group_diesel_fuel, drive_population.mean())"
      ],
      "metadata": {
        "colab": {
          "base_uri": "https://localhost:8080/"
        },
        "id": "4-0ApM1KPKJ6",
        "outputId": "bc753eb2-e022-44e7-d8cc-41b6817f34b4"
      },
      "execution_count": 129,
      "outputs": [
        {
          "output_type": "execute_result",
          "data": {
            "text/plain": [
              "TtestResult(statistic=88.3707671436103, pvalue=0.0, df=12680)"
            ]
          },
          "metadata": {},
          "execution_count": 129
        }
      ]
    },
    {
      "cell_type": "markdown",
      "source": [
        "P-Value is less than 0.05, the average price of diesel fueled cars differs from that of all the cars taken as a whole"
      ],
      "metadata": {
        "id": "A4NRmp-WQPKH"
      }
    },
    {
      "cell_type": "code",
      "source": [
        "# One sample T-test between hybrid fuel type avg price and population avg price to see if there is a statisticaly siginificant difference\n",
        "stats.ttest_1samp(group_hybrid_fuel, drive_population.mean())"
      ],
      "metadata": {
        "colab": {
          "base_uri": "https://localhost:8080/"
        },
        "id": "7aU68JPUPKGZ",
        "outputId": "b771bd57-7e3f-40b0-f0a5-e5f737ae7cf9"
      },
      "execution_count": 130,
      "outputs": [
        {
          "output_type": "execute_result",
          "data": {
            "text/plain": [
              "TtestResult(statistic=-24.266198826755492, pvalue=5.0933510161389406e-121, df=3783)"
            ]
          },
          "metadata": {},
          "execution_count": 130
        }
      ]
    },
    {
      "cell_type": "markdown",
      "source": [
        "P-Value is less than 0.05, the average price of hybrid fueled cars differs from that of all the cars taken as a whole"
      ],
      "metadata": {
        "id": "ETsyTDCWQT-L"
      }
    },
    {
      "cell_type": "code",
      "source": [
        "# One sample T-test between electric fuel type avg price and population avg price to see if there is a statisticaly siginificant difference\n",
        "stats.ttest_1samp(group_electric_fuel, drive_population.mean())"
      ],
      "metadata": {
        "colab": {
          "base_uri": "https://localhost:8080/"
        },
        "id": "OxVS_lZYPKCf",
        "outputId": "c0484036-a2e4-4b01-de4e-370de58edfa2"
      },
      "execution_count": 131,
      "outputs": [
        {
          "output_type": "execute_result",
          "data": {
            "text/plain": [
              "TtestResult(statistic=18.34319588669807, pvalue=3.203379039629265e-66, df=1165)"
            ]
          },
          "metadata": {},
          "execution_count": 131
        }
      ]
    },
    {
      "cell_type": "markdown",
      "source": [
        "P-Value is less than 0.05, the average price of electric fueled cars differs from that of all the cars taken as a whole"
      ],
      "metadata": {
        "id": "m59tsbTXRGz6"
      }
    }
  ]
}