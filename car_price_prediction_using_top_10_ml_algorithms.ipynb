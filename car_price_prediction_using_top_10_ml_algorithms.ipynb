{
  "cells": [
    {
      "cell_type": "markdown",
      "metadata": {
        "id": "view-in-github",
        "colab_type": "text"
      },
      "source": [
        "<a href=\"https://colab.research.google.com/github/gusmendesbh/project4-group2/blob/main/car_price_prediction_using_top_10_ml_algorithms.ipynb\" target=\"_parent\"><img src=\"https://colab.research.google.com/assets/colab-badge.svg\" alt=\"Open In Colab\"/></a>"
      ]
    },
    {
      "cell_type": "code",
      "execution_count": 1,
      "id": "3a6df56f",
      "metadata": {
        "_cell_guid": "b1076dfc-b9ad-4769-8c92-a6c4dae69d19",
        "_uuid": "8f2839f25d086af736a60e9eeb907d3b93b6e0e5",
        "execution": {
          "iopub.execute_input": "2023-05-23T10:58:22.372457Z",
          "iopub.status.busy": "2023-05-23T10:58:22.371341Z",
          "iopub.status.idle": "2023-05-23T10:58:22.395158Z",
          "shell.execute_reply": "2023-05-23T10:58:22.393777Z"
        },
        "papermill": {
          "duration": 0.063846,
          "end_time": "2023-05-23T10:58:22.397893",
          "exception": false,
          "start_time": "2023-05-23T10:58:22.334047",
          "status": "completed"
        },
        "tags": [],
        "id": "3a6df56f"
      },
      "outputs": [],
      "source": [
        "# This Python 3 environment comes with many helpful analytics libraries installed\n",
        "# It is defined by the kaggle/python Docker image: https://github.com/kaggle/docker-python\n",
        "# For example, here's several helpful packages to load\n",
        "\n",
        "import numpy as np # linear algebra\n",
        "import pandas as pd # data processing, CSV file I/O (e.g. pd.read_csv)\n",
        "\n",
        "# Input data files are available in the read-only \"../input/\" directory\n",
        "# For example, running this (by clicking run or pressing Shift+Enter) will list all files under the input directory\n",
        "\n",
        "# import os\n",
        "# for dirname, _, filenames in os.walk('/kaggle/input'):\n",
        "#     for filename in filenames:\n",
        "#         print(os.path.join(dirname, filename))\n",
        "\n",
        "# You can write up to 20GB to the current directory (/kaggle/working/) that gets preserved as output when you create a version using \"Save & Run All\" \n",
        "# You can also write temporary files to /kaggle/temp/, but they won't be saved outside of the current session"
      ]
    },
    {
      "cell_type": "markdown",
      "id": "05c2e988",
      "metadata": {
        "papermill": {
          "duration": 0.037705,
          "end_time": "2023-05-23T10:58:22.478880",
          "exception": false,
          "start_time": "2023-05-23T10:58:22.441175",
          "status": "completed"
        },
        "tags": [],
        "id": "05c2e988"
      },
      "source": [
        "# **Importing all the essential libraries**"
      ]
    },
    {
      "cell_type": "code",
      "execution_count": 2,
      "id": "2e1b5dad",
      "metadata": {
        "execution": {
          "iopub.execute_input": "2023-05-23T10:58:22.552487Z",
          "iopub.status.busy": "2023-05-23T10:58:22.551501Z",
          "iopub.status.idle": "2023-05-23T10:58:24.330037Z",
          "shell.execute_reply": "2023-05-23T10:58:24.328550Z"
        },
        "papermill": {
          "duration": 1.814123,
          "end_time": "2023-05-23T10:58:24.333270",
          "exception": false,
          "start_time": "2023-05-23T10:58:22.519147",
          "status": "completed"
        },
        "tags": [],
        "id": "2e1b5dad"
      },
      "outputs": [],
      "source": [
        "import pandas as pd\n",
        "import numpy as np\n",
        "import matplotlib.pyplot as plt\n",
        "import seaborn as sns\n",
        "from sklearn.preprocessing import StandardScaler\n",
        "from sklearn.preprocessing import LabelEncoder\n",
        "from sklearn.preprocessing import OneHotEncoder\n",
        "from sklearn.preprocessing import OrdinalEncoder\n",
        "from sklearn.compose import ColumnTransformer"
      ]
    },
    {
      "cell_type": "code",
      "execution_count": 3,
      "id": "e9dba768",
      "metadata": {
        "execution": {
          "iopub.execute_input": "2023-05-23T10:58:24.395693Z",
          "iopub.status.busy": "2023-05-23T10:58:24.394583Z",
          "iopub.status.idle": "2023-05-23T10:59:11.669651Z",
          "shell.execute_reply": "2023-05-23T10:59:11.668182Z"
        },
        "papermill": {
          "duration": 47.310246,
          "end_time": "2023-05-23T10:59:11.673387",
          "exception": false,
          "start_time": "2023-05-23T10:58:24.363141",
          "status": "completed"
        },
        "tags": [],
        "colab": {
          "base_uri": "https://localhost:8080/"
        },
        "id": "e9dba768",
        "outputId": "a8e9882c-a242-4a62-fe6d-3f1cc95f6d1f"
      },
      "outputs": [
        {
          "output_type": "stream",
          "name": "stdout",
          "text": [
            "\r0% [Working]\r            \rGet:1 http://security.ubuntu.com/ubuntu focal-security InRelease [114 kB]\n",
            "\r0% [Connecting to archive.ubuntu.com (185.125.190.39)] [1 InRelease 14.2 kB/114\r                                                                               \rGet:2 https://cloud.r-project.org/bin/linux/ubuntu focal-cran40/ InRelease [3,622 B]\n",
            "\r0% [Waiting for headers] [1 InRelease 69.2 kB/114 kB 61%] [2 InRelease 3,622 B/\r0% [Waiting for headers] [1 InRelease 93.8 kB/114 kB 82%] [Waiting for headers]\r                                                                               \rHit:3 https://developer.download.nvidia.com/compute/cuda/repos/ubuntu2004/x86_64  InRelease\n",
            "\r0% [Waiting for headers] [1 InRelease 99.6 kB/114 kB 88%] [Waiting for headers]\r                                                                               \r0% [Waiting for headers] [Waiting for headers]\r                                              \rHit:4 http://archive.ubuntu.com/ubuntu focal InRelease\n",
            "Hit:5 http://ppa.launchpad.net/c2d4u.team/c2d4u4.0+/ubuntu focal InRelease\n",
            "Get:6 http://archive.ubuntu.com/ubuntu focal-updates InRelease [114 kB]\n",
            "Hit:7 http://ppa.launchpad.net/cran/libgit2/ubuntu focal InRelease\n",
            "Get:8 http://ppa.launchpad.net/deadsnakes/ppa/ubuntu focal InRelease [18.1 kB]\n",
            "Get:9 http://archive.ubuntu.com/ubuntu focal-backports InRelease [108 kB]\n",
            "Hit:10 http://ppa.launchpad.net/graphics-drivers/ppa/ubuntu focal InRelease\n",
            "Get:11 http://security.ubuntu.com/ubuntu focal-security/universe amd64 Packages [1,057 kB]\n",
            "Hit:12 http://ppa.launchpad.net/ubuntugis/ppa/ubuntu focal InRelease\n",
            "Get:13 http://security.ubuntu.com/ubuntu focal-security/main amd64 Packages [2,774 kB]\n",
            "Get:14 http://archive.ubuntu.com/ubuntu focal-updates/universe amd64 Packages [1,352 kB]\n",
            "Get:15 http://ppa.launchpad.net/deadsnakes/ppa/ubuntu focal/main amd64 Packages [29.5 kB]\n",
            "Get:16 http://archive.ubuntu.com/ubuntu focal-updates/main amd64 Packages [3,253 kB]\n",
            "Fetched 8,822 kB in 3s (2,556 kB/s)\n",
            "Reading package lists... Done\n"
          ]
        }
      ],
      "source": [
        "import os\n",
        "# Find the latest version of spark 3.x  from http://www.apache.org/dist/spark/ and enter as the spark version\n",
        "# For example:\n",
        "# spark_version = 'spark-3.3.1'\n",
        "spark_version = 'spark-3.3.2'\n",
        "os.environ['SPARK_VERSION']=spark_version\n",
        "\n",
        "# Install Spark and Java\n",
        "!apt-get update\n",
        "!apt-get install openjdk-11-jdk-headless -qq > /dev/null\n",
        "!wget -q http://www.apache.org/dist/spark/$SPARK_VERSION/$SPARK_VERSION-bin-hadoop3.tgz\n",
        "!tar xf $SPARK_VERSION-bin-hadoop3.tgz\n",
        "!pip install -q findspark\n",
        "\n",
        "# Set Environment Variables\n",
        "os.environ[\"JAVA_HOME\"] = \"/usr/lib/jvm/java-11-openjdk-amd64\"\n",
        "os.environ[\"SPARK_HOME\"] = f\"/content/{spark_version}-bin-hadoop3\"\n",
        "\n",
        "# Start a SparkSession\n",
        "import findspark\n",
        "findspark.init()"
      ]
    },
    {
      "cell_type": "code",
      "source": [
        "# Import packages\n",
        "from pyspark.sql import SparkSession\n",
        "import time\n",
        "\n",
        "# Create a SparkSession\n",
        "spark = SparkSession.builder\\\n",
        "    .appName(\"SparkSQL\")\\\n",
        "    .config(\"spark.sql.debug.maxToStringFields\", 2000)\\\n",
        "    .config(\"spark.driver.memory\", \"2g\")\\\n",
        "    .getOrCreate()"
      ],
      "metadata": {
        "id": "D0FDxs9v-aka"
      },
      "id": "D0FDxs9v-aka",
      "execution_count": 4,
      "outputs": []
    },
    {
      "cell_type": "code",
      "source": [
        "# Read in data from S3 Bucket\n",
        "from pyspark import SparkFiles\n",
        "sales_url = \"https://car-sales-data-group2.s3.amazonaws.com/vehicles.csv\"\n",
        "spark.sparkContext.addFile(sales_url)\n",
        "car_sales_df = spark.read.csv(SparkFiles.get(\"vehicles.csv\"), sep=\",\", header=True)\n",
        "\n",
        "# Show the sales data.\n",
        "car_sales_df.show()"
      ],
      "metadata": {
        "colab": {
          "base_uri": "https://localhost:8080/"
        },
        "id": "NPfv9NGP-eeu",
        "outputId": "87b092e4-ccf5-46d9-c77a-25c23e46d110"
      },
      "id": "NPfv9NGP-eeu",
      "execution_count": 5,
      "outputs": [
        {
          "output_type": "stream",
          "name": "stdout",
          "text": [
            "+----------+--------------------+--------------------+--------------------+-----+----+------------+-----+---------+---------+----+--------+------------+------------+----+-----+----+----+-----------+---------+-----------+------+-----+----+----+------------+\n",
            "|        id|                 url|              region|          region_url|price|year|manufacturer|model|condition|cylinders|fuel|odometer|title_status|transmission| VIN|drive|size|type|paint_color|image_url|description|county|state| lat|long|posting_date|\n",
            "+----------+--------------------+--------------------+--------------------+-----+----+------------+-----+---------+---------+----+--------+------------+------------+----+-----+----+----+-----------+---------+-----------+------+-----+----+----+------------+\n",
            "|7222695916|https://prescott....|            prescott|https://prescott....| 6000|null|        null| null|     null|     null|null|    null|        null|        null|null| null|null|null|       null|     null|       null|  null|   az|null|null|        null|\n",
            "|7218891961|https://fayar.cra...|        fayetteville|https://fayar.cra...|11900|null|        null| null|     null|     null|null|    null|        null|        null|null| null|null|null|       null|     null|       null|  null|   ar|null|null|        null|\n",
            "|7221797935|https://keys.crai...|        florida keys|https://keys.crai...|21000|null|        null| null|     null|     null|null|    null|        null|        null|null| null|null|null|       null|     null|       null|  null|   fl|null|null|        null|\n",
            "|7222270760|https://worcester...|worcester / centr...|https://worcester...| 1500|null|        null| null|     null|     null|null|    null|        null|        null|null| null|null|null|       null|     null|       null|  null|   ma|null|null|        null|\n",
            "|7210384030|https://greensbor...|          greensboro|https://greensbor...| 4900|null|        null| null|     null|     null|null|    null|        null|        null|null| null|null|null|       null|     null|       null|  null|   nc|null|null|        null|\n",
            "|7222379453|https://hudsonval...|       hudson valley|https://hudsonval...| 1600|null|        null| null|     null|     null|null|    null|        null|        null|null| null|null|null|       null|     null|       null|  null|   ny|null|null|        null|\n",
            "|7221952215|https://hudsonval...|       hudson valley|https://hudsonval...| 1000|null|        null| null|     null|     null|null|    null|        null|        null|null| null|null|null|       null|     null|       null|  null|   ny|null|null|        null|\n",
            "|7220195662|https://hudsonval...|       hudson valley|https://hudsonval...|15995|null|        null| null|     null|     null|null|    null|        null|        null|null| null|null|null|       null|     null|       null|  null|   ny|null|null|        null|\n",
            "|7209064557|https://medford.c...|     medford-ashland|https://medford.c...| 5000|null|        null| null|     null|     null|null|    null|        null|        null|null| null|null|null|       null|     null|       null|  null|   or|null|null|        null|\n",
            "|7219485069|https://erie.crai...|                erie|https://erie.crai...| 3000|null|        null| null|     null|     null|null|    null|        null|        null|null| null|null|null|       null|     null|       null|  null|   pa|null|null|        null|\n",
            "|7218893038|https://elpaso.cr...|             el paso|https://elpaso.cr...|    0|null|        null| null|     null|     null|null|    null|        null|        null|null| null|null|null|       null|     null|       null|  null|   tx|null|null|        null|\n",
            "|7218325704|https://elpaso.cr...|             el paso|https://elpaso.cr...|    0|null|        null| null|     null|     null|null|    null|        null|        null|null| null|null|null|       null|     null|       null|  null|   tx|null|null|        null|\n",
            "|7217788283|https://elpaso.cr...|             el paso|https://elpaso.cr...|    0|null|        null| null|     null|     null|null|    null|        null|        null|null| null|null|null|       null|     null|       null|  null|   tx|null|null|        null|\n",
            "|7217147606|https://elpaso.cr...|             el paso|https://elpaso.cr...|    0|null|        null| null|     null|     null|null|    null|        null|        null|null| null|null|null|       null|     null|       null|  null|   tx|null|null|        null|\n",
            "|7209027818|https://elpaso.cr...|             el paso|https://elpaso.cr...|    0|null|        null| null|     null|     null|null|    null|        null|        null|null| null|null|null|       null|     null|       null|  null|   tx|null|null|        null|\n",
            "|7223509794|https://bellingha...|          bellingham|https://bellingha...|13995|null|        null| null|     null|     null|null|    null|        null|        null|null| null|null|null|       null|     null|       null|  null|   wa|null|null|        null|\n",
            "|7222753076|https://bellingha...|          bellingham|https://bellingha...|24999|null|        null| null|     null|     null|null|    null|        null|        null|null| null|null|null|       null|     null|       null|  null|   wa|null|null|        null|\n",
            "|7222206015|https://bellingha...|          bellingham|https://bellingha...|21850|null|        null| null|     null|     null|null|    null|        null|        null|null| null|null|null|       null|     null|       null|  null|   wa|null|null|        null|\n",
            "|7220030122|https://bellingha...|          bellingham|https://bellingha...|26850|null|        null| null|     null|     null|null|    null|        null|        null|null| null|null|null|       null|     null|       null|  null|   wa|null|null|        null|\n",
            "|7218423006|https://bellingha...|          bellingham|https://bellingha...|11999|null|        null| null|     null|     null|null|    null|        null|        null|null| null|null|null|       null|     null|       null|  null|   wa|null|null|        null|\n",
            "+----------+--------------------+--------------------+--------------------+-----+----+------------+-----+---------+---------+----+--------+------------+------------+----+-----+----+----+-----------+---------+-----------+------+-----+----+----+------------+\n",
            "only showing top 20 rows\n",
            "\n"
          ]
        }
      ]
    },
    {
      "cell_type": "code",
      "source": [
        "df = car_sales_df.toPandas()"
      ],
      "metadata": {
        "id": "7NkQkuNX-hV3"
      },
      "id": "7NkQkuNX-hV3",
      "execution_count": 6,
      "outputs": []
    },
    {
      "cell_type": "markdown",
      "id": "d5ba665b",
      "metadata": {
        "papermill": {
          "duration": 0.029988,
          "end_time": "2023-05-23T10:59:11.735222",
          "exception": false,
          "start_time": "2023-05-23T10:59:11.705234",
          "status": "completed"
        },
        "tags": [],
        "id": "d5ba665b"
      },
      "source": [
        "# **Exploratory Data Analysis (EDA)**"
      ]
    },
    {
      "cell_type": "code",
      "execution_count": 7,
      "id": "a6a9de47",
      "metadata": {
        "execution": {
          "iopub.execute_input": "2023-05-23T10:59:11.799056Z",
          "iopub.status.busy": "2023-05-23T10:59:11.797833Z",
          "iopub.status.idle": "2023-05-23T10:59:11.875218Z",
          "shell.execute_reply": "2023-05-23T10:59:11.873769Z"
        },
        "papermill": {
          "duration": 0.112715,
          "end_time": "2023-05-23T10:59:11.878051",
          "exception": false,
          "start_time": "2023-05-23T10:59:11.765336",
          "status": "completed"
        },
        "tags": [],
        "colab": {
          "base_uri": "https://localhost:8080/",
          "height": 664
        },
        "id": "a6a9de47",
        "outputId": "ec602f2b-71b0-4e4c-f636-46348f4cfa1a"
      },
      "outputs": [
        {
          "output_type": "execute_result",
          "data": {
            "text/plain": [
              "                id                                                url  \\\n",
              "433092  7311711074  https://janesville.craigslist.org/cto/d/loves-...   \n",
              "255906  7313825802  https://lasvegas.craigslist.org/cto/d/north-la...   \n",
              "207282  7316694337  https://grandrapids.craigslist.org/ctd/d/flint...   \n",
              "104268  7307266244  https://jacksonville.craigslist.org/ctd/d/jack...   \n",
              "311063  7315262944  https://toledo.craigslist.org/ctd/d/cleveland-...   \n",
              "\n",
              "              region                           region_url  price  year  \\\n",
              "433092    janesville    https://janesville.craigslist.org   6800  2007   \n",
              "255906     las vegas      https://lasvegas.craigslist.org   4950  2006   \n",
              "207282  grand rapids   https://grandrapids.craigslist.org  22995  2007   \n",
              "104268  jacksonville  https://jacksonville.craigslist.org  25590  2019   \n",
              "311063        toledo        https://toledo.craigslist.org   5995  2008   \n",
              "\n",
              "       manufacturer                    model  condition    cylinders  ...  \\\n",
              "433092        volvo                   s80 v8  excellent         None  ...   \n",
              "255906       toyota                  corolla       good  4 cylinders  ...   \n",
              "207282          ram                     3500       good  6 cylinders  ...   \n",
              "104268         mini  hardtop 2 door cooper s       good         None  ...   \n",
              "311063        honda                  odyssey       None         None  ...   \n",
              "\n",
              "             size       type paint_color  \\\n",
              "433092       None       None        None   \n",
              "255906       None       None        None   \n",
              "207282  full-size      truck        blue   \n",
              "104268       None  hatchback      orange   \n",
              "311063       None   mini-van        None   \n",
              "\n",
              "                                                image_url  \\\n",
              "433092  https://images.craigslist.org/00O0O_7oS621R0qM...   \n",
              "255906  https://images.craigslist.org/00h0h_66mk2Dcq0g...   \n",
              "207282  https://images.craigslist.org/00t0t_bz7qoSQwqF...   \n",
              "104268  https://images.craigslist.org/00t0t_79LoQqQE2D...   \n",
              "311063  https://images.craigslist.org/00U0U_kCSZc9mJ2y...   \n",
              "\n",
              "                                              description county state  \\\n",
              "433092  VERY RARE!!! 2007 V8 AWD Volvo S80  loaded!!.....   None    wi   \n",
              "255906  2006 Toyota Corolla in good shape... It runs g...   None    nv   \n",
              "207282  2007 Dodge Ram 3500 Laramie Mega Cab 4WD DRW -...   None    mi   \n",
              "104268  Carvana is the safer way to buy a car During t...   None    fl   \n",
              "311063  2008 Honda Odyssey EX-L w/ DVD and Navigation ...   None    oh   \n",
              "\n",
              "              lat        long              posting_date  \n",
              "433092  42.312936  -89.079037  2021-04-23T21:46:24-0500  \n",
              "255906     36.218   -115.1709  2021-04-28T08:08:19-0700  \n",
              "207282    43.0506   -83.61512  2021-05-04T10:16:39-0400  \n",
              "104268      30.33      -81.65  2021-04-15T13:11:17-0400  \n",
              "311063   41.56995  -81.574738  2021-05-01T09:55:08-0400  \n",
              "\n",
              "[5 rows x 26 columns]"
            ],
            "text/html": [
              "\n",
              "  <div id=\"df-c77bd573-029e-4eb6-ad0e-465d623ff7e8\">\n",
              "    <div class=\"colab-df-container\">\n",
              "      <div>\n",
              "<style scoped>\n",
              "    .dataframe tbody tr th:only-of-type {\n",
              "        vertical-align: middle;\n",
              "    }\n",
              "\n",
              "    .dataframe tbody tr th {\n",
              "        vertical-align: top;\n",
              "    }\n",
              "\n",
              "    .dataframe thead th {\n",
              "        text-align: right;\n",
              "    }\n",
              "</style>\n",
              "<table border=\"1\" class=\"dataframe\">\n",
              "  <thead>\n",
              "    <tr style=\"text-align: right;\">\n",
              "      <th></th>\n",
              "      <th>id</th>\n",
              "      <th>url</th>\n",
              "      <th>region</th>\n",
              "      <th>region_url</th>\n",
              "      <th>price</th>\n",
              "      <th>year</th>\n",
              "      <th>manufacturer</th>\n",
              "      <th>model</th>\n",
              "      <th>condition</th>\n",
              "      <th>cylinders</th>\n",
              "      <th>...</th>\n",
              "      <th>size</th>\n",
              "      <th>type</th>\n",
              "      <th>paint_color</th>\n",
              "      <th>image_url</th>\n",
              "      <th>description</th>\n",
              "      <th>county</th>\n",
              "      <th>state</th>\n",
              "      <th>lat</th>\n",
              "      <th>long</th>\n",
              "      <th>posting_date</th>\n",
              "    </tr>\n",
              "  </thead>\n",
              "  <tbody>\n",
              "    <tr>\n",
              "      <th>433092</th>\n",
              "      <td>7311711074</td>\n",
              "      <td>https://janesville.craigslist.org/cto/d/loves-...</td>\n",
              "      <td>janesville</td>\n",
              "      <td>https://janesville.craigslist.org</td>\n",
              "      <td>6800</td>\n",
              "      <td>2007</td>\n",
              "      <td>volvo</td>\n",
              "      <td>s80 v8</td>\n",
              "      <td>excellent</td>\n",
              "      <td>None</td>\n",
              "      <td>...</td>\n",
              "      <td>None</td>\n",
              "      <td>None</td>\n",
              "      <td>None</td>\n",
              "      <td>https://images.craigslist.org/00O0O_7oS621R0qM...</td>\n",
              "      <td>VERY RARE!!! 2007 V8 AWD Volvo S80  loaded!!.....</td>\n",
              "      <td>None</td>\n",
              "      <td>wi</td>\n",
              "      <td>42.312936</td>\n",
              "      <td>-89.079037</td>\n",
              "      <td>2021-04-23T21:46:24-0500</td>\n",
              "    </tr>\n",
              "    <tr>\n",
              "      <th>255906</th>\n",
              "      <td>7313825802</td>\n",
              "      <td>https://lasvegas.craigslist.org/cto/d/north-la...</td>\n",
              "      <td>las vegas</td>\n",
              "      <td>https://lasvegas.craigslist.org</td>\n",
              "      <td>4950</td>\n",
              "      <td>2006</td>\n",
              "      <td>toyota</td>\n",
              "      <td>corolla</td>\n",
              "      <td>good</td>\n",
              "      <td>4 cylinders</td>\n",
              "      <td>...</td>\n",
              "      <td>None</td>\n",
              "      <td>None</td>\n",
              "      <td>None</td>\n",
              "      <td>https://images.craigslist.org/00h0h_66mk2Dcq0g...</td>\n",
              "      <td>2006 Toyota Corolla in good shape... It runs g...</td>\n",
              "      <td>None</td>\n",
              "      <td>nv</td>\n",
              "      <td>36.218</td>\n",
              "      <td>-115.1709</td>\n",
              "      <td>2021-04-28T08:08:19-0700</td>\n",
              "    </tr>\n",
              "    <tr>\n",
              "      <th>207282</th>\n",
              "      <td>7316694337</td>\n",
              "      <td>https://grandrapids.craigslist.org/ctd/d/flint...</td>\n",
              "      <td>grand rapids</td>\n",
              "      <td>https://grandrapids.craigslist.org</td>\n",
              "      <td>22995</td>\n",
              "      <td>2007</td>\n",
              "      <td>ram</td>\n",
              "      <td>3500</td>\n",
              "      <td>good</td>\n",
              "      <td>6 cylinders</td>\n",
              "      <td>...</td>\n",
              "      <td>full-size</td>\n",
              "      <td>truck</td>\n",
              "      <td>blue</td>\n",
              "      <td>https://images.craigslist.org/00t0t_bz7qoSQwqF...</td>\n",
              "      <td>2007 Dodge Ram 3500 Laramie Mega Cab 4WD DRW -...</td>\n",
              "      <td>None</td>\n",
              "      <td>mi</td>\n",
              "      <td>43.0506</td>\n",
              "      <td>-83.61512</td>\n",
              "      <td>2021-05-04T10:16:39-0400</td>\n",
              "    </tr>\n",
              "    <tr>\n",
              "      <th>104268</th>\n",
              "      <td>7307266244</td>\n",
              "      <td>https://jacksonville.craigslist.org/ctd/d/jack...</td>\n",
              "      <td>jacksonville</td>\n",
              "      <td>https://jacksonville.craigslist.org</td>\n",
              "      <td>25590</td>\n",
              "      <td>2019</td>\n",
              "      <td>mini</td>\n",
              "      <td>hardtop 2 door cooper s</td>\n",
              "      <td>good</td>\n",
              "      <td>None</td>\n",
              "      <td>...</td>\n",
              "      <td>None</td>\n",
              "      <td>hatchback</td>\n",
              "      <td>orange</td>\n",
              "      <td>https://images.craigslist.org/00t0t_79LoQqQE2D...</td>\n",
              "      <td>Carvana is the safer way to buy a car During t...</td>\n",
              "      <td>None</td>\n",
              "      <td>fl</td>\n",
              "      <td>30.33</td>\n",
              "      <td>-81.65</td>\n",
              "      <td>2021-04-15T13:11:17-0400</td>\n",
              "    </tr>\n",
              "    <tr>\n",
              "      <th>311063</th>\n",
              "      <td>7315262944</td>\n",
              "      <td>https://toledo.craigslist.org/ctd/d/cleveland-...</td>\n",
              "      <td>toledo</td>\n",
              "      <td>https://toledo.craigslist.org</td>\n",
              "      <td>5995</td>\n",
              "      <td>2008</td>\n",
              "      <td>honda</td>\n",
              "      <td>odyssey</td>\n",
              "      <td>None</td>\n",
              "      <td>None</td>\n",
              "      <td>...</td>\n",
              "      <td>None</td>\n",
              "      <td>mini-van</td>\n",
              "      <td>None</td>\n",
              "      <td>https://images.craigslist.org/00U0U_kCSZc9mJ2y...</td>\n",
              "      <td>2008 Honda Odyssey EX-L w/ DVD and Navigation ...</td>\n",
              "      <td>None</td>\n",
              "      <td>oh</td>\n",
              "      <td>41.56995</td>\n",
              "      <td>-81.574738</td>\n",
              "      <td>2021-05-01T09:55:08-0400</td>\n",
              "    </tr>\n",
              "  </tbody>\n",
              "</table>\n",
              "<p>5 rows × 26 columns</p>\n",
              "</div>\n",
              "      <button class=\"colab-df-convert\" onclick=\"convertToInteractive('df-c77bd573-029e-4eb6-ad0e-465d623ff7e8')\"\n",
              "              title=\"Convert this dataframe to an interactive table.\"\n",
              "              style=\"display:none;\">\n",
              "        \n",
              "  <svg xmlns=\"http://www.w3.org/2000/svg\" height=\"24px\"viewBox=\"0 0 24 24\"\n",
              "       width=\"24px\">\n",
              "    <path d=\"M0 0h24v24H0V0z\" fill=\"none\"/>\n",
              "    <path d=\"M18.56 5.44l.94 2.06.94-2.06 2.06-.94-2.06-.94-.94-2.06-.94 2.06-2.06.94zm-11 1L8.5 8.5l.94-2.06 2.06-.94-2.06-.94L8.5 2.5l-.94 2.06-2.06.94zm10 10l.94 2.06.94-2.06 2.06-.94-2.06-.94-.94-2.06-.94 2.06-2.06.94z\"/><path d=\"M17.41 7.96l-1.37-1.37c-.4-.4-.92-.59-1.43-.59-.52 0-1.04.2-1.43.59L10.3 9.45l-7.72 7.72c-.78.78-.78 2.05 0 2.83L4 21.41c.39.39.9.59 1.41.59.51 0 1.02-.2 1.41-.59l7.78-7.78 2.81-2.81c.8-.78.8-2.07 0-2.86zM5.41 20L4 18.59l7.72-7.72 1.47 1.35L5.41 20z\"/>\n",
              "  </svg>\n",
              "      </button>\n",
              "      \n",
              "  <style>\n",
              "    .colab-df-container {\n",
              "      display:flex;\n",
              "      flex-wrap:wrap;\n",
              "      gap: 12px;\n",
              "    }\n",
              "\n",
              "    .colab-df-convert {\n",
              "      background-color: #E8F0FE;\n",
              "      border: none;\n",
              "      border-radius: 50%;\n",
              "      cursor: pointer;\n",
              "      display: none;\n",
              "      fill: #1967D2;\n",
              "      height: 32px;\n",
              "      padding: 0 0 0 0;\n",
              "      width: 32px;\n",
              "    }\n",
              "\n",
              "    .colab-df-convert:hover {\n",
              "      background-color: #E2EBFA;\n",
              "      box-shadow: 0px 1px 2px rgba(60, 64, 67, 0.3), 0px 1px 3px 1px rgba(60, 64, 67, 0.15);\n",
              "      fill: #174EA6;\n",
              "    }\n",
              "\n",
              "    [theme=dark] .colab-df-convert {\n",
              "      background-color: #3B4455;\n",
              "      fill: #D2E3FC;\n",
              "    }\n",
              "\n",
              "    [theme=dark] .colab-df-convert:hover {\n",
              "      background-color: #434B5C;\n",
              "      box-shadow: 0px 1px 3px 1px rgba(0, 0, 0, 0.15);\n",
              "      filter: drop-shadow(0px 1px 2px rgba(0, 0, 0, 0.3));\n",
              "      fill: #FFFFFF;\n",
              "    }\n",
              "  </style>\n",
              "\n",
              "      <script>\n",
              "        const buttonEl =\n",
              "          document.querySelector('#df-c77bd573-029e-4eb6-ad0e-465d623ff7e8 button.colab-df-convert');\n",
              "        buttonEl.style.display =\n",
              "          google.colab.kernel.accessAllowed ? 'block' : 'none';\n",
              "\n",
              "        async function convertToInteractive(key) {\n",
              "          const element = document.querySelector('#df-c77bd573-029e-4eb6-ad0e-465d623ff7e8');\n",
              "          const dataTable =\n",
              "            await google.colab.kernel.invokeFunction('convertToInteractive',\n",
              "                                                     [key], {});\n",
              "          if (!dataTable) return;\n",
              "\n",
              "          const docLinkHtml = 'Like what you see? Visit the ' +\n",
              "            '<a target=\"_blank\" href=https://colab.research.google.com/notebooks/data_table.ipynb>data table notebook</a>'\n",
              "            + ' to learn more about interactive tables.';\n",
              "          element.innerHTML = '';\n",
              "          dataTable['output_type'] = 'display_data';\n",
              "          await google.colab.output.renderOutput(dataTable, element);\n",
              "          const docLink = document.createElement('div');\n",
              "          docLink.innerHTML = docLinkHtml;\n",
              "          element.appendChild(docLink);\n",
              "        }\n",
              "      </script>\n",
              "    </div>\n",
              "  </div>\n",
              "  "
            ]
          },
          "metadata": {},
          "execution_count": 7
        }
      ],
      "source": [
        "df.sample(5)"
      ]
    },
    {
      "cell_type": "code",
      "execution_count": 8,
      "id": "36656556",
      "metadata": {
        "execution": {
          "iopub.execute_input": "2023-05-23T10:59:11.943849Z",
          "iopub.status.busy": "2023-05-23T10:59:11.942566Z",
          "iopub.status.idle": "2023-05-23T10:59:11.949593Z",
          "shell.execute_reply": "2023-05-23T10:59:11.948643Z"
        },
        "papermill": {
          "duration": 0.042284,
          "end_time": "2023-05-23T10:59:11.951983",
          "exception": false,
          "start_time": "2023-05-23T10:59:11.909699",
          "status": "completed"
        },
        "tags": [],
        "colab": {
          "base_uri": "https://localhost:8080/"
        },
        "id": "36656556",
        "outputId": "306a34ab-f5b8-4ff8-8ca4-679039aa5746"
      },
      "outputs": [
        {
          "output_type": "execute_result",
          "data": {
            "text/plain": [
              "(441802, 26)"
            ]
          },
          "metadata": {},
          "execution_count": 8
        }
      ],
      "source": [
        "df.shape"
      ]
    },
    {
      "cell_type": "code",
      "execution_count": 9,
      "id": "ee8a2089",
      "metadata": {
        "execution": {
          "iopub.execute_input": "2023-05-23T10:59:12.016723Z",
          "iopub.status.busy": "2023-05-23T10:59:12.015676Z",
          "iopub.status.idle": "2023-05-23T10:59:12.023791Z",
          "shell.execute_reply": "2023-05-23T10:59:12.022521Z"
        },
        "papermill": {
          "duration": 0.043921,
          "end_time": "2023-05-23T10:59:12.026634",
          "exception": false,
          "start_time": "2023-05-23T10:59:11.982713",
          "status": "completed"
        },
        "tags": [],
        "colab": {
          "base_uri": "https://localhost:8080/"
        },
        "id": "ee8a2089",
        "outputId": "c2d3b114-8594-4925-bbb6-e360ef4c73eb"
      },
      "outputs": [
        {
          "output_type": "execute_result",
          "data": {
            "text/plain": [
              "Index(['id', 'url', 'region', 'region_url', 'price', 'year', 'manufacturer',\n",
              "       'model', 'condition', 'cylinders', 'fuel', 'odometer', 'title_status',\n",
              "       'transmission', 'VIN', 'drive', 'size', 'type', 'paint_color',\n",
              "       'image_url', 'description', 'county', 'state', 'lat', 'long',\n",
              "       'posting_date'],\n",
              "      dtype='object')"
            ]
          },
          "metadata": {},
          "execution_count": 9
        }
      ],
      "source": [
        "df.columns"
      ]
    },
    {
      "cell_type": "markdown",
      "id": "0309e143",
      "metadata": {
        "papermill": {
          "duration": 0.031427,
          "end_time": "2023-05-23T10:59:12.088783",
          "exception": false,
          "start_time": "2023-05-23T10:59:12.057356",
          "status": "completed"
        },
        "tags": [],
        "id": "0309e143"
      },
      "source": [
        "**Checking total missing values**"
      ]
    },
    {
      "cell_type": "code",
      "execution_count": 10,
      "id": "fb33bfde",
      "metadata": {
        "execution": {
          "iopub.execute_input": "2023-05-23T10:59:12.156058Z",
          "iopub.status.busy": "2023-05-23T10:59:12.155496Z",
          "iopub.status.idle": "2023-05-23T10:59:14.680899Z",
          "shell.execute_reply": "2023-05-23T10:59:14.679542Z"
        },
        "papermill": {
          "duration": 2.561981,
          "end_time": "2023-05-23T10:59:14.683803",
          "exception": false,
          "start_time": "2023-05-23T10:59:12.121822",
          "status": "completed"
        },
        "tags": [],
        "colab": {
          "base_uri": "https://localhost:8080/"
        },
        "id": "fb33bfde",
        "outputId": "b1f6e51a-2dc1-4a13-b744-7d7bc7327ddf"
      },
      "outputs": [
        {
          "output_type": "execute_result",
          "data": {
            "text/plain": [
              "id                   0\n",
              "url               9884\n",
              "region            6901\n",
              "region_url        6533\n",
              "price             6446\n",
              "year              7890\n",
              "manufacturer     28937\n",
              "model            17506\n",
              "condition       187143\n",
              "cylinders       190798\n",
              "fuel             16344\n",
              "odometer         17801\n",
              "title_status     21618\n",
              "transmission     15932\n",
              "VIN             174486\n",
              "drive           144178\n",
              "size            319997\n",
              "type            106892\n",
              "paint_color     143839\n",
              "image_url        13732\n",
              "description      13733\n",
              "county          382283\n",
              "state            23077\n",
              "lat              25397\n",
              "long             24715\n",
              "posting_date     22477\n",
              "dtype: int64"
            ]
          },
          "metadata": {},
          "execution_count": 10
        }
      ],
      "source": [
        "df.isna().sum()"
      ]
    },
    {
      "cell_type": "code",
      "execution_count": 11,
      "id": "6321919b",
      "metadata": {
        "execution": {
          "iopub.execute_input": "2023-05-23T10:59:14.748851Z",
          "iopub.status.busy": "2023-05-23T10:59:14.748348Z",
          "iopub.status.idle": "2023-05-23T10:59:17.292277Z",
          "shell.execute_reply": "2023-05-23T10:59:17.290704Z"
        },
        "papermill": {
          "duration": 2.580453,
          "end_time": "2023-05-23T10:59:17.295473",
          "exception": false,
          "start_time": "2023-05-23T10:59:14.715020",
          "status": "completed"
        },
        "tags": [],
        "colab": {
          "base_uri": "https://localhost:8080/"
        },
        "id": "6321919b",
        "outputId": "97e368c4-a6c4-4e27-806e-98ab5621b538"
      },
      "outputs": [
        {
          "output_type": "stream",
          "name": "stdout",
          "text": [
            "<class 'pandas.core.frame.DataFrame'>\n",
            "RangeIndex: 441802 entries, 0 to 441801\n",
            "Data columns (total 26 columns):\n",
            " #   Column        Non-Null Count   Dtype \n",
            "---  ------        --------------   ----- \n",
            " 0   id            441802 non-null  object\n",
            " 1   url           431918 non-null  object\n",
            " 2   region        434901 non-null  object\n",
            " 3   region_url    435269 non-null  object\n",
            " 4   price         435356 non-null  object\n",
            " 5   year          433912 non-null  object\n",
            " 6   manufacturer  412865 non-null  object\n",
            " 7   model         424296 non-null  object\n",
            " 8   condition     254659 non-null  object\n",
            " 9   cylinders     251004 non-null  object\n",
            " 10  fuel          425458 non-null  object\n",
            " 11  odometer      424001 non-null  object\n",
            " 12  title_status  420184 non-null  object\n",
            " 13  transmission  425870 non-null  object\n",
            " 14  VIN           267316 non-null  object\n",
            " 15  drive         297624 non-null  object\n",
            " 16  size          121805 non-null  object\n",
            " 17  type          334910 non-null  object\n",
            " 18  paint_color   297963 non-null  object\n",
            " 19  image_url     428070 non-null  object\n",
            " 20  description   428069 non-null  object\n",
            " 21  county        59519 non-null   object\n",
            " 22  state         418725 non-null  object\n",
            " 23  lat           416405 non-null  object\n",
            " 24  long          417087 non-null  object\n",
            " 25  posting_date  419325 non-null  object\n",
            "dtypes: object(26)\n",
            "memory usage: 87.6+ MB\n"
          ]
        }
      ],
      "source": [
        "df.info()"
      ]
    },
    {
      "cell_type": "markdown",
      "id": "c2daee8d",
      "metadata": {
        "papermill": {
          "duration": 0.031666,
          "end_time": "2023-05-23T10:59:17.358480",
          "exception": false,
          "start_time": "2023-05-23T10:59:17.326814",
          "status": "completed"
        },
        "tags": [],
        "id": "c2daee8d"
      },
      "source": [
        "# **Data Cleaning**"
      ]
    },
    {
      "cell_type": "markdown",
      "id": "8ba9af48",
      "metadata": {
        "papermill": {
          "duration": 0.031539,
          "end_time": "2023-05-23T10:59:17.422599",
          "exception": false,
          "start_time": "2023-05-23T10:59:17.391060",
          "status": "completed"
        },
        "tags": [],
        "id": "8ba9af48"
      },
      "source": [
        "**Extracting important features (Feature Selection)**"
      ]
    },
    {
      "cell_type": "code",
      "execution_count": 12,
      "id": "af35382b",
      "metadata": {
        "execution": {
          "iopub.execute_input": "2023-05-23T10:59:17.489035Z",
          "iopub.status.busy": "2023-05-23T10:59:17.488532Z",
          "iopub.status.idle": "2023-05-23T10:59:17.717109Z",
          "shell.execute_reply": "2023-05-23T10:59:17.716130Z"
        },
        "papermill": {
          "duration": 0.266023,
          "end_time": "2023-05-23T10:59:17.719450",
          "exception": false,
          "start_time": "2023-05-23T10:59:17.453427",
          "status": "completed"
        },
        "tags": [],
        "id": "af35382b"
      },
      "outputs": [],
      "source": [
        "df.drop(['id', 'url', 'region_url', 'VIN', 'image_url', 'description', 'county', 'lat', 'long', 'posting_date', 'size', 'state'], axis=1, inplace=True)"
      ]
    },
    {
      "cell_type": "markdown",
      "id": "55d5cb54",
      "metadata": {
        "papermill": {
          "duration": 0.030714,
          "end_time": "2023-05-23T10:59:17.781334",
          "exception": false,
          "start_time": "2023-05-23T10:59:17.750620",
          "status": "completed"
        },
        "tags": [],
        "id": "55d5cb54"
      },
      "source": [
        "**Handling missing values**"
      ]
    },
    {
      "cell_type": "code",
      "execution_count": 13,
      "id": "021a5402",
      "metadata": {
        "execution": {
          "iopub.execute_input": "2023-05-23T10:59:17.845172Z",
          "iopub.status.busy": "2023-05-23T10:59:17.844651Z",
          "iopub.status.idle": "2023-05-23T10:59:19.258030Z",
          "shell.execute_reply": "2023-05-23T10:59:19.256824Z"
        },
        "papermill": {
          "duration": 1.448776,
          "end_time": "2023-05-23T10:59:19.260848",
          "exception": false,
          "start_time": "2023-05-23T10:59:17.812072",
          "status": "completed"
        },
        "tags": [],
        "colab": {
          "base_uri": "https://localhost:8080/"
        },
        "id": "021a5402",
        "outputId": "f0550bc8-b782-4755-a4ad-8ea5f1b9a03b"
      },
      "outputs": [
        {
          "output_type": "execute_result",
          "data": {
            "text/plain": [
              "region           1.562012\n",
              "price            1.459025\n",
              "year             1.785868\n",
              "manufacturer     6.549767\n",
              "model            3.962408\n",
              "condition       42.359021\n",
              "cylinders       43.186314\n",
              "fuel             3.699395\n",
              "odometer         4.029180\n",
              "title_status     4.893142\n",
              "transmission     3.606140\n",
              "drive           32.634076\n",
              "type            24.194549\n",
              "paint_color     32.557345\n",
              "dtype: float64"
            ]
          },
          "metadata": {},
          "execution_count": 13
        }
      ],
      "source": [
        "df.isna().sum()/df.shape[0]*100"
      ]
    },
    {
      "cell_type": "markdown",
      "id": "28e10f4c",
      "metadata": {
        "papermill": {
          "duration": 0.030728,
          "end_time": "2023-05-23T10:59:19.322886",
          "exception": false,
          "start_time": "2023-05-23T10:59:19.292158",
          "status": "completed"
        },
        "tags": [],
        "id": "28e10f4c"
      },
      "source": [
        "**We can see that \"year\", \"manufacturer\", \"model\", and \"odometer\" column has less than 5% of null values. So we can simply drop those rows which have null values in these two columns.**"
      ]
    },
    {
      "cell_type": "code",
      "execution_count": 14,
      "id": "3e7b20db",
      "metadata": {
        "execution": {
          "iopub.execute_input": "2023-05-23T10:59:19.387533Z",
          "iopub.status.busy": "2023-05-23T10:59:19.387041Z",
          "iopub.status.idle": "2023-05-23T10:59:19.759579Z",
          "shell.execute_reply": "2023-05-23T10:59:19.758212Z"
        },
        "papermill": {
          "duration": 0.408905,
          "end_time": "2023-05-23T10:59:19.762712",
          "exception": false,
          "start_time": "2023-05-23T10:59:19.353807",
          "status": "completed"
        },
        "tags": [],
        "id": "3e7b20db"
      },
      "outputs": [],
      "source": [
        "df = df.dropna(subset=['year', 'odometer', 'manufacturer', 'model'])"
      ]
    },
    {
      "cell_type": "markdown",
      "id": "6442b882",
      "metadata": {
        "papermill": {
          "duration": 0.030545,
          "end_time": "2023-05-23T10:59:19.824250",
          "exception": false,
          "start_time": "2023-05-23T10:59:19.793705",
          "status": "completed"
        },
        "tags": [],
        "id": "6442b882"
      },
      "source": [
        "**For all the missing values in other columns, we have just converted them in to a new category, \"unknown\"**"
      ]
    },
    {
      "cell_type": "code",
      "execution_count": 15,
      "id": "4d19ca4a",
      "metadata": {
        "execution": {
          "iopub.execute_input": "2023-05-23T10:59:19.888171Z",
          "iopub.status.busy": "2023-05-23T10:59:19.887683Z",
          "iopub.status.idle": "2023-05-23T10:59:21.370149Z",
          "shell.execute_reply": "2023-05-23T10:59:21.369005Z"
        },
        "papermill": {
          "duration": 1.518126,
          "end_time": "2023-05-23T10:59:21.373278",
          "exception": false,
          "start_time": "2023-05-23T10:59:19.855152",
          "status": "completed"
        },
        "tags": [],
        "id": "4d19ca4a"
      },
      "outputs": [],
      "source": [
        "df.fillna('unknown', inplace=True)"
      ]
    },
    {
      "cell_type": "markdown",
      "id": "d50f838e",
      "metadata": {
        "papermill": {
          "duration": 0.030803,
          "end_time": "2023-05-23T10:59:21.435058",
          "exception": false,
          "start_time": "2023-05-23T10:59:21.404255",
          "status": "completed"
        },
        "tags": [],
        "id": "d50f838e"
      },
      "source": [
        "**Handling duplicated values**"
      ]
    },
    {
      "cell_type": "code",
      "execution_count": 16,
      "id": "6b4e8dea",
      "metadata": {
        "execution": {
          "iopub.execute_input": "2023-05-23T10:59:21.500142Z",
          "iopub.status.busy": "2023-05-23T10:59:21.499526Z",
          "iopub.status.idle": "2023-05-23T10:59:22.041395Z",
          "shell.execute_reply": "2023-05-23T10:59:22.040039Z"
        },
        "papermill": {
          "duration": 0.57783,
          "end_time": "2023-05-23T10:59:22.044366",
          "exception": false,
          "start_time": "2023-05-23T10:59:21.466536",
          "status": "completed"
        },
        "tags": [],
        "colab": {
          "base_uri": "https://localhost:8080/"
        },
        "id": "6b4e8dea",
        "outputId": "598e11d1-9aae-4714-8223-d1157994e69b"
      },
      "outputs": [
        {
          "output_type": "execute_result",
          "data": {
            "text/plain": [
              "54472"
            ]
          },
          "metadata": {},
          "execution_count": 16
        }
      ],
      "source": [
        "df.duplicated().sum()"
      ]
    },
    {
      "cell_type": "code",
      "execution_count": 17,
      "id": "12c0b2e0",
      "metadata": {
        "execution": {
          "iopub.execute_input": "2023-05-23T10:59:22.110717Z",
          "iopub.status.busy": "2023-05-23T10:59:22.110264Z",
          "iopub.status.idle": "2023-05-23T10:59:22.793493Z",
          "shell.execute_reply": "2023-05-23T10:59:22.792033Z"
        },
        "papermill": {
          "duration": 0.720856,
          "end_time": "2023-05-23T10:59:22.796775",
          "exception": false,
          "start_time": "2023-05-23T10:59:22.075919",
          "status": "completed"
        },
        "tags": [],
        "id": "12c0b2e0"
      },
      "outputs": [],
      "source": [
        "df = df.drop_duplicates()"
      ]
    },
    {
      "cell_type": "code",
      "execution_count": 18,
      "id": "75186047",
      "metadata": {
        "execution": {
          "iopub.execute_input": "2023-05-23T10:59:22.861867Z",
          "iopub.status.busy": "2023-05-23T10:59:22.861428Z",
          "iopub.status.idle": "2023-05-23T10:59:22.869040Z",
          "shell.execute_reply": "2023-05-23T10:59:22.868061Z"
        },
        "papermill": {
          "duration": 0.043138,
          "end_time": "2023-05-23T10:59:22.871247",
          "exception": false,
          "start_time": "2023-05-23T10:59:22.828109",
          "status": "completed"
        },
        "tags": [],
        "colab": {
          "base_uri": "https://localhost:8080/"
        },
        "id": "75186047",
        "outputId": "5e34fc88-4596-49c0-c6c4-ca739f659eec"
      },
      "outputs": [
        {
          "output_type": "execute_result",
          "data": {
            "text/plain": [
              "(346932, 14)"
            ]
          },
          "metadata": {},
          "execution_count": 18
        }
      ],
      "source": [
        "df.shape"
      ]
    },
    {
      "cell_type": "markdown",
      "id": "ad167de0",
      "metadata": {
        "papermill": {
          "duration": 0.030711,
          "end_time": "2023-05-23T10:59:22.933063",
          "exception": false,
          "start_time": "2023-05-23T10:59:22.902352",
          "status": "completed"
        },
        "tags": [],
        "id": "ad167de0"
      },
      "source": [
        "**Categorical data cleaning**"
      ]
    },
    {
      "cell_type": "code",
      "execution_count": 19,
      "id": "428c909f",
      "metadata": {
        "execution": {
          "iopub.execute_input": "2023-05-23T10:59:22.997459Z",
          "iopub.status.busy": "2023-05-23T10:59:22.996969Z",
          "iopub.status.idle": "2023-05-23T10:59:23.062277Z",
          "shell.execute_reply": "2023-05-23T10:59:23.060971Z"
        },
        "papermill": {
          "duration": 0.101445,
          "end_time": "2023-05-23T10:59:23.065442",
          "exception": false,
          "start_time": "2023-05-23T10:59:22.963997",
          "status": "completed"
        },
        "tags": [],
        "id": "428c909f"
      },
      "outputs": [],
      "source": [
        "manufacturer_values = df['manufacturer'].value_counts()"
      ]
    },
    {
      "cell_type": "code",
      "execution_count": 20,
      "id": "8107f6cf",
      "metadata": {
        "execution": {
          "iopub.execute_input": "2023-05-23T10:59:23.132653Z",
          "iopub.status.busy": "2023-05-23T10:59:23.132189Z",
          "iopub.status.idle": "2023-05-23T10:59:23.139372Z",
          "shell.execute_reply": "2023-05-23T10:59:23.138147Z"
        },
        "papermill": {
          "duration": 0.044931,
          "end_time": "2023-05-23T10:59:23.142690",
          "exception": false,
          "start_time": "2023-05-23T10:59:23.097759",
          "status": "completed"
        },
        "tags": [],
        "colab": {
          "base_uri": "https://localhost:8080/"
        },
        "id": "8107f6cf",
        "outputId": "919a3f12-f0ac-4756-c6ea-5d2d30379580"
      },
      "outputs": [
        {
          "output_type": "stream",
          "name": "stdout",
          "text": [
            "ford                                                             60022\n",
            "chevrolet                                                        46111\n",
            "toyota                                                           29054\n",
            "honda                                                            18088\n",
            "jeep                                                             15913\n",
            "nissan                                                           15796\n",
            "ram                                                              14641\n",
            "gmc                                                              14283\n",
            "bmw                                                              12802\n",
            "dodge                                                            11137\n",
            "mercedes-benz                                                    10083\n",
            "hyundai                                                           8438\n",
            "volkswagen                                                        8283\n",
            "subaru                                                            8193\n",
            "lexus                                                             7138\n",
            "kia                                                               6969\n",
            "audi                                                              6816\n",
            "cadillac                                                          5911\n",
            "acura                                                             5469\n",
            "chrysler                                                          5103\n",
            "buick                                                             4753\n",
            "mazda                                                             4702\n",
            "infiniti                                                          4319\n",
            "lincoln                                                           3764\n",
            "volvo                                                             2907\n",
            "mitsubishi                                                        2874\n",
            "mini                                                              2090\n",
            "pontiac                                                           2022\n",
            "jaguar                                                            1813\n",
            "rover                                                             1572\n",
            "porsche                                                           1179\n",
            "mercury                                                           1005\n",
            "saturn                                                             932\n",
            "alfa-romeo                                                         859\n",
            "tesla                                                              812\n",
            "fiat                                                               699\n",
            "harley-davidson                                                    121\n",
            "ferrari                                                             69\n",
            "datsun                                                              61\n",
            " pricing and other specifications are subject to availability       40\n",
            " overall condition of the vehicle                                   28\n",
            "aston-martin                                                        22\n",
            "land rover                                                          15\n",
            " pricing                                                            12\n",
            " Optional Credit Insurance                                           3\n",
            " affordable cars                                                     2\n",
            " Nissan Silverado                                                    1\n",
            " E150                                                                1\n",
            " 2010                                                                1\n",
            " recuperaciones anteriores                                           1\n",
            " 40 mpg                                                              1\n",
            " 2015                                                                1\n",
            " Registration Fees                                                   1\n",
            "Name: manufacturer, dtype: int64\n"
          ]
        }
      ],
      "source": [
        "print(manufacturer_values)"
      ]
    },
    {
      "cell_type": "code",
      "execution_count": 21,
      "id": "e679e4cd",
      "metadata": {
        "execution": {
          "iopub.execute_input": "2023-05-23T10:59:23.209223Z",
          "iopub.status.busy": "2023-05-23T10:59:23.208713Z",
          "iopub.status.idle": "2023-05-23T10:59:41.302727Z",
          "shell.execute_reply": "2023-05-23T10:59:41.301250Z"
        },
        "papermill": {
          "duration": 18.131776,
          "end_time": "2023-05-23T10:59:41.305991",
          "exception": false,
          "start_time": "2023-05-23T10:59:23.174215",
          "status": "completed"
        },
        "tags": [],
        "id": "e679e4cd"
      },
      "outputs": [],
      "source": [
        "df['manufacturer'] = df['manufacturer'].apply(lambda x: x if str(x) in manufacturer_values[:20] else 'others')"
      ]
    },
    {
      "cell_type": "code",
      "execution_count": 22,
      "id": "b1f43faf",
      "metadata": {
        "execution": {
          "iopub.execute_input": "2023-05-23T10:59:41.373632Z",
          "iopub.status.busy": "2023-05-23T10:59:41.373151Z",
          "iopub.status.idle": "2023-05-23T11:00:00.237540Z",
          "shell.execute_reply": "2023-05-23T11:00:00.235674Z"
        },
        "papermill": {
          "duration": 18.903245,
          "end_time": "2023-05-23T11:00:00.241110",
          "exception": false,
          "start_time": "2023-05-23T10:59:41.337865",
          "status": "completed"
        },
        "tags": [],
        "id": "b1f43faf"
      },
      "outputs": [],
      "source": [
        "region_values = df['region'].value_counts()\n",
        "df['region'] = df['region'].apply(lambda x: x if str(x) in region_values[:50] else 'others')"
      ]
    },
    {
      "cell_type": "code",
      "execution_count": 23,
      "id": "fe866cb7",
      "metadata": {
        "execution": {
          "iopub.execute_input": "2023-05-23T11:00:00.308996Z",
          "iopub.status.busy": "2023-05-23T11:00:00.308510Z",
          "iopub.status.idle": "2023-05-23T11:00:19.424196Z",
          "shell.execute_reply": "2023-05-23T11:00:19.422498Z"
        },
        "papermill": {
          "duration": 19.155726,
          "end_time": "2023-05-23T11:00:19.428637",
          "exception": false,
          "start_time": "2023-05-23T11:00:00.272911",
          "status": "completed"
        },
        "tags": [],
        "id": "fe866cb7"
      },
      "outputs": [],
      "source": [
        "model_values = df['model'].value_counts()\n",
        "df['model'] = df['model'].apply(lambda x: x if str(x) in model_values[:50] else 'others')"
      ]
    },
    {
      "cell_type": "code",
      "execution_count": 24,
      "id": "76b72361",
      "metadata": {
        "execution": {
          "iopub.execute_input": "2023-05-23T11:00:19.495555Z",
          "iopub.status.busy": "2023-05-23T11:00:19.495074Z",
          "iopub.status.idle": "2023-05-23T11:00:20.146048Z",
          "shell.execute_reply": "2023-05-23T11:00:20.144805Z"
        },
        "papermill": {
          "duration": 0.687446,
          "end_time": "2023-05-23T11:00:20.149108",
          "exception": false,
          "start_time": "2023-05-23T11:00:19.461662",
          "status": "completed"
        },
        "tags": [],
        "colab": {
          "base_uri": "https://localhost:8080/"
        },
        "id": "76b72361",
        "outputId": "edb6ca9b-5299-4e2d-ebf2-bb148b1e04af"
      },
      "outputs": [
        {
          "output_type": "stream",
          "name": "stdout",
          "text": [
            "region 51\n",
            "price 15286\n",
            "year 119\n",
            "manufacturer 21\n",
            "model 51\n",
            "condition 58\n",
            "cylinders 33\n",
            "fuel 17\n",
            "odometer 101992\n",
            "title_status 19\n",
            "transmission 82\n",
            "drive 12\n",
            "type 22\n",
            "paint_color 49\n"
          ]
        }
      ],
      "source": [
        "for i in df.columns:\n",
        "  print(i, len(df[i].value_counts().index))"
      ]
    },
    {
      "cell_type": "code",
      "source": [
        "df_copy = pd.DataFrame(df).copy()\n",
        "df_copy"
      ],
      "metadata": {
        "colab": {
          "base_uri": "https://localhost:8080/",
          "height": 424
        },
        "id": "Um04NCe2EIHM",
        "outputId": "c4124845-cba5-472d-ab7f-58d412311c7c"
      },
      "id": "Um04NCe2EIHM",
      "execution_count": 36,
      "outputs": [
        {
          "output_type": "execute_result",
          "data": {
            "text/plain": [
              "        region  price  year manufacturer           model  condition  \\\n",
              "27      others  33590  2014          gmc          others       good   \n",
              "28      others  22590  2010    chevrolet  silverado 1500       good   \n",
              "29      others  39590  2020    chevrolet          others       good   \n",
              "30      others  30990  2017       toyota          others       good   \n",
              "31      others  15000  2013         ford          others  excellent   \n",
              "...        ...    ...   ...          ...             ...        ...   \n",
              "441797  others  23590  2019       nissan          others       good   \n",
              "441798  others  30590  2020       others          others       good   \n",
              "441799  others  34990  2020     cadillac          others       good   \n",
              "441800  others  28990  2018        lexus          others       good   \n",
              "441801  others  30590  2019          bmw          others       good   \n",
              "\n",
              "          cylinders    fuel odometer title_status transmission    drive  \\\n",
              "27      8 cylinders     gas    57923        clean        other  unknown   \n",
              "28      8 cylinders     gas    71229        clean        other  unknown   \n",
              "29      8 cylinders     gas    19160        clean        other  unknown   \n",
              "30      8 cylinders     gas    41124        clean        other  unknown   \n",
              "31      6 cylinders     gas   128000        clean    automatic      rwd   \n",
              "...             ...     ...      ...          ...          ...      ...   \n",
              "441797  6 cylinders     gas    32226        clean        other      fwd   \n",
              "441798      unknown     gas    12029        clean        other      fwd   \n",
              "441799      unknown  diesel     4174        clean        other  unknown   \n",
              "441800  6 cylinders     gas    30112        clean        other      fwd   \n",
              "441801      unknown     gas    22716        clean        other      rwd   \n",
              "\n",
              "             type paint_color  \n",
              "27         pickup       white  \n",
              "28         pickup        blue  \n",
              "29         pickup         red  \n",
              "30         pickup         red  \n",
              "31          truck       black  \n",
              "...           ...         ...  \n",
              "441797      sedan     unknown  \n",
              "441798      sedan         red  \n",
              "441799  hatchback       white  \n",
              "441800      sedan      silver  \n",
              "441801      coupe     unknown  \n",
              "\n",
              "[346932 rows x 14 columns]"
            ],
            "text/html": [
              "\n",
              "  <div id=\"df-1c390098-0bd6-4869-b69b-fec1702baa25\">\n",
              "    <div class=\"colab-df-container\">\n",
              "      <div>\n",
              "<style scoped>\n",
              "    .dataframe tbody tr th:only-of-type {\n",
              "        vertical-align: middle;\n",
              "    }\n",
              "\n",
              "    .dataframe tbody tr th {\n",
              "        vertical-align: top;\n",
              "    }\n",
              "\n",
              "    .dataframe thead th {\n",
              "        text-align: right;\n",
              "    }\n",
              "</style>\n",
              "<table border=\"1\" class=\"dataframe\">\n",
              "  <thead>\n",
              "    <tr style=\"text-align: right;\">\n",
              "      <th></th>\n",
              "      <th>region</th>\n",
              "      <th>price</th>\n",
              "      <th>year</th>\n",
              "      <th>manufacturer</th>\n",
              "      <th>model</th>\n",
              "      <th>condition</th>\n",
              "      <th>cylinders</th>\n",
              "      <th>fuel</th>\n",
              "      <th>odometer</th>\n",
              "      <th>title_status</th>\n",
              "      <th>transmission</th>\n",
              "      <th>drive</th>\n",
              "      <th>type</th>\n",
              "      <th>paint_color</th>\n",
              "    </tr>\n",
              "  </thead>\n",
              "  <tbody>\n",
              "    <tr>\n",
              "      <th>27</th>\n",
              "      <td>others</td>\n",
              "      <td>33590</td>\n",
              "      <td>2014</td>\n",
              "      <td>gmc</td>\n",
              "      <td>others</td>\n",
              "      <td>good</td>\n",
              "      <td>8 cylinders</td>\n",
              "      <td>gas</td>\n",
              "      <td>57923</td>\n",
              "      <td>clean</td>\n",
              "      <td>other</td>\n",
              "      <td>unknown</td>\n",
              "      <td>pickup</td>\n",
              "      <td>white</td>\n",
              "    </tr>\n",
              "    <tr>\n",
              "      <th>28</th>\n",
              "      <td>others</td>\n",
              "      <td>22590</td>\n",
              "      <td>2010</td>\n",
              "      <td>chevrolet</td>\n",
              "      <td>silverado 1500</td>\n",
              "      <td>good</td>\n",
              "      <td>8 cylinders</td>\n",
              "      <td>gas</td>\n",
              "      <td>71229</td>\n",
              "      <td>clean</td>\n",
              "      <td>other</td>\n",
              "      <td>unknown</td>\n",
              "      <td>pickup</td>\n",
              "      <td>blue</td>\n",
              "    </tr>\n",
              "    <tr>\n",
              "      <th>29</th>\n",
              "      <td>others</td>\n",
              "      <td>39590</td>\n",
              "      <td>2020</td>\n",
              "      <td>chevrolet</td>\n",
              "      <td>others</td>\n",
              "      <td>good</td>\n",
              "      <td>8 cylinders</td>\n",
              "      <td>gas</td>\n",
              "      <td>19160</td>\n",
              "      <td>clean</td>\n",
              "      <td>other</td>\n",
              "      <td>unknown</td>\n",
              "      <td>pickup</td>\n",
              "      <td>red</td>\n",
              "    </tr>\n",
              "    <tr>\n",
              "      <th>30</th>\n",
              "      <td>others</td>\n",
              "      <td>30990</td>\n",
              "      <td>2017</td>\n",
              "      <td>toyota</td>\n",
              "      <td>others</td>\n",
              "      <td>good</td>\n",
              "      <td>8 cylinders</td>\n",
              "      <td>gas</td>\n",
              "      <td>41124</td>\n",
              "      <td>clean</td>\n",
              "      <td>other</td>\n",
              "      <td>unknown</td>\n",
              "      <td>pickup</td>\n",
              "      <td>red</td>\n",
              "    </tr>\n",
              "    <tr>\n",
              "      <th>31</th>\n",
              "      <td>others</td>\n",
              "      <td>15000</td>\n",
              "      <td>2013</td>\n",
              "      <td>ford</td>\n",
              "      <td>others</td>\n",
              "      <td>excellent</td>\n",
              "      <td>6 cylinders</td>\n",
              "      <td>gas</td>\n",
              "      <td>128000</td>\n",
              "      <td>clean</td>\n",
              "      <td>automatic</td>\n",
              "      <td>rwd</td>\n",
              "      <td>truck</td>\n",
              "      <td>black</td>\n",
              "    </tr>\n",
              "    <tr>\n",
              "      <th>...</th>\n",
              "      <td>...</td>\n",
              "      <td>...</td>\n",
              "      <td>...</td>\n",
              "      <td>...</td>\n",
              "      <td>...</td>\n",
              "      <td>...</td>\n",
              "      <td>...</td>\n",
              "      <td>...</td>\n",
              "      <td>...</td>\n",
              "      <td>...</td>\n",
              "      <td>...</td>\n",
              "      <td>...</td>\n",
              "      <td>...</td>\n",
              "      <td>...</td>\n",
              "    </tr>\n",
              "    <tr>\n",
              "      <th>441797</th>\n",
              "      <td>others</td>\n",
              "      <td>23590</td>\n",
              "      <td>2019</td>\n",
              "      <td>nissan</td>\n",
              "      <td>others</td>\n",
              "      <td>good</td>\n",
              "      <td>6 cylinders</td>\n",
              "      <td>gas</td>\n",
              "      <td>32226</td>\n",
              "      <td>clean</td>\n",
              "      <td>other</td>\n",
              "      <td>fwd</td>\n",
              "      <td>sedan</td>\n",
              "      <td>unknown</td>\n",
              "    </tr>\n",
              "    <tr>\n",
              "      <th>441798</th>\n",
              "      <td>others</td>\n",
              "      <td>30590</td>\n",
              "      <td>2020</td>\n",
              "      <td>others</td>\n",
              "      <td>others</td>\n",
              "      <td>good</td>\n",
              "      <td>unknown</td>\n",
              "      <td>gas</td>\n",
              "      <td>12029</td>\n",
              "      <td>clean</td>\n",
              "      <td>other</td>\n",
              "      <td>fwd</td>\n",
              "      <td>sedan</td>\n",
              "      <td>red</td>\n",
              "    </tr>\n",
              "    <tr>\n",
              "      <th>441799</th>\n",
              "      <td>others</td>\n",
              "      <td>34990</td>\n",
              "      <td>2020</td>\n",
              "      <td>cadillac</td>\n",
              "      <td>others</td>\n",
              "      <td>good</td>\n",
              "      <td>unknown</td>\n",
              "      <td>diesel</td>\n",
              "      <td>4174</td>\n",
              "      <td>clean</td>\n",
              "      <td>other</td>\n",
              "      <td>unknown</td>\n",
              "      <td>hatchback</td>\n",
              "      <td>white</td>\n",
              "    </tr>\n",
              "    <tr>\n",
              "      <th>441800</th>\n",
              "      <td>others</td>\n",
              "      <td>28990</td>\n",
              "      <td>2018</td>\n",
              "      <td>lexus</td>\n",
              "      <td>others</td>\n",
              "      <td>good</td>\n",
              "      <td>6 cylinders</td>\n",
              "      <td>gas</td>\n",
              "      <td>30112</td>\n",
              "      <td>clean</td>\n",
              "      <td>other</td>\n",
              "      <td>fwd</td>\n",
              "      <td>sedan</td>\n",
              "      <td>silver</td>\n",
              "    </tr>\n",
              "    <tr>\n",
              "      <th>441801</th>\n",
              "      <td>others</td>\n",
              "      <td>30590</td>\n",
              "      <td>2019</td>\n",
              "      <td>bmw</td>\n",
              "      <td>others</td>\n",
              "      <td>good</td>\n",
              "      <td>unknown</td>\n",
              "      <td>gas</td>\n",
              "      <td>22716</td>\n",
              "      <td>clean</td>\n",
              "      <td>other</td>\n",
              "      <td>rwd</td>\n",
              "      <td>coupe</td>\n",
              "      <td>unknown</td>\n",
              "    </tr>\n",
              "  </tbody>\n",
              "</table>\n",
              "<p>346932 rows × 14 columns</p>\n",
              "</div>\n",
              "      <button class=\"colab-df-convert\" onclick=\"convertToInteractive('df-1c390098-0bd6-4869-b69b-fec1702baa25')\"\n",
              "              title=\"Convert this dataframe to an interactive table.\"\n",
              "              style=\"display:none;\">\n",
              "        \n",
              "  <svg xmlns=\"http://www.w3.org/2000/svg\" height=\"24px\"viewBox=\"0 0 24 24\"\n",
              "       width=\"24px\">\n",
              "    <path d=\"M0 0h24v24H0V0z\" fill=\"none\"/>\n",
              "    <path d=\"M18.56 5.44l.94 2.06.94-2.06 2.06-.94-2.06-.94-.94-2.06-.94 2.06-2.06.94zm-11 1L8.5 8.5l.94-2.06 2.06-.94-2.06-.94L8.5 2.5l-.94 2.06-2.06.94zm10 10l.94 2.06.94-2.06 2.06-.94-2.06-.94-.94-2.06-.94 2.06-2.06.94z\"/><path d=\"M17.41 7.96l-1.37-1.37c-.4-.4-.92-.59-1.43-.59-.52 0-1.04.2-1.43.59L10.3 9.45l-7.72 7.72c-.78.78-.78 2.05 0 2.83L4 21.41c.39.39.9.59 1.41.59.51 0 1.02-.2 1.41-.59l7.78-7.78 2.81-2.81c.8-.78.8-2.07 0-2.86zM5.41 20L4 18.59l7.72-7.72 1.47 1.35L5.41 20z\"/>\n",
              "  </svg>\n",
              "      </button>\n",
              "      \n",
              "  <style>\n",
              "    .colab-df-container {\n",
              "      display:flex;\n",
              "      flex-wrap:wrap;\n",
              "      gap: 12px;\n",
              "    }\n",
              "\n",
              "    .colab-df-convert {\n",
              "      background-color: #E8F0FE;\n",
              "      border: none;\n",
              "      border-radius: 50%;\n",
              "      cursor: pointer;\n",
              "      display: none;\n",
              "      fill: #1967D2;\n",
              "      height: 32px;\n",
              "      padding: 0 0 0 0;\n",
              "      width: 32px;\n",
              "    }\n",
              "\n",
              "    .colab-df-convert:hover {\n",
              "      background-color: #E2EBFA;\n",
              "      box-shadow: 0px 1px 2px rgba(60, 64, 67, 0.3), 0px 1px 3px 1px rgba(60, 64, 67, 0.15);\n",
              "      fill: #174EA6;\n",
              "    }\n",
              "\n",
              "    [theme=dark] .colab-df-convert {\n",
              "      background-color: #3B4455;\n",
              "      fill: #D2E3FC;\n",
              "    }\n",
              "\n",
              "    [theme=dark] .colab-df-convert:hover {\n",
              "      background-color: #434B5C;\n",
              "      box-shadow: 0px 1px 3px 1px rgba(0, 0, 0, 0.15);\n",
              "      filter: drop-shadow(0px 1px 2px rgba(0, 0, 0, 0.3));\n",
              "      fill: #FFFFFF;\n",
              "    }\n",
              "  </style>\n",
              "\n",
              "      <script>\n",
              "        const buttonEl =\n",
              "          document.querySelector('#df-1c390098-0bd6-4869-b69b-fec1702baa25 button.colab-df-convert');\n",
              "        buttonEl.style.display =\n",
              "          google.colab.kernel.accessAllowed ? 'block' : 'none';\n",
              "\n",
              "        async function convertToInteractive(key) {\n",
              "          const element = document.querySelector('#df-1c390098-0bd6-4869-b69b-fec1702baa25');\n",
              "          const dataTable =\n",
              "            await google.colab.kernel.invokeFunction('convertToInteractive',\n",
              "                                                     [key], {});\n",
              "          if (!dataTable) return;\n",
              "\n",
              "          const docLinkHtml = 'Like what you see? Visit the ' +\n",
              "            '<a target=\"_blank\" href=https://colab.research.google.com/notebooks/data_table.ipynb>data table notebook</a>'\n",
              "            + ' to learn more about interactive tables.';\n",
              "          element.innerHTML = '';\n",
              "          dataTable['output_type'] = 'display_data';\n",
              "          await google.colab.output.renderOutput(dataTable, element);\n",
              "          const docLink = document.createElement('div');\n",
              "          docLink.innerHTML = docLinkHtml;\n",
              "          element.appendChild(docLink);\n",
              "        }\n",
              "      </script>\n",
              "    </div>\n",
              "  </div>\n",
              "  "
            ]
          },
          "metadata": {},
          "execution_count": 36
        }
      ]
    },
    {
      "cell_type": "code",
      "source": [
        "df = pd.DataFrame(df_copy).copy()"
      ],
      "metadata": {
        "id": "Mq4pZfBzD7q_"
      },
      "id": "Mq4pZfBzD7q_",
      "execution_count": 41,
      "outputs": []
    },
    {
      "cell_type": "code",
      "source": [
        "df"
      ],
      "metadata": {
        "colab": {
          "base_uri": "https://localhost:8080/",
          "height": 424
        },
        "id": "YbZSwugAEDZj",
        "outputId": "74a9a8fc-6497-488d-935a-a3deac0e4bd4"
      },
      "id": "YbZSwugAEDZj",
      "execution_count": 104,
      "outputs": [
        {
          "output_type": "execute_result",
          "data": {
            "text/plain": [
              "        region    price  year manufacturer   model  condition    cylinders  \\\n",
              "46      others      0.0  2011         jeep  others  excellent      unknown   \n",
              "126     others      0.0  2018    chevrolet  others   like new  6 cylinders   \n",
              "127     others      0.0  2019    chevrolet  others   like new  6 cylinders   \n",
              "128     others      0.0  2018    chevrolet  others   like new  6 cylinders   \n",
              "191     others      0.0  2015       nissan  sentra  excellent  4 cylinders   \n",
              "...        ...      ...   ...          ...     ...        ...          ...   \n",
              "441797  others  23590.0  2019       nissan  others       good  6 cylinders   \n",
              "441798  others  30590.0  2020       others  others       good      unknown   \n",
              "441799  others  34990.0  2020     cadillac  others       good      unknown   \n",
              "441800  others  28990.0  2018        lexus  others       good  6 cylinders   \n",
              "441801  others  30590.0  2019          bmw  others       good      unknown   \n",
              "\n",
              "          fuel  odometer title_status transmission    drive       type  \\\n",
              "46         gas   99615.0        clean    automatic  unknown        SUV   \n",
              "126        gas   68472.0        clean    automatic      rwd        van   \n",
              "127        gas   69125.0        clean    automatic      rwd        van   \n",
              "128        gas   66555.0        clean    automatic      rwd        van   \n",
              "191        gas   99505.0        clean    automatic      fwd      sedan   \n",
              "...        ...       ...          ...          ...      ...        ...   \n",
              "441797     gas   32226.0        clean        other      fwd      sedan   \n",
              "441798     gas   12029.0        clean        other      fwd      sedan   \n",
              "441799  diesel    4174.0        clean        other  unknown  hatchback   \n",
              "441800     gas   30112.0        clean        other      fwd      sedan   \n",
              "441801     gas   22716.0        clean        other      rwd      coupe   \n",
              "\n",
              "       paint_color  \n",
              "46         unknown  \n",
              "126          white  \n",
              "127          white  \n",
              "128          white  \n",
              "191         silver  \n",
              "...            ...  \n",
              "441797     unknown  \n",
              "441798         red  \n",
              "441799       white  \n",
              "441800      silver  \n",
              "441801     unknown  \n",
              "\n",
              "[345530 rows x 14 columns]"
            ],
            "text/html": [
              "\n",
              "  <div id=\"df-bf67e9b7-9330-418d-a434-df1c84850e63\">\n",
              "    <div class=\"colab-df-container\">\n",
              "      <div>\n",
              "<style scoped>\n",
              "    .dataframe tbody tr th:only-of-type {\n",
              "        vertical-align: middle;\n",
              "    }\n",
              "\n",
              "    .dataframe tbody tr th {\n",
              "        vertical-align: top;\n",
              "    }\n",
              "\n",
              "    .dataframe thead th {\n",
              "        text-align: right;\n",
              "    }\n",
              "</style>\n",
              "<table border=\"1\" class=\"dataframe\">\n",
              "  <thead>\n",
              "    <tr style=\"text-align: right;\">\n",
              "      <th></th>\n",
              "      <th>region</th>\n",
              "      <th>price</th>\n",
              "      <th>year</th>\n",
              "      <th>manufacturer</th>\n",
              "      <th>model</th>\n",
              "      <th>condition</th>\n",
              "      <th>cylinders</th>\n",
              "      <th>fuel</th>\n",
              "      <th>odometer</th>\n",
              "      <th>title_status</th>\n",
              "      <th>transmission</th>\n",
              "      <th>drive</th>\n",
              "      <th>type</th>\n",
              "      <th>paint_color</th>\n",
              "    </tr>\n",
              "  </thead>\n",
              "  <tbody>\n",
              "    <tr>\n",
              "      <th>46</th>\n",
              "      <td>others</td>\n",
              "      <td>0.0</td>\n",
              "      <td>2011</td>\n",
              "      <td>jeep</td>\n",
              "      <td>others</td>\n",
              "      <td>excellent</td>\n",
              "      <td>unknown</td>\n",
              "      <td>gas</td>\n",
              "      <td>99615.0</td>\n",
              "      <td>clean</td>\n",
              "      <td>automatic</td>\n",
              "      <td>unknown</td>\n",
              "      <td>SUV</td>\n",
              "      <td>unknown</td>\n",
              "    </tr>\n",
              "    <tr>\n",
              "      <th>126</th>\n",
              "      <td>others</td>\n",
              "      <td>0.0</td>\n",
              "      <td>2018</td>\n",
              "      <td>chevrolet</td>\n",
              "      <td>others</td>\n",
              "      <td>like new</td>\n",
              "      <td>6 cylinders</td>\n",
              "      <td>gas</td>\n",
              "      <td>68472.0</td>\n",
              "      <td>clean</td>\n",
              "      <td>automatic</td>\n",
              "      <td>rwd</td>\n",
              "      <td>van</td>\n",
              "      <td>white</td>\n",
              "    </tr>\n",
              "    <tr>\n",
              "      <th>127</th>\n",
              "      <td>others</td>\n",
              "      <td>0.0</td>\n",
              "      <td>2019</td>\n",
              "      <td>chevrolet</td>\n",
              "      <td>others</td>\n",
              "      <td>like new</td>\n",
              "      <td>6 cylinders</td>\n",
              "      <td>gas</td>\n",
              "      <td>69125.0</td>\n",
              "      <td>clean</td>\n",
              "      <td>automatic</td>\n",
              "      <td>rwd</td>\n",
              "      <td>van</td>\n",
              "      <td>white</td>\n",
              "    </tr>\n",
              "    <tr>\n",
              "      <th>128</th>\n",
              "      <td>others</td>\n",
              "      <td>0.0</td>\n",
              "      <td>2018</td>\n",
              "      <td>chevrolet</td>\n",
              "      <td>others</td>\n",
              "      <td>like new</td>\n",
              "      <td>6 cylinders</td>\n",
              "      <td>gas</td>\n",
              "      <td>66555.0</td>\n",
              "      <td>clean</td>\n",
              "      <td>automatic</td>\n",
              "      <td>rwd</td>\n",
              "      <td>van</td>\n",
              "      <td>white</td>\n",
              "    </tr>\n",
              "    <tr>\n",
              "      <th>191</th>\n",
              "      <td>others</td>\n",
              "      <td>0.0</td>\n",
              "      <td>2015</td>\n",
              "      <td>nissan</td>\n",
              "      <td>sentra</td>\n",
              "      <td>excellent</td>\n",
              "      <td>4 cylinders</td>\n",
              "      <td>gas</td>\n",
              "      <td>99505.0</td>\n",
              "      <td>clean</td>\n",
              "      <td>automatic</td>\n",
              "      <td>fwd</td>\n",
              "      <td>sedan</td>\n",
              "      <td>silver</td>\n",
              "    </tr>\n",
              "    <tr>\n",
              "      <th>...</th>\n",
              "      <td>...</td>\n",
              "      <td>...</td>\n",
              "      <td>...</td>\n",
              "      <td>...</td>\n",
              "      <td>...</td>\n",
              "      <td>...</td>\n",
              "      <td>...</td>\n",
              "      <td>...</td>\n",
              "      <td>...</td>\n",
              "      <td>...</td>\n",
              "      <td>...</td>\n",
              "      <td>...</td>\n",
              "      <td>...</td>\n",
              "      <td>...</td>\n",
              "    </tr>\n",
              "    <tr>\n",
              "      <th>441797</th>\n",
              "      <td>others</td>\n",
              "      <td>23590.0</td>\n",
              "      <td>2019</td>\n",
              "      <td>nissan</td>\n",
              "      <td>others</td>\n",
              "      <td>good</td>\n",
              "      <td>6 cylinders</td>\n",
              "      <td>gas</td>\n",
              "      <td>32226.0</td>\n",
              "      <td>clean</td>\n",
              "      <td>other</td>\n",
              "      <td>fwd</td>\n",
              "      <td>sedan</td>\n",
              "      <td>unknown</td>\n",
              "    </tr>\n",
              "    <tr>\n",
              "      <th>441798</th>\n",
              "      <td>others</td>\n",
              "      <td>30590.0</td>\n",
              "      <td>2020</td>\n",
              "      <td>others</td>\n",
              "      <td>others</td>\n",
              "      <td>good</td>\n",
              "      <td>unknown</td>\n",
              "      <td>gas</td>\n",
              "      <td>12029.0</td>\n",
              "      <td>clean</td>\n",
              "      <td>other</td>\n",
              "      <td>fwd</td>\n",
              "      <td>sedan</td>\n",
              "      <td>red</td>\n",
              "    </tr>\n",
              "    <tr>\n",
              "      <th>441799</th>\n",
              "      <td>others</td>\n",
              "      <td>34990.0</td>\n",
              "      <td>2020</td>\n",
              "      <td>cadillac</td>\n",
              "      <td>others</td>\n",
              "      <td>good</td>\n",
              "      <td>unknown</td>\n",
              "      <td>diesel</td>\n",
              "      <td>4174.0</td>\n",
              "      <td>clean</td>\n",
              "      <td>other</td>\n",
              "      <td>unknown</td>\n",
              "      <td>hatchback</td>\n",
              "      <td>white</td>\n",
              "    </tr>\n",
              "    <tr>\n",
              "      <th>441800</th>\n",
              "      <td>others</td>\n",
              "      <td>28990.0</td>\n",
              "      <td>2018</td>\n",
              "      <td>lexus</td>\n",
              "      <td>others</td>\n",
              "      <td>good</td>\n",
              "      <td>6 cylinders</td>\n",
              "      <td>gas</td>\n",
              "      <td>30112.0</td>\n",
              "      <td>clean</td>\n",
              "      <td>other</td>\n",
              "      <td>fwd</td>\n",
              "      <td>sedan</td>\n",
              "      <td>silver</td>\n",
              "    </tr>\n",
              "    <tr>\n",
              "      <th>441801</th>\n",
              "      <td>others</td>\n",
              "      <td>30590.0</td>\n",
              "      <td>2019</td>\n",
              "      <td>bmw</td>\n",
              "      <td>others</td>\n",
              "      <td>good</td>\n",
              "      <td>unknown</td>\n",
              "      <td>gas</td>\n",
              "      <td>22716.0</td>\n",
              "      <td>clean</td>\n",
              "      <td>other</td>\n",
              "      <td>rwd</td>\n",
              "      <td>coupe</td>\n",
              "      <td>unknown</td>\n",
              "    </tr>\n",
              "  </tbody>\n",
              "</table>\n",
              "<p>345530 rows × 14 columns</p>\n",
              "</div>\n",
              "      <button class=\"colab-df-convert\" onclick=\"convertToInteractive('df-bf67e9b7-9330-418d-a434-df1c84850e63')\"\n",
              "              title=\"Convert this dataframe to an interactive table.\"\n",
              "              style=\"display:none;\">\n",
              "        \n",
              "  <svg xmlns=\"http://www.w3.org/2000/svg\" height=\"24px\"viewBox=\"0 0 24 24\"\n",
              "       width=\"24px\">\n",
              "    <path d=\"M0 0h24v24H0V0z\" fill=\"none\"/>\n",
              "    <path d=\"M18.56 5.44l.94 2.06.94-2.06 2.06-.94-2.06-.94-.94-2.06-.94 2.06-2.06.94zm-11 1L8.5 8.5l.94-2.06 2.06-.94-2.06-.94L8.5 2.5l-.94 2.06-2.06.94zm10 10l.94 2.06.94-2.06 2.06-.94-2.06-.94-.94-2.06-.94 2.06-2.06.94z\"/><path d=\"M17.41 7.96l-1.37-1.37c-.4-.4-.92-.59-1.43-.59-.52 0-1.04.2-1.43.59L10.3 9.45l-7.72 7.72c-.78.78-.78 2.05 0 2.83L4 21.41c.39.39.9.59 1.41.59.51 0 1.02-.2 1.41-.59l7.78-7.78 2.81-2.81c.8-.78.8-2.07 0-2.86zM5.41 20L4 18.59l7.72-7.72 1.47 1.35L5.41 20z\"/>\n",
              "  </svg>\n",
              "      </button>\n",
              "      \n",
              "  <style>\n",
              "    .colab-df-container {\n",
              "      display:flex;\n",
              "      flex-wrap:wrap;\n",
              "      gap: 12px;\n",
              "    }\n",
              "\n",
              "    .colab-df-convert {\n",
              "      background-color: #E8F0FE;\n",
              "      border: none;\n",
              "      border-radius: 50%;\n",
              "      cursor: pointer;\n",
              "      display: none;\n",
              "      fill: #1967D2;\n",
              "      height: 32px;\n",
              "      padding: 0 0 0 0;\n",
              "      width: 32px;\n",
              "    }\n",
              "\n",
              "    .colab-df-convert:hover {\n",
              "      background-color: #E2EBFA;\n",
              "      box-shadow: 0px 1px 2px rgba(60, 64, 67, 0.3), 0px 1px 3px 1px rgba(60, 64, 67, 0.15);\n",
              "      fill: #174EA6;\n",
              "    }\n",
              "\n",
              "    [theme=dark] .colab-df-convert {\n",
              "      background-color: #3B4455;\n",
              "      fill: #D2E3FC;\n",
              "    }\n",
              "\n",
              "    [theme=dark] .colab-df-convert:hover {\n",
              "      background-color: #434B5C;\n",
              "      box-shadow: 0px 1px 3px 1px rgba(0, 0, 0, 0.15);\n",
              "      filter: drop-shadow(0px 1px 2px rgba(0, 0, 0, 0.3));\n",
              "      fill: #FFFFFF;\n",
              "    }\n",
              "  </style>\n",
              "\n",
              "      <script>\n",
              "        const buttonEl =\n",
              "          document.querySelector('#df-bf67e9b7-9330-418d-a434-df1c84850e63 button.colab-df-convert');\n",
              "        buttonEl.style.display =\n",
              "          google.colab.kernel.accessAllowed ? 'block' : 'none';\n",
              "\n",
              "        async function convertToInteractive(key) {\n",
              "          const element = document.querySelector('#df-bf67e9b7-9330-418d-a434-df1c84850e63');\n",
              "          const dataTable =\n",
              "            await google.colab.kernel.invokeFunction('convertToInteractive',\n",
              "                                                     [key], {});\n",
              "          if (!dataTable) return;\n",
              "\n",
              "          const docLinkHtml = 'Like what you see? Visit the ' +\n",
              "            '<a target=\"_blank\" href=https://colab.research.google.com/notebooks/data_table.ipynb>data table notebook</a>'\n",
              "            + ' to learn more about interactive tables.';\n",
              "          element.innerHTML = '';\n",
              "          dataTable['output_type'] = 'display_data';\n",
              "          await google.colab.output.renderOutput(dataTable, element);\n",
              "          const docLink = document.createElement('div');\n",
              "          docLink.innerHTML = docLinkHtml;\n",
              "          element.appendChild(docLink);\n",
              "        }\n",
              "      </script>\n",
              "    </div>\n",
              "  </div>\n",
              "  "
            ]
          },
          "metadata": {},
          "execution_count": 104
        }
      ]
    },
    {
      "cell_type": "code",
      "source": [
        "df['price'] = pd.to_numeric(df['price'], errors='coerce')"
      ],
      "metadata": {
        "id": "KaYpH0GHFbBn"
      },
      "id": "KaYpH0GHFbBn",
      "execution_count": 48,
      "outputs": []
    },
    {
      "cell_type": "code",
      "source": [
        "df = df.dropna(subset=['price'])"
      ],
      "metadata": {
        "id": "Tdp9mh7GHvs3"
      },
      "id": "Tdp9mh7GHvs3",
      "execution_count": 49,
      "outputs": []
    },
    {
      "cell_type": "code",
      "source": [
        "df"
      ],
      "metadata": {
        "colab": {
          "base_uri": "https://localhost:8080/",
          "height": 424
        },
        "id": "bDZYT3BoD4We",
        "outputId": "ad48f9a7-a6ba-4727-cd5a-7a1fac4af44f"
      },
      "id": "bDZYT3BoD4We",
      "execution_count": 53,
      "outputs": [
        {
          "output_type": "execute_result",
          "data": {
            "text/plain": [
              "        region    price  year manufacturer   model  condition    cylinders  \\\n",
              "46      others      0.0  2011         jeep  others  excellent      unknown   \n",
              "126     others      0.0  2018    chevrolet  others   like new  6 cylinders   \n",
              "127     others      0.0  2019    chevrolet  others   like new  6 cylinders   \n",
              "128     others      0.0  2018    chevrolet  others   like new  6 cylinders   \n",
              "191     others      0.0  2015       nissan  sentra  excellent  4 cylinders   \n",
              "...        ...      ...   ...          ...     ...        ...          ...   \n",
              "441797  others  23590.0  2019       nissan  others       good  6 cylinders   \n",
              "441798  others  30590.0  2020       others  others       good      unknown   \n",
              "441799  others  34990.0  2020     cadillac  others       good      unknown   \n",
              "441800  others  28990.0  2018        lexus  others       good  6 cylinders   \n",
              "441801  others  30590.0  2019          bmw  others       good      unknown   \n",
              "\n",
              "          fuel odometer title_status transmission    drive       type  \\\n",
              "46         gas    99615        clean    automatic  unknown        SUV   \n",
              "126        gas    68472        clean    automatic      rwd        van   \n",
              "127        gas    69125        clean    automatic      rwd        van   \n",
              "128        gas    66555        clean    automatic      rwd        van   \n",
              "191        gas    99505        clean    automatic      fwd      sedan   \n",
              "...        ...      ...          ...          ...      ...        ...   \n",
              "441797     gas    32226        clean        other      fwd      sedan   \n",
              "441798     gas    12029        clean        other      fwd      sedan   \n",
              "441799  diesel     4174        clean        other  unknown  hatchback   \n",
              "441800     gas    30112        clean        other      fwd      sedan   \n",
              "441801     gas    22716        clean        other      rwd      coupe   \n",
              "\n",
              "       paint_color  \n",
              "46         unknown  \n",
              "126          white  \n",
              "127          white  \n",
              "128          white  \n",
              "191         silver  \n",
              "...            ...  \n",
              "441797     unknown  \n",
              "441798         red  \n",
              "441799       white  \n",
              "441800      silver  \n",
              "441801     unknown  \n",
              "\n",
              "[345532 rows x 14 columns]"
            ],
            "text/html": [
              "\n",
              "  <div id=\"df-c007d352-1496-4b43-9b06-dae5d6576af9\">\n",
              "    <div class=\"colab-df-container\">\n",
              "      <div>\n",
              "<style scoped>\n",
              "    .dataframe tbody tr th:only-of-type {\n",
              "        vertical-align: middle;\n",
              "    }\n",
              "\n",
              "    .dataframe tbody tr th {\n",
              "        vertical-align: top;\n",
              "    }\n",
              "\n",
              "    .dataframe thead th {\n",
              "        text-align: right;\n",
              "    }\n",
              "</style>\n",
              "<table border=\"1\" class=\"dataframe\">\n",
              "  <thead>\n",
              "    <tr style=\"text-align: right;\">\n",
              "      <th></th>\n",
              "      <th>region</th>\n",
              "      <th>price</th>\n",
              "      <th>year</th>\n",
              "      <th>manufacturer</th>\n",
              "      <th>model</th>\n",
              "      <th>condition</th>\n",
              "      <th>cylinders</th>\n",
              "      <th>fuel</th>\n",
              "      <th>odometer</th>\n",
              "      <th>title_status</th>\n",
              "      <th>transmission</th>\n",
              "      <th>drive</th>\n",
              "      <th>type</th>\n",
              "      <th>paint_color</th>\n",
              "    </tr>\n",
              "  </thead>\n",
              "  <tbody>\n",
              "    <tr>\n",
              "      <th>46</th>\n",
              "      <td>others</td>\n",
              "      <td>0.0</td>\n",
              "      <td>2011</td>\n",
              "      <td>jeep</td>\n",
              "      <td>others</td>\n",
              "      <td>excellent</td>\n",
              "      <td>unknown</td>\n",
              "      <td>gas</td>\n",
              "      <td>99615</td>\n",
              "      <td>clean</td>\n",
              "      <td>automatic</td>\n",
              "      <td>unknown</td>\n",
              "      <td>SUV</td>\n",
              "      <td>unknown</td>\n",
              "    </tr>\n",
              "    <tr>\n",
              "      <th>126</th>\n",
              "      <td>others</td>\n",
              "      <td>0.0</td>\n",
              "      <td>2018</td>\n",
              "      <td>chevrolet</td>\n",
              "      <td>others</td>\n",
              "      <td>like new</td>\n",
              "      <td>6 cylinders</td>\n",
              "      <td>gas</td>\n",
              "      <td>68472</td>\n",
              "      <td>clean</td>\n",
              "      <td>automatic</td>\n",
              "      <td>rwd</td>\n",
              "      <td>van</td>\n",
              "      <td>white</td>\n",
              "    </tr>\n",
              "    <tr>\n",
              "      <th>127</th>\n",
              "      <td>others</td>\n",
              "      <td>0.0</td>\n",
              "      <td>2019</td>\n",
              "      <td>chevrolet</td>\n",
              "      <td>others</td>\n",
              "      <td>like new</td>\n",
              "      <td>6 cylinders</td>\n",
              "      <td>gas</td>\n",
              "      <td>69125</td>\n",
              "      <td>clean</td>\n",
              "      <td>automatic</td>\n",
              "      <td>rwd</td>\n",
              "      <td>van</td>\n",
              "      <td>white</td>\n",
              "    </tr>\n",
              "    <tr>\n",
              "      <th>128</th>\n",
              "      <td>others</td>\n",
              "      <td>0.0</td>\n",
              "      <td>2018</td>\n",
              "      <td>chevrolet</td>\n",
              "      <td>others</td>\n",
              "      <td>like new</td>\n",
              "      <td>6 cylinders</td>\n",
              "      <td>gas</td>\n",
              "      <td>66555</td>\n",
              "      <td>clean</td>\n",
              "      <td>automatic</td>\n",
              "      <td>rwd</td>\n",
              "      <td>van</td>\n",
              "      <td>white</td>\n",
              "    </tr>\n",
              "    <tr>\n",
              "      <th>191</th>\n",
              "      <td>others</td>\n",
              "      <td>0.0</td>\n",
              "      <td>2015</td>\n",
              "      <td>nissan</td>\n",
              "      <td>sentra</td>\n",
              "      <td>excellent</td>\n",
              "      <td>4 cylinders</td>\n",
              "      <td>gas</td>\n",
              "      <td>99505</td>\n",
              "      <td>clean</td>\n",
              "      <td>automatic</td>\n",
              "      <td>fwd</td>\n",
              "      <td>sedan</td>\n",
              "      <td>silver</td>\n",
              "    </tr>\n",
              "    <tr>\n",
              "      <th>...</th>\n",
              "      <td>...</td>\n",
              "      <td>...</td>\n",
              "      <td>...</td>\n",
              "      <td>...</td>\n",
              "      <td>...</td>\n",
              "      <td>...</td>\n",
              "      <td>...</td>\n",
              "      <td>...</td>\n",
              "      <td>...</td>\n",
              "      <td>...</td>\n",
              "      <td>...</td>\n",
              "      <td>...</td>\n",
              "      <td>...</td>\n",
              "      <td>...</td>\n",
              "    </tr>\n",
              "    <tr>\n",
              "      <th>441797</th>\n",
              "      <td>others</td>\n",
              "      <td>23590.0</td>\n",
              "      <td>2019</td>\n",
              "      <td>nissan</td>\n",
              "      <td>others</td>\n",
              "      <td>good</td>\n",
              "      <td>6 cylinders</td>\n",
              "      <td>gas</td>\n",
              "      <td>32226</td>\n",
              "      <td>clean</td>\n",
              "      <td>other</td>\n",
              "      <td>fwd</td>\n",
              "      <td>sedan</td>\n",
              "      <td>unknown</td>\n",
              "    </tr>\n",
              "    <tr>\n",
              "      <th>441798</th>\n",
              "      <td>others</td>\n",
              "      <td>30590.0</td>\n",
              "      <td>2020</td>\n",
              "      <td>others</td>\n",
              "      <td>others</td>\n",
              "      <td>good</td>\n",
              "      <td>unknown</td>\n",
              "      <td>gas</td>\n",
              "      <td>12029</td>\n",
              "      <td>clean</td>\n",
              "      <td>other</td>\n",
              "      <td>fwd</td>\n",
              "      <td>sedan</td>\n",
              "      <td>red</td>\n",
              "    </tr>\n",
              "    <tr>\n",
              "      <th>441799</th>\n",
              "      <td>others</td>\n",
              "      <td>34990.0</td>\n",
              "      <td>2020</td>\n",
              "      <td>cadillac</td>\n",
              "      <td>others</td>\n",
              "      <td>good</td>\n",
              "      <td>unknown</td>\n",
              "      <td>diesel</td>\n",
              "      <td>4174</td>\n",
              "      <td>clean</td>\n",
              "      <td>other</td>\n",
              "      <td>unknown</td>\n",
              "      <td>hatchback</td>\n",
              "      <td>white</td>\n",
              "    </tr>\n",
              "    <tr>\n",
              "      <th>441800</th>\n",
              "      <td>others</td>\n",
              "      <td>28990.0</td>\n",
              "      <td>2018</td>\n",
              "      <td>lexus</td>\n",
              "      <td>others</td>\n",
              "      <td>good</td>\n",
              "      <td>6 cylinders</td>\n",
              "      <td>gas</td>\n",
              "      <td>30112</td>\n",
              "      <td>clean</td>\n",
              "      <td>other</td>\n",
              "      <td>fwd</td>\n",
              "      <td>sedan</td>\n",
              "      <td>silver</td>\n",
              "    </tr>\n",
              "    <tr>\n",
              "      <th>441801</th>\n",
              "      <td>others</td>\n",
              "      <td>30590.0</td>\n",
              "      <td>2019</td>\n",
              "      <td>bmw</td>\n",
              "      <td>others</td>\n",
              "      <td>good</td>\n",
              "      <td>unknown</td>\n",
              "      <td>gas</td>\n",
              "      <td>22716</td>\n",
              "      <td>clean</td>\n",
              "      <td>other</td>\n",
              "      <td>rwd</td>\n",
              "      <td>coupe</td>\n",
              "      <td>unknown</td>\n",
              "    </tr>\n",
              "  </tbody>\n",
              "</table>\n",
              "<p>345532 rows × 14 columns</p>\n",
              "</div>\n",
              "      <button class=\"colab-df-convert\" onclick=\"convertToInteractive('df-c007d352-1496-4b43-9b06-dae5d6576af9')\"\n",
              "              title=\"Convert this dataframe to an interactive table.\"\n",
              "              style=\"display:none;\">\n",
              "        \n",
              "  <svg xmlns=\"http://www.w3.org/2000/svg\" height=\"24px\"viewBox=\"0 0 24 24\"\n",
              "       width=\"24px\">\n",
              "    <path d=\"M0 0h24v24H0V0z\" fill=\"none\"/>\n",
              "    <path d=\"M18.56 5.44l.94 2.06.94-2.06 2.06-.94-2.06-.94-.94-2.06-.94 2.06-2.06.94zm-11 1L8.5 8.5l.94-2.06 2.06-.94-2.06-.94L8.5 2.5l-.94 2.06-2.06.94zm10 10l.94 2.06.94-2.06 2.06-.94-2.06-.94-.94-2.06-.94 2.06-2.06.94z\"/><path d=\"M17.41 7.96l-1.37-1.37c-.4-.4-.92-.59-1.43-.59-.52 0-1.04.2-1.43.59L10.3 9.45l-7.72 7.72c-.78.78-.78 2.05 0 2.83L4 21.41c.39.39.9.59 1.41.59.51 0 1.02-.2 1.41-.59l7.78-7.78 2.81-2.81c.8-.78.8-2.07 0-2.86zM5.41 20L4 18.59l7.72-7.72 1.47 1.35L5.41 20z\"/>\n",
              "  </svg>\n",
              "      </button>\n",
              "      \n",
              "  <style>\n",
              "    .colab-df-container {\n",
              "      display:flex;\n",
              "      flex-wrap:wrap;\n",
              "      gap: 12px;\n",
              "    }\n",
              "\n",
              "    .colab-df-convert {\n",
              "      background-color: #E8F0FE;\n",
              "      border: none;\n",
              "      border-radius: 50%;\n",
              "      cursor: pointer;\n",
              "      display: none;\n",
              "      fill: #1967D2;\n",
              "      height: 32px;\n",
              "      padding: 0 0 0 0;\n",
              "      width: 32px;\n",
              "    }\n",
              "\n",
              "    .colab-df-convert:hover {\n",
              "      background-color: #E2EBFA;\n",
              "      box-shadow: 0px 1px 2px rgba(60, 64, 67, 0.3), 0px 1px 3px 1px rgba(60, 64, 67, 0.15);\n",
              "      fill: #174EA6;\n",
              "    }\n",
              "\n",
              "    [theme=dark] .colab-df-convert {\n",
              "      background-color: #3B4455;\n",
              "      fill: #D2E3FC;\n",
              "    }\n",
              "\n",
              "    [theme=dark] .colab-df-convert:hover {\n",
              "      background-color: #434B5C;\n",
              "      box-shadow: 0px 1px 3px 1px rgba(0, 0, 0, 0.15);\n",
              "      filter: drop-shadow(0px 1px 2px rgba(0, 0, 0, 0.3));\n",
              "      fill: #FFFFFF;\n",
              "    }\n",
              "  </style>\n",
              "\n",
              "      <script>\n",
              "        const buttonEl =\n",
              "          document.querySelector('#df-c007d352-1496-4b43-9b06-dae5d6576af9 button.colab-df-convert');\n",
              "        buttonEl.style.display =\n",
              "          google.colab.kernel.accessAllowed ? 'block' : 'none';\n",
              "\n",
              "        async function convertToInteractive(key) {\n",
              "          const element = document.querySelector('#df-c007d352-1496-4b43-9b06-dae5d6576af9');\n",
              "          const dataTable =\n",
              "            await google.colab.kernel.invokeFunction('convertToInteractive',\n",
              "                                                     [key], {});\n",
              "          if (!dataTable) return;\n",
              "\n",
              "          const docLinkHtml = 'Like what you see? Visit the ' +\n",
              "            '<a target=\"_blank\" href=https://colab.research.google.com/notebooks/data_table.ipynb>data table notebook</a>'\n",
              "            + ' to learn more about interactive tables.';\n",
              "          element.innerHTML = '';\n",
              "          dataTable['output_type'] = 'display_data';\n",
              "          await google.colab.output.renderOutput(dataTable, element);\n",
              "          const docLink = document.createElement('div');\n",
              "          docLink.innerHTML = docLinkHtml;\n",
              "          element.appendChild(docLink);\n",
              "        }\n",
              "      </script>\n",
              "    </div>\n",
              "  </div>\n",
              "  "
            ]
          },
          "metadata": {},
          "execution_count": 53
        }
      ]
    },
    {
      "cell_type": "markdown",
      "id": "3e22726a",
      "metadata": {
        "papermill": {
          "duration": 0.031833,
          "end_time": "2023-05-23T11:00:20.214280",
          "exception": false,
          "start_time": "2023-05-23T11:00:20.182447",
          "status": "completed"
        },
        "tags": [],
        "id": "3e22726a"
      },
      "source": [
        "**Numerical Data Cleaning**"
      ]
    },
    {
      "cell_type": "code",
      "execution_count": 52,
      "id": "ad163665",
      "metadata": {
        "execution": {
          "iopub.execute_input": "2023-05-23T11:00:20.282743Z",
          "iopub.status.busy": "2023-05-23T11:00:20.282241Z",
          "iopub.status.idle": "2023-05-23T11:00:20.359640Z",
          "shell.execute_reply": "2023-05-23T11:00:20.358128Z"
        },
        "papermill": {
          "duration": 0.114302,
          "end_time": "2023-05-23T11:00:20.362580",
          "exception": false,
          "start_time": "2023-05-23T11:00:20.248278",
          "status": "completed"
        },
        "tags": [],
        "colab": {
          "base_uri": "https://localhost:8080/",
          "height": 300
        },
        "id": "ad163665",
        "outputId": "11f9b599-d415-4ee4-9ca9-a2ac7f609cf3"
      },
      "outputs": [
        {
          "output_type": "execute_result",
          "data": {
            "text/plain": [
              "              price\n",
              "count  3.455320e+05\n",
              "mean   6.987164e+04\n",
              "std    1.215567e+07\n",
              "min    0.000000e+00\n",
              "25%    6.000000e+03\n",
              "50%    1.450000e+04\n",
              "75%    2.699000e+04\n",
              "max    3.736929e+09"
            ],
            "text/html": [
              "\n",
              "  <div id=\"df-5b67bce9-6518-4563-b62f-90c249104a4f\">\n",
              "    <div class=\"colab-df-container\">\n",
              "      <div>\n",
              "<style scoped>\n",
              "    .dataframe tbody tr th:only-of-type {\n",
              "        vertical-align: middle;\n",
              "    }\n",
              "\n",
              "    .dataframe tbody tr th {\n",
              "        vertical-align: top;\n",
              "    }\n",
              "\n",
              "    .dataframe thead th {\n",
              "        text-align: right;\n",
              "    }\n",
              "</style>\n",
              "<table border=\"1\" class=\"dataframe\">\n",
              "  <thead>\n",
              "    <tr style=\"text-align: right;\">\n",
              "      <th></th>\n",
              "      <th>price</th>\n",
              "    </tr>\n",
              "  </thead>\n",
              "  <tbody>\n",
              "    <tr>\n",
              "      <th>count</th>\n",
              "      <td>3.455320e+05</td>\n",
              "    </tr>\n",
              "    <tr>\n",
              "      <th>mean</th>\n",
              "      <td>6.987164e+04</td>\n",
              "    </tr>\n",
              "    <tr>\n",
              "      <th>std</th>\n",
              "      <td>1.215567e+07</td>\n",
              "    </tr>\n",
              "    <tr>\n",
              "      <th>min</th>\n",
              "      <td>0.000000e+00</td>\n",
              "    </tr>\n",
              "    <tr>\n",
              "      <th>25%</th>\n",
              "      <td>6.000000e+03</td>\n",
              "    </tr>\n",
              "    <tr>\n",
              "      <th>50%</th>\n",
              "      <td>1.450000e+04</td>\n",
              "    </tr>\n",
              "    <tr>\n",
              "      <th>75%</th>\n",
              "      <td>2.699000e+04</td>\n",
              "    </tr>\n",
              "    <tr>\n",
              "      <th>max</th>\n",
              "      <td>3.736929e+09</td>\n",
              "    </tr>\n",
              "  </tbody>\n",
              "</table>\n",
              "</div>\n",
              "      <button class=\"colab-df-convert\" onclick=\"convertToInteractive('df-5b67bce9-6518-4563-b62f-90c249104a4f')\"\n",
              "              title=\"Convert this dataframe to an interactive table.\"\n",
              "              style=\"display:none;\">\n",
              "        \n",
              "  <svg xmlns=\"http://www.w3.org/2000/svg\" height=\"24px\"viewBox=\"0 0 24 24\"\n",
              "       width=\"24px\">\n",
              "    <path d=\"M0 0h24v24H0V0z\" fill=\"none\"/>\n",
              "    <path d=\"M18.56 5.44l.94 2.06.94-2.06 2.06-.94-2.06-.94-.94-2.06-.94 2.06-2.06.94zm-11 1L8.5 8.5l.94-2.06 2.06-.94-2.06-.94L8.5 2.5l-.94 2.06-2.06.94zm10 10l.94 2.06.94-2.06 2.06-.94-2.06-.94-.94-2.06-.94 2.06-2.06.94z\"/><path d=\"M17.41 7.96l-1.37-1.37c-.4-.4-.92-.59-1.43-.59-.52 0-1.04.2-1.43.59L10.3 9.45l-7.72 7.72c-.78.78-.78 2.05 0 2.83L4 21.41c.39.39.9.59 1.41.59.51 0 1.02-.2 1.41-.59l7.78-7.78 2.81-2.81c.8-.78.8-2.07 0-2.86zM5.41 20L4 18.59l7.72-7.72 1.47 1.35L5.41 20z\"/>\n",
              "  </svg>\n",
              "      </button>\n",
              "      \n",
              "  <style>\n",
              "    .colab-df-container {\n",
              "      display:flex;\n",
              "      flex-wrap:wrap;\n",
              "      gap: 12px;\n",
              "    }\n",
              "\n",
              "    .colab-df-convert {\n",
              "      background-color: #E8F0FE;\n",
              "      border: none;\n",
              "      border-radius: 50%;\n",
              "      cursor: pointer;\n",
              "      display: none;\n",
              "      fill: #1967D2;\n",
              "      height: 32px;\n",
              "      padding: 0 0 0 0;\n",
              "      width: 32px;\n",
              "    }\n",
              "\n",
              "    .colab-df-convert:hover {\n",
              "      background-color: #E2EBFA;\n",
              "      box-shadow: 0px 1px 2px rgba(60, 64, 67, 0.3), 0px 1px 3px 1px rgba(60, 64, 67, 0.15);\n",
              "      fill: #174EA6;\n",
              "    }\n",
              "\n",
              "    [theme=dark] .colab-df-convert {\n",
              "      background-color: #3B4455;\n",
              "      fill: #D2E3FC;\n",
              "    }\n",
              "\n",
              "    [theme=dark] .colab-df-convert:hover {\n",
              "      background-color: #434B5C;\n",
              "      box-shadow: 0px 1px 3px 1px rgba(0, 0, 0, 0.15);\n",
              "      filter: drop-shadow(0px 1px 2px rgba(0, 0, 0, 0.3));\n",
              "      fill: #FFFFFF;\n",
              "    }\n",
              "  </style>\n",
              "\n",
              "      <script>\n",
              "        const buttonEl =\n",
              "          document.querySelector('#df-5b67bce9-6518-4563-b62f-90c249104a4f button.colab-df-convert');\n",
              "        buttonEl.style.display =\n",
              "          google.colab.kernel.accessAllowed ? 'block' : 'none';\n",
              "\n",
              "        async function convertToInteractive(key) {\n",
              "          const element = document.querySelector('#df-5b67bce9-6518-4563-b62f-90c249104a4f');\n",
              "          const dataTable =\n",
              "            await google.colab.kernel.invokeFunction('convertToInteractive',\n",
              "                                                     [key], {});\n",
              "          if (!dataTable) return;\n",
              "\n",
              "          const docLinkHtml = 'Like what you see? Visit the ' +\n",
              "            '<a target=\"_blank\" href=https://colab.research.google.com/notebooks/data_table.ipynb>data table notebook</a>'\n",
              "            + ' to learn more about interactive tables.';\n",
              "          element.innerHTML = '';\n",
              "          dataTable['output_type'] = 'display_data';\n",
              "          await google.colab.output.renderOutput(dataTable, element);\n",
              "          const docLink = document.createElement('div');\n",
              "          docLink.innerHTML = docLinkHtml;\n",
              "          element.appendChild(docLink);\n",
              "        }\n",
              "      </script>\n",
              "    </div>\n",
              "  </div>\n",
              "  "
            ]
          },
          "metadata": {},
          "execution_count": 52
        }
      ],
      "source": [
        "df.describe()"
      ]
    },
    {
      "cell_type": "markdown",
      "id": "5376fad9",
      "metadata": {
        "papermill": {
          "duration": 0.032617,
          "end_time": "2023-05-23T11:00:20.428048",
          "exception": false,
          "start_time": "2023-05-23T11:00:20.395431",
          "status": "completed"
        },
        "tags": [],
        "id": "5376fad9"
      },
      "source": [
        "**Our dataset have lots of outliers. Outliers reduces the accuracy of a model. We have to detect outliers and remove them.**"
      ]
    },
    {
      "cell_type": "code",
      "execution_count": 54,
      "id": "68f38ce0",
      "metadata": {
        "execution": {
          "iopub.execute_input": "2023-05-23T11:00:20.494931Z",
          "iopub.status.busy": "2023-05-23T11:00:20.494215Z",
          "iopub.status.idle": "2023-05-23T11:00:20.515777Z",
          "shell.execute_reply": "2023-05-23T11:00:20.514457Z"
        },
        "papermill": {
          "duration": 0.058788,
          "end_time": "2023-05-23T11:00:20.518986",
          "exception": false,
          "start_time": "2023-05-23T11:00:20.460198",
          "status": "completed"
        },
        "tags": [],
        "id": "68f38ce0"
      },
      "outputs": [],
      "source": [
        "price_percentile25 = df['price'].quantile(0.25)\n",
        "price_percentile75 = df['price'].quantile(0.75)\n",
        "price_iqr = price_percentile75 - price_percentile25"
      ]
    },
    {
      "cell_type": "code",
      "execution_count": 55,
      "id": "8a801d28",
      "metadata": {
        "execution": {
          "iopub.execute_input": "2023-05-23T11:00:20.589055Z",
          "iopub.status.busy": "2023-05-23T11:00:20.587755Z",
          "iopub.status.idle": "2023-05-23T11:00:20.602894Z",
          "shell.execute_reply": "2023-05-23T11:00:20.601504Z"
        },
        "papermill": {
          "duration": 0.052854,
          "end_time": "2023-05-23T11:00:20.606448",
          "exception": false,
          "start_time": "2023-05-23T11:00:20.553594",
          "status": "completed"
        },
        "tags": [],
        "id": "8a801d28"
      },
      "outputs": [],
      "source": [
        "price_upper_limit = price_percentile75 + 1.5 * price_iqr\n",
        "price_lower_limit = df['price'].quantile(0.15)"
      ]
    },
    {
      "cell_type": "code",
      "execution_count": 96,
      "id": "459cfc5e",
      "metadata": {
        "execution": {
          "iopub.execute_input": "2023-05-23T11:00:20.677647Z",
          "iopub.status.busy": "2023-05-23T11:00:20.676491Z",
          "iopub.status.idle": "2023-05-23T11:00:20.808089Z",
          "shell.execute_reply": "2023-05-23T11:00:20.806194Z"
        },
        "papermill": {
          "duration": 0.170925,
          "end_time": "2023-05-23T11:00:20.811318",
          "exception": false,
          "start_time": "2023-05-23T11:00:20.640393",
          "status": "completed"
        },
        "tags": [],
        "id": "459cfc5e"
      },
      "outputs": [],
      "source": [
        "new_df = df[(df['price'] < price_upper_limit) & (df['price'] > price_lower_limit)]"
      ]
    },
    {
      "cell_type": "code",
      "source": [
        "\n",
        "new_df['year'] = pd.to_numeric(new_df['year'], errors='coerce')\n",
        "new_df = new_df.dropna(subset=['year'])\n",
        "# new_df['year'] = new_df['year'].astype(int)\n",
        "\n",
        "new_df['odometer'] = pd.to_numeric(new_df['odometer'], errors='coerce')\n",
        "new_df = new_df.dropna(subset=['odometer'])\n",
        "# new_df['odometer'] = new_df['odometer'].astype(float)"
      ],
      "metadata": {
        "colab": {
          "base_uri": "https://localhost:8080/"
        },
        "id": "LMtj3bEUIQ4s",
        "outputId": "b397c7a7-2681-46ea-83eb-fbd2b838beb2"
      },
      "id": "LMtj3bEUIQ4s",
      "execution_count": 97,
      "outputs": [
        {
          "output_type": "stream",
          "name": "stderr",
          "text": [
            "<ipython-input-97-f42cd89d1e54>:1: SettingWithCopyWarning: \n",
            "A value is trying to be set on a copy of a slice from a DataFrame.\n",
            "Try using .loc[row_indexer,col_indexer] = value instead\n",
            "\n",
            "See the caveats in the documentation: https://pandas.pydata.org/pandas-docs/stable/user_guide/indexing.html#returning-a-view-versus-a-copy\n",
            "  new_df['year'] = pd.to_numeric(new_df['year'], errors='coerce')\n"
          ]
        }
      ]
    },
    {
      "cell_type": "code",
      "source": [],
      "metadata": {
        "id": "PwoxKHvgJHQ8"
      },
      "id": "PwoxKHvgJHQ8",
      "execution_count": null,
      "outputs": []
    },
    {
      "cell_type": "code",
      "execution_count": 99,
      "id": "aa32ca59",
      "metadata": {
        "execution": {
          "iopub.execute_input": "2023-05-23T11:00:20.880430Z",
          "iopub.status.busy": "2023-05-23T11:00:20.879782Z",
          "iopub.status.idle": "2023-05-23T11:00:20.915528Z",
          "shell.execute_reply": "2023-05-23T11:00:20.913535Z"
        },
        "papermill": {
          "duration": 0.073774,
          "end_time": "2023-05-23T11:00:20.919047",
          "exception": false,
          "start_time": "2023-05-23T11:00:20.845273",
          "status": "completed"
        },
        "tags": [],
        "id": "aa32ca59"
      },
      "outputs": [],
      "source": [
        "odometer_percentile75 = new_df['odometer'].quantile(0.75)\n",
        "odometer_percentile25 = new_df['odometer'].quantile(0.25)\n",
        "odometer_iqr = odometer_percentile75 - odometer_percentile25\n",
        "odometer_upper_limit = odometer_percentile75 + 1.5 * odometer_iqr\n",
        "odometer_lower_limit = new_df['odometer'].quantile(0.05)"
      ]
    },
    {
      "cell_type": "code",
      "source": [
        "new_df.describe()"
      ],
      "metadata": {
        "colab": {
          "base_uri": "https://localhost:8080/",
          "height": 300
        },
        "id": "RGvobcrHIwPT",
        "outputId": "d15449b3-ef80-4d57-c0f4-80aee51d071f"
      },
      "id": "RGvobcrHIwPT",
      "execution_count": 100,
      "outputs": [
        {
          "output_type": "execute_result",
          "data": {
            "text/plain": [
              "               price           year      odometer\n",
              "count  287469.000000  287469.000000  2.874690e+05\n",
              "mean    19746.313408    2011.858802  9.055044e+04\n",
              "std     12219.247950       8.663190  1.419550e+05\n",
              "min      3527.000000    1900.000000  0.000000e+00\n",
              "25%      8998.000000    2009.000000  3.523500e+04\n",
              "50%     16999.000000    2014.000000  8.155700e+04\n",
              "75%     28500.000000    2017.000000  1.290000e+05\n",
              "max     58448.000000    2022.000000  1.000000e+07"
            ],
            "text/html": [
              "\n",
              "  <div id=\"df-c4d2db9f-32db-4016-8630-c83db0f960f6\">\n",
              "    <div class=\"colab-df-container\">\n",
              "      <div>\n",
              "<style scoped>\n",
              "    .dataframe tbody tr th:only-of-type {\n",
              "        vertical-align: middle;\n",
              "    }\n",
              "\n",
              "    .dataframe tbody tr th {\n",
              "        vertical-align: top;\n",
              "    }\n",
              "\n",
              "    .dataframe thead th {\n",
              "        text-align: right;\n",
              "    }\n",
              "</style>\n",
              "<table border=\"1\" class=\"dataframe\">\n",
              "  <thead>\n",
              "    <tr style=\"text-align: right;\">\n",
              "      <th></th>\n",
              "      <th>price</th>\n",
              "      <th>year</th>\n",
              "      <th>odometer</th>\n",
              "    </tr>\n",
              "  </thead>\n",
              "  <tbody>\n",
              "    <tr>\n",
              "      <th>count</th>\n",
              "      <td>287469.000000</td>\n",
              "      <td>287469.000000</td>\n",
              "      <td>2.874690e+05</td>\n",
              "    </tr>\n",
              "    <tr>\n",
              "      <th>mean</th>\n",
              "      <td>19746.313408</td>\n",
              "      <td>2011.858802</td>\n",
              "      <td>9.055044e+04</td>\n",
              "    </tr>\n",
              "    <tr>\n",
              "      <th>std</th>\n",
              "      <td>12219.247950</td>\n",
              "      <td>8.663190</td>\n",
              "      <td>1.419550e+05</td>\n",
              "    </tr>\n",
              "    <tr>\n",
              "      <th>min</th>\n",
              "      <td>3527.000000</td>\n",
              "      <td>1900.000000</td>\n",
              "      <td>0.000000e+00</td>\n",
              "    </tr>\n",
              "    <tr>\n",
              "      <th>25%</th>\n",
              "      <td>8998.000000</td>\n",
              "      <td>2009.000000</td>\n",
              "      <td>3.523500e+04</td>\n",
              "    </tr>\n",
              "    <tr>\n",
              "      <th>50%</th>\n",
              "      <td>16999.000000</td>\n",
              "      <td>2014.000000</td>\n",
              "      <td>8.155700e+04</td>\n",
              "    </tr>\n",
              "    <tr>\n",
              "      <th>75%</th>\n",
              "      <td>28500.000000</td>\n",
              "      <td>2017.000000</td>\n",
              "      <td>1.290000e+05</td>\n",
              "    </tr>\n",
              "    <tr>\n",
              "      <th>max</th>\n",
              "      <td>58448.000000</td>\n",
              "      <td>2022.000000</td>\n",
              "      <td>1.000000e+07</td>\n",
              "    </tr>\n",
              "  </tbody>\n",
              "</table>\n",
              "</div>\n",
              "      <button class=\"colab-df-convert\" onclick=\"convertToInteractive('df-c4d2db9f-32db-4016-8630-c83db0f960f6')\"\n",
              "              title=\"Convert this dataframe to an interactive table.\"\n",
              "              style=\"display:none;\">\n",
              "        \n",
              "  <svg xmlns=\"http://www.w3.org/2000/svg\" height=\"24px\"viewBox=\"0 0 24 24\"\n",
              "       width=\"24px\">\n",
              "    <path d=\"M0 0h24v24H0V0z\" fill=\"none\"/>\n",
              "    <path d=\"M18.56 5.44l.94 2.06.94-2.06 2.06-.94-2.06-.94-.94-2.06-.94 2.06-2.06.94zm-11 1L8.5 8.5l.94-2.06 2.06-.94-2.06-.94L8.5 2.5l-.94 2.06-2.06.94zm10 10l.94 2.06.94-2.06 2.06-.94-2.06-.94-.94-2.06-.94 2.06-2.06.94z\"/><path d=\"M17.41 7.96l-1.37-1.37c-.4-.4-.92-.59-1.43-.59-.52 0-1.04.2-1.43.59L10.3 9.45l-7.72 7.72c-.78.78-.78 2.05 0 2.83L4 21.41c.39.39.9.59 1.41.59.51 0 1.02-.2 1.41-.59l7.78-7.78 2.81-2.81c.8-.78.8-2.07 0-2.86zM5.41 20L4 18.59l7.72-7.72 1.47 1.35L5.41 20z\"/>\n",
              "  </svg>\n",
              "      </button>\n",
              "      \n",
              "  <style>\n",
              "    .colab-df-container {\n",
              "      display:flex;\n",
              "      flex-wrap:wrap;\n",
              "      gap: 12px;\n",
              "    }\n",
              "\n",
              "    .colab-df-convert {\n",
              "      background-color: #E8F0FE;\n",
              "      border: none;\n",
              "      border-radius: 50%;\n",
              "      cursor: pointer;\n",
              "      display: none;\n",
              "      fill: #1967D2;\n",
              "      height: 32px;\n",
              "      padding: 0 0 0 0;\n",
              "      width: 32px;\n",
              "    }\n",
              "\n",
              "    .colab-df-convert:hover {\n",
              "      background-color: #E2EBFA;\n",
              "      box-shadow: 0px 1px 2px rgba(60, 64, 67, 0.3), 0px 1px 3px 1px rgba(60, 64, 67, 0.15);\n",
              "      fill: #174EA6;\n",
              "    }\n",
              "\n",
              "    [theme=dark] .colab-df-convert {\n",
              "      background-color: #3B4455;\n",
              "      fill: #D2E3FC;\n",
              "    }\n",
              "\n",
              "    [theme=dark] .colab-df-convert:hover {\n",
              "      background-color: #434B5C;\n",
              "      box-shadow: 0px 1px 3px 1px rgba(0, 0, 0, 0.15);\n",
              "      filter: drop-shadow(0px 1px 2px rgba(0, 0, 0, 0.3));\n",
              "      fill: #FFFFFF;\n",
              "    }\n",
              "  </style>\n",
              "\n",
              "      <script>\n",
              "        const buttonEl =\n",
              "          document.querySelector('#df-c4d2db9f-32db-4016-8630-c83db0f960f6 button.colab-df-convert');\n",
              "        buttonEl.style.display =\n",
              "          google.colab.kernel.accessAllowed ? 'block' : 'none';\n",
              "\n",
              "        async function convertToInteractive(key) {\n",
              "          const element = document.querySelector('#df-c4d2db9f-32db-4016-8630-c83db0f960f6');\n",
              "          const dataTable =\n",
              "            await google.colab.kernel.invokeFunction('convertToInteractive',\n",
              "                                                     [key], {});\n",
              "          if (!dataTable) return;\n",
              "\n",
              "          const docLinkHtml = 'Like what you see? Visit the ' +\n",
              "            '<a target=\"_blank\" href=https://colab.research.google.com/notebooks/data_table.ipynb>data table notebook</a>'\n",
              "            + ' to learn more about interactive tables.';\n",
              "          element.innerHTML = '';\n",
              "          dataTable['output_type'] = 'display_data';\n",
              "          await google.colab.output.renderOutput(dataTable, element);\n",
              "          const docLink = document.createElement('div');\n",
              "          docLink.innerHTML = docLinkHtml;\n",
              "          element.appendChild(docLink);\n",
              "        }\n",
              "      </script>\n",
              "    </div>\n",
              "  </div>\n",
              "  "
            ]
          },
          "metadata": {},
          "execution_count": 100
        }
      ]
    },
    {
      "cell_type": "code",
      "source": [
        "new_df['odometer']"
      ],
      "metadata": {
        "colab": {
          "base_uri": "https://localhost:8080/"
        },
        "id": "JeGx4xS0I73H",
        "outputId": "24b49455-669e-4838-bad4-8f3230e09090"
      },
      "id": "JeGx4xS0I73H",
      "execution_count": 101,
      "outputs": [
        {
          "output_type": "execute_result",
          "data": {
            "text/plain": [
              "1882      40566.0\n",
              "1883      38000.0\n",
              "1884      43184.0\n",
              "1885      49300.0\n",
              "1887      51758.0\n",
              "           ...   \n",
              "441797    32226.0\n",
              "441798    12029.0\n",
              "441799     4174.0\n",
              "441800    30112.0\n",
              "441801    22716.0\n",
              "Name: odometer, Length: 287469, dtype: float64"
            ]
          },
          "metadata": {},
          "execution_count": 101
        }
      ]
    },
    {
      "cell_type": "code",
      "execution_count": 102,
      "id": "eb930e7f",
      "metadata": {
        "execution": {
          "iopub.execute_input": "2023-05-23T11:00:20.989155Z",
          "iopub.status.busy": "2023-05-23T11:00:20.988549Z",
          "iopub.status.idle": "2023-05-23T11:00:21.053917Z",
          "shell.execute_reply": "2023-05-23T11:00:21.052421Z"
        },
        "papermill": {
          "duration": 0.105244,
          "end_time": "2023-05-23T11:00:21.057407",
          "exception": false,
          "start_time": "2023-05-23T11:00:20.952163",
          "status": "completed"
        },
        "tags": [],
        "id": "eb930e7f"
      },
      "outputs": [],
      "source": [
        "new_df = new_df[(new_df['odometer'] < odometer_upper_limit) & (new_df['odometer'] > odometer_lower_limit)]"
      ]
    },
    {
      "cell_type": "code",
      "execution_count": 103,
      "id": "009b5326",
      "metadata": {
        "execution": {
          "iopub.execute_input": "2023-05-23T11:00:21.126081Z",
          "iopub.status.busy": "2023-05-23T11:00:21.124816Z",
          "iopub.status.idle": "2023-05-23T11:00:21.133824Z",
          "shell.execute_reply": "2023-05-23T11:00:21.132521Z"
        },
        "papermill": {
          "duration": 0.046698,
          "end_time": "2023-05-23T11:00:21.136573",
          "exception": false,
          "start_time": "2023-05-23T11:00:21.089875",
          "status": "completed"
        },
        "tags": [],
        "colab": {
          "base_uri": "https://localhost:8080/"
        },
        "id": "009b5326",
        "outputId": "eb4786bf-09b2-487e-dcbf-51343a07cd4d"
      },
      "outputs": [
        {
          "output_type": "execute_result",
          "data": {
            "text/plain": [
              "(270920, 14)"
            ]
          },
          "metadata": {},
          "execution_count": 103
        }
      ],
      "source": [
        "new_df.shape"
      ]
    },
    {
      "cell_type": "markdown",
      "id": "33fe4f3d",
      "metadata": {
        "papermill": {
          "duration": 0.032672,
          "end_time": "2023-05-23T11:00:21.201451",
          "exception": false,
          "start_time": "2023-05-23T11:00:21.168779",
          "status": "completed"
        },
        "tags": [],
        "id": "33fe4f3d"
      },
      "source": [
        "# **Feature Engineering**"
      ]
    },
    {
      "cell_type": "code",
      "execution_count": 105,
      "id": "d73b049f",
      "metadata": {
        "execution": {
          "iopub.execute_input": "2023-05-23T11:00:21.270857Z",
          "iopub.status.busy": "2023-05-23T11:00:21.269222Z",
          "iopub.status.idle": "2023-05-23T11:00:21.301034Z",
          "shell.execute_reply": "2023-05-23T11:00:21.299818Z"
        },
        "papermill": {
          "duration": 0.069994,
          "end_time": "2023-05-23T11:00:21.304023",
          "exception": false,
          "start_time": "2023-05-23T11:00:21.234029",
          "status": "completed"
        },
        "tags": [],
        "colab": {
          "base_uri": "https://localhost:8080/",
          "height": 206
        },
        "id": "d73b049f",
        "outputId": "9186b0ee-1e13-4fd0-c727-1f99aad96fd5"
      },
      "outputs": [
        {
          "output_type": "execute_result",
          "data": {
            "text/plain": [
              "             region    price  year manufacturer     model  condition  \\\n",
              "378743       austin   6995.0  2014    chevrolet    others    unknown   \n",
              "35592   los angeles   7495.0  2012       toyota   corolla    unknown   \n",
              "90041        others   3995.0  2006       subaru  forester    unknown   \n",
              "375890       others  15500.0  2015      hyundai    others  excellent   \n",
              "80204        denver   7595.0  2005       toyota    others    unknown   \n",
              "\n",
              "          cylinders fuel  odometer title_status transmission    drive  \\\n",
              "378743  4 cylinders  gas   36542.0        clean       manual      fwd   \n",
              "35592       unknown  gas  155941.0        clean    automatic      fwd   \n",
              "90041   4 cylinders  gas  227000.0        clean    automatic  unknown   \n",
              "375890  6 cylinders  gas   46000.0        clean       manual      rwd   \n",
              "80204   6 cylinders  gas  173277.0        clean    automatic      4wd   \n",
              "\n",
              "           type paint_color  \n",
              "378743    sedan       green  \n",
              "35592     sedan     unknown  \n",
              "90041   unknown         red  \n",
              "375890    coupe       white  \n",
              "80204       SUV       black  "
            ],
            "text/html": [
              "\n",
              "  <div id=\"df-68ac1718-837b-4358-99a3-33ca25408bdd\">\n",
              "    <div class=\"colab-df-container\">\n",
              "      <div>\n",
              "<style scoped>\n",
              "    .dataframe tbody tr th:only-of-type {\n",
              "        vertical-align: middle;\n",
              "    }\n",
              "\n",
              "    .dataframe tbody tr th {\n",
              "        vertical-align: top;\n",
              "    }\n",
              "\n",
              "    .dataframe thead th {\n",
              "        text-align: right;\n",
              "    }\n",
              "</style>\n",
              "<table border=\"1\" class=\"dataframe\">\n",
              "  <thead>\n",
              "    <tr style=\"text-align: right;\">\n",
              "      <th></th>\n",
              "      <th>region</th>\n",
              "      <th>price</th>\n",
              "      <th>year</th>\n",
              "      <th>manufacturer</th>\n",
              "      <th>model</th>\n",
              "      <th>condition</th>\n",
              "      <th>cylinders</th>\n",
              "      <th>fuel</th>\n",
              "      <th>odometer</th>\n",
              "      <th>title_status</th>\n",
              "      <th>transmission</th>\n",
              "      <th>drive</th>\n",
              "      <th>type</th>\n",
              "      <th>paint_color</th>\n",
              "    </tr>\n",
              "  </thead>\n",
              "  <tbody>\n",
              "    <tr>\n",
              "      <th>378743</th>\n",
              "      <td>austin</td>\n",
              "      <td>6995.0</td>\n",
              "      <td>2014</td>\n",
              "      <td>chevrolet</td>\n",
              "      <td>others</td>\n",
              "      <td>unknown</td>\n",
              "      <td>4 cylinders</td>\n",
              "      <td>gas</td>\n",
              "      <td>36542.0</td>\n",
              "      <td>clean</td>\n",
              "      <td>manual</td>\n",
              "      <td>fwd</td>\n",
              "      <td>sedan</td>\n",
              "      <td>green</td>\n",
              "    </tr>\n",
              "    <tr>\n",
              "      <th>35592</th>\n",
              "      <td>los angeles</td>\n",
              "      <td>7495.0</td>\n",
              "      <td>2012</td>\n",
              "      <td>toyota</td>\n",
              "      <td>corolla</td>\n",
              "      <td>unknown</td>\n",
              "      <td>unknown</td>\n",
              "      <td>gas</td>\n",
              "      <td>155941.0</td>\n",
              "      <td>clean</td>\n",
              "      <td>automatic</td>\n",
              "      <td>fwd</td>\n",
              "      <td>sedan</td>\n",
              "      <td>unknown</td>\n",
              "    </tr>\n",
              "    <tr>\n",
              "      <th>90041</th>\n",
              "      <td>others</td>\n",
              "      <td>3995.0</td>\n",
              "      <td>2006</td>\n",
              "      <td>subaru</td>\n",
              "      <td>forester</td>\n",
              "      <td>unknown</td>\n",
              "      <td>4 cylinders</td>\n",
              "      <td>gas</td>\n",
              "      <td>227000.0</td>\n",
              "      <td>clean</td>\n",
              "      <td>automatic</td>\n",
              "      <td>unknown</td>\n",
              "      <td>unknown</td>\n",
              "      <td>red</td>\n",
              "    </tr>\n",
              "    <tr>\n",
              "      <th>375890</th>\n",
              "      <td>others</td>\n",
              "      <td>15500.0</td>\n",
              "      <td>2015</td>\n",
              "      <td>hyundai</td>\n",
              "      <td>others</td>\n",
              "      <td>excellent</td>\n",
              "      <td>6 cylinders</td>\n",
              "      <td>gas</td>\n",
              "      <td>46000.0</td>\n",
              "      <td>clean</td>\n",
              "      <td>manual</td>\n",
              "      <td>rwd</td>\n",
              "      <td>coupe</td>\n",
              "      <td>white</td>\n",
              "    </tr>\n",
              "    <tr>\n",
              "      <th>80204</th>\n",
              "      <td>denver</td>\n",
              "      <td>7595.0</td>\n",
              "      <td>2005</td>\n",
              "      <td>toyota</td>\n",
              "      <td>others</td>\n",
              "      <td>unknown</td>\n",
              "      <td>6 cylinders</td>\n",
              "      <td>gas</td>\n",
              "      <td>173277.0</td>\n",
              "      <td>clean</td>\n",
              "      <td>automatic</td>\n",
              "      <td>4wd</td>\n",
              "      <td>SUV</td>\n",
              "      <td>black</td>\n",
              "    </tr>\n",
              "  </tbody>\n",
              "</table>\n",
              "</div>\n",
              "      <button class=\"colab-df-convert\" onclick=\"convertToInteractive('df-68ac1718-837b-4358-99a3-33ca25408bdd')\"\n",
              "              title=\"Convert this dataframe to an interactive table.\"\n",
              "              style=\"display:none;\">\n",
              "        \n",
              "  <svg xmlns=\"http://www.w3.org/2000/svg\" height=\"24px\"viewBox=\"0 0 24 24\"\n",
              "       width=\"24px\">\n",
              "    <path d=\"M0 0h24v24H0V0z\" fill=\"none\"/>\n",
              "    <path d=\"M18.56 5.44l.94 2.06.94-2.06 2.06-.94-2.06-.94-.94-2.06-.94 2.06-2.06.94zm-11 1L8.5 8.5l.94-2.06 2.06-.94-2.06-.94L8.5 2.5l-.94 2.06-2.06.94zm10 10l.94 2.06.94-2.06 2.06-.94-2.06-.94-.94-2.06-.94 2.06-2.06.94z\"/><path d=\"M17.41 7.96l-1.37-1.37c-.4-.4-.92-.59-1.43-.59-.52 0-1.04.2-1.43.59L10.3 9.45l-7.72 7.72c-.78.78-.78 2.05 0 2.83L4 21.41c.39.39.9.59 1.41.59.51 0 1.02-.2 1.41-.59l7.78-7.78 2.81-2.81c.8-.78.8-2.07 0-2.86zM5.41 20L4 18.59l7.72-7.72 1.47 1.35L5.41 20z\"/>\n",
              "  </svg>\n",
              "      </button>\n",
              "      \n",
              "  <style>\n",
              "    .colab-df-container {\n",
              "      display:flex;\n",
              "      flex-wrap:wrap;\n",
              "      gap: 12px;\n",
              "    }\n",
              "\n",
              "    .colab-df-convert {\n",
              "      background-color: #E8F0FE;\n",
              "      border: none;\n",
              "      border-radius: 50%;\n",
              "      cursor: pointer;\n",
              "      display: none;\n",
              "      fill: #1967D2;\n",
              "      height: 32px;\n",
              "      padding: 0 0 0 0;\n",
              "      width: 32px;\n",
              "    }\n",
              "\n",
              "    .colab-df-convert:hover {\n",
              "      background-color: #E2EBFA;\n",
              "      box-shadow: 0px 1px 2px rgba(60, 64, 67, 0.3), 0px 1px 3px 1px rgba(60, 64, 67, 0.15);\n",
              "      fill: #174EA6;\n",
              "    }\n",
              "\n",
              "    [theme=dark] .colab-df-convert {\n",
              "      background-color: #3B4455;\n",
              "      fill: #D2E3FC;\n",
              "    }\n",
              "\n",
              "    [theme=dark] .colab-df-convert:hover {\n",
              "      background-color: #434B5C;\n",
              "      box-shadow: 0px 1px 3px 1px rgba(0, 0, 0, 0.15);\n",
              "      filter: drop-shadow(0px 1px 2px rgba(0, 0, 0, 0.3));\n",
              "      fill: #FFFFFF;\n",
              "    }\n",
              "  </style>\n",
              "\n",
              "      <script>\n",
              "        const buttonEl =\n",
              "          document.querySelector('#df-68ac1718-837b-4358-99a3-33ca25408bdd button.colab-df-convert');\n",
              "        buttonEl.style.display =\n",
              "          google.colab.kernel.accessAllowed ? 'block' : 'none';\n",
              "\n",
              "        async function convertToInteractive(key) {\n",
              "          const element = document.querySelector('#df-68ac1718-837b-4358-99a3-33ca25408bdd');\n",
              "          const dataTable =\n",
              "            await google.colab.kernel.invokeFunction('convertToInteractive',\n",
              "                                                     [key], {});\n",
              "          if (!dataTable) return;\n",
              "\n",
              "          const docLinkHtml = 'Like what you see? Visit the ' +\n",
              "            '<a target=\"_blank\" href=https://colab.research.google.com/notebooks/data_table.ipynb>data table notebook</a>'\n",
              "            + ' to learn more about interactive tables.';\n",
              "          element.innerHTML = '';\n",
              "          dataTable['output_type'] = 'display_data';\n",
              "          await google.colab.output.renderOutput(dataTable, element);\n",
              "          const docLink = document.createElement('div');\n",
              "          docLink.innerHTML = docLinkHtml;\n",
              "          element.appendChild(docLink);\n",
              "        }\n",
              "      </script>\n",
              "    </div>\n",
              "  </div>\n",
              "  "
            ]
          },
          "metadata": {},
          "execution_count": 105
        }
      ],
      "source": [
        "new_df.sample(5)"
      ]
    },
    {
      "cell_type": "code",
      "execution_count": 106,
      "id": "ae1d1543",
      "metadata": {
        "execution": {
          "iopub.execute_input": "2023-05-23T11:00:21.374017Z",
          "iopub.status.busy": "2023-05-23T11:00:21.372590Z",
          "iopub.status.idle": "2023-05-23T11:00:21.382333Z",
          "shell.execute_reply": "2023-05-23T11:00:21.381094Z"
        },
        "papermill": {
          "duration": 0.048292,
          "end_time": "2023-05-23T11:00:21.385481",
          "exception": false,
          "start_time": "2023-05-23T11:00:21.337189",
          "status": "completed"
        },
        "tags": [],
        "id": "ae1d1543"
      },
      "outputs": [],
      "source": [
        "new_df['odometer'] = new_df['odometer'].astype(int)"
      ]
    },
    {
      "cell_type": "code",
      "execution_count": 107,
      "id": "3d7dddfb",
      "metadata": {
        "execution": {
          "iopub.execute_input": "2023-05-23T11:00:21.455929Z",
          "iopub.status.busy": "2023-05-23T11:00:21.455423Z",
          "iopub.status.idle": "2023-05-23T11:00:21.463785Z",
          "shell.execute_reply": "2023-05-23T11:00:21.462549Z"
        },
        "papermill": {
          "duration": 0.047428,
          "end_time": "2023-05-23T11:00:21.466543",
          "exception": false,
          "start_time": "2023-05-23T11:00:21.419115",
          "status": "completed"
        },
        "tags": [],
        "id": "3d7dddfb"
      },
      "outputs": [],
      "source": [
        "new_df['year'] = new_df['year'].astype(int)"
      ]
    },
    {
      "cell_type": "code",
      "execution_count": 108,
      "id": "bf742d06",
      "metadata": {
        "execution": {
          "iopub.execute_input": "2023-05-23T11:00:21.536861Z",
          "iopub.status.busy": "2023-05-23T11:00:21.536360Z",
          "iopub.status.idle": "2023-05-23T11:00:29.625668Z",
          "shell.execute_reply": "2023-05-23T11:00:29.624181Z"
        },
        "papermill": {
          "duration": 8.128428,
          "end_time": "2023-05-23T11:00:29.629461",
          "exception": false,
          "start_time": "2023-05-23T11:00:21.501033",
          "status": "completed"
        },
        "tags": [],
        "colab": {
          "base_uri": "https://localhost:8080/",
          "height": 907
        },
        "id": "bf742d06",
        "outputId": "b2dc70fb-f831-4f3b-d443-625b57a48ef4"
      },
      "outputs": [
        {
          "output_type": "display_data",
          "data": {
            "text/plain": [
              "<Figure size 1200x900 with 1 Axes>"
            ],
            "image/png": "[encoded data removed]"
          },
          "metadata": {}
        }
      ],
      "source": [
        "plt.rcParams[\"figure.autolayout\"] = True\n",
        "sns.set_palette('summer_r')\n",
        "plt.figure(figsize =(12,9))\n",
        "sns.barplot(y=new_df['price'],x=new_df['year'])\n",
        "plt.title(\"Price VS Year\",fontsize=20,fontweight ='bold')\n",
        "plt.xlabel('year',fontsize = 20)\n",
        "plt.xticks(rotation=60)\n",
        "plt.ylabel('price ',fontsize = 20)\n",
        "plt.tight_layout()\n",
        "plt.show()"
      ]
    },
    {
      "cell_type": "markdown",
      "id": "f6d3b160",
      "metadata": {
        "papermill": {
          "duration": 0.033381,
          "end_time": "2023-05-23T11:00:29.697320",
          "exception": false,
          "start_time": "2023-05-23T11:00:29.663939",
          "status": "completed"
        },
        "tags": [],
        "id": "f6d3b160"
      },
      "source": [
        "**We can see the car data before 1996 is quiet irrelevant with our current times data. So we are extracting all the car data available after 1996**"
      ]
    },
    {
      "cell_type": "code",
      "execution_count": 109,
      "id": "2528a9d7",
      "metadata": {
        "execution": {
          "iopub.execute_input": "2023-05-23T11:00:29.769586Z",
          "iopub.status.busy": "2023-05-23T11:00:29.768734Z",
          "iopub.status.idle": "2023-05-23T11:00:29.836147Z",
          "shell.execute_reply": "2023-05-23T11:00:29.834901Z"
        },
        "papermill": {
          "duration": 0.106902,
          "end_time": "2023-05-23T11:00:29.839260",
          "exception": false,
          "start_time": "2023-05-23T11:00:29.732358",
          "status": "completed"
        },
        "tags": [],
        "colab": {
          "base_uri": "https://localhost:8080/"
        },
        "id": "2528a9d7",
        "outputId": "5eb3092c-a41b-4159-ee0e-504620c8ea70"
      },
      "outputs": [
        {
          "output_type": "execute_result",
          "data": {
            "text/plain": [
              "(262201, 14)"
            ]
          },
          "metadata": {},
          "execution_count": 109
        }
      ],
      "source": [
        "new_df = new_df[new_df['year'] > 1996]\n",
        "new_df.shape"
      ]
    },
    {
      "cell_type": "code",
      "execution_count": 110,
      "id": "13fbf74a",
      "metadata": {
        "execution": {
          "iopub.execute_input": "2023-05-23T11:00:29.910916Z",
          "iopub.status.busy": "2023-05-23T11:00:29.910127Z",
          "iopub.status.idle": "2023-05-23T11:00:30.014411Z",
          "shell.execute_reply": "2023-05-23T11:00:30.013160Z"
        },
        "papermill": {
          "duration": 0.143408,
          "end_time": "2023-05-23T11:00:30.017651",
          "exception": false,
          "start_time": "2023-05-23T11:00:29.874243",
          "status": "completed"
        },
        "tags": [],
        "colab": {
          "base_uri": "https://localhost:8080/",
          "height": 300
        },
        "id": "13fbf74a",
        "outputId": "b0106e28-9e1d-4b75-c0de-8d3bffa4069a"
      },
      "outputs": [
        {
          "output_type": "execute_result",
          "data": {
            "text/plain": [
              "               price       odometer        car_age\n",
              "count  262201.000000  262201.000000  262201.000000\n",
              "mean    19514.930286   90561.931945       9.081853\n",
              "std     12032.540660   56565.662222       4.897321\n",
              "min      3527.000000    7610.000000       0.000000\n",
              "25%      8998.000000   40511.000000       5.000000\n",
              "50%     16990.000000   85300.000000       8.000000\n",
              "75%     27990.000000  130337.000000      12.000000\n",
              "max     58448.000000  269630.000000      25.000000"
            ],
            "text/html": [
              "\n",
              "  <div id=\"df-a651c5fb-ff71-4862-8c89-b5415bca200b\">\n",
              "    <div class=\"colab-df-container\">\n",
              "      <div>\n",
              "<style scoped>\n",
              "    .dataframe tbody tr th:only-of-type {\n",
              "        vertical-align: middle;\n",
              "    }\n",
              "\n",
              "    .dataframe tbody tr th {\n",
              "        vertical-align: top;\n",
              "    }\n",
              "\n",
              "    .dataframe thead th {\n",
              "        text-align: right;\n",
              "    }\n",
              "</style>\n",
              "<table border=\"1\" class=\"dataframe\">\n",
              "  <thead>\n",
              "    <tr style=\"text-align: right;\">\n",
              "      <th></th>\n",
              "      <th>price</th>\n",
              "      <th>odometer</th>\n",
              "      <th>car_age</th>\n",
              "    </tr>\n",
              "  </thead>\n",
              "  <tbody>\n",
              "    <tr>\n",
              "      <th>count</th>\n",
              "      <td>262201.000000</td>\n",
              "      <td>262201.000000</td>\n",
              "      <td>262201.000000</td>\n",
              "    </tr>\n",
              "    <tr>\n",
              "      <th>mean</th>\n",
              "      <td>19514.930286</td>\n",
              "      <td>90561.931945</td>\n",
              "      <td>9.081853</td>\n",
              "    </tr>\n",
              "    <tr>\n",
              "      <th>std</th>\n",
              "      <td>12032.540660</td>\n",
              "      <td>56565.662222</td>\n",
              "      <td>4.897321</td>\n",
              "    </tr>\n",
              "    <tr>\n",
              "      <th>min</th>\n",
              "      <td>3527.000000</td>\n",
              "      <td>7610.000000</td>\n",
              "      <td>0.000000</td>\n",
              "    </tr>\n",
              "    <tr>\n",
              "      <th>25%</th>\n",
              "      <td>8998.000000</td>\n",
              "      <td>40511.000000</td>\n",
              "      <td>5.000000</td>\n",
              "    </tr>\n",
              "    <tr>\n",
              "      <th>50%</th>\n",
              "      <td>16990.000000</td>\n",
              "      <td>85300.000000</td>\n",
              "      <td>8.000000</td>\n",
              "    </tr>\n",
              "    <tr>\n",
              "      <th>75%</th>\n",
              "      <td>27990.000000</td>\n",
              "      <td>130337.000000</td>\n",
              "      <td>12.000000</td>\n",
              "    </tr>\n",
              "    <tr>\n",
              "      <th>max</th>\n",
              "      <td>58448.000000</td>\n",
              "      <td>269630.000000</td>\n",
              "      <td>25.000000</td>\n",
              "    </tr>\n",
              "  </tbody>\n",
              "</table>\n",
              "</div>\n",
              "      <button class=\"colab-df-convert\" onclick=\"convertToInteractive('df-a651c5fb-ff71-4862-8c89-b5415bca200b')\"\n",
              "              title=\"Convert this dataframe to an interactive table.\"\n",
              "              style=\"display:none;\">\n",
              "        \n",
              "  <svg xmlns=\"http://www.w3.org/2000/svg\" height=\"24px\"viewBox=\"0 0 24 24\"\n",
              "       width=\"24px\">\n",
              "    <path d=\"M0 0h24v24H0V0z\" fill=\"none\"/>\n",
              "    <path d=\"M18.56 5.44l.94 2.06.94-2.06 2.06-.94-2.06-.94-.94-2.06-.94 2.06-2.06.94zm-11 1L8.5 8.5l.94-2.06 2.06-.94-2.06-.94L8.5 2.5l-.94 2.06-2.06.94zm10 10l.94 2.06.94-2.06 2.06-.94-2.06-.94-.94-2.06-.94 2.06-2.06.94z\"/><path d=\"M17.41 7.96l-1.37-1.37c-.4-.4-.92-.59-1.43-.59-.52 0-1.04.2-1.43.59L10.3 9.45l-7.72 7.72c-.78.78-.78 2.05 0 2.83L4 21.41c.39.39.9.59 1.41.59.51 0 1.02-.2 1.41-.59l7.78-7.78 2.81-2.81c.8-.78.8-2.07 0-2.86zM5.41 20L4 18.59l7.72-7.72 1.47 1.35L5.41 20z\"/>\n",
              "  </svg>\n",
              "      </button>\n",
              "      \n",
              "  <style>\n",
              "    .colab-df-container {\n",
              "      display:flex;\n",
              "      flex-wrap:wrap;\n",
              "      gap: 12px;\n",
              "    }\n",
              "\n",
              "    .colab-df-convert {\n",
              "      background-color: #E8F0FE;\n",
              "      border: none;\n",
              "      border-radius: 50%;\n",
              "      cursor: pointer;\n",
              "      display: none;\n",
              "      fill: #1967D2;\n",
              "      height: 32px;\n",
              "      padding: 0 0 0 0;\n",
              "      width: 32px;\n",
              "    }\n",
              "\n",
              "    .colab-df-convert:hover {\n",
              "      background-color: #E2EBFA;\n",
              "      box-shadow: 0px 1px 2px rgba(60, 64, 67, 0.3), 0px 1px 3px 1px rgba(60, 64, 67, 0.15);\n",
              "      fill: #174EA6;\n",
              "    }\n",
              "\n",
              "    [theme=dark] .colab-df-convert {\n",
              "      background-color: #3B4455;\n",
              "      fill: #D2E3FC;\n",
              "    }\n",
              "\n",
              "    [theme=dark] .colab-df-convert:hover {\n",
              "      background-color: #434B5C;\n",
              "      box-shadow: 0px 1px 3px 1px rgba(0, 0, 0, 0.15);\n",
              "      filter: drop-shadow(0px 1px 2px rgba(0, 0, 0, 0.3));\n",
              "      fill: #FFFFFF;\n",
              "    }\n",
              "  </style>\n",
              "\n",
              "      <script>\n",
              "        const buttonEl =\n",
              "          document.querySelector('#df-a651c5fb-ff71-4862-8c89-b5415bca200b button.colab-df-convert');\n",
              "        buttonEl.style.display =\n",
              "          google.colab.kernel.accessAllowed ? 'block' : 'none';\n",
              "\n",
              "        async function convertToInteractive(key) {\n",
              "          const element = document.querySelector('#df-a651c5fb-ff71-4862-8c89-b5415bca200b');\n",
              "          const dataTable =\n",
              "            await google.colab.kernel.invokeFunction('convertToInteractive',\n",
              "                                                     [key], {});\n",
              "          if (!dataTable) return;\n",
              "\n",
              "          const docLinkHtml = 'Like what you see? Visit the ' +\n",
              "            '<a target=\"_blank\" href=https://colab.research.google.com/notebooks/data_table.ipynb>data table notebook</a>'\n",
              "            + ' to learn more about interactive tables.';\n",
              "          element.innerHTML = '';\n",
              "          dataTable['output_type'] = 'display_data';\n",
              "          await google.colab.output.renderOutput(dataTable, element);\n",
              "          const docLink = document.createElement('div');\n",
              "          docLink.innerHTML = docLinkHtml;\n",
              "          element.appendChild(docLink);\n",
              "        }\n",
              "      </script>\n",
              "    </div>\n",
              "  </div>\n",
              "  "
            ]
          },
          "metadata": {},
          "execution_count": 110
        }
      ],
      "source": [
        "new_df['car_age'] = 2022 - new_df['year']\n",
        "new_df.drop(['year'], axis = 1, inplace = True)\n",
        "new_df.describe()"
      ]
    },
    {
      "cell_type": "markdown",
      "id": "96ca9746",
      "metadata": {
        "papermill": {
          "duration": 0.03495,
          "end_time": "2023-05-23T11:00:30.087134",
          "exception": false,
          "start_time": "2023-05-23T11:00:30.052184",
          "status": "completed"
        },
        "tags": [],
        "id": "96ca9746"
      },
      "source": [
        "# **Data Visualization**"
      ]
    },
    {
      "cell_type": "code",
      "execution_count": 111,
      "id": "7ee4ebb9",
      "metadata": {
        "execution": {
          "iopub.execute_input": "2023-05-23T11:00:30.158686Z",
          "iopub.status.busy": "2023-05-23T11:00:30.158183Z",
          "iopub.status.idle": "2023-05-23T11:00:30.179828Z",
          "shell.execute_reply": "2023-05-23T11:00:30.178287Z"
        },
        "papermill": {
          "duration": 0.061375,
          "end_time": "2023-05-23T11:00:30.183007",
          "exception": false,
          "start_time": "2023-05-23T11:00:30.121632",
          "status": "completed"
        },
        "tags": [],
        "id": "7ee4ebb9"
      },
      "outputs": [],
      "source": [
        "sample_data = new_df.sample(100)"
      ]
    },
    {
      "cell_type": "code",
      "execution_count": 112,
      "id": "5b2fca07",
      "metadata": {
        "execution": {
          "iopub.execute_input": "2023-05-23T11:00:30.252846Z",
          "iopub.status.busy": "2023-05-23T11:00:30.252360Z",
          "iopub.status.idle": "2023-05-23T11:00:34.826554Z",
          "shell.execute_reply": "2023-05-23T11:00:34.825181Z"
        },
        "papermill": {
          "duration": 4.612653,
          "end_time": "2023-05-23T11:00:34.829365",
          "exception": false,
          "start_time": "2023-05-23T11:00:30.216712",
          "status": "completed"
        },
        "tags": [],
        "colab": {
          "base_uri": "https://localhost:8080/",
          "height": 757
        },
        "id": "5b2fca07",
        "outputId": "9676e671-9daf-4368-8866-9c40d526aae5"
      },
      "outputs": [
        {
          "output_type": "display_data",
          "data": {
            "text/plain": [
              "<Figure size 750x750 with 12 Axes>"
            ],
            "image/png": "[encoded data removed]"
          },
          "metadata": {}
        }
      ],
      "source": [
        "sns.pairplot(sample_data)\n",
        "plt.title('Figure 1: Pair Plot')\n",
        "plt.tight_layout()\n",
        "plt.savefig('Insight-Pair-Plot',dpi=None)\n",
        "plt.show()"
      ]
    },
    {
      "cell_type": "code",
      "execution_count": 113,
      "id": "238b1f81",
      "metadata": {
        "execution": {
          "iopub.execute_input": "2023-05-23T11:00:34.902721Z",
          "iopub.status.busy": "2023-05-23T11:00:34.902261Z",
          "iopub.status.idle": "2023-05-23T11:00:35.443656Z",
          "shell.execute_reply": "2023-05-23T11:00:35.442447Z"
        },
        "papermill": {
          "duration": 0.580588,
          "end_time": "2023-05-23T11:00:35.446175",
          "exception": false,
          "start_time": "2023-05-23T11:00:34.865587",
          "status": "completed"
        },
        "tags": [],
        "colab": {
          "base_uri": "https://localhost:8080/",
          "height": 559
        },
        "id": "238b1f81",
        "outputId": "ab74def3-73f9-4537-b9c3-f7b6d1eff1e8"
      },
      "outputs": [
        {
          "output_type": "stream",
          "name": "stderr",
          "text": [
            "<ipython-input-113-a4ff67bfeb7b>:1: FutureWarning: The default value of numeric_only in DataFrame.corr is deprecated. In a future version, it will default to False. Select only valid columns or specify the value of numeric_only to silence this warning.\n",
            "  sns.heatmap(new_df.corr(), annot=True)\n"
          ]
        },
        {
          "output_type": "execute_result",
          "data": {
            "text/plain": [
              "<Axes: >"
            ]
          },
          "metadata": {},
          "execution_count": 113
        },
        {
          "output_type": "display_data",
          "data": {
            "text/plain": [
              "<Figure size 640x480 with 2 Axes>"
            ],
            "image/png": "[encoded data removed]"
          },
          "metadata": {}
        }
      ],
      "source": [
        "sns.heatmap(new_df.corr(), annot=True)"
      ]
    },
    {
      "cell_type": "code",
      "execution_count": 114,
      "id": "6a36138b",
      "metadata": {
        "execution": {
          "iopub.execute_input": "2023-05-23T11:00:35.521051Z",
          "iopub.status.busy": "2023-05-23T11:00:35.520514Z",
          "iopub.status.idle": "2023-05-23T11:00:37.457180Z",
          "shell.execute_reply": "2023-05-23T11:00:37.455685Z"
        },
        "papermill": {
          "duration": 1.977829,
          "end_time": "2023-05-23T11:00:37.460187",
          "exception": false,
          "start_time": "2023-05-23T11:00:35.482358",
          "status": "completed"
        },
        "tags": [],
        "colab": {
          "base_uri": "https://localhost:8080/",
          "height": 678
        },
        "id": "6a36138b",
        "outputId": "6446f4e2-b28a-4943-9f8b-542f4dadd8f6"
      },
      "outputs": [
        {
          "output_type": "stream",
          "name": "stderr",
          "text": [
            "<ipython-input-114-db5b21fa630e>:1: UserWarning: \n",
            "\n",
            "`distplot` is a deprecated function and will be removed in seaborn v0.14.0.\n",
            "\n",
            "Please adapt your code to use either `displot` (a figure-level function with\n",
            "similar flexibility) or `histplot` (an axes-level function for histograms).\n",
            "\n",
            "For a guide to updating your code to use the new functions, please see\n",
            "https://gist.github.com/mwaskom/de44147ed2974457ad6372750bbe5751\n",
            "\n",
            "  sns.distplot(new_df.price)\n"
          ]
        },
        {
          "output_type": "display_data",
          "data": {
            "text/plain": [
              "<Figure size 640x480 with 1 Axes>"
            ],
            "image/png": "[encoded data removed]"
          },
          "metadata": {}
        }
      ],
      "source": [
        "sns.distplot(new_df.price)\n",
        "plt.tight_layout()\n",
        "plt.title(\"Distribution of price\")\n",
        "plt.savefig('Insight-Dist-Plot',dpi=None)\n",
        "plt.show()"
      ]
    },
    {
      "cell_type": "code",
      "execution_count": 115,
      "id": "96b4af7b",
      "metadata": {
        "execution": {
          "iopub.execute_input": "2023-05-23T11:00:37.537046Z",
          "iopub.status.busy": "2023-05-23T11:00:37.536295Z",
          "iopub.status.idle": "2023-05-23T11:00:43.488781Z",
          "shell.execute_reply": "2023-05-23T11:00:43.487488Z"
        },
        "papermill": {
          "duration": 5.994712,
          "end_time": "2023-05-23T11:00:43.491588",
          "exception": false,
          "start_time": "2023-05-23T11:00:37.496876",
          "status": "completed"
        },
        "tags": [],
        "colab": {
          "base_uri": "https://localhost:8080/",
          "height": 507
        },
        "id": "96b4af7b",
        "outputId": "e97b53f1-aec2-468f-fd5e-5c5c4a4a87ac"
      },
      "outputs": [
        {
          "output_type": "display_data",
          "data": {
            "text/plain": [
              "<Figure size 500x500 with 1 Axes>"
            ],
            "image/png": "[encoded data removed]"
          },
          "metadata": {}
        }
      ],
      "source": [
        "fig,axs=plt.subplots()\n",
        "fig.set_size_inches(5,5)\n",
        "\n",
        "p1=sns.barplot(x='fuel',y='price',data=new_df,ax=axs)\n",
        "axs.set_title('Fuel vs Price')\n",
        "\n",
        "plt.savefig('Insight-Figure-1',dpi=None)\n",
        "plt.show()"
      ]
    },
    {
      "cell_type": "code",
      "execution_count": 116,
      "id": "a7760284",
      "metadata": {
        "execution": {
          "iopub.execute_input": "2023-05-23T11:00:43.568447Z",
          "iopub.status.busy": "2023-05-23T11:00:43.567665Z",
          "iopub.status.idle": "2023-05-23T11:00:49.700780Z",
          "shell.execute_reply": "2023-05-23T11:00:49.699223Z"
        },
        "papermill": {
          "duration": 6.174907,
          "end_time": "2023-05-23T11:00:49.703812",
          "exception": false,
          "start_time": "2023-05-23T11:00:43.528905",
          "status": "completed"
        },
        "tags": [],
        "colab": {
          "base_uri": "https://localhost:8080/",
          "height": 507
        },
        "id": "a7760284",
        "outputId": "14d5bdf1-f5ae-4419-e628-402f644e4af5"
      },
      "outputs": [
        {
          "output_type": "display_data",
          "data": {
            "text/plain": [
              "<Figure size 1000x500 with 1 Axes>"
            ],
            "image/png": "[encoded data removed]"
          },
          "metadata": {}
        }
      ],
      "source": [
        "plt.figure(figsize=(10,5))\n",
        "sns.barplot(x='fuel',y='price',hue='condition',data=new_df)\n",
        "plt.title('Fuel + Condition vs Price')\n",
        "plt.savefig('Insight-Figure-2',dpi=None)\n",
        "plt.show()"
      ]
    },
    {
      "cell_type": "markdown",
      "id": "48550b39",
      "metadata": {
        "papermill": {
          "duration": 0.037497,
          "end_time": "2023-05-23T11:00:49.779743",
          "exception": false,
          "start_time": "2023-05-23T11:00:49.742246",
          "status": "completed"
        },
        "tags": [],
        "id": "48550b39"
      },
      "source": [
        "# **Data Preprocessing**"
      ]
    },
    {
      "cell_type": "code",
      "execution_count": 117,
      "id": "0e810085",
      "metadata": {
        "execution": {
          "iopub.execute_input": "2023-05-23T11:00:49.860125Z",
          "iopub.status.busy": "2023-05-23T11:00:49.859573Z",
          "iopub.status.idle": "2023-05-23T11:00:49.867909Z",
          "shell.execute_reply": "2023-05-23T11:00:49.866489Z"
        },
        "papermill": {
          "duration": 0.051332,
          "end_time": "2023-05-23T11:00:49.870686",
          "exception": false,
          "start_time": "2023-05-23T11:00:49.819354",
          "status": "completed"
        },
        "tags": [],
        "colab": {
          "base_uri": "https://localhost:8080/"
        },
        "id": "0e810085",
        "outputId": "3bef65b8-f735-44b7-b951-101d05ec3647"
      },
      "outputs": [
        {
          "output_type": "execute_result",
          "data": {
            "text/plain": [
              "Index(['region', 'price', 'manufacturer', 'model', 'condition', 'cylinders',\n",
              "       'fuel', 'odometer', 'title_status', 'transmission', 'drive', 'type',\n",
              "       'paint_color', 'car_age'],\n",
              "      dtype='object')"
            ]
          },
          "metadata": {},
          "execution_count": 117
        }
      ],
      "source": [
        "new_df.columns"
      ]
    },
    {
      "cell_type": "markdown",
      "id": "d9ae7bbd",
      "metadata": {
        "papermill": {
          "duration": 0.038708,
          "end_time": "2023-05-23T11:00:49.947895",
          "exception": false,
          "start_time": "2023-05-23T11:00:49.909187",
          "status": "completed"
        },
        "tags": [],
        "id": "d9ae7bbd"
      },
      "source": []
    },
    {
      "cell_type": "code",
      "execution_count": 118,
      "id": "60eee9b3",
      "metadata": {
        "execution": {
          "iopub.execute_input": "2023-05-23T11:00:50.028142Z",
          "iopub.status.busy": "2023-05-23T11:00:50.026903Z",
          "iopub.status.idle": "2023-05-23T11:00:50.051349Z",
          "shell.execute_reply": "2023-05-23T11:00:50.049965Z"
        },
        "papermill": {
          "duration": 0.069175,
          "end_time": "2023-05-23T11:00:50.054702",
          "exception": false,
          "start_time": "2023-05-23T11:00:49.985527",
          "status": "completed"
        },
        "tags": [],
        "id": "60eee9b3"
      },
      "outputs": [],
      "source": [
        "final_df = new_df.copy()"
      ]
    },
    {
      "cell_type": "markdown",
      "id": "4e84b453",
      "metadata": {
        "papermill": {
          "duration": 0.039446,
          "end_time": "2023-05-23T11:00:50.133775",
          "exception": false,
          "start_time": "2023-05-23T11:00:50.094329",
          "status": "completed"
        },
        "tags": [],
        "id": "4e84b453"
      },
      "source": [
        "**Creating encoder and implimenting them into pipeline**"
      ]
    },
    {
      "cell_type": "code",
      "execution_count": 119,
      "id": "10b8d29a",
      "metadata": {
        "execution": {
          "iopub.execute_input": "2023-05-23T11:00:50.214979Z",
          "iopub.status.busy": "2023-05-23T11:00:50.214499Z",
          "iopub.status.idle": "2023-05-23T11:00:50.219873Z",
          "shell.execute_reply": "2023-05-23T11:00:50.218613Z"
        },
        "papermill": {
          "duration": 0.048029,
          "end_time": "2023-05-23T11:00:50.222194",
          "exception": false,
          "start_time": "2023-05-23T11:00:50.174165",
          "status": "completed"
        },
        "tags": [],
        "id": "10b8d29a"
      },
      "outputs": [],
      "source": [
        "from sklearn.pipeline import Pipeline"
      ]
    },
    {
      "cell_type": "code",
      "execution_count": 120,
      "id": "3d170388",
      "metadata": {
        "execution": {
          "iopub.execute_input": "2023-05-23T11:00:50.301753Z",
          "iopub.status.busy": "2023-05-23T11:00:50.301293Z",
          "iopub.status.idle": "2023-05-23T11:00:50.307066Z",
          "shell.execute_reply": "2023-05-23T11:00:50.306069Z"
        },
        "papermill": {
          "duration": 0.049826,
          "end_time": "2023-05-23T11:00:50.310030",
          "exception": false,
          "start_time": "2023-05-23T11:00:50.260204",
          "status": "completed"
        },
        "tags": [],
        "id": "3d170388"
      },
      "outputs": [],
      "source": [
        "pipe_categorical = Pipeline(\n",
        "    steps = [('ordinal_encoder', OrdinalEncoder(categories = [[ 'salvage', 'fair', 'unknown', 'good', 'excellent', 'like new', 'new']])),\n",
        "             ('one_hot_encoder', OneHotEncoder(sparse = False, drop = 'first'))]\n",
        ")"
      ]
    },
    {
      "cell_type": "code",
      "execution_count": 121,
      "id": "6923b3b0",
      "metadata": {
        "execution": {
          "iopub.execute_input": "2023-05-23T11:00:50.394390Z",
          "iopub.status.busy": "2023-05-23T11:00:50.393492Z",
          "iopub.status.idle": "2023-05-23T11:00:50.398863Z",
          "shell.execute_reply": "2023-05-23T11:00:50.397918Z"
        },
        "papermill": {
          "duration": 0.050989,
          "end_time": "2023-05-23T11:00:50.401624",
          "exception": false,
          "start_time": "2023-05-23T11:00:50.350635",
          "status": "completed"
        },
        "tags": [],
        "id": "6923b3b0"
      },
      "outputs": [],
      "source": [
        "pipe_numerical = Pipeline(\n",
        "    steps = [('standard_scaler', StandardScaler())]\n",
        ")"
      ]
    },
    {
      "cell_type": "code",
      "execution_count": 122,
      "id": "dfdb9ead",
      "metadata": {
        "execution": {
          "iopub.execute_input": "2023-05-23T11:00:50.481265Z",
          "iopub.status.busy": "2023-05-23T11:00:50.480387Z",
          "iopub.status.idle": "2023-05-23T11:00:50.486703Z",
          "shell.execute_reply": "2023-05-23T11:00:50.485715Z"
        },
        "papermill": {
          "duration": 0.049569,
          "end_time": "2023-05-23T11:00:50.490001",
          "exception": false,
          "start_time": "2023-05-23T11:00:50.440432",
          "status": "completed"
        },
        "tags": [],
        "id": "dfdb9ead"
      },
      "outputs": [],
      "source": [
        "column_transformer = ColumnTransformer(transformers = [\n",
        "    ('condition_pipe_trans', pipe_categorical['ordinal_encoder'], ['condition']),\n",
        "    ('categorical_pipe_trans', pipe_categorical['one_hot_encoder'], ['model', 'region', 'manufacturer', 'fuel', 'cylinders','title_status', 'transmission', 'drive', 'type', 'paint_color']),\n",
        "    ('numerical_pipe_trans', pipe_numerical, ['odometer'])\n",
        "])"
      ]
    },
    {
      "cell_type": "markdown",
      "id": "feef2976",
      "metadata": {
        "papermill": {
          "duration": 0.039116,
          "end_time": "2023-05-23T11:00:50.567860",
          "exception": false,
          "start_time": "2023-05-23T11:00:50.528744",
          "status": "completed"
        },
        "tags": [],
        "id": "feef2976"
      },
      "source": [
        "**Train-test-split**"
      ]
    },
    {
      "cell_type": "code",
      "execution_count": 123,
      "id": "4afcbc5c",
      "metadata": {
        "execution": {
          "iopub.execute_input": "2023-05-23T11:00:50.647470Z",
          "iopub.status.busy": "2023-05-23T11:00:50.646613Z",
          "iopub.status.idle": "2023-05-23T11:00:50.785789Z",
          "shell.execute_reply": "2023-05-23T11:00:50.784460Z"
        },
        "papermill": {
          "duration": 0.182766,
          "end_time": "2023-05-23T11:00:50.788932",
          "exception": false,
          "start_time": "2023-05-23T11:00:50.606166",
          "status": "completed"
        },
        "tags": [],
        "id": "4afcbc5c"
      },
      "outputs": [],
      "source": [
        "from sklearn.model_selection import train_test_split"
      ]
    },
    {
      "cell_type": "code",
      "execution_count": 124,
      "id": "4f1b2533",
      "metadata": {
        "execution": {
          "iopub.execute_input": "2023-05-23T11:00:50.870395Z",
          "iopub.status.busy": "2023-05-23T11:00:50.869837Z",
          "iopub.status.idle": "2023-05-23T11:00:51.254713Z",
          "shell.execute_reply": "2023-05-23T11:00:51.253275Z"
        },
        "papermill": {
          "duration": 0.429448,
          "end_time": "2023-05-23T11:00:51.257840",
          "exception": false,
          "start_time": "2023-05-23T11:00:50.828392",
          "status": "completed"
        },
        "tags": [],
        "id": "4f1b2533"
      },
      "outputs": [],
      "source": [
        "X_train, X_test, y_train, y_test = train_test_split(final_df.drop(['price'], axis = 1), final_df['price'], random_state = 42, test_size = .2)"
      ]
    },
    {
      "cell_type": "code",
      "execution_count": 125,
      "id": "0467faaa",
      "metadata": {
        "execution": {
          "iopub.execute_input": "2023-05-23T11:00:51.340998Z",
          "iopub.status.busy": "2023-05-23T11:00:51.340471Z",
          "iopub.status.idle": "2023-05-23T11:00:52.984021Z",
          "shell.execute_reply": "2023-05-23T11:00:52.982640Z"
        },
        "papermill": {
          "duration": 1.691457,
          "end_time": "2023-05-23T11:00:52.987348",
          "exception": false,
          "start_time": "2023-05-23T11:00:51.295891",
          "status": "completed"
        },
        "tags": [],
        "colab": {
          "base_uri": "https://localhost:8080/"
        },
        "id": "0467faaa",
        "outputId": "1d87e1dd-c8ed-4687-a55e-d30e8d307b42"
      },
      "outputs": [
        {
          "output_type": "stream",
          "name": "stderr",
          "text": [
            "/usr/local/lib/python3.10/dist-packages/sklearn/preprocessing/_encoders.py:868: FutureWarning: `sparse` was renamed to `sparse_output` in version 1.2 and will be removed in 1.4. `sparse_output` is ignored unless you leave `sparse` to its default value.\n",
            "  warnings.warn(\n"
          ]
        }
      ],
      "source": [
        "X_train_tnf = column_transformer.fit_transform(X_train)"
      ]
    },
    {
      "cell_type": "code",
      "execution_count": 126,
      "id": "d27a15f1",
      "metadata": {
        "execution": {
          "iopub.execute_input": "2023-05-23T11:00:53.066201Z",
          "iopub.status.busy": "2023-05-23T11:00:53.065418Z",
          "iopub.status.idle": "2023-05-23T11:00:53.442358Z",
          "shell.execute_reply": "2023-05-23T11:00:53.440910Z"
        },
        "papermill": {
          "duration": 0.420293,
          "end_time": "2023-05-23T11:00:53.445549",
          "exception": false,
          "start_time": "2023-05-23T11:00:53.025256",
          "status": "completed"
        },
        "tags": [],
        "id": "d27a15f1"
      },
      "outputs": [],
      "source": [
        "X_test_tnf = column_transformer.transform(X_test)"
      ]
    },
    {
      "cell_type": "code",
      "execution_count": 127,
      "id": "d6a24e91",
      "metadata": {
        "execution": {
          "iopub.execute_input": "2023-05-23T11:00:53.524981Z",
          "iopub.status.busy": "2023-05-23T11:00:53.524185Z",
          "iopub.status.idle": "2023-05-23T11:00:53.531284Z",
          "shell.execute_reply": "2023-05-23T11:00:53.530038Z"
        },
        "papermill": {
          "duration": 0.050327,
          "end_time": "2023-05-23T11:00:53.533659",
          "exception": false,
          "start_time": "2023-05-23T11:00:53.483332",
          "status": "completed"
        },
        "tags": [],
        "colab": {
          "base_uri": "https://localhost:8080/"
        },
        "id": "d6a24e91",
        "outputId": "b2f8a1e7-3a16-474d-d857-dcf256cd269f"
      },
      "outputs": [
        {
          "output_type": "stream",
          "name": "stdout",
          "text": [
            "(209760, 172)\n",
            "(52441, 172)\n"
          ]
        }
      ],
      "source": [
        "print(pd.DataFrame(X_train_tnf).shape)\n",
        "print(pd.DataFrame(X_test_tnf).shape)"
      ]
    },
    {
      "cell_type": "markdown",
      "id": "49c4580c",
      "metadata": {
        "papermill": {
          "duration": 0.038169,
          "end_time": "2023-05-23T11:00:53.609175",
          "exception": false,
          "start_time": "2023-05-23T11:00:53.571006",
          "status": "completed"
        },
        "tags": [],
        "id": "49c4580c"
      },
      "source": [
        "# **Model Training**"
      ]
    },
    {
      "cell_type": "code",
      "execution_count": 128,
      "id": "1c59525e",
      "metadata": {
        "execution": {
          "iopub.execute_input": "2023-05-23T11:00:53.688052Z",
          "iopub.status.busy": "2023-05-23T11:00:53.687287Z",
          "iopub.status.idle": "2023-05-23T11:00:55.957487Z",
          "shell.execute_reply": "2023-05-23T11:00:55.956145Z"
        },
        "papermill": {
          "duration": 2.313211,
          "end_time": "2023-05-23T11:00:55.960696",
          "exception": false,
          "start_time": "2023-05-23T11:00:53.647485",
          "status": "completed"
        },
        "tags": [],
        "id": "1c59525e"
      },
      "outputs": [],
      "source": [
        "from sklearn.metrics import mean_squared_error, mean_absolute_error,  r2_score, mean_squared_log_error\n",
        "from sklearn.linear_model import LinearRegression\n",
        "from sklearn.linear_model import Ridge\n",
        "from sklearn.linear_model import LassoCV,RidgeCV\n",
        "from yellowbrick.regressor import AlphaSelection\n",
        "from sklearn.linear_model import Lasso\n",
        "from sklearn.neighbors import KNeighborsRegressor\n",
        "from sklearn.ensemble import RandomForestRegressor\n",
        "from sklearn.ensemble import BaggingRegressor\n",
        "from sklearn.tree import DecisionTreeRegressor\n",
        "from sklearn.svm import SVR\n",
        "from sklearn.ensemble import AdaBoostRegressor\n",
        "import xgboost as xgb\n",
        "import lightgbm as lgb\n",
        "import warnings\n",
        "warnings.filterwarnings('ignore')"
      ]
    },
    {
      "cell_type": "code",
      "execution_count": 129,
      "id": "54550055",
      "metadata": {
        "execution": {
          "iopub.execute_input": "2023-05-23T11:00:56.040723Z",
          "iopub.status.busy": "2023-05-23T11:00:56.040293Z",
          "iopub.status.idle": "2023-05-23T11:00:56.048906Z",
          "shell.execute_reply": "2023-05-23T11:00:56.048032Z"
        },
        "papermill": {
          "duration": 0.051775,
          "end_time": "2023-05-23T11:00:56.051256",
          "exception": false,
          "start_time": "2023-05-23T11:00:55.999481",
          "status": "completed"
        },
        "tags": [],
        "id": "54550055"
      },
      "outputs": [],
      "source": [
        "def result(y_test, y_pred):\n",
        "    r=[]\n",
        "    r.append('%.4f' % r2_score(y_test,y_pred))\n",
        "    r.append('%.4f' % (r2_score(y_test,y_pred)*100))\n",
        "    r.append('%.2f' % mean_squared_error(y_test, y_pred))\n",
        "    r.append('%.2f' % mean_absolute_error(y_test, y_pred))\n",
        "    r.append('%.2f' % np.sqrt(mean_squared_error(y_test, y_pred)))\n",
        "    \n",
        "    return (r)\n",
        "\n",
        "#dataframe that store the performance of each model\n",
        "score_data = pd.DataFrame(index=['R2 Score', 'Accuracy(%)', 'Mean Squared Error', 'Mean Absolute Error', 'Root MSE'])"
      ]
    },
    {
      "cell_type": "markdown",
      "id": "d088ce4e",
      "metadata": {
        "papermill": {
          "duration": 0.037612,
          "end_time": "2023-05-23T11:00:56.126928",
          "exception": false,
          "start_time": "2023-05-23T11:00:56.089316",
          "status": "completed"
        },
        "tags": [],
        "id": "d088ce4e"
      },
      "source": [
        "**Linear Regression**"
      ]
    },
    {
      "cell_type": "code",
      "execution_count": 130,
      "id": "e9ba648a",
      "metadata": {
        "execution": {
          "iopub.execute_input": "2023-05-23T11:00:56.205008Z",
          "iopub.status.busy": "2023-05-23T11:00:56.203586Z",
          "iopub.status.idle": "2023-05-23T11:01:01.719373Z",
          "shell.execute_reply": "2023-05-23T11:01:01.717698Z"
        },
        "papermill": {
          "duration": 5.560701,
          "end_time": "2023-05-23T11:01:01.725061",
          "exception": false,
          "start_time": "2023-05-23T11:00:56.164360",
          "status": "completed"
        },
        "tags": [],
        "id": "e9ba648a"
      },
      "outputs": [],
      "source": [
        "LR = LinearRegression()\n",
        "LR.fit(X_train_tnf, y_train)\n",
        "y_pred = LR.predict(X_test_tnf)"
      ]
    },
    {
      "cell_type": "code",
      "execution_count": 131,
      "id": "91b464df",
      "metadata": {
        "execution": {
          "iopub.execute_input": "2023-05-23T11:01:01.870930Z",
          "iopub.status.busy": "2023-05-23T11:01:01.870461Z",
          "iopub.status.idle": "2023-05-23T11:01:01.886688Z",
          "shell.execute_reply": "2023-05-23T11:01:01.884995Z"
        },
        "papermill": {
          "duration": 0.06385,
          "end_time": "2023-05-23T11:01:01.889506",
          "exception": false,
          "start_time": "2023-05-23T11:01:01.825656",
          "status": "completed"
        },
        "tags": [],
        "colab": {
          "base_uri": "https://localhost:8080/"
        },
        "id": "91b464df",
        "outputId": "0cf1c26b-cb35-40f2-f7f9-cfe5660bec88"
      },
      "outputs": [
        {
          "output_type": "stream",
          "name": "stdout",
          "text": [
            "R2_score:  0.6495\n",
            "Mean squared error:  50630749.22\n",
            "Mean absolute error:  5392.05\n",
            "Root mean squared error:  7115.53\n"
          ]
        }
      ],
      "source": [
        "R2_score = r2_score(y_test, y_pred)*100\n",
        "score_lr = result(y_test, y_pred)\n",
        "score_data['Linear Regression'] = score_lr\n",
        "print('R2_score: ', score_lr[0])\n",
        "print('Mean squared error: ', score_lr[2])\n",
        "print('Mean absolute error: ', score_lr[3])\n",
        "print('Root mean squared error: ', score_lr[4])"
      ]
    },
    {
      "cell_type": "markdown",
      "id": "afae2394",
      "metadata": {
        "papermill": {
          "duration": 0.039209,
          "end_time": "2023-05-23T11:01:02.871789",
          "exception": false,
          "start_time": "2023-05-23T11:01:02.832580",
          "status": "completed"
        },
        "tags": [],
        "id": "afae2394"
      },
      "source": [
        "**K-Nearest Neighbour**"
      ]
    },
    {
      "cell_type": "code",
      "execution_count": 134,
      "id": "28eb0673",
      "metadata": {
        "execution": {
          "iopub.execute_input": "2023-05-23T11:01:02.952156Z",
          "iopub.status.busy": "2023-05-23T11:01:02.951245Z",
          "iopub.status.idle": "2023-05-23T11:02:20.748439Z",
          "shell.execute_reply": "2023-05-23T11:02:20.747246Z"
        },
        "papermill": {
          "duration": 77.840899,
          "end_time": "2023-05-23T11:02:20.751683",
          "exception": false,
          "start_time": "2023-05-23T11:01:02.910784",
          "status": "completed"
        },
        "tags": [],
        "id": "28eb0673"
      },
      "outputs": [],
      "source": [
        "KNN = KNeighborsRegressor(n_neighbors=5) \n",
        "KNN.fit(X_train_tnf, y_train)\n",
        "y_pred = KNN.predict(X_test_tnf)"
      ]
    },
    {
      "cell_type": "code",
      "execution_count": 135,
      "id": "f3003f05",
      "metadata": {
        "execution": {
          "iopub.execute_input": "2023-05-23T11:02:20.833234Z",
          "iopub.status.busy": "2023-05-23T11:02:20.831883Z",
          "iopub.status.idle": "2023-05-23T11:02:20.844768Z",
          "shell.execute_reply": "2023-05-23T11:02:20.843785Z"
        },
        "papermill": {
          "duration": 0.055764,
          "end_time": "2023-05-23T11:02:20.847699",
          "exception": false,
          "start_time": "2023-05-23T11:02:20.791935",
          "status": "completed"
        },
        "tags": [],
        "colab": {
          "base_uri": "https://localhost:8080/"
        },
        "id": "f3003f05",
        "outputId": "349fc3ea-d9bb-42c9-f62d-2c7351e42adb"
      },
      "outputs": [
        {
          "output_type": "stream",
          "name": "stdout",
          "text": [
            "R2 score:  0.7841\n",
            "Mean squared error:  31190311.94\n",
            "Mean absolute error:  3465.22\n",
            "Root mean squared error:  5584.83\n"
          ]
        }
      ],
      "source": [
        "score_knn = result(y_test, y_pred)\n",
        "score_data['K-Nearest Neighbour'] = score_knn\n",
        "print('R2 score: ', score_knn[0])\n",
        "print('Mean squared error: ', score_knn[2])\n",
        "print('Mean absolute error: ', score_knn[3])\n",
        "print('Root mean squared error: ', score_knn[4])"
      ]
    },
    {
      "cell_type": "markdown",
      "id": "cd7a3aae",
      "metadata": {
        "papermill": {
          "duration": 0.038385,
          "end_time": "2023-05-23T11:02:20.925859",
          "exception": false,
          "start_time": "2023-05-23T11:02:20.887474",
          "status": "completed"
        },
        "tags": [],
        "id": "cd7a3aae"
      },
      "source": [
        "**Random Forest Regression**"
      ]
    },
    {
      "cell_type": "code",
      "execution_count": 136,
      "id": "1d93b1a8",
      "metadata": {
        "execution": {
          "iopub.execute_input": "2023-05-23T11:02:21.006294Z",
          "iopub.status.busy": "2023-05-23T11:02:21.005060Z",
          "iopub.status.idle": "2023-05-23T11:07:16.005699Z",
          "shell.execute_reply": "2023-05-23T11:07:16.004644Z"
        },
        "papermill": {
          "duration": 295.043917,
          "end_time": "2023-05-23T11:07:16.008840",
          "exception": false,
          "start_time": "2023-05-23T11:02:20.964923",
          "status": "completed"
        },
        "tags": [],
        "id": "1d93b1a8"
      },
      "outputs": [],
      "source": [
        "RFR = RandomForestRegressor(n_estimators=150,random_state=0, min_samples_leaf=1, max_features=0.3, n_jobs=-1, oob_score=True)\n",
        "RFR.fit(X_train_tnf, y_train)\n",
        "y_pred = RFR.predict(X_test_tnf)"
      ]
    },
    {
      "cell_type": "code",
      "execution_count": 137,
      "id": "a3c5116f",
      "metadata": {
        "execution": {
          "iopub.execute_input": "2023-05-23T11:07:16.089658Z",
          "iopub.status.busy": "2023-05-23T11:07:16.088432Z",
          "iopub.status.idle": "2023-05-23T11:07:16.100948Z",
          "shell.execute_reply": "2023-05-23T11:07:16.099864Z"
        },
        "papermill": {
          "duration": 0.055202,
          "end_time": "2023-05-23T11:07:16.103483",
          "exception": false,
          "start_time": "2023-05-23T11:07:16.048281",
          "status": "completed"
        },
        "tags": [],
        "colab": {
          "base_uri": "https://localhost:8080/"
        },
        "id": "a3c5116f",
        "outputId": "09e9b9ca-c5cb-46f4-a126-d233fdf0a97d"
      },
      "outputs": [
        {
          "output_type": "stream",
          "name": "stdout",
          "text": [
            "R2 score:  0.8569\n",
            "Mean squared error:  20667621.48\n",
            "Mean absolute error:  2640.71\n",
            "Root mean squared error:  4546.17\n"
          ]
        }
      ],
      "source": [
        "score_rfr = result(y_test, y_pred)\n",
        "score_data['Random Forest Regression'] = score_rfr\n",
        "print('R2 score: ', score_rfr[0])\n",
        "print('Mean squared error: ', score_rfr[2])\n",
        "print('Mean absolute error: ', score_rfr[3])\n",
        "print('Root mean squared error: ', score_rfr[4])"
      ]
    },
    {
      "cell_type": "markdown",
      "id": "5c4bba29",
      "metadata": {
        "papermill": {
          "duration": 0.03915,
          "end_time": "2023-05-23T11:07:16.180685",
          "exception": false,
          "start_time": "2023-05-23T11:07:16.141535",
          "status": "completed"
        },
        "tags": [],
        "id": "5c4bba29"
      },
      "source": [
        "**Bagging Regressor**"
      ]
    },
    {
      "cell_type": "code",
      "execution_count": 138,
      "id": "30d9c37b",
      "metadata": {
        "execution": {
          "iopub.execute_input": "2023-05-23T11:07:16.260019Z",
          "iopub.status.busy": "2023-05-23T11:07:16.259458Z",
          "iopub.status.idle": "2023-05-23T11:11:48.065616Z",
          "shell.execute_reply": "2023-05-23T11:11:48.064282Z"
        },
        "papermill": {
          "duration": 271.84968,
          "end_time": "2023-05-23T11:11:48.068834",
          "exception": false,
          "start_time": "2023-05-23T11:07:16.219154",
          "status": "completed"
        },
        "tags": [],
        "id": "30d9c37b"
      },
      "outputs": [],
      "source": [
        "baggReg = BaggingRegressor(base_estimator=DecisionTreeRegressor(max_depth=20),n_estimators=50, random_state=1,\n",
        "                         max_samples=1.0, max_features=1.0, bootstrap=False, \n",
        "                         bootstrap_features=False, oob_score=False, warm_start=False, n_jobs=-1, verbose=0)\n",
        "baggReg.fit(X_train_tnf, y_train)\n",
        "y_pred = baggReg.predict(X_test_tnf)"
      ]
    },
    {
      "cell_type": "code",
      "execution_count": 139,
      "id": "115d754b",
      "metadata": {
        "execution": {
          "iopub.execute_input": "2023-05-23T11:11:48.149864Z",
          "iopub.status.busy": "2023-05-23T11:11:48.148503Z",
          "iopub.status.idle": "2023-05-23T11:11:48.162461Z",
          "shell.execute_reply": "2023-05-23T11:11:48.161138Z"
        },
        "papermill": {
          "duration": 0.057285,
          "end_time": "2023-05-23T11:11:48.165443",
          "exception": false,
          "start_time": "2023-05-23T11:11:48.108158",
          "status": "completed"
        },
        "tags": [],
        "colab": {
          "base_uri": "https://localhost:8080/"
        },
        "id": "115d754b",
        "outputId": "a98d8b8b-670f-42db-9fa2-e20adacbd4c9"
      },
      "outputs": [
        {
          "output_type": "stream",
          "name": "stdout",
          "text": [
            "R2 score:  0.7563\n",
            "Mean squared error:  35199357.17\n",
            "Mean absolute error:  3744.04\n",
            "Root mean squared error:  5932.90\n"
          ]
        }
      ],
      "source": [
        "score_bagg = result(y_test, y_pred)\n",
        "score_data['Bagging Regressor'] = score_bagg\n",
        "print('R2 score: ', score_bagg[0])\n",
        "print('Mean squared error: ', score_bagg[2])\n",
        "print('Mean absolute error: ', score_bagg[3])\n",
        "print('Root mean squared error: ', score_bagg[4])"
      ]
    },
    {
      "cell_type": "markdown",
      "id": "26a94855",
      "metadata": {
        "papermill": {
          "duration": 0.039122,
          "end_time": "2023-05-23T11:12:48.821971",
          "exception": false,
          "start_time": "2023-05-23T11:12:48.782849",
          "status": "completed"
        },
        "tags": [],
        "id": "26a94855"
      },
      "source": [
        "**AdaBoost Regressor**"
      ]
    },
    {
      "cell_type": "code",
      "execution_count": 142,
      "id": "f9a292b4",
      "metadata": {
        "execution": {
          "iopub.execute_input": "2023-05-23T11:12:48.903864Z",
          "iopub.status.busy": "2023-05-23T11:12:48.903068Z",
          "iopub.status.idle": "2023-05-23T11:29:02.174269Z",
          "shell.execute_reply": "2023-05-23T11:29:02.173055Z"
        },
        "papermill": {
          "duration": 973.316659,
          "end_time": "2023-05-23T11:29:02.177350",
          "exception": false,
          "start_time": "2023-05-23T11:12:48.860691",
          "status": "completed"
        },
        "tags": [],
        "id": "f9a292b4"
      },
      "outputs": [],
      "source": [
        "ABR = AdaBoostRegressor(\n",
        "    DecisionTreeRegressor(max_depth=24),\n",
        "    n_estimators=200,learning_rate=0.1)\n",
        "ABR.fit(X_train_tnf, y_train)\n",
        "y_pred = ABR.predict(X_test_tnf)"
      ]
    },
    {
      "cell_type": "code",
      "execution_count": 143,
      "id": "c53872da",
      "metadata": {
        "execution": {
          "iopub.execute_input": "2023-05-23T11:29:02.258247Z",
          "iopub.status.busy": "2023-05-23T11:29:02.257442Z",
          "iopub.status.idle": "2023-05-23T11:29:02.269642Z",
          "shell.execute_reply": "2023-05-23T11:29:02.268619Z"
        },
        "papermill": {
          "duration": 0.055788,
          "end_time": "2023-05-23T11:29:02.272324",
          "exception": false,
          "start_time": "2023-05-23T11:29:02.216536",
          "status": "completed"
        },
        "tags": [],
        "colab": {
          "base_uri": "https://localhost:8080/"
        },
        "id": "c53872da",
        "outputId": "169a228f-c6da-40f0-9956-6ccbe7bfadd8"
      },
      "outputs": [
        {
          "output_type": "stream",
          "name": "stdout",
          "text": [
            "R2 score:  0.8467\n",
            "Mean squared error:  22147616.72\n",
            "Mean absolute error:  2835.77\n",
            "Root mean squared error:  4706.13\n"
          ]
        }
      ],
      "source": [
        "score_abr = result(y_test, y_pred)\n",
        "score_data['AdaBoost Regressor'] = score_abr\n",
        "print('R2 score: ', score_abr[0])\n",
        "print('Mean squared error: ', score_abr[2])\n",
        "print('Mean absolute error: ', score_abr[3])\n",
        "print('Root mean squared error: ', score_abr[4])"
      ]
    },
    {
      "cell_type": "markdown",
      "id": "54948597",
      "metadata": {
        "papermill": {
          "duration": 0.038985,
          "end_time": "2023-05-23T12:03:04.448681",
          "exception": false,
          "start_time": "2023-05-23T12:03:04.409696",
          "status": "completed"
        },
        "tags": [],
        "id": "54948597"
      },
      "source": [
        "**Decision Tree Regressor**"
      ]
    },
    {
      "cell_type": "code",
      "execution_count": 146,
      "id": "40b4c5b0",
      "metadata": {
        "execution": {
          "iopub.execute_input": "2023-05-23T12:03:04.530692Z",
          "iopub.status.busy": "2023-05-23T12:03:04.529532Z",
          "iopub.status.idle": "2023-05-23T12:03:11.305905Z",
          "shell.execute_reply": "2023-05-23T12:03:11.304839Z"
        },
        "papermill": {
          "duration": 6.82056,
          "end_time": "2023-05-23T12:03:11.308887",
          "exception": false,
          "start_time": "2023-05-23T12:03:04.488327",
          "status": "completed"
        },
        "tags": [],
        "id": "40b4c5b0"
      },
      "outputs": [],
      "source": [
        "DTR = DecisionTreeRegressor()\n",
        "DTR.fit(X_train_tnf, y_train)\n",
        "y_pred = DTR.predict(X_test_tnf)"
      ]
    },
    {
      "cell_type": "code",
      "execution_count": 147,
      "id": "5fb7943b",
      "metadata": {
        "execution": {
          "iopub.execute_input": "2023-05-23T12:03:11.394735Z",
          "iopub.status.busy": "2023-05-23T12:03:11.393850Z",
          "iopub.status.idle": "2023-05-23T12:03:11.407195Z",
          "shell.execute_reply": "2023-05-23T12:03:11.405480Z"
        },
        "papermill": {
          "duration": 0.058943,
          "end_time": "2023-05-23T12:03:11.409721",
          "exception": false,
          "start_time": "2023-05-23T12:03:11.350778",
          "status": "completed"
        },
        "tags": [],
        "colab": {
          "base_uri": "https://localhost:8080/"
        },
        "id": "5fb7943b",
        "outputId": "77451958-fd58-4c17-b8ce-ef32a60658bc"
      },
      "outputs": [
        {
          "output_type": "stream",
          "name": "stdout",
          "text": [
            "R2 score:  0.7414\n",
            "Mean squared error:  37346192.22\n",
            "Mean absolute error:  3160.57\n",
            "Root mean squared error:  6111.15\n"
          ]
        }
      ],
      "source": [
        "score_dtr = result(y_test, y_pred)\n",
        "score_data['Decision Tree Regressor'] = score_dtr\n",
        "print('R2 score: ', score_dtr[0])\n",
        "print('Mean squared error: ', score_dtr[2])\n",
        "print('Mean absolute error: ', score_dtr[3])\n",
        "print('Root mean squared error: ', score_dtr[4])"
      ]
    },
    {
      "cell_type": "markdown",
      "id": "406d092e",
      "metadata": {
        "papermill": {
          "duration": 0.039568,
          "end_time": "2023-05-23T12:03:11.489021",
          "exception": false,
          "start_time": "2023-05-23T12:03:11.449453",
          "status": "completed"
        },
        "tags": [],
        "id": "406d092e"
      },
      "source": [
        "# **Overall result and model selection**"
      ]
    },
    {
      "cell_type": "code",
      "execution_count": 148,
      "id": "ad9ed4fe",
      "metadata": {
        "execution": {
          "iopub.execute_input": "2023-05-23T12:03:11.571166Z",
          "iopub.status.busy": "2023-05-23T12:03:11.570298Z",
          "iopub.status.idle": "2023-05-23T12:03:11.586914Z",
          "shell.execute_reply": "2023-05-23T12:03:11.585857Z"
        },
        "papermill": {
          "duration": 0.060197,
          "end_time": "2023-05-23T12:03:11.589611",
          "exception": false,
          "start_time": "2023-05-23T12:03:11.529414",
          "status": "completed"
        },
        "tags": [],
        "colab": {
          "base_uri": "https://localhost:8080/",
          "height": 206
        },
        "id": "ad9ed4fe",
        "outputId": "e89ce44d-07de-4a50-a104-c3971699f170"
      },
      "outputs": [
        {
          "output_type": "execute_result",
          "data": {
            "text/plain": [
              "                    Linear Regression Ridge Regression K-Nearest Neighbour  \\\n",
              "R2 Score                       0.6495           0.6495              0.7841   \n",
              "Accuracy(%)                   64.9479          64.9468             78.4067   \n",
              "Mean Squared Error        50630749.22      50632348.23         31190311.94   \n",
              "Mean Absolute Error           5392.05          5392.14             3465.22   \n",
              "Root MSE                      7115.53          7115.64             5584.83   \n",
              "\n",
              "                    Random Forest Regression Bagging Regressor  \\\n",
              "R2 Score                              0.8569            0.7563   \n",
              "Accuracy(%)                          85.6916           75.6312   \n",
              "Mean Squared Error               20667621.48       35199357.17   \n",
              "Mean Absolute Error                  2640.71           3744.04   \n",
              "Root MSE                             4546.17           5932.90   \n",
              "\n",
              "                    Lasso Regression AdaBoost Regressor  \\\n",
              "R2 Score                      0.6495             0.8467   \n",
              "Accuracy(%)                  64.9479            84.6670   \n",
              "Mean Squared Error       50630748.47        22147616.72   \n",
              "Mean Absolute Error          5392.05            2835.77   \n",
              "Root MSE                     7115.53            4706.13   \n",
              "\n",
              "                    Decision Tree Regressor  \n",
              "R2 Score                             0.7414  \n",
              "Accuracy(%)                         74.1449  \n",
              "Mean Squared Error              37346192.22  \n",
              "Mean Absolute Error                 3160.57  \n",
              "Root MSE                            6111.15  "
            ],
            "text/html": [
              "\n",
              "  <div id=\"df-07c01a42-fa9b-41df-bc3a-125d0df5c3d2\">\n",
              "    <div class=\"colab-df-container\">\n",
              "      <div>\n",
              "<style scoped>\n",
              "    .dataframe tbody tr th:only-of-type {\n",
              "        vertical-align: middle;\n",
              "    }\n",
              "\n",
              "    .dataframe tbody tr th {\n",
              "        vertical-align: top;\n",
              "    }\n",
              "\n",
              "    .dataframe thead th {\n",
              "        text-align: right;\n",
              "    }\n",
              "</style>\n",
              "<table border=\"1\" class=\"dataframe\">\n",
              "  <thead>\n",
              "    <tr style=\"text-align: right;\">\n",
              "      <th></th>\n",
              "      <th>Linear Regression</th>\n",
              "      <th>Ridge Regression</th>\n",
              "      <th>K-Nearest Neighbour</th>\n",
              "      <th>Random Forest Regression</th>\n",
              "      <th>Bagging Regressor</th>\n",
              "      <th>Lasso Regression</th>\n",
              "      <th>AdaBoost Regressor</th>\n",
              "      <th>Decision Tree Regressor</th>\n",
              "    </tr>\n",
              "  </thead>\n",
              "  <tbody>\n",
              "    <tr>\n",
              "      <th>R2 Score</th>\n",
              "      <td>0.6495</td>\n",
              "      <td>0.6495</td>\n",
              "      <td>0.7841</td>\n",
              "      <td>0.8569</td>\n",
              "      <td>0.7563</td>\n",
              "      <td>0.6495</td>\n",
              "      <td>0.8467</td>\n",
              "      <td>0.7414</td>\n",
              "    </tr>\n",
              "    <tr>\n",
              "      <th>Accuracy(%)</th>\n",
              "      <td>64.9479</td>\n",
              "      <td>64.9468</td>\n",
              "      <td>78.4067</td>\n",
              "      <td>85.6916</td>\n",
              "      <td>75.6312</td>\n",
              "      <td>64.9479</td>\n",
              "      <td>84.6670</td>\n",
              "      <td>74.1449</td>\n",
              "    </tr>\n",
              "    <tr>\n",
              "      <th>Mean Squared Error</th>\n",
              "      <td>50630749.22</td>\n",
              "      <td>50632348.23</td>\n",
              "      <td>31190311.94</td>\n",
              "      <td>20667621.48</td>\n",
              "      <td>35199357.17</td>\n",
              "      <td>50630748.47</td>\n",
              "      <td>22147616.72</td>\n",
              "      <td>37346192.22</td>\n",
              "    </tr>\n",
              "    <tr>\n",
              "      <th>Mean Absolute Error</th>\n",
              "      <td>5392.05</td>\n",
              "      <td>5392.14</td>\n",
              "      <td>3465.22</td>\n",
              "      <td>2640.71</td>\n",
              "      <td>3744.04</td>\n",
              "      <td>5392.05</td>\n",
              "      <td>2835.77</td>\n",
              "      <td>3160.57</td>\n",
              "    </tr>\n",
              "    <tr>\n",
              "      <th>Root MSE</th>\n",
              "      <td>7115.53</td>\n",
              "      <td>7115.64</td>\n",
              "      <td>5584.83</td>\n",
              "      <td>4546.17</td>\n",
              "      <td>5932.90</td>\n",
              "      <td>7115.53</td>\n",
              "      <td>4706.13</td>\n",
              "      <td>6111.15</td>\n",
              "    </tr>\n",
              "  </tbody>\n",
              "</table>\n",
              "</div>\n",
              "      <button class=\"colab-df-convert\" onclick=\"convertToInteractive('df-07c01a42-fa9b-41df-bc3a-125d0df5c3d2')\"\n",
              "              title=\"Convert this dataframe to an interactive table.\"\n",
              "              style=\"display:none;\">\n",
              "        \n",
              "  <svg xmlns=\"http://www.w3.org/2000/svg\" height=\"24px\"viewBox=\"0 0 24 24\"\n",
              "       width=\"24px\">\n",
              "    <path d=\"M0 0h24v24H0V0z\" fill=\"none\"/>\n",
              "    <path d=\"M18.56 5.44l.94 2.06.94-2.06 2.06-.94-2.06-.94-.94-2.06-.94 2.06-2.06.94zm-11 1L8.5 8.5l.94-2.06 2.06-.94-2.06-.94L8.5 2.5l-.94 2.06-2.06.94zm10 10l.94 2.06.94-2.06 2.06-.94-2.06-.94-.94-2.06-.94 2.06-2.06.94z\"/><path d=\"M17.41 7.96l-1.37-1.37c-.4-.4-.92-.59-1.43-.59-.52 0-1.04.2-1.43.59L10.3 9.45l-7.72 7.72c-.78.78-.78 2.05 0 2.83L4 21.41c.39.39.9.59 1.41.59.51 0 1.02-.2 1.41-.59l7.78-7.78 2.81-2.81c.8-.78.8-2.07 0-2.86zM5.41 20L4 18.59l7.72-7.72 1.47 1.35L5.41 20z\"/>\n",
              "  </svg>\n",
              "      </button>\n",
              "      \n",
              "  <style>\n",
              "    .colab-df-container {\n",
              "      display:flex;\n",
              "      flex-wrap:wrap;\n",
              "      gap: 12px;\n",
              "    }\n",
              "\n",
              "    .colab-df-convert {\n",
              "      background-color: #E8F0FE;\n",
              "      border: none;\n",
              "      border-radius: 50%;\n",
              "      cursor: pointer;\n",
              "      display: none;\n",
              "      fill: #1967D2;\n",
              "      height: 32px;\n",
              "      padding: 0 0 0 0;\n",
              "      width: 32px;\n",
              "    }\n",
              "\n",
              "    .colab-df-convert:hover {\n",
              "      background-color: #E2EBFA;\n",
              "      box-shadow: 0px 1px 2px rgba(60, 64, 67, 0.3), 0px 1px 3px 1px rgba(60, 64, 67, 0.15);\n",
              "      fill: #174EA6;\n",
              "    }\n",
              "\n",
              "    [theme=dark] .colab-df-convert {\n",
              "      background-color: #3B4455;\n",
              "      fill: #D2E3FC;\n",
              "    }\n",
              "\n",
              "    [theme=dark] .colab-df-convert:hover {\n",
              "      background-color: #434B5C;\n",
              "      box-shadow: 0px 1px 3px 1px rgba(0, 0, 0, 0.15);\n",
              "      filter: drop-shadow(0px 1px 2px rgba(0, 0, 0, 0.3));\n",
              "      fill: #FFFFFF;\n",
              "    }\n",
              "  </style>\n",
              "\n",
              "      <script>\n",
              "        const buttonEl =\n",
              "          document.querySelector('#df-07c01a42-fa9b-41df-bc3a-125d0df5c3d2 button.colab-df-convert');\n",
              "        buttonEl.style.display =\n",
              "          google.colab.kernel.accessAllowed ? 'block' : 'none';\n",
              "\n",
              "        async function convertToInteractive(key) {\n",
              "          const element = document.querySelector('#df-07c01a42-fa9b-41df-bc3a-125d0df5c3d2');\n",
              "          const dataTable =\n",
              "            await google.colab.kernel.invokeFunction('convertToInteractive',\n",
              "                                                     [key], {});\n",
              "          if (!dataTable) return;\n",
              "\n",
              "          const docLinkHtml = 'Like what you see? Visit the ' +\n",
              "            '<a target=\"_blank\" href=https://colab.research.google.com/notebooks/data_table.ipynb>data table notebook</a>'\n",
              "            + ' to learn more about interactive tables.';\n",
              "          element.innerHTML = '';\n",
              "          dataTable['output_type'] = 'display_data';\n",
              "          await google.colab.output.renderOutput(dataTable, element);\n",
              "          const docLink = document.createElement('div');\n",
              "          docLink.innerHTML = docLinkHtml;\n",
              "          element.appendChild(docLink);\n",
              "        }\n",
              "      </script>\n",
              "    </div>\n",
              "  </div>\n",
              "  "
            ]
          },
          "metadata": {},
          "execution_count": 148
        }
      ],
      "source": [
        "score_data"
      ]
    },
    {
      "cell_type": "code",
      "execution_count": 149,
      "id": "c27ccf21",
      "metadata": {
        "execution": {
          "iopub.execute_input": "2023-05-23T12:03:11.674115Z",
          "iopub.status.busy": "2023-05-23T12:03:11.673267Z",
          "iopub.status.idle": "2023-05-23T12:03:11.682464Z",
          "shell.execute_reply": "2023-05-23T12:03:11.681171Z"
        },
        "papermill": {
          "duration": 0.055106,
          "end_time": "2023-05-23T12:03:11.685487",
          "exception": false,
          "start_time": "2023-05-23T12:03:11.630381",
          "status": "completed"
        },
        "tags": [],
        "id": "c27ccf21"
      },
      "outputs": [],
      "source": [
        "for i in score_data.columns:\n",
        "  score_data[i] = score_data[i].astype(float)\n",
        "model_accuracy = score_data.loc['Accuracy(%)']"
      ]
    },
    {
      "cell_type": "code",
      "execution_count": 150,
      "id": "efc95871",
      "metadata": {
        "execution": {
          "iopub.execute_input": "2023-05-23T12:03:11.772364Z",
          "iopub.status.busy": "2023-05-23T12:03:11.771557Z",
          "iopub.status.idle": "2023-05-23T12:03:13.894317Z",
          "shell.execute_reply": "2023-05-23T12:03:13.893210Z"
        },
        "papermill": {
          "duration": 2.17048,
          "end_time": "2023-05-23T12:03:13.897812",
          "exception": false,
          "start_time": "2023-05-23T12:03:11.727332",
          "status": "completed"
        },
        "tags": [],
        "colab": {
          "base_uri": "https://localhost:8080/",
          "height": 546
        },
        "id": "efc95871",
        "outputId": "ccc5491f-bedd-4b30-cb51-83c84a11c2be"
      },
      "outputs": [
        {
          "output_type": "display_data",
          "data": {
            "text/plain": [
              "<Figure size 2000x600 with 1 Axes>"
            ],
            "image/png": "[encoded data removed]"
          },
          "metadata": {}
        }
      ],
      "source": [
        "x=list(range(len(model_accuracy)))\n",
        "y=list(range(0,101,10))\n",
        "props = dict(boxstyle='round', facecolor='white', alpha=0.8)\n",
        "plt.figure(figsize=(20,6))\n",
        "plt.plot(model_accuracy)\n",
        "plt.yticks(y)\n",
        "plt.xticks(fontsize=20)\n",
        "plt.xticks(rotation = (10))\n",
        "plt.xlabel(\"Models\",fontsize=30)\n",
        "plt.ylabel(\"Accuracy(%)\",fontsize=30)\n",
        "plt.title(\"Performance of Models\")\n",
        "for a,b in zip(x,y):\n",
        "    b=model_accuracy[a]\n",
        "    val=\"(\"+str(round(model_accuracy[a],2))+\" %)\"\n",
        "    plt.text(a, b+4.5, val,horizontalalignment='center',verticalalignment='center',color='green',bbox=props)\n",
        "    plt.text(a, b+3.5, '.',horizontalalignment='center',verticalalignment='center',color='red',fontsize=50)\n",
        "plt.tight_layout()\n",
        "plt.savefig('Overall-Performance.jpg',dpi=600)\n",
        "plt.show()"
      ]
    },
    {
      "cell_type": "markdown",
      "id": "01826589",
      "metadata": {
        "papermill": {
          "duration": 0.042374,
          "end_time": "2023-05-23T12:03:13.982649",
          "exception": false,
          "start_time": "2023-05-23T12:03:13.940275",
          "status": "completed"
        },
        "tags": [],
        "id": "01826589"
      },
      "source": [
        "# **Final Model Analysis**"
      ]
    },
    {
      "cell_type": "code",
      "execution_count": 151,
      "id": "8023fd93",
      "metadata": {
        "execution": {
          "iopub.execute_input": "2023-05-23T12:03:14.071568Z",
          "iopub.status.busy": "2023-05-23T12:03:14.070804Z",
          "iopub.status.idle": "2023-05-23T12:03:15.151206Z",
          "shell.execute_reply": "2023-05-23T12:03:15.150210Z"
        },
        "papermill": {
          "duration": 1.128873,
          "end_time": "2023-05-23T12:03:15.153858",
          "exception": false,
          "start_time": "2023-05-23T12:03:14.024985",
          "status": "completed"
        },
        "tags": [],
        "colab": {
          "base_uri": "https://localhost:8080/",
          "height": 501
        },
        "id": "8023fd93",
        "outputId": "b3bfe1c2-6f3f-40db-ab92-1e95cdbb498a"
      },
      "outputs": [
        {
          "output_type": "display_data",
          "data": {
            "text/plain": [
              "<Figure size 1000x500 with 1 Axes>"
            ],
            "image/png": "[encoded data removed]"
          },
          "metadata": {}
        }
      ],
      "source": [
        "df_check = pd.DataFrame({'Actual': y_test, 'Predicted': y_pred})\n",
        "df_check = df_check.sample(25)\n",
        "#round(df_check,2)\n",
        "df_check.plot(kind='bar',figsize=(10,5))\n",
        "plt.grid(which='major', linestyle='-', linewidth='0.5', color='green')\n",
        "plt.title('Performance of Random Forest')\n",
        "plt.ylabel('Mean Squared Log Error')\n",
        "plt.savefig('Random-Forest-Performance.jpg')\n",
        "plt.show()"
      ]
    },
    {
      "cell_type": "code",
      "execution_count": null,
      "id": "4a205e93",
      "metadata": {
        "papermill": {
          "duration": 0.045699,
          "end_time": "2023-05-23T12:03:15.244148",
          "exception": false,
          "start_time": "2023-05-23T12:03:15.198449",
          "status": "completed"
        },
        "tags": [],
        "id": "4a205e93"
      },
      "outputs": [],
      "source": []
    }
  ],
  "metadata": {
    "kernelspec": {
      "display_name": "Python 3",
      "language": "python",
      "name": "python3"
    },
    "language_info": {
      "codemirror_mode": {
        "name": "ipython",
        "version": 3
      },
      "file_extension": ".py",
      "mimetype": "text/x-python",
      "name": "python",
      "nbconvert_exporter": "python",
      "pygments_lexer": "ipython3",
      "version": "3.10.10"
    },
    "papermill": {
      "default_parameters": {},
      "duration": 3909.883354,
      "end_time": "2023-05-23T12:03:17.629552",
      "environment_variables": {},
      "exception": null,
      "input_path": "__notebook__.ipynb",
      "output_path": "__notebook__.ipynb",
      "parameters": {},
      "start_time": "2023-05-23T10:58:07.746198",
      "version": "2.4.0"
    },
    "colab": {
      "provenance": [],
      "include_colab_link": true
    }
  },
  "nbformat": 4,
  "nbformat_minor": 5
}