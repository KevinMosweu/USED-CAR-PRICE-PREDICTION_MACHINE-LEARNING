{
  "nbformat": 4,
  "nbformat_minor": 0,
  "metadata": {
    "colab": {
      "provenance": [],
      "include_colab_link": true
    },
    "kernelspec": {
      "name": "python3",
      "display_name": "Python 3"
    },
    "language_info": {
      "name": "python"
    }
  },
  "cells": [
    {
      "cell_type": "markdown",
      "metadata": {
        "id": "view-in-github",
        "colab_type": "text"
      },
      "source": [
        "<a href=\"https://colab.research.google.com/github/gusmendesbh/project4-group2/blob/main/car_sales.ipynb\" target=\"_parent\"><img src=\"https://colab.research.google.com/assets/colab-badge.svg\" alt=\"Open In Colab\"/></a>"
      ]
    },
    {
      "cell_type": "code",
      "execution_count": null,
      "metadata": {
        "id": "mAz9gTPlAx-i"
      },
      "outputs": [],
      "source": [
        "import numpy as np \n",
        "import pandas as pd\n",
        "import matplotlib.pyplot as plt\n",
        "import seaborn as sb\n",
        "import statsmodels.api as sm\n",
        "import cufflinks as cf\n",
        "import plotly\n",
        "import plotly.express as px\n"
      ]
    },
    {
      "cell_type": "code",
      "source": [
        "import os\n",
        "# Find the latest version of spark 3.x  from http://www.apache.org/dist/spark/ and enter as the spark version\n",
        "# For example:\n",
        "# spark_version = 'spark-3.3.1'\n",
        "spark_version = 'spark-3.3.2'\n",
        "os.environ['SPARK_VERSION']=spark_version\n",
        "\n",
        "# Install Spark and Java\n",
        "!apt-get update\n",
        "!apt-get install openjdk-11-jdk-headless -qq > /dev/null\n",
        "!wget -q http://www.apache.org/dist/spark/$SPARK_VERSION/$SPARK_VERSION-bin-hadoop3.tgz\n",
        "!tar xf $SPARK_VERSION-bin-hadoop3.tgz\n",
        "!pip install -q findspark\n",
        "\n",
        "# Set Environment Variables\n",
        "os.environ[\"JAVA_HOME\"] = \"/usr/lib/jvm/java-11-openjdk-amd64\"\n",
        "os.environ[\"SPARK_HOME\"] = f\"/content/{spark_version}-bin-hadoop3\"\n",
        "\n",
        "# Start a SparkSession\n",
        "import findspark\n",
        "findspark.init()"
      ],
      "metadata": {
        "colab": {
          "base_uri": "https://localhost:8080/"
        },
        "id": "WjrDi7PUfWf_",
        "outputId": "2b7a6de2-c889-41bd-e603-d1eefb50238c"
      },
      "execution_count": null,
      "outputs": [
        {
          "output_type": "stream",
          "name": "stdout",
          "text": [
            "\r0% [Working]\r            \rHit:1 http://archive.ubuntu.com/ubuntu focal InRelease\n",
            "\r0% [Connecting to security.ubuntu.com (185.125.190.36)] [Connected to cloud.r-p\r                                                                               \rHit:2 http://archive.ubuntu.com/ubuntu focal-updates InRelease\n",
            "\r0% [Waiting for headers] [Connecting to security.ubuntu.com (185.125.190.36)] [\r                                                                               \rHit:3 http://archive.ubuntu.com/ubuntu focal-backports InRelease\n",
            "\r0% [Connecting to security.ubuntu.com (185.125.190.36)] [Waiting for headers] [\r                                                                               \rHit:4 https://cloud.r-project.org/bin/linux/ubuntu focal-cran40/ InRelease\n",
            "\r0% [Connecting to security.ubuntu.com (185.125.190.36)] [Connecting to ppa.laun\r                                                                               \rHit:5 https://developer.download.nvidia.com/compute/cuda/repos/ubuntu2004/x86_64  InRelease\n",
            "\r                                                                               \r0% [Waiting for headers] [Waiting for headers]\r                                              \rHit:6 http://ppa.launchpad.net/c2d4u.team/c2d4u4.0+/ubuntu focal InRelease\n",
            "Hit:7 http://security.ubuntu.com/ubuntu focal-security InRelease\n",
            "Hit:8 http://ppa.launchpad.net/cran/libgit2/ubuntu focal InRelease\n",
            "Hit:9 http://ppa.launchpad.net/deadsnakes/ppa/ubuntu focal InRelease\n",
            "Hit:10 http://ppa.launchpad.net/graphics-drivers/ppa/ubuntu focal InRelease\n",
            "Hit:11 http://ppa.launchpad.net/ubuntugis/ppa/ubuntu focal InRelease\n",
            "Reading package lists... Done\n"
          ]
        }
      ]
    },
    {
      "cell_type": "code",
      "source": [
        "# Import packages\n",
        "from pyspark.sql import SparkSession\n",
        "import time\n",
        "\n",
        "# Create a SparkSession\n",
        "spark = SparkSession.builder\\\n",
        "    .appName(\"SparkSQL\")\\\n",
        "    .config(\"spark.sql.debug.maxToStringFields\", 2000)\\\n",
        "    .config(\"spark.driver.memory\", \"2g\")\\\n",
        "    .getOrCreate()"
      ],
      "metadata": {
        "id": "1ZdbNyMliOxK"
      },
      "execution_count": null,
      "outputs": []
    },
    {
      "cell_type": "code",
      "source": [
        "# Read in data from S3 Bucket\n",
        "from pyspark import SparkFiles\n",
        "sales_url = \"https://car-sales-data-group2.s3.amazonaws.com/car_sales_data.csv\"\n",
        "spark.sparkContext.addFile(sales_url)\n",
        "car_sales_df = spark.read.csv(SparkFiles.get(\"car_sales_data.csv\"), sep=\",\", header=True)\n",
        "\n",
        "# Show the sales data.\n",
        "car_sales_df.show()"
      ],
      "metadata": {
        "colab": {
          "base_uri": "https://localhost:8080/"
        },
        "id": "0ma4uxXxiRgm",
        "outputId": "8275de58-9d59-4cc5-8b6e-a8b5dc6a52fb"
      },
      "execution_count": null,
      "outputs": [
        {
          "output_type": "stream",
          "name": "stdout",
          "text": [
            "+----------+------------------+-----------------+---------+---------+--------+----------+--------------------+-----------------+\n",
            "|      Date|       Salesperson|    Customer Name| Car Make|Car Model|Car Year|Sale Price|     Commission Rate|Commission Earned|\n",
            "+----------+------------------+-----------------+---------+---------+--------+----------+--------------------+-----------------+\n",
            "|2022-08-01|   Monica Moore MD|      Mary Butler|   Nissan|   Altima|    2018|     15983| 0.07049522770435404|          1126.73|\n",
            "|2023-03-15|      Roberto Rose|   Richard Pierce|   Nissan|    F-150|    2016|     38474| 0.13443883688865882|           5172.4|\n",
            "|2023-04-29|      Ashley Ramos|     Sandra Moore|     Ford|    Civic|    2016|     33340| 0.11453592158660743|          3818.63|\n",
            "|2022-09-04|    Patrick Harris|     Johnny Scott|     Ford|   Altima|    2013|     41937| 0.09219072181202051|           3866.2|\n",
            "|2022-06-16|        Eric Lopez|    Vanessa Jones|    Honda|Silverado|    2022|     20256| 0.11348979252839732|          2298.85|\n",
            "|2022-12-18|  Terry Perkins MD|       John Olsen|     Ford|   Altima|    2015|     14769|  0.0772469351075994|          1140.86|\n",
            "|2022-06-12|      Ashley Brown|     Tyler Lawson|    Honda|    F-150|    2013|     41397| 0.14278012046202349|          5910.67|\n",
            "|2022-06-20|     Norma Watkins|     Michael Bond|     Ford|   Altima|    2015|     46233| 0.07162375791822201|          3311.38|\n",
            "|2022-09-02|      Scott Parker|  Stephanie Smith|     Ford|  Corolla|    2021|     27337| 0.09950365066681469|          2720.13|\n",
            "|2023-04-06|      Andrew Smith|Ashley Moreno DDS|     Ford|    Civic|    2018|     16309| 0.14992578196198048|          2445.14|\n",
            "|2023-03-12|     Harold Nelson|     Isaac Patton|    Honda|Silverado|    2021|     41259| 0.09254115962373276|          3818.16|\n",
            "|2023-01-29|Richard Richardson|      Justin Gray|   Toyota|Silverado|    2022|     48224| 0.09059214611261575|          4368.72|\n",
            "|2022-05-29|        Mia Acosta|     Rebecca Best|     Ford|   Altima|    2017|     36409| 0.12234885229472708|           4454.6|\n",
            "|2022-08-12|     Lisa Campbell|    Lisa Anderson|   Toyota|    F-150|    2011|     29628| 0.11232629380252482|           3328.0|\n",
            "|2023-04-06|     Carrie Howard|     Rodney Black|Chevrolet|   Altima|    2021|     10313| 0.10387489462717983|          1071.26|\n",
            "|2022-12-21|   James Velasquez| Natalie Thompson|    Honda|  Corolla|    2016|     36607| 0.05525097833560843|          2022.57|\n",
            "|2022-08-12|    Kristin Holmes|     Michael Hill|   Nissan|   Altima|    2010|     39916|0.052007774519202736|          2075.94|\n",
            "|2022-08-23|       Amy Solomon|     Taylor Moore|   Nissan|Silverado|    2018|     18482| 0.08618532374694807|          1592.88|\n",
            "|2022-10-18|  William Williams|    Jordan Taylor|   Toyota|    Civic|    2013|     17158| 0.12722779579444637|          2182.97|\n",
            "|2023-03-09| Patricia Reynolds|    Alison Walker|     Ford|   Altima|    2014|     28796| 0.09345120934038341|          2691.02|\n",
            "+----------+------------------+-----------------+---------+---------+--------+----------+--------------------+-----------------+\n",
            "only showing top 20 rows\n",
            "\n"
          ]
        }
      ]
    },
    {
      "cell_type": "code",
      "source": [
        "car_sales_pandas = car_sales_df.toPandas()"
      ],
      "metadata": {
        "id": "bbNrXt4wBc5i"
      },
      "execution_count": null,
      "outputs": []
    },
    {
      "cell_type": "code",
      "source": [
        "car_sales_pandas.isnull().sum()"
      ],
      "metadata": {
        "colab": {
          "base_uri": "https://localhost:8080/"
        },
        "id": "v95Fd-OBGARk",
        "outputId": "499f827c-f071-4a23-e861-605556cf48df"
      },
      "execution_count": null,
      "outputs": [
        {
          "output_type": "execute_result",
          "data": {
            "text/plain": [
              "Date                 0\n",
              "Salesperson          0\n",
              "Customer Name        0\n",
              "Car Make             0\n",
              "Car Model            0\n",
              "Car Year             0\n",
              "Sale Price           0\n",
              "Commission Rate      0\n",
              "Commission Earned    0\n",
              "dtype: int64"
            ]
          },
          "metadata": {},
          "execution_count": 107
        }
      ]
    },
    {
      "cell_type": "code",
      "source": [
        "car_sales_pandas.describe()"
      ],
      "metadata": {
        "colab": {
          "base_uri": "https://localhost:8080/",
          "height": 175
        },
        "id": "YrPo9iOwGEZ7",
        "outputId": "cd9c6ba8-f008-4a6b-d379-e90e8810a45d"
      },
      "execution_count": null,
      "outputs": [
        {
          "output_type": "execute_result",
          "data": {
            "text/plain": [
              "              Date    Salesperson  Customer Name Car Make  Car Model Car Year  \\\n",
              "count      2500000        2500000        2500000  2500000    2500000  2500000   \n",
              "unique         366         518657         518251        5          5       13   \n",
              "top     2022-12-24  Michael Smith  Michael Smith    Honda  Silverado     2013   \n",
              "freq          7144           1229           1167   500687     500842   192970   \n",
              "\n",
              "       Sale Price      Commission Rate Commission Earned  \n",
              "count     2500000              2500000           2500000  \n",
              "unique      40001              2500000            586911  \n",
              "top         14817  0.07049522770435404           2218.59  \n",
              "freq          101                    1                22  "
            ],
            "text/html": [
              "\n",
              "  <div id=\"df-847c4162-2003-4dc0-82a1-49b4bb98afdb\">\n",
              "    <div class=\"colab-df-container\">\n",
              "      <div>\n",
              "<style scoped>\n",
              "    .dataframe tbody tr th:only-of-type {\n",
              "        vertical-align: middle;\n",
              "    }\n",
              "\n",
              "    .dataframe tbody tr th {\n",
              "        vertical-align: top;\n",
              "    }\n",
              "\n",
              "    .dataframe thead th {\n",
              "        text-align: right;\n",
              "    }\n",
              "</style>\n",
              "<table border=\"1\" class=\"dataframe\">\n",
              "  <thead>\n",
              "    <tr style=\"text-align: right;\">\n",
              "      <th></th>\n",
              "      <th>Date</th>\n",
              "      <th>Salesperson</th>\n",
              "      <th>Customer Name</th>\n",
              "      <th>Car Make</th>\n",
              "      <th>Car Model</th>\n",
              "      <th>Car Year</th>\n",
              "      <th>Sale Price</th>\n",
              "      <th>Commission Rate</th>\n",
              "      <th>Commission Earned</th>\n",
              "    </tr>\n",
              "  </thead>\n",
              "  <tbody>\n",
              "    <tr>\n",
              "      <th>count</th>\n",
              "      <td>2500000</td>\n",
              "      <td>2500000</td>\n",
              "      <td>2500000</td>\n",
              "      <td>2500000</td>\n",
              "      <td>2500000</td>\n",
              "      <td>2500000</td>\n",
              "      <td>2500000</td>\n",
              "      <td>2500000</td>\n",
              "      <td>2500000</td>\n",
              "    </tr>\n",
              "    <tr>\n",
              "      <th>unique</th>\n",
              "      <td>366</td>\n",
              "      <td>518657</td>\n",
              "      <td>518251</td>\n",
              "      <td>5</td>\n",
              "      <td>5</td>\n",
              "      <td>13</td>\n",
              "      <td>40001</td>\n",
              "      <td>2500000</td>\n",
              "      <td>586911</td>\n",
              "    </tr>\n",
              "    <tr>\n",
              "      <th>top</th>\n",
              "      <td>2022-12-24</td>\n",
              "      <td>Michael Smith</td>\n",
              "      <td>Michael Smith</td>\n",
              "      <td>Honda</td>\n",
              "      <td>Silverado</td>\n",
              "      <td>2013</td>\n",
              "      <td>14817</td>\n",
              "      <td>0.07049522770435404</td>\n",
              "      <td>2218.59</td>\n",
              "    </tr>\n",
              "    <tr>\n",
              "      <th>freq</th>\n",
              "      <td>7144</td>\n",
              "      <td>1229</td>\n",
              "      <td>1167</td>\n",
              "      <td>500687</td>\n",
              "      <td>500842</td>\n",
              "      <td>192970</td>\n",
              "      <td>101</td>\n",
              "      <td>1</td>\n",
              "      <td>22</td>\n",
              "    </tr>\n",
              "  </tbody>\n",
              "</table>\n",
              "</div>\n",
              "      <button class=\"colab-df-convert\" onclick=\"convertToInteractive('df-847c4162-2003-4dc0-82a1-49b4bb98afdb')\"\n",
              "              title=\"Convert this dataframe to an interactive table.\"\n",
              "              style=\"display:none;\">\n",
              "        \n",
              "  <svg xmlns=\"http://www.w3.org/2000/svg\" height=\"24px\"viewBox=\"0 0 24 24\"\n",
              "       width=\"24px\">\n",
              "    <path d=\"M0 0h24v24H0V0z\" fill=\"none\"/>\n",
              "    <path d=\"M18.56 5.44l.94 2.06.94-2.06 2.06-.94-2.06-.94-.94-2.06-.94 2.06-2.06.94zm-11 1L8.5 8.5l.94-2.06 2.06-.94-2.06-.94L8.5 2.5l-.94 2.06-2.06.94zm10 10l.94 2.06.94-2.06 2.06-.94-2.06-.94-.94-2.06-.94 2.06-2.06.94z\"/><path d=\"M17.41 7.96l-1.37-1.37c-.4-.4-.92-.59-1.43-.59-.52 0-1.04.2-1.43.59L10.3 9.45l-7.72 7.72c-.78.78-.78 2.05 0 2.83L4 21.41c.39.39.9.59 1.41.59.51 0 1.02-.2 1.41-.59l7.78-7.78 2.81-2.81c.8-.78.8-2.07 0-2.86zM5.41 20L4 18.59l7.72-7.72 1.47 1.35L5.41 20z\"/>\n",
              "  </svg>\n",
              "      </button>\n",
              "      \n",
              "  <style>\n",
              "    .colab-df-container {\n",
              "      display:flex;\n",
              "      flex-wrap:wrap;\n",
              "      gap: 12px;\n",
              "    }\n",
              "\n",
              "    .colab-df-convert {\n",
              "      background-color: #E8F0FE;\n",
              "      border: none;\n",
              "      border-radius: 50%;\n",
              "      cursor: pointer;\n",
              "      display: none;\n",
              "      fill: #1967D2;\n",
              "      height: 32px;\n",
              "      padding: 0 0 0 0;\n",
              "      width: 32px;\n",
              "    }\n",
              "\n",
              "    .colab-df-convert:hover {\n",
              "      background-color: #E2EBFA;\n",
              "      box-shadow: 0px 1px 2px rgba(60, 64, 67, 0.3), 0px 1px 3px 1px rgba(60, 64, 67, 0.15);\n",
              "      fill: #174EA6;\n",
              "    }\n",
              "\n",
              "    [theme=dark] .colab-df-convert {\n",
              "      background-color: #3B4455;\n",
              "      fill: #D2E3FC;\n",
              "    }\n",
              "\n",
              "    [theme=dark] .colab-df-convert:hover {\n",
              "      background-color: #434B5C;\n",
              "      box-shadow: 0px 1px 3px 1px rgba(0, 0, 0, 0.15);\n",
              "      filter: drop-shadow(0px 1px 2px rgba(0, 0, 0, 0.3));\n",
              "      fill: #FFFFFF;\n",
              "    }\n",
              "  </style>\n",
              "\n",
              "      <script>\n",
              "        const buttonEl =\n",
              "          document.querySelector('#df-847c4162-2003-4dc0-82a1-49b4bb98afdb button.colab-df-convert');\n",
              "        buttonEl.style.display =\n",
              "          google.colab.kernel.accessAllowed ? 'block' : 'none';\n",
              "\n",
              "        async function convertToInteractive(key) {\n",
              "          const element = document.querySelector('#df-847c4162-2003-4dc0-82a1-49b4bb98afdb');\n",
              "          const dataTable =\n",
              "            await google.colab.kernel.invokeFunction('convertToInteractive',\n",
              "                                                     [key], {});\n",
              "          if (!dataTable) return;\n",
              "\n",
              "          const docLinkHtml = 'Like what you see? Visit the ' +\n",
              "            '<a target=\"_blank\" href=https://colab.research.google.com/notebooks/data_table.ipynb>data table notebook</a>'\n",
              "            + ' to learn more about interactive tables.';\n",
              "          element.innerHTML = '';\n",
              "          dataTable['output_type'] = 'display_data';\n",
              "          await google.colab.output.renderOutput(dataTable, element);\n",
              "          const docLink = document.createElement('div');\n",
              "          docLink.innerHTML = docLinkHtml;\n",
              "          element.appendChild(docLink);\n",
              "        }\n",
              "      </script>\n",
              "    </div>\n",
              "  </div>\n",
              "  "
            ]
          },
          "metadata": {},
          "execution_count": 108
        }
      ]
    },
    {
      "cell_type": "code",
      "source": [
        "car_sales_pandas['Car Make'].value_counts()"
      ],
      "metadata": {
        "colab": {
          "base_uri": "https://localhost:8080/"
        },
        "id": "w0sPnx9qGQhT",
        "outputId": "58a9f5cf-5712-4add-b976-cc60715ca5ed"
      },
      "execution_count": null,
      "outputs": [
        {
          "output_type": "execute_result",
          "data": {
            "text/plain": [
              "Honda        500687\n",
              "Chevrolet    500455\n",
              "Toyota       500147\n",
              "Ford         499781\n",
              "Nissan       498930\n",
              "Name: Car Make, dtype: int64"
            ]
          },
          "metadata": {},
          "execution_count": 109
        }
      ]
    },
    {
      "cell_type": "code",
      "source": [
        "car_sales_pandas.Salesperson.value_counts()"
      ],
      "metadata": {
        "colab": {
          "base_uri": "https://localhost:8080/"
        },
        "id": "Qf7aK6WQG2gr",
        "outputId": "b3d8cc66-c450-45ca-b054-c4c069d86ebf"
      },
      "execution_count": null,
      "outputs": [
        {
          "output_type": "execute_result",
          "data": {
            "text/plain": [
              "Michael Smith         1229\n",
              "Michael Johnson        976\n",
              "David Smith            821\n",
              "James Smith            796\n",
              "Jennifer Smith         753\n",
              "                      ... \n",
              "Mr. John Prince          1\n",
              "Joseph Roberts MD        1\n",
              "Matthew Bright DVM       1\n",
              "Mario Cohen              1\n",
              "Mr. Calvin Hardin        1\n",
              "Name: Salesperson, Length: 518657, dtype: int64"
            ]
          },
          "metadata": {},
          "execution_count": 110
        }
      ]
    },
    {
      "cell_type": "code",
      "source": [
        "car_sales_pandas.info()"
      ],
      "metadata": {
        "colab": {
          "base_uri": "https://localhost:8080/"
        },
        "id": "RhJ8y8EEHCe8",
        "outputId": "13a04472-8d85-4dfe-e971-e44525a63c0e"
      },
      "execution_count": null,
      "outputs": [
        {
          "output_type": "stream",
          "name": "stdout",
          "text": [
            "<class 'pandas.core.frame.DataFrame'>\n",
            "RangeIndex: 2500000 entries, 0 to 2499999\n",
            "Data columns (total 9 columns):\n",
            " #   Column             Dtype \n",
            "---  ------             ----- \n",
            " 0   Date               object\n",
            " 1   Salesperson        object\n",
            " 2   Customer Name      object\n",
            " 3   Car Make           object\n",
            " 4   Car Model          object\n",
            " 5   Car Year           object\n",
            " 6   Sale Price         object\n",
            " 7   Commission Rate    object\n",
            " 8   Commission Earned  object\n",
            "dtypes: object(9)\n",
            "memory usage: 171.7+ MB\n"
          ]
        }
      ]
    },
    {
      "cell_type": "code",
      "source": [
        "import datetime\n",
        "car_sales_pandas['Date'] = pd.to_datetime(car_sales_pandas['Date'])\n",
        "car_sales_pandas['Sale Price'] = car_sales_pandas['Sale Price'].astype(float)\n",
        "car_sales_pandas['Commission Rate'] = car_sales_pandas['Commission Rate'].astype(float)\n",
        "car_sales_pandas['Commission Earned'] = car_sales_pandas['Commission Earned'].astype(float)"
      ],
      "metadata": {
        "id": "3sAL4cpmHPB8"
      },
      "execution_count": null,
      "outputs": []
    },
    {
      "cell_type": "code",
      "source": [
        "car_sales_pandas.loc[car_sales_pandas['Car Model'] == 'Silverado', 'Car Make'] = 'Chevrolet'\n",
        "car_sales_pandas.loc[car_sales_pandas['Car Model'] == 'Corolla', 'Car Make'] = 'Toyota'\n",
        "car_sales_pandas.loc[car_sales_pandas['Car Model'] == 'Civic', 'Car Make'] = 'Honda'\n",
        "car_sales_pandas.loc[car_sales_pandas['Car Model'] == 'Altima', 'Car Make'] = 'Nissan'\n",
        "car_sales_pandas.loc[car_sales_pandas['Car Model'] == 'F-150', 'Car Make'] = 'Ford'"
      ],
      "metadata": {
        "id": "0KOMGjDnIDQT"
      },
      "execution_count": null,
      "outputs": []
    },
    {
      "cell_type": "code",
      "source": [
        "car_sales_pandas = car_sales_pandas.sort_values(by=['Date']).reset_index(drop=True)\n"
      ],
      "metadata": {
        "id": "9v5qthpTHxZN"
      },
      "execution_count": null,
      "outputs": []
    },
    {
      "cell_type": "code",
      "source": [
        "car_sales_pandas.head()"
      ],
      "metadata": {
        "colab": {
          "base_uri": "https://localhost:8080/",
          "height": 206
        },
        "id": "LcmWkQ5TlTjs",
        "outputId": "5945d87e-b693-4d87-9c57-a71b8ef9e506"
      },
      "execution_count": null,
      "outputs": [
        {
          "output_type": "execute_result",
          "data": {
            "text/plain": [
              "        Date     Salesperson     Customer Name Car Make Car Model Car Year  \\\n",
              "0 2022-05-01  Sherri Collins    Laura Pena DDS     Ford     F-150     2010   \n",
              "1 2022-05-01   Antonio Brown       Rhonda Boyd   Toyota   Corolla     2019   \n",
              "2 2022-05-01   Laura Delgado   Jennifer Garcia    Honda     Civic     2010   \n",
              "3 2022-05-01   Jessica Banks    Brian Gonzalez    Honda     Civic     2010   \n",
              "4 2022-05-01   Thomas Bailey  Stephen Mitchell   Toyota   Corolla     2021   \n",
              "\n",
              "   Sale Price  Commission Rate  Commission Earned  \n",
              "0     34903.0         0.092778            3238.24  \n",
              "1     25369.0         0.114699            2909.81  \n",
              "2     28079.0         0.123890            3478.70  \n",
              "3     34979.0         0.087169            3049.07  \n",
              "4     44299.0         0.062876            2785.32  "
            ],
            "text/html": [
              "\n",
              "  <div id=\"df-550c83a1-0ccd-4ff2-9321-a32af90bcde0\">\n",
              "    <div class=\"colab-df-container\">\n",
              "      <div>\n",
              "<style scoped>\n",
              "    .dataframe tbody tr th:only-of-type {\n",
              "        vertical-align: middle;\n",
              "    }\n",
              "\n",
              "    .dataframe tbody tr th {\n",
              "        vertical-align: top;\n",
              "    }\n",
              "\n",
              "    .dataframe thead th {\n",
              "        text-align: right;\n",
              "    }\n",
              "</style>\n",
              "<table border=\"1\" class=\"dataframe\">\n",
              "  <thead>\n",
              "    <tr style=\"text-align: right;\">\n",
              "      <th></th>\n",
              "      <th>Date</th>\n",
              "      <th>Salesperson</th>\n",
              "      <th>Customer Name</th>\n",
              "      <th>Car Make</th>\n",
              "      <th>Car Model</th>\n",
              "      <th>Car Year</th>\n",
              "      <th>Sale Price</th>\n",
              "      <th>Commission Rate</th>\n",
              "      <th>Commission Earned</th>\n",
              "    </tr>\n",
              "  </thead>\n",
              "  <tbody>\n",
              "    <tr>\n",
              "      <th>0</th>\n",
              "      <td>2022-05-01</td>\n",
              "      <td>Sherri Collins</td>\n",
              "      <td>Laura Pena DDS</td>\n",
              "      <td>Ford</td>\n",
              "      <td>F-150</td>\n",
              "      <td>2010</td>\n",
              "      <td>34903.0</td>\n",
              "      <td>0.092778</td>\n",
              "      <td>3238.24</td>\n",
              "    </tr>\n",
              "    <tr>\n",
              "      <th>1</th>\n",
              "      <td>2022-05-01</td>\n",
              "      <td>Antonio Brown</td>\n",
              "      <td>Rhonda Boyd</td>\n",
              "      <td>Toyota</td>\n",
              "      <td>Corolla</td>\n",
              "      <td>2019</td>\n",
              "      <td>25369.0</td>\n",
              "      <td>0.114699</td>\n",
              "      <td>2909.81</td>\n",
              "    </tr>\n",
              "    <tr>\n",
              "      <th>2</th>\n",
              "      <td>2022-05-01</td>\n",
              "      <td>Laura Delgado</td>\n",
              "      <td>Jennifer Garcia</td>\n",
              "      <td>Honda</td>\n",
              "      <td>Civic</td>\n",
              "      <td>2010</td>\n",
              "      <td>28079.0</td>\n",
              "      <td>0.123890</td>\n",
              "      <td>3478.70</td>\n",
              "    </tr>\n",
              "    <tr>\n",
              "      <th>3</th>\n",
              "      <td>2022-05-01</td>\n",
              "      <td>Jessica Banks</td>\n",
              "      <td>Brian Gonzalez</td>\n",
              "      <td>Honda</td>\n",
              "      <td>Civic</td>\n",
              "      <td>2010</td>\n",
              "      <td>34979.0</td>\n",
              "      <td>0.087169</td>\n",
              "      <td>3049.07</td>\n",
              "    </tr>\n",
              "    <tr>\n",
              "      <th>4</th>\n",
              "      <td>2022-05-01</td>\n",
              "      <td>Thomas Bailey</td>\n",
              "      <td>Stephen Mitchell</td>\n",
              "      <td>Toyota</td>\n",
              "      <td>Corolla</td>\n",
              "      <td>2021</td>\n",
              "      <td>44299.0</td>\n",
              "      <td>0.062876</td>\n",
              "      <td>2785.32</td>\n",
              "    </tr>\n",
              "  </tbody>\n",
              "</table>\n",
              "</div>\n",
              "      <button class=\"colab-df-convert\" onclick=\"convertToInteractive('df-550c83a1-0ccd-4ff2-9321-a32af90bcde0')\"\n",
              "              title=\"Convert this dataframe to an interactive table.\"\n",
              "              style=\"display:none;\">\n",
              "        \n",
              "  <svg xmlns=\"http://www.w3.org/2000/svg\" height=\"24px\"viewBox=\"0 0 24 24\"\n",
              "       width=\"24px\">\n",
              "    <path d=\"M0 0h24v24H0V0z\" fill=\"none\"/>\n",
              "    <path d=\"M18.56 5.44l.94 2.06.94-2.06 2.06-.94-2.06-.94-.94-2.06-.94 2.06-2.06.94zm-11 1L8.5 8.5l.94-2.06 2.06-.94-2.06-.94L8.5 2.5l-.94 2.06-2.06.94zm10 10l.94 2.06.94-2.06 2.06-.94-2.06-.94-.94-2.06-.94 2.06-2.06.94z\"/><path d=\"M17.41 7.96l-1.37-1.37c-.4-.4-.92-.59-1.43-.59-.52 0-1.04.2-1.43.59L10.3 9.45l-7.72 7.72c-.78.78-.78 2.05 0 2.83L4 21.41c.39.39.9.59 1.41.59.51 0 1.02-.2 1.41-.59l7.78-7.78 2.81-2.81c.8-.78.8-2.07 0-2.86zM5.41 20L4 18.59l7.72-7.72 1.47 1.35L5.41 20z\"/>\n",
              "  </svg>\n",
              "      </button>\n",
              "      \n",
              "  <style>\n",
              "    .colab-df-container {\n",
              "      display:flex;\n",
              "      flex-wrap:wrap;\n",
              "      gap: 12px;\n",
              "    }\n",
              "\n",
              "    .colab-df-convert {\n",
              "      background-color: #E8F0FE;\n",
              "      border: none;\n",
              "      border-radius: 50%;\n",
              "      cursor: pointer;\n",
              "      display: none;\n",
              "      fill: #1967D2;\n",
              "      height: 32px;\n",
              "      padding: 0 0 0 0;\n",
              "      width: 32px;\n",
              "    }\n",
              "\n",
              "    .colab-df-convert:hover {\n",
              "      background-color: #E2EBFA;\n",
              "      box-shadow: 0px 1px 2px rgba(60, 64, 67, 0.3), 0px 1px 3px 1px rgba(60, 64, 67, 0.15);\n",
              "      fill: #174EA6;\n",
              "    }\n",
              "\n",
              "    [theme=dark] .colab-df-convert {\n",
              "      background-color: #3B4455;\n",
              "      fill: #D2E3FC;\n",
              "    }\n",
              "\n",
              "    [theme=dark] .colab-df-convert:hover {\n",
              "      background-color: #434B5C;\n",
              "      box-shadow: 0px 1px 3px 1px rgba(0, 0, 0, 0.15);\n",
              "      filter: drop-shadow(0px 1px 2px rgba(0, 0, 0, 0.3));\n",
              "      fill: #FFFFFF;\n",
              "    }\n",
              "  </style>\n",
              "\n",
              "      <script>\n",
              "        const buttonEl =\n",
              "          document.querySelector('#df-550c83a1-0ccd-4ff2-9321-a32af90bcde0 button.colab-df-convert');\n",
              "        buttonEl.style.display =\n",
              "          google.colab.kernel.accessAllowed ? 'block' : 'none';\n",
              "\n",
              "        async function convertToInteractive(key) {\n",
              "          const element = document.querySelector('#df-550c83a1-0ccd-4ff2-9321-a32af90bcde0');\n",
              "          const dataTable =\n",
              "            await google.colab.kernel.invokeFunction('convertToInteractive',\n",
              "                                                     [key], {});\n",
              "          if (!dataTable) return;\n",
              "\n",
              "          const docLinkHtml = 'Like what you see? Visit the ' +\n",
              "            '<a target=\"_blank\" href=https://colab.research.google.com/notebooks/data_table.ipynb>data table notebook</a>'\n",
              "            + ' to learn more about interactive tables.';\n",
              "          element.innerHTML = '';\n",
              "          dataTable['output_type'] = 'display_data';\n",
              "          await google.colab.output.renderOutput(dataTable, element);\n",
              "          const docLink = document.createElement('div');\n",
              "          docLink.innerHTML = docLinkHtml;\n",
              "          element.appendChild(docLink);\n",
              "        }\n",
              "      </script>\n",
              "    </div>\n",
              "  </div>\n",
              "  "
            ]
          },
          "metadata": {},
          "execution_count": 115
        }
      ]
    },
    {
      "cell_type": "code",
      "source": [
        "counts = car_sales_pandas.Salesperson.value_counts()\n",
        "top_5 = counts[5:].index\n",
        "names_list = top_5.tolist()\n",
        "salesperson_df = car_sales_pandas[car_sales_pandas['Salesperson'].isin(['Michael Smith','Michael Johnson','David Smith','James Smith', 'Jennifer Smith'])]\n",
        "salesperson_df"
      ],
      "metadata": {
        "colab": {
          "base_uri": "https://localhost:8080/",
          "height": 424
        },
        "id": "uwf6OulgJNLm",
        "outputId": "467160c1-a76f-4b3b-b412-9ee88628bef7"
      },
      "execution_count": null,
      "outputs": [
        {
          "output_type": "execute_result",
          "data": {
            "text/plain": [
              "              Date      Salesperson      Customer Name   Car Make  Car Model  \\\n",
              "917     2022-05-01      David Smith   Stephanie Fields       Ford      F-150   \n",
              "1133    2022-05-01      David Smith   Leonard Chandler     Nissan     Altima   \n",
              "1513    2022-05-01   Jennifer Smith  Catherine Barnett     Nissan     Altima   \n",
              "1734    2022-05-01  Michael Johnson        Brandon Lee      Honda      Civic   \n",
              "1855    2022-05-01      James Smith     Edward Cochran      Honda      Civic   \n",
              "...            ...              ...                ...        ...        ...   \n",
              "2497507 2023-05-01  Michael Johnson      Angela Parker     Toyota    Corolla   \n",
              "2497759 2023-05-01      David Smith       Rhonda Moore       Ford      F-150   \n",
              "2497959 2023-05-01      James Smith     Eric Frederick     Nissan     Altima   \n",
              "2497986 2023-05-01   Jennifer Smith     Shirley Wright     Toyota    Corolla   \n",
              "2498780 2023-05-01  Michael Johnson       Megan Wilson  Chevrolet  Silverado   \n",
              "\n",
              "        Car Year  Sale Price  Commission Rate  Commission Earned  \n",
              "917         2011     23247.0         0.102908            2392.30  \n",
              "1133        2017     25946.0         0.133187            3455.66  \n",
              "1513        2016     23845.0         0.120236            2867.03  \n",
              "1734        2015     10029.0         0.128332            1287.05  \n",
              "1855        2021     47159.0         0.057490            2711.18  \n",
              "...          ...         ...              ...                ...  \n",
              "2497507     2012     20309.0         0.100891            2049.00  \n",
              "2497759     2011     10403.0         0.080956             842.19  \n",
              "2497959     2017     23964.0         0.079450            1903.94  \n",
              "2497986     2021     44958.0         0.121929            5481.67  \n",
              "2498780     2016     38769.0         0.113595            4403.98  \n",
              "\n",
              "[4575 rows x 9 columns]"
            ],
            "text/html": [
              "\n",
              "  <div id=\"df-89779760-e7fd-4d85-82c9-46791276f40e\">\n",
              "    <div class=\"colab-df-container\">\n",
              "      <div>\n",
              "<style scoped>\n",
              "    .dataframe tbody tr th:only-of-type {\n",
              "        vertical-align: middle;\n",
              "    }\n",
              "\n",
              "    .dataframe tbody tr th {\n",
              "        vertical-align: top;\n",
              "    }\n",
              "\n",
              "    .dataframe thead th {\n",
              "        text-align: right;\n",
              "    }\n",
              "</style>\n",
              "<table border=\"1\" class=\"dataframe\">\n",
              "  <thead>\n",
              "    <tr style=\"text-align: right;\">\n",
              "      <th></th>\n",
              "      <th>Date</th>\n",
              "      <th>Salesperson</th>\n",
              "      <th>Customer Name</th>\n",
              "      <th>Car Make</th>\n",
              "      <th>Car Model</th>\n",
              "      <th>Car Year</th>\n",
              "      <th>Sale Price</th>\n",
              "      <th>Commission Rate</th>\n",
              "      <th>Commission Earned</th>\n",
              "    </tr>\n",
              "  </thead>\n",
              "  <tbody>\n",
              "    <tr>\n",
              "      <th>917</th>\n",
              "      <td>2022-05-01</td>\n",
              "      <td>David Smith</td>\n",
              "      <td>Stephanie Fields</td>\n",
              "      <td>Ford</td>\n",
              "      <td>F-150</td>\n",
              "      <td>2011</td>\n",
              "      <td>23247.0</td>\n",
              "      <td>0.102908</td>\n",
              "      <td>2392.30</td>\n",
              "    </tr>\n",
              "    <tr>\n",
              "      <th>1133</th>\n",
              "      <td>2022-05-01</td>\n",
              "      <td>David Smith</td>\n",
              "      <td>Leonard Chandler</td>\n",
              "      <td>Nissan</td>\n",
              "      <td>Altima</td>\n",
              "      <td>2017</td>\n",
              "      <td>25946.0</td>\n",
              "      <td>0.133187</td>\n",
              "      <td>3455.66</td>\n",
              "    </tr>\n",
              "    <tr>\n",
              "      <th>1513</th>\n",
              "      <td>2022-05-01</td>\n",
              "      <td>Jennifer Smith</td>\n",
              "      <td>Catherine Barnett</td>\n",
              "      <td>Nissan</td>\n",
              "      <td>Altima</td>\n",
              "      <td>2016</td>\n",
              "      <td>23845.0</td>\n",
              "      <td>0.120236</td>\n",
              "      <td>2867.03</td>\n",
              "    </tr>\n",
              "    <tr>\n",
              "      <th>1734</th>\n",
              "      <td>2022-05-01</td>\n",
              "      <td>Michael Johnson</td>\n",
              "      <td>Brandon Lee</td>\n",
              "      <td>Honda</td>\n",
              "      <td>Civic</td>\n",
              "      <td>2015</td>\n",
              "      <td>10029.0</td>\n",
              "      <td>0.128332</td>\n",
              "      <td>1287.05</td>\n",
              "    </tr>\n",
              "    <tr>\n",
              "      <th>1855</th>\n",
              "      <td>2022-05-01</td>\n",
              "      <td>James Smith</td>\n",
              "      <td>Edward Cochran</td>\n",
              "      <td>Honda</td>\n",
              "      <td>Civic</td>\n",
              "      <td>2021</td>\n",
              "      <td>47159.0</td>\n",
              "      <td>0.057490</td>\n",
              "      <td>2711.18</td>\n",
              "    </tr>\n",
              "    <tr>\n",
              "      <th>...</th>\n",
              "      <td>...</td>\n",
              "      <td>...</td>\n",
              "      <td>...</td>\n",
              "      <td>...</td>\n",
              "      <td>...</td>\n",
              "      <td>...</td>\n",
              "      <td>...</td>\n",
              "      <td>...</td>\n",
              "      <td>...</td>\n",
              "    </tr>\n",
              "    <tr>\n",
              "      <th>2497507</th>\n",
              "      <td>2023-05-01</td>\n",
              "      <td>Michael Johnson</td>\n",
              "      <td>Angela Parker</td>\n",
              "      <td>Toyota</td>\n",
              "      <td>Corolla</td>\n",
              "      <td>2012</td>\n",
              "      <td>20309.0</td>\n",
              "      <td>0.100891</td>\n",
              "      <td>2049.00</td>\n",
              "    </tr>\n",
              "    <tr>\n",
              "      <th>2497759</th>\n",
              "      <td>2023-05-01</td>\n",
              "      <td>David Smith</td>\n",
              "      <td>Rhonda Moore</td>\n",
              "      <td>Ford</td>\n",
              "      <td>F-150</td>\n",
              "      <td>2011</td>\n",
              "      <td>10403.0</td>\n",
              "      <td>0.080956</td>\n",
              "      <td>842.19</td>\n",
              "    </tr>\n",
              "    <tr>\n",
              "      <th>2497959</th>\n",
              "      <td>2023-05-01</td>\n",
              "      <td>James Smith</td>\n",
              "      <td>Eric Frederick</td>\n",
              "      <td>Nissan</td>\n",
              "      <td>Altima</td>\n",
              "      <td>2017</td>\n",
              "      <td>23964.0</td>\n",
              "      <td>0.079450</td>\n",
              "      <td>1903.94</td>\n",
              "    </tr>\n",
              "    <tr>\n",
              "      <th>2497986</th>\n",
              "      <td>2023-05-01</td>\n",
              "      <td>Jennifer Smith</td>\n",
              "      <td>Shirley Wright</td>\n",
              "      <td>Toyota</td>\n",
              "      <td>Corolla</td>\n",
              "      <td>2021</td>\n",
              "      <td>44958.0</td>\n",
              "      <td>0.121929</td>\n",
              "      <td>5481.67</td>\n",
              "    </tr>\n",
              "    <tr>\n",
              "      <th>2498780</th>\n",
              "      <td>2023-05-01</td>\n",
              "      <td>Michael Johnson</td>\n",
              "      <td>Megan Wilson</td>\n",
              "      <td>Chevrolet</td>\n",
              "      <td>Silverado</td>\n",
              "      <td>2016</td>\n",
              "      <td>38769.0</td>\n",
              "      <td>0.113595</td>\n",
              "      <td>4403.98</td>\n",
              "    </tr>\n",
              "  </tbody>\n",
              "</table>\n",
              "<p>4575 rows × 9 columns</p>\n",
              "</div>\n",
              "      <button class=\"colab-df-convert\" onclick=\"convertToInteractive('df-89779760-e7fd-4d85-82c9-46791276f40e')\"\n",
              "              title=\"Convert this dataframe to an interactive table.\"\n",
              "              style=\"display:none;\">\n",
              "        \n",
              "  <svg xmlns=\"http://www.w3.org/2000/svg\" height=\"24px\"viewBox=\"0 0 24 24\"\n",
              "       width=\"24px\">\n",
              "    <path d=\"M0 0h24v24H0V0z\" fill=\"none\"/>\n",
              "    <path d=\"M18.56 5.44l.94 2.06.94-2.06 2.06-.94-2.06-.94-.94-2.06-.94 2.06-2.06.94zm-11 1L8.5 8.5l.94-2.06 2.06-.94-2.06-.94L8.5 2.5l-.94 2.06-2.06.94zm10 10l.94 2.06.94-2.06 2.06-.94-2.06-.94-.94-2.06-.94 2.06-2.06.94z\"/><path d=\"M17.41 7.96l-1.37-1.37c-.4-.4-.92-.59-1.43-.59-.52 0-1.04.2-1.43.59L10.3 9.45l-7.72 7.72c-.78.78-.78 2.05 0 2.83L4 21.41c.39.39.9.59 1.41.59.51 0 1.02-.2 1.41-.59l7.78-7.78 2.81-2.81c.8-.78.8-2.07 0-2.86zM5.41 20L4 18.59l7.72-7.72 1.47 1.35L5.41 20z\"/>\n",
              "  </svg>\n",
              "      </button>\n",
              "      \n",
              "  <style>\n",
              "    .colab-df-container {\n",
              "      display:flex;\n",
              "      flex-wrap:wrap;\n",
              "      gap: 12px;\n",
              "    }\n",
              "\n",
              "    .colab-df-convert {\n",
              "      background-color: #E8F0FE;\n",
              "      border: none;\n",
              "      border-radius: 50%;\n",
              "      cursor: pointer;\n",
              "      display: none;\n",
              "      fill: #1967D2;\n",
              "      height: 32px;\n",
              "      padding: 0 0 0 0;\n",
              "      width: 32px;\n",
              "    }\n",
              "\n",
              "    .colab-df-convert:hover {\n",
              "      background-color: #E2EBFA;\n",
              "      box-shadow: 0px 1px 2px rgba(60, 64, 67, 0.3), 0px 1px 3px 1px rgba(60, 64, 67, 0.15);\n",
              "      fill: #174EA6;\n",
              "    }\n",
              "\n",
              "    [theme=dark] .colab-df-convert {\n",
              "      background-color: #3B4455;\n",
              "      fill: #D2E3FC;\n",
              "    }\n",
              "\n",
              "    [theme=dark] .colab-df-convert:hover {\n",
              "      background-color: #434B5C;\n",
              "      box-shadow: 0px 1px 3px 1px rgba(0, 0, 0, 0.15);\n",
              "      filter: drop-shadow(0px 1px 2px rgba(0, 0, 0, 0.3));\n",
              "      fill: #FFFFFF;\n",
              "    }\n",
              "  </style>\n",
              "\n",
              "      <script>\n",
              "        const buttonEl =\n",
              "          document.querySelector('#df-89779760-e7fd-4d85-82c9-46791276f40e button.colab-df-convert');\n",
              "        buttonEl.style.display =\n",
              "          google.colab.kernel.accessAllowed ? 'block' : 'none';\n",
              "\n",
              "        async function convertToInteractive(key) {\n",
              "          const element = document.querySelector('#df-89779760-e7fd-4d85-82c9-46791276f40e');\n",
              "          const dataTable =\n",
              "            await google.colab.kernel.invokeFunction('convertToInteractive',\n",
              "                                                     [key], {});\n",
              "          if (!dataTable) return;\n",
              "\n",
              "          const docLinkHtml = 'Like what you see? Visit the ' +\n",
              "            '<a target=\"_blank\" href=https://colab.research.google.com/notebooks/data_table.ipynb>data table notebook</a>'\n",
              "            + ' to learn more about interactive tables.';\n",
              "          element.innerHTML = '';\n",
              "          dataTable['output_type'] = 'display_data';\n",
              "          await google.colab.output.renderOutput(dataTable, element);\n",
              "          const docLink = document.createElement('div');\n",
              "          docLink.innerHTML = docLinkHtml;\n",
              "          element.appendChild(docLink);\n",
              "        }\n",
              "      </script>\n",
              "    </div>\n",
              "  </div>\n",
              "  "
            ]
          },
          "metadata": {},
          "execution_count": 116
        }
      ]
    },
    {
      "cell_type": "code",
      "source": [
        "salesperson_df.Salesperson.value_counts()"
      ],
      "metadata": {
        "colab": {
          "base_uri": "https://localhost:8080/"
        },
        "id": "7Vet5O-bNs4O",
        "outputId": "dd2ce45f-d7c1-4537-c09c-01604d5ac28d"
      },
      "execution_count": null,
      "outputs": [
        {
          "output_type": "execute_result",
          "data": {
            "text/plain": [
              "Michael Smith      1229\n",
              "Michael Johnson     976\n",
              "David Smith         821\n",
              "James Smith         796\n",
              "Jennifer Smith      753\n",
              "Name: Salesperson, dtype: int64"
            ]
          },
          "metadata": {},
          "execution_count": 117
        }
      ]
    },
    {
      "cell_type": "code",
      "source": [
        "data_chevrolet = salesperson_df[salesperson_df[\"Car Make\"]=='Chevrolet']\n",
        "data_chevrolet.groupby(\"Car Model\")[\"Commission Earned\"].plot(kind='hist',legend=True)\n",
        "                                                           "
      ],
      "metadata": {
        "colab": {
          "base_uri": "https://localhost:8080/",
          "height": 482
        },
        "id": "sahvkiryyu2k",
        "outputId": "81482c0e-6f4c-454b-c628-0e3f2edeec8d"
      },
      "execution_count": null,
      "outputs": [
        {
          "output_type": "execute_result",
          "data": {
            "text/plain": [
              "Car Model\n",
              "Silverado    Axes(0.125,0.11;0.775x0.77)\n",
              "Name: Commission Earned, dtype: object"
            ]
          },
          "metadata": {},
          "execution_count": 118
        },
        {
          "output_type": "display_data",
          "data": {
            "text/plain": [
              "<Figure size 640x480 with 1 Axes>"
            ],
            "image/png": "[encoded data removed]"
          },
          "metadata": {}
        }
      ]
    },
    {
      "cell_type": "code",
      "source": [
        "fig = px.line(data_chevrolet, x='Date', y='Sale Price', title='Cars Sale Price 2022-2023')\n",
        "fig.show()"
      ],
      "metadata": {
        "colab": {
          "base_uri": "https://localhost:8080/",
          "height": 542
        },
        "id": "TVl3tEJq9UVE",
        "outputId": "8d5a7891-0fcd-4e1a-b970-160cdf98a780"
      },
      "execution_count": null,
      "outputs": [
        {
          "output_type": "display_data",
          "data": {
            "text/html": [
              "<html>\n",
              "<head><meta charset=\"utf-8\" /></head>\n",
              "<body>\n",
              "    <div>            <script src=\"https://cdnjs.cloudflare.com/ajax/libs/mathjax/2.7.5/MathJax.js?config=TeX-AMS-MML_SVG\"></script><script type=\"text/javascript\">if (window.MathJax && window.MathJax.Hub && window.MathJax.Hub.Config) {window.MathJax.Hub.Config({SVG: {font: \"STIX-Web\"}});}</script>                <script type=\"text/javascript\">window.PlotlyConfig = {MathJaxConfig: 'local'};</script>\n",
              "        <script src=\"https://cdn.plot.ly/plotly-2.18.2.min.js\"></script>                <div id=\"2edae21a-16ad-49ac-b815-3b72f275530d\" class=\"plotly-graph-div\" style=\"height:525px; width:100%;\"></div>            <script type=\"text/javascript\">                                    window.PLOTLYENV=window.PLOTLYENV || {};                                    if (document.getElementById(\"2edae21a-16ad-49ac-b815-3b72f275530d\")) {                    Plotly.newPlot(                        \"2edae21a-16ad-49ac-b815-3b72f275530d\",                        [{\"hovertemplate\":\"Date=%{x}<br>Sale Price=%{y}<extra></extra>\",\"legendgroup\":\"\",\"line\":{\"color\":\"#636efa\",\"dash\":\"solid\"},\"marker\":{\"symbol\":\"circle\"},\"mode\":\"lines\",\"name\":\"\",\"orientation\":\"v\",\"showlegend\":false,\"x\":[\"2022-05-02T00:00:00\",\"2022-05-02T00:00:00\",\"2022-05-03T00:00:00\",\"2022-05-03T00:00:00\",\"2022-05-03T00:00:00\",\"2022-05-04T00:00:00\",\"2022-05-05T00:00:00\",\"2022-05-05T00:00:00\",\"2022-05-05T00:00:00\",\"2022-05-06T00:00:00\",\"2022-05-06T00:00:00\",\"2022-05-06T00:00:00\",\"2022-05-06T00:00:00\",\"2022-05-07T00:00:00\",\"2022-05-07T00:00:00\",\"2022-05-09T00:00:00\",\"2022-05-09T00:00:00\",\"2022-05-10T00:00:00\",\"2022-05-10T00:00:00\",\"2022-05-10T00:00:00\",\"2022-05-10T00:00:00\",\"2022-05-11T00:00:00\",\"2022-05-11T00:00:00\",\"2022-05-11T00:00:00\",\"2022-05-11T00:00:00\",\"2022-05-12T00:00:00\",\"2022-05-12T00:00:00\",\"2022-05-12T00:00:00\",\"2022-05-12T00:00:00\",\"2022-05-12T00:00:00\",\"2022-05-13T00:00:00\",\"2022-05-13T00:00:00\",\"2022-05-13T00:00:00\",\"2022-05-13T00:00:00\",\"2022-05-14T00:00:00\",\"2022-05-15T00:00:00\",\"2022-05-15T00:00:00\",\"2022-05-16T00:00:00\",\"2022-05-16T00:00:00\",\"2022-05-16T00:00:00\",\"2022-05-17T00:00:00\",\"2022-05-17T00:00:00\",\"2022-05-17T00:00:00\",\"2022-05-18T00:00:00\",\"2022-05-18T00:00:00\",\"2022-05-19T00:00:00\",\"2022-05-19T00:00:00\",\"2022-05-19T00:00:00\",\"2022-05-19T00:00:00\",\"2022-05-20T00:00:00\",\"2022-05-20T00:00:00\",\"2022-05-20T00:00:00\",\"2022-05-20T00:00:00\",\"2022-05-21T00:00:00\",\"2022-05-21T00:00:00\",\"2022-05-22T00:00:00\",\"2022-05-23T00:00:00\",\"2022-05-23T00:00:00\",\"2022-05-23T00:00:00\",\"2022-05-23T00:00:00\",\"2022-05-23T00:00:00\",\"2022-05-23T00:00:00\",\"2022-05-24T00:00:00\",\"2022-05-24T00:00:00\",\"2022-05-24T00:00:00\",\"2022-05-25T00:00:00\",\"2022-05-26T00:00:00\",\"2022-05-26T00:00:00\",\"2022-05-27T00:00:00\",\"2022-05-27T00:00:00\",\"2022-05-27T00:00:00\",\"2022-05-28T00:00:00\",\"2022-05-28T00:00:00\",\"2022-05-28T00:00:00\",\"2022-05-29T00:00:00\",\"2022-05-29T00:00:00\",\"2022-05-31T00:00:00\",\"2022-05-31T00:00:00\",\"2022-05-31T00:00:00\",\"2022-06-01T00:00:00\",\"2022-06-01T00:00:00\",\"2022-06-01T00:00:00\",\"2022-06-01T00:00:00\",\"2022-06-01T00:00:00\",\"2022-06-02T00:00:00\",\"2022-06-02T00:00:00\",\"2022-06-03T00:00:00\",\"2022-06-03T00:00:00\",\"2022-06-04T00:00:00\",\"2022-06-04T00:00:00\",\"2022-06-04T00:00:00\",\"2022-06-05T00:00:00\",\"2022-06-06T00:00:00\",\"2022-06-07T00:00:00\",\"2022-06-07T00:00:00\",\"2022-06-07T00:00:00\",\"2022-06-08T00:00:00\",\"2022-06-08T00:00:00\",\"2022-06-09T00:00:00\",\"2022-06-09T00:00:00\",\"2022-06-09T00:00:00\",\"2022-06-09T00:00:00\",\"2022-06-10T00:00:00\",\"2022-06-10T00:00:00\",\"2022-06-11T00:00:00\",\"2022-06-11T00:00:00\",\"2022-06-12T00:00:00\",\"2022-06-12T00:00:00\",\"2022-06-12T00:00:00\",\"2022-06-12T00:00:00\",\"2022-06-12T00:00:00\",\"2022-06-13T00:00:00\",\"2022-06-13T00:00:00\",\"2022-06-14T00:00:00\",\"2022-06-14T00:00:00\",\"2022-06-15T00:00:00\",\"2022-06-16T00:00:00\",\"2022-06-16T00:00:00\",\"2022-06-16T00:00:00\",\"2022-06-16T00:00:00\",\"2022-06-17T00:00:00\",\"2022-06-19T00:00:00\",\"2022-06-19T00:00:00\",\"2022-06-20T00:00:00\",\"2022-06-22T00:00:00\",\"2022-06-22T00:00:00\",\"2022-06-23T00:00:00\",\"2022-06-23T00:00:00\",\"2022-06-25T00:00:00\",\"2022-06-26T00:00:00\",\"2022-06-26T00:00:00\",\"2022-06-27T00:00:00\",\"2022-06-27T00:00:00\",\"2022-06-27T00:00:00\",\"2022-06-27T00:00:00\",\"2022-06-27T00:00:00\",\"2022-06-27T00:00:00\",\"2022-06-29T00:00:00\",\"2022-07-01T00:00:00\",\"2022-07-02T00:00:00\",\"2022-07-02T00:00:00\",\"2022-07-02T00:00:00\",\"2022-07-02T00:00:00\",\"2022-07-03T00:00:00\",\"2022-07-03T00:00:00\",\"2022-07-05T00:00:00\",\"2022-07-05T00:00:00\",\"2022-07-05T00:00:00\",\"2022-07-05T00:00:00\",\"2022-07-05T00:00:00\",\"2022-07-06T00:00:00\",\"2022-07-06T00:00:00\",\"2022-07-06T00:00:00\",\"2022-07-06T00:00:00\",\"2022-07-07T00:00:00\",\"2022-07-07T00:00:00\",\"2022-07-08T00:00:00\",\"2022-07-09T00:00:00\",\"2022-07-09T00:00:00\",\"2022-07-10T00:00:00\",\"2022-07-10T00:00:00\",\"2022-07-10T00:00:00\",\"2022-07-10T00:00:00\",\"2022-07-11T00:00:00\",\"2022-07-11T00:00:00\",\"2022-07-11T00:00:00\",\"2022-07-12T00:00:00\",\"2022-07-12T00:00:00\",\"2022-07-12T00:00:00\",\"2022-07-13T00:00:00\",\"2022-07-13T00:00:00\",\"2022-07-13T00:00:00\",\"2022-07-14T00:00:00\",\"2022-07-14T00:00:00\",\"2022-07-14T00:00:00\",\"2022-07-14T00:00:00\",\"2022-07-14T00:00:00\",\"2022-07-15T00:00:00\",\"2022-07-15T00:00:00\",\"2022-07-15T00:00:00\",\"2022-07-16T00:00:00\",\"2022-07-16T00:00:00\",\"2022-07-16T00:00:00\",\"2022-07-16T00:00:00\",\"2022-07-17T00:00:00\",\"2022-07-17T00:00:00\",\"2022-07-17T00:00:00\",\"2022-07-18T00:00:00\",\"2022-07-19T00:00:00\",\"2022-07-19T00:00:00\",\"2022-07-19T00:00:00\",\"2022-07-19T00:00:00\",\"2022-07-19T00:00:00\",\"2022-07-20T00:00:00\",\"2022-07-20T00:00:00\",\"2022-07-21T00:00:00\",\"2022-07-21T00:00:00\",\"2022-07-22T00:00:00\",\"2022-07-22T00:00:00\",\"2022-07-22T00:00:00\",\"2022-07-23T00:00:00\",\"2022-07-23T00:00:00\",\"2022-07-23T00:00:00\",\"2022-07-23T00:00:00\",\"2022-07-23T00:00:00\",\"2022-07-24T00:00:00\",\"2022-07-24T00:00:00\",\"2022-07-24T00:00:00\",\"2022-07-25T00:00:00\",\"2022-07-26T00:00:00\",\"2022-07-26T00:00:00\",\"2022-07-27T00:00:00\",\"2022-07-28T00:00:00\",\"2022-07-29T00:00:00\",\"2022-07-30T00:00:00\",\"2022-07-30T00:00:00\",\"2022-07-30T00:00:00\",\"2022-08-01T00:00:00\",\"2022-08-02T00:00:00\",\"2022-08-02T00:00:00\",\"2022-08-02T00:00:00\",\"2022-08-02T00:00:00\",\"2022-08-03T00:00:00\",\"2022-08-03T00:00:00\",\"2022-08-04T00:00:00\",\"2022-08-05T00:00:00\",\"2022-08-06T00:00:00\",\"2022-08-06T00:00:00\",\"2022-08-08T00:00:00\",\"2022-08-08T00:00:00\",\"2022-08-08T00:00:00\",\"2022-08-08T00:00:00\",\"2022-08-08T00:00:00\",\"2022-08-09T00:00:00\",\"2022-08-10T00:00:00\",\"2022-08-10T00:00:00\",\"2022-08-10T00:00:00\",\"2022-08-10T00:00:00\",\"2022-08-10T00:00:00\",\"2022-08-11T00:00:00\",\"2022-08-11T00:00:00\",\"2022-08-11T00:00:00\",\"2022-08-11T00:00:00\",\"2022-08-11T00:00:00\",\"2022-08-11T00:00:00\",\"2022-08-11T00:00:00\",\"2022-08-12T00:00:00\",\"2022-08-14T00:00:00\",\"2022-08-14T00:00:00\",\"2022-08-14T00:00:00\",\"2022-08-15T00:00:00\",\"2022-08-16T00:00:00\",\"2022-08-16T00:00:00\",\"2022-08-17T00:00:00\",\"2022-08-17T00:00:00\",\"2022-08-17T00:00:00\",\"2022-08-17T00:00:00\",\"2022-08-18T00:00:00\",\"2022-08-18T00:00:00\",\"2022-08-18T00:00:00\",\"2022-08-19T00:00:00\",\"2022-08-19T00:00:00\",\"2022-08-19T00:00:00\",\"2022-08-20T00:00:00\",\"2022-08-20T00:00:00\",\"2022-08-21T00:00:00\",\"2022-08-21T00:00:00\",\"2022-08-22T00:00:00\",\"2022-08-22T00:00:00\",\"2022-08-22T00:00:00\",\"2022-08-23T00:00:00\",\"2022-08-23T00:00:00\",\"2022-08-23T00:00:00\",\"2022-08-23T00:00:00\",\"2022-08-24T00:00:00\",\"2022-08-24T00:00:00\",\"2022-08-25T00:00:00\",\"2022-08-25T00:00:00\",\"2022-08-25T00:00:00\",\"2022-08-25T00:00:00\",\"2022-08-26T00:00:00\",\"2022-08-26T00:00:00\",\"2022-08-26T00:00:00\",\"2022-08-27T00:00:00\",\"2022-08-27T00:00:00\",\"2022-08-27T00:00:00\",\"2022-08-27T00:00:00\",\"2022-08-27T00:00:00\",\"2022-08-27T00:00:00\",\"2022-08-28T00:00:00\",\"2022-08-28T00:00:00\",\"2022-08-28T00:00:00\",\"2022-08-29T00:00:00\",\"2022-08-29T00:00:00\",\"2022-08-29T00:00:00\",\"2022-08-30T00:00:00\",\"2022-08-30T00:00:00\",\"2022-08-30T00:00:00\",\"2022-08-30T00:00:00\",\"2022-08-31T00:00:00\",\"2022-08-31T00:00:00\",\"2022-09-01T00:00:00\",\"2022-09-02T00:00:00\",\"2022-09-02T00:00:00\",\"2022-09-02T00:00:00\",\"2022-09-02T00:00:00\",\"2022-09-05T00:00:00\",\"2022-09-05T00:00:00\",\"2022-09-06T00:00:00\",\"2022-09-08T00:00:00\",\"2022-09-08T00:00:00\",\"2022-09-09T00:00:00\",\"2022-09-09T00:00:00\",\"2022-09-09T00:00:00\",\"2022-09-10T00:00:00\",\"2022-09-11T00:00:00\",\"2022-09-11T00:00:00\",\"2022-09-11T00:00:00\",\"2022-09-12T00:00:00\",\"2022-09-12T00:00:00\",\"2022-09-13T00:00:00\",\"2022-09-13T00:00:00\",\"2022-09-14T00:00:00\",\"2022-09-15T00:00:00\",\"2022-09-16T00:00:00\",\"2022-09-16T00:00:00\",\"2022-09-16T00:00:00\",\"2022-09-16T00:00:00\",\"2022-09-16T00:00:00\",\"2022-09-16T00:00:00\",\"2022-09-17T00:00:00\",\"2022-09-17T00:00:00\",\"2022-09-17T00:00:00\",\"2022-09-17T00:00:00\",\"2022-09-18T00:00:00\",\"2022-09-19T00:00:00\",\"2022-09-19T00:00:00\",\"2022-09-19T00:00:00\",\"2022-09-20T00:00:00\",\"2022-09-21T00:00:00\",\"2022-09-21T00:00:00\",\"2022-09-21T00:00:00\",\"2022-09-21T00:00:00\",\"2022-09-21T00:00:00\",\"2022-09-22T00:00:00\",\"2022-09-23T00:00:00\",\"2022-09-23T00:00:00\",\"2022-09-23T00:00:00\",\"2022-09-24T00:00:00\",\"2022-09-24T00:00:00\",\"2022-09-25T00:00:00\",\"2022-09-25T00:00:00\",\"2022-09-26T00:00:00\",\"2022-09-26T00:00:00\",\"2022-09-26T00:00:00\",\"2022-09-26T00:00:00\",\"2022-09-27T00:00:00\",\"2022-09-28T00:00:00\",\"2022-09-28T00:00:00\",\"2022-09-28T00:00:00\",\"2022-09-28T00:00:00\",\"2022-09-29T00:00:00\",\"2022-09-29T00:00:00\",\"2022-09-30T00:00:00\",\"2022-09-30T00:00:00\",\"2022-10-01T00:00:00\",\"2022-10-02T00:00:00\",\"2022-10-02T00:00:00\",\"2022-10-02T00:00:00\",\"2022-10-02T00:00:00\",\"2022-10-02T00:00:00\",\"2022-10-03T00:00:00\",\"2022-10-04T00:00:00\",\"2022-10-04T00:00:00\",\"2022-10-04T00:00:00\",\"2022-10-05T00:00:00\",\"2022-10-06T00:00:00\",\"2022-10-06T00:00:00\",\"2022-10-06T00:00:00\",\"2022-10-06T00:00:00\",\"2022-10-07T00:00:00\",\"2022-10-08T00:00:00\",\"2022-10-09T00:00:00\",\"2022-10-09T00:00:00\",\"2022-10-10T00:00:00\",\"2022-10-10T00:00:00\",\"2022-10-10T00:00:00\",\"2022-10-11T00:00:00\",\"2022-10-12T00:00:00\",\"2022-10-12T00:00:00\",\"2022-10-12T00:00:00\",\"2022-10-12T00:00:00\",\"2022-10-12T00:00:00\",\"2022-10-12T00:00:00\",\"2022-10-12T00:00:00\",\"2022-10-13T00:00:00\",\"2022-10-13T00:00:00\",\"2022-10-14T00:00:00\",\"2022-10-14T00:00:00\",\"2022-10-15T00:00:00\",\"2022-10-15T00:00:00\",\"2022-10-17T00:00:00\",\"2022-10-17T00:00:00\",\"2022-10-17T00:00:00\",\"2022-10-17T00:00:00\",\"2022-10-17T00:00:00\",\"2022-10-18T00:00:00\",\"2022-10-18T00:00:00\",\"2022-10-18T00:00:00\",\"2022-10-19T00:00:00\",\"2022-10-19T00:00:00\",\"2022-10-19T00:00:00\",\"2022-10-19T00:00:00\",\"2022-10-21T00:00:00\",\"2022-10-22T00:00:00\",\"2022-10-22T00:00:00\",\"2022-10-22T00:00:00\",\"2022-10-22T00:00:00\",\"2022-10-23T00:00:00\",\"2022-10-23T00:00:00\",\"2022-10-23T00:00:00\",\"2022-10-23T00:00:00\",\"2022-10-24T00:00:00\",\"2022-10-24T00:00:00\",\"2022-10-25T00:00:00\",\"2022-10-25T00:00:00\",\"2022-10-26T00:00:00\",\"2022-10-26T00:00:00\",\"2022-10-27T00:00:00\",\"2022-10-27T00:00:00\",\"2022-10-27T00:00:00\",\"2022-10-28T00:00:00\",\"2022-10-29T00:00:00\",\"2022-10-29T00:00:00\",\"2022-10-29T00:00:00\",\"2022-10-30T00:00:00\",\"2022-10-30T00:00:00\",\"2022-10-30T00:00:00\",\"2022-10-30T00:00:00\",\"2022-10-30T00:00:00\",\"2022-10-31T00:00:00\",\"2022-10-31T00:00:00\",\"2022-11-01T00:00:00\",\"2022-11-01T00:00:00\",\"2022-11-01T00:00:00\",\"2022-11-02T00:00:00\",\"2022-11-02T00:00:00\",\"2022-11-02T00:00:00\",\"2022-11-02T00:00:00\",\"2022-11-02T00:00:00\",\"2022-11-03T00:00:00\",\"2022-11-03T00:00:00\",\"2022-11-03T00:00:00\",\"2022-11-04T00:00:00\",\"2022-11-04T00:00:00\",\"2022-11-04T00:00:00\",\"2022-11-06T00:00:00\",\"2022-11-06T00:00:00\",\"2022-11-06T00:00:00\",\"2022-11-06T00:00:00\",\"2022-11-06T00:00:00\",\"2022-11-07T00:00:00\",\"2022-11-07T00:00:00\",\"2022-11-08T00:00:00\",\"2022-11-09T00:00:00\",\"2022-11-09T00:00:00\",\"2022-11-09T00:00:00\",\"2022-11-10T00:00:00\",\"2022-11-10T00:00:00\",\"2022-11-11T00:00:00\",\"2022-11-11T00:00:00\",\"2022-11-11T00:00:00\",\"2022-11-11T00:00:00\",\"2022-11-11T00:00:00\",\"2022-11-11T00:00:00\",\"2022-11-12T00:00:00\",\"2022-11-12T00:00:00\",\"2022-11-12T00:00:00\",\"2022-11-13T00:00:00\",\"2022-11-14T00:00:00\",\"2022-11-14T00:00:00\",\"2022-11-14T00:00:00\",\"2022-11-14T00:00:00\",\"2022-11-15T00:00:00\",\"2022-11-15T00:00:00\",\"2022-11-15T00:00:00\",\"2022-11-15T00:00:00\",\"2022-11-16T00:00:00\",\"2022-11-16T00:00:00\",\"2022-11-16T00:00:00\",\"2022-11-17T00:00:00\",\"2022-11-18T00:00:00\",\"2022-11-18T00:00:00\",\"2022-11-18T00:00:00\",\"2022-11-18T00:00:00\",\"2022-11-19T00:00:00\",\"2022-11-19T00:00:00\",\"2022-11-19T00:00:00\",\"2022-11-20T00:00:00\",\"2022-11-21T00:00:00\",\"2022-11-21T00:00:00\",\"2022-11-21T00:00:00\",\"2022-11-22T00:00:00\",\"2022-11-22T00:00:00\",\"2022-11-22T00:00:00\",\"2022-11-22T00:00:00\",\"2022-11-22T00:00:00\",\"2022-11-22T00:00:00\",\"2022-11-23T00:00:00\",\"2022-11-23T00:00:00\",\"2022-11-24T00:00:00\",\"2022-11-24T00:00:00\",\"2022-11-24T00:00:00\",\"2022-11-25T00:00:00\",\"2022-11-25T00:00:00\",\"2022-11-25T00:00:00\",\"2022-11-25T00:00:00\",\"2022-11-26T00:00:00\",\"2022-11-26T00:00:00\",\"2022-11-28T00:00:00\",\"2022-11-28T00:00:00\",\"2022-11-28T00:00:00\",\"2022-11-28T00:00:00\",\"2022-11-29T00:00:00\",\"2022-11-30T00:00:00\",\"2022-11-30T00:00:00\",\"2022-11-30T00:00:00\",\"2022-11-30T00:00:00\",\"2022-12-01T00:00:00\",\"2022-12-01T00:00:00\",\"2022-12-01T00:00:00\",\"2022-12-01T00:00:00\",\"2022-12-01T00:00:00\",\"2022-12-02T00:00:00\",\"2022-12-03T00:00:00\",\"2022-12-03T00:00:00\",\"2022-12-03T00:00:00\",\"2022-12-04T00:00:00\",\"2022-12-04T00:00:00\",\"2022-12-05T00:00:00\",\"2022-12-05T00:00:00\",\"2022-12-05T00:00:00\",\"2022-12-06T00:00:00\",\"2022-12-06T00:00:00\",\"2022-12-06T00:00:00\",\"2022-12-06T00:00:00\",\"2022-12-06T00:00:00\",\"2022-12-07T00:00:00\",\"2022-12-07T00:00:00\",\"2022-12-08T00:00:00\",\"2022-12-08T00:00:00\",\"2022-12-08T00:00:00\",\"2022-12-08T00:00:00\",\"2022-12-08T00:00:00\",\"2022-12-08T00:00:00\",\"2022-12-08T00:00:00\",\"2022-12-08T00:00:00\",\"2022-12-10T00:00:00\",\"2022-12-11T00:00:00\",\"2022-12-11T00:00:00\",\"2022-12-11T00:00:00\",\"2022-12-11T00:00:00\",\"2022-12-12T00:00:00\",\"2022-12-12T00:00:00\",\"2022-12-14T00:00:00\",\"2022-12-14T00:00:00\",\"2022-12-14T00:00:00\",\"2022-12-14T00:00:00\",\"2022-12-14T00:00:00\",\"2022-12-15T00:00:00\",\"2022-12-16T00:00:00\",\"2022-12-16T00:00:00\",\"2022-12-17T00:00:00\",\"2022-12-17T00:00:00\",\"2022-12-17T00:00:00\",\"2022-12-17T00:00:00\",\"2022-12-17T00:00:00\",\"2022-12-20T00:00:00\",\"2022-12-21T00:00:00\",\"2022-12-21T00:00:00\",\"2022-12-21T00:00:00\",\"2022-12-23T00:00:00\",\"2022-12-23T00:00:00\",\"2022-12-24T00:00:00\",\"2022-12-25T00:00:00\",\"2022-12-25T00:00:00\",\"2022-12-25T00:00:00\",\"2022-12-26T00:00:00\",\"2022-12-26T00:00:00\",\"2022-12-26T00:00:00\",\"2022-12-27T00:00:00\",\"2022-12-28T00:00:00\",\"2022-12-29T00:00:00\",\"2022-12-29T00:00:00\",\"2022-12-30T00:00:00\",\"2022-12-30T00:00:00\",\"2022-12-30T00:00:00\",\"2022-12-31T00:00:00\",\"2022-12-31T00:00:00\",\"2023-01-02T00:00:00\",\"2023-01-02T00:00:00\",\"2023-01-02T00:00:00\",\"2023-01-03T00:00:00\",\"2023-01-03T00:00:00\",\"2023-01-03T00:00:00\",\"2023-01-04T00:00:00\",\"2023-01-04T00:00:00\",\"2023-01-04T00:00:00\",\"2023-01-04T00:00:00\",\"2023-01-05T00:00:00\",\"2023-01-06T00:00:00\",\"2023-01-06T00:00:00\",\"2023-01-07T00:00:00\",\"2023-01-07T00:00:00\",\"2023-01-08T00:00:00\",\"2023-01-08T00:00:00\",\"2023-01-08T00:00:00\",\"2023-01-09T00:00:00\",\"2023-01-09T00:00:00\",\"2023-01-09T00:00:00\",\"2023-01-09T00:00:00\",\"2023-01-09T00:00:00\",\"2023-01-10T00:00:00\",\"2023-01-10T00:00:00\",\"2023-01-10T00:00:00\",\"2023-01-10T00:00:00\",\"2023-01-11T00:00:00\",\"2023-01-12T00:00:00\",\"2023-01-12T00:00:00\",\"2023-01-12T00:00:00\",\"2023-01-13T00:00:00\",\"2023-01-13T00:00:00\",\"2023-01-14T00:00:00\",\"2023-01-14T00:00:00\",\"2023-01-14T00:00:00\",\"2023-01-14T00:00:00\",\"2023-01-15T00:00:00\",\"2023-01-15T00:00:00\",\"2023-01-15T00:00:00\",\"2023-01-15T00:00:00\",\"2023-01-15T00:00:00\",\"2023-01-16T00:00:00\",\"2023-01-17T00:00:00\",\"2023-01-17T00:00:00\",\"2023-01-18T00:00:00\",\"2023-01-18T00:00:00\",\"2023-01-18T00:00:00\",\"2023-01-19T00:00:00\",\"2023-01-20T00:00:00\",\"2023-01-21T00:00:00\",\"2023-01-21T00:00:00\",\"2023-01-21T00:00:00\",\"2023-01-22T00:00:00\",\"2023-01-22T00:00:00\",\"2023-01-22T00:00:00\",\"2023-01-23T00:00:00\",\"2023-01-23T00:00:00\",\"2023-01-24T00:00:00\",\"2023-01-24T00:00:00\",\"2023-01-25T00:00:00\",\"2023-01-25T00:00:00\",\"2023-01-26T00:00:00\",\"2023-01-26T00:00:00\",\"2023-01-27T00:00:00\",\"2023-01-27T00:00:00\",\"2023-01-28T00:00:00\",\"2023-01-28T00:00:00\",\"2023-01-28T00:00:00\",\"2023-01-29T00:00:00\",\"2023-01-30T00:00:00\",\"2023-01-30T00:00:00\",\"2023-01-30T00:00:00\",\"2023-01-31T00:00:00\",\"2023-02-01T00:00:00\",\"2023-02-02T00:00:00\",\"2023-02-02T00:00:00\",\"2023-02-02T00:00:00\",\"2023-02-03T00:00:00\",\"2023-02-03T00:00:00\",\"2023-02-04T00:00:00\",\"2023-02-04T00:00:00\",\"2023-02-04T00:00:00\",\"2023-02-05T00:00:00\",\"2023-02-05T00:00:00\",\"2023-02-06T00:00:00\",\"2023-02-06T00:00:00\",\"2023-02-07T00:00:00\",\"2023-02-07T00:00:00\",\"2023-02-08T00:00:00\",\"2023-02-09T00:00:00\",\"2023-02-09T00:00:00\",\"2023-02-09T00:00:00\",\"2023-02-10T00:00:00\",\"2023-02-10T00:00:00\",\"2023-02-10T00:00:00\",\"2023-02-11T00:00:00\",\"2023-02-11T00:00:00\",\"2023-02-12T00:00:00\",\"2023-02-12T00:00:00\",\"2023-02-12T00:00:00\",\"2023-02-12T00:00:00\",\"2023-02-13T00:00:00\",\"2023-02-13T00:00:00\",\"2023-02-14T00:00:00\",\"2023-02-14T00:00:00\",\"2023-02-16T00:00:00\",\"2023-02-16T00:00:00\",\"2023-02-16T00:00:00\",\"2023-02-16T00:00:00\",\"2023-02-16T00:00:00\",\"2023-02-17T00:00:00\",\"2023-02-17T00:00:00\",\"2023-02-18T00:00:00\",\"2023-02-18T00:00:00\",\"2023-02-18T00:00:00\",\"2023-02-18T00:00:00\",\"2023-02-19T00:00:00\",\"2023-02-19T00:00:00\",\"2023-02-19T00:00:00\",\"2023-02-19T00:00:00\",\"2023-02-20T00:00:00\",\"2023-02-20T00:00:00\",\"2023-02-20T00:00:00\",\"2023-02-21T00:00:00\",\"2023-02-21T00:00:00\",\"2023-02-22T00:00:00\",\"2023-02-22T00:00:00\",\"2023-02-23T00:00:00\",\"2023-02-23T00:00:00\",\"2023-02-23T00:00:00\",\"2023-02-24T00:00:00\",\"2023-02-24T00:00:00\",\"2023-02-25T00:00:00\",\"2023-02-26T00:00:00\",\"2023-02-27T00:00:00\",\"2023-02-27T00:00:00\",\"2023-02-28T00:00:00\",\"2023-02-28T00:00:00\",\"2023-02-28T00:00:00\",\"2023-02-28T00:00:00\",\"2023-02-28T00:00:00\",\"2023-02-28T00:00:00\",\"2023-03-01T00:00:00\",\"2023-03-01T00:00:00\",\"2023-03-01T00:00:00\",\"2023-03-02T00:00:00\",\"2023-03-03T00:00:00\",\"2023-03-03T00:00:00\",\"2023-03-03T00:00:00\",\"2023-03-03T00:00:00\",\"2023-03-05T00:00:00\",\"2023-03-06T00:00:00\",\"2023-03-06T00:00:00\",\"2023-03-07T00:00:00\",\"2023-03-07T00:00:00\",\"2023-03-07T00:00:00\",\"2023-03-07T00:00:00\",\"2023-03-07T00:00:00\",\"2023-03-07T00:00:00\",\"2023-03-08T00:00:00\",\"2023-03-08T00:00:00\",\"2023-03-08T00:00:00\",\"2023-03-08T00:00:00\",\"2023-03-09T00:00:00\",\"2023-03-09T00:00:00\",\"2023-03-09T00:00:00\",\"2023-03-10T00:00:00\",\"2023-03-10T00:00:00\",\"2023-03-10T00:00:00\",\"2023-03-10T00:00:00\",\"2023-03-11T00:00:00\",\"2023-03-11T00:00:00\",\"2023-03-12T00:00:00\",\"2023-03-12T00:00:00\",\"2023-03-13T00:00:00\",\"2023-03-13T00:00:00\",\"2023-03-14T00:00:00\",\"2023-03-14T00:00:00\",\"2023-03-14T00:00:00\",\"2023-03-15T00:00:00\",\"2023-03-15T00:00:00\",\"2023-03-16T00:00:00\",\"2023-03-17T00:00:00\",\"2023-03-17T00:00:00\",\"2023-03-17T00:00:00\",\"2023-03-18T00:00:00\",\"2023-03-19T00:00:00\",\"2023-03-20T00:00:00\",\"2023-03-20T00:00:00\",\"2023-03-21T00:00:00\",\"2023-03-21T00:00:00\",\"2023-03-21T00:00:00\",\"2023-03-22T00:00:00\",\"2023-03-22T00:00:00\",\"2023-03-23T00:00:00\",\"2023-03-23T00:00:00\",\"2023-03-24T00:00:00\",\"2023-03-25T00:00:00\",\"2023-03-25T00:00:00\",\"2023-03-26T00:00:00\",\"2023-03-26T00:00:00\",\"2023-03-27T00:00:00\",\"2023-03-27T00:00:00\",\"2023-03-27T00:00:00\",\"2023-03-29T00:00:00\",\"2023-03-29T00:00:00\",\"2023-03-30T00:00:00\",\"2023-03-30T00:00:00\",\"2023-03-30T00:00:00\",\"2023-03-31T00:00:00\",\"2023-03-31T00:00:00\",\"2023-03-31T00:00:00\",\"2023-04-01T00:00:00\",\"2023-04-01T00:00:00\",\"2023-04-02T00:00:00\",\"2023-04-03T00:00:00\",\"2023-04-03T00:00:00\",\"2023-04-04T00:00:00\",\"2023-04-05T00:00:00\",\"2023-04-06T00:00:00\",\"2023-04-06T00:00:00\",\"2023-04-06T00:00:00\",\"2023-04-06T00:00:00\",\"2023-04-06T00:00:00\",\"2023-04-06T00:00:00\",\"2023-04-07T00:00:00\",\"2023-04-08T00:00:00\",\"2023-04-08T00:00:00\",\"2023-04-08T00:00:00\",\"2023-04-09T00:00:00\",\"2023-04-09T00:00:00\",\"2023-04-09T00:00:00\",\"2023-04-11T00:00:00\",\"2023-04-11T00:00:00\",\"2023-04-11T00:00:00\",\"2023-04-11T00:00:00\",\"2023-04-12T00:00:00\",\"2023-04-12T00:00:00\",\"2023-04-12T00:00:00\",\"2023-04-12T00:00:00\",\"2023-04-12T00:00:00\",\"2023-04-13T00:00:00\",\"2023-04-13T00:00:00\",\"2023-04-13T00:00:00\",\"2023-04-14T00:00:00\",\"2023-04-14T00:00:00\",\"2023-04-14T00:00:00\",\"2023-04-14T00:00:00\",\"2023-04-14T00:00:00\",\"2023-04-14T00:00:00\",\"2023-04-14T00:00:00\",\"2023-04-15T00:00:00\",\"2023-04-16T00:00:00\",\"2023-04-16T00:00:00\",\"2023-04-16T00:00:00\",\"2023-04-16T00:00:00\",\"2023-04-16T00:00:00\",\"2023-04-16T00:00:00\",\"2023-04-16T00:00:00\",\"2023-04-17T00:00:00\",\"2023-04-17T00:00:00\",\"2023-04-17T00:00:00\",\"2023-04-17T00:00:00\",\"2023-04-18T00:00:00\",\"2023-04-18T00:00:00\",\"2023-04-19T00:00:00\",\"2023-04-19T00:00:00\",\"2023-04-20T00:00:00\",\"2023-04-20T00:00:00\",\"2023-04-21T00:00:00\",\"2023-04-21T00:00:00\",\"2023-04-21T00:00:00\",\"2023-04-21T00:00:00\",\"2023-04-22T00:00:00\",\"2023-04-22T00:00:00\",\"2023-04-22T00:00:00\",\"2023-04-23T00:00:00\",\"2023-04-23T00:00:00\",\"2023-04-23T00:00:00\",\"2023-04-24T00:00:00\",\"2023-04-24T00:00:00\",\"2023-04-24T00:00:00\",\"2023-04-24T00:00:00\",\"2023-04-24T00:00:00\",\"2023-04-25T00:00:00\",\"2023-04-25T00:00:00\",\"2023-04-26T00:00:00\",\"2023-04-26T00:00:00\",\"2023-04-26T00:00:00\",\"2023-04-26T00:00:00\",\"2023-04-26T00:00:00\",\"2023-04-27T00:00:00\",\"2023-04-27T00:00:00\",\"2023-04-28T00:00:00\",\"2023-04-28T00:00:00\",\"2023-04-29T00:00:00\",\"2023-04-29T00:00:00\",\"2023-04-29T00:00:00\",\"2023-04-29T00:00:00\",\"2023-04-29T00:00:00\",\"2023-04-30T00:00:00\",\"2023-04-30T00:00:00\",\"2023-05-01T00:00:00\"],\"xaxis\":\"x\",\"y\":[36841.0,19185.0,29699.0,18555.0,36367.0,33878.0,40702.0,21290.0,32431.0,39572.0,34539.0,14080.0,30619.0,28904.0,40401.0,36244.0,16089.0,37068.0,13030.0,42562.0,20712.0,10051.0,19478.0,20263.0,46566.0,25779.0,31133.0,47268.0,15252.0,46864.0,31511.0,24521.0,47593.0,45227.0,34606.0,23103.0,37999.0,48441.0,26706.0,37652.0,30242.0,31597.0,46809.0,33535.0,32276.0,19422.0,11932.0,40484.0,25913.0,19253.0,24519.0,27958.0,28975.0,41666.0,34429.0,43779.0,16611.0,31029.0,32091.0,36635.0,15983.0,48043.0,36045.0,20600.0,33881.0,21786.0,47124.0,40315.0,29963.0,10320.0,16169.0,10961.0,10966.0,43529.0,32078.0,11815.0,17344.0,45932.0,13662.0,23468.0,23857.0,29825.0,13006.0,26006.0,19318.0,26728.0,14066.0,37864.0,46410.0,14789.0,38293.0,43960.0,10303.0,19295.0,14388.0,31895.0,49571.0,36296.0,19781.0,38663.0,32080.0,35290.0,23689.0,22086.0,25664.0,26240.0,33962.0,44005.0,44886.0,34606.0,22872.0,27266.0,30111.0,49203.0,22455.0,36895.0,12500.0,40491.0,33056.0,20202.0,36815.0,41137.0,11285.0,31681.0,40238.0,10505.0,19566.0,49622.0,31276.0,31799.0,48344.0,26168.0,23333.0,37231.0,19939.0,19429.0,23562.0,42932.0,18081.0,15719.0,48434.0,34751.0,18111.0,49195.0,35006.0,12596.0,10198.0,44148.0,20382.0,19082.0,41641.0,42969.0,49805.0,27758.0,46829.0,28015.0,44384.0,13712.0,44454.0,20290.0,45471.0,19593.0,12472.0,19233.0,13067.0,12055.0,20177.0,16633.0,44758.0,43974.0,32610.0,37536.0,22458.0,10495.0,41208.0,33585.0,40963.0,22050.0,30016.0,43656.0,19752.0,41141.0,48271.0,43188.0,44541.0,49340.0,16399.0,45497.0,45366.0,20746.0,46020.0,44368.0,41801.0,18086.0,32932.0,36541.0,43016.0,45877.0,37363.0,27880.0,10961.0,12056.0,24373.0,32738.0,19884.0,33663.0,25488.0,43690.0,24928.0,38088.0,38734.0,45475.0,21559.0,35645.0,48628.0,27683.0,35742.0,39913.0,13793.0,11763.0,14888.0,42371.0,40753.0,25715.0,41374.0,18501.0,22744.0,21750.0,22729.0,33574.0,19205.0,17199.0,17858.0,16535.0,28853.0,45601.0,47477.0,11744.0,20621.0,26372.0,44209.0,13494.0,44386.0,11138.0,21327.0,46201.0,26900.0,46158.0,33199.0,41654.0,28142.0,11515.0,27290.0,11985.0,48818.0,28103.0,38618.0,28723.0,33393.0,35208.0,33331.0,40908.0,47031.0,23998.0,24595.0,17129.0,27891.0,23520.0,25564.0,14967.0,44087.0,22487.0,21804.0,31605.0,10711.0,31422.0,16875.0,13538.0,34892.0,43820.0,13413.0,26651.0,24499.0,28314.0,31467.0,20149.0,35985.0,24521.0,36934.0,28725.0,27424.0,47247.0,36988.0,19354.0,43876.0,37485.0,34659.0,38330.0,33982.0,23543.0,21959.0,38655.0,24605.0,33093.0,31200.0,43647.0,26668.0,38193.0,30118.0,18138.0,48143.0,45456.0,21372.0,26245.0,43677.0,10934.0,32611.0,49753.0,17860.0,13475.0,27846.0,39020.0,14557.0,32912.0,24476.0,22955.0,27352.0,39877.0,15121.0,19595.0,11203.0,38483.0,32706.0,31748.0,49068.0,26218.0,15781.0,49963.0,38081.0,40696.0,15631.0,14629.0,39440.0,47918.0,13003.0,19237.0,47717.0,21334.0,33768.0,36964.0,26649.0,26147.0,16606.0,19450.0,42913.0,40661.0,22814.0,48655.0,46645.0,27914.0,45171.0,26643.0,49259.0,43824.0,14239.0,38607.0,14835.0,48350.0,29398.0,36878.0,42727.0,21271.0,45532.0,48446.0,18059.0,45061.0,24108.0,24186.0,26973.0,26036.0,25472.0,23328.0,41968.0,23139.0,42264.0,14100.0,22104.0,40595.0,43529.0,15679.0,21214.0,40781.0,16389.0,17296.0,48034.0,21150.0,12422.0,49650.0,28662.0,14663.0,24160.0,34141.0,34936.0,17524.0,25188.0,27825.0,10339.0,26706.0,49323.0,36616.0,30374.0,15821.0,23247.0,23583.0,47385.0,21101.0,11564.0,24693.0,23377.0,41270.0,11616.0,46351.0,26871.0,12733.0,15815.0,29682.0,34522.0,13909.0,14771.0,15776.0,40196.0,18224.0,46185.0,35989.0,37686.0,21040.0,32848.0,25075.0,26940.0,33839.0,12555.0,17430.0,28715.0,35841.0,41351.0,47231.0,38527.0,29740.0,12129.0,33033.0,37294.0,16425.0,10613.0,35512.0,26245.0,30916.0,32677.0,20727.0,47167.0,25283.0,43655.0,20951.0,46605.0,20688.0,34428.0,27541.0,26333.0,34652.0,44862.0,46749.0,16770.0,40773.0,29033.0,35781.0,26579.0,26324.0,31646.0,16512.0,35778.0,24552.0,49655.0,21447.0,41736.0,45346.0,23589.0,13369.0,36912.0,26717.0,38327.0,20348.0,17440.0,13662.0,40768.0,26272.0,32004.0,43538.0,16222.0,24636.0,31533.0,28571.0,13993.0,16691.0,31489.0,42895.0,30498.0,39026.0,40509.0,38815.0,15235.0,31012.0,35811.0,39744.0,41375.0,26627.0,30522.0,16938.0,35056.0,30974.0,17186.0,23902.0,23949.0,17969.0,25010.0,43719.0,46107.0,12787.0,33425.0,31672.0,47778.0,28790.0,48515.0,46501.0,28163.0,25655.0,27743.0,37973.0,40817.0,45062.0,26380.0,13641.0,16725.0,43634.0,22900.0,23192.0,44756.0,10527.0,11022.0,25625.0,20404.0,23947.0,49827.0,14289.0,16611.0,41363.0,42802.0,48699.0,30617.0,23462.0,23390.0,34122.0,36456.0,17852.0,25295.0,21174.0,29511.0,23670.0,17984.0,41670.0,20895.0,34873.0,20093.0,22705.0,10538.0,31114.0,22360.0,44000.0,16787.0,12853.0,17364.0,37759.0,14727.0,27965.0,34827.0,30599.0,43562.0,29257.0,25458.0,15937.0,10036.0,29663.0,48320.0,46954.0,33462.0,10247.0,45773.0,47434.0,11991.0,46275.0,36641.0,30630.0,42045.0,21009.0,16311.0,49633.0,43979.0,49476.0,15196.0,38292.0,33464.0,40126.0,18275.0,40012.0,30122.0,11013.0,47238.0,20753.0,31530.0,37022.0,25319.0,37512.0,30980.0,14976.0,30116.0,24331.0,20906.0,26069.0,39289.0,47948.0,48632.0,27962.0,29280.0,41343.0,46314.0,27016.0,45256.0,10499.0,15923.0,39642.0,14449.0,27491.0,45878.0,44674.0,26038.0,24866.0,23966.0,48610.0,30381.0,43264.0,44056.0,29512.0,39771.0,37371.0,47221.0,19153.0,30611.0,35347.0,25518.0,11624.0,47891.0,38512.0,16612.0,29786.0,47256.0,15119.0,11352.0,47968.0,31692.0,29075.0,25713.0,47662.0,11281.0,35267.0,28882.0,20071.0,15700.0,29350.0,15170.0,16078.0,21451.0,15472.0,14851.0,36503.0,45688.0,16426.0,44106.0,48579.0,34519.0,22773.0,15720.0,47704.0,45410.0,40456.0,10906.0,11318.0,14161.0,28192.0,20068.0,25185.0,41071.0,12229.0,22391.0,15485.0,17317.0,15969.0,35388.0,14774.0,47391.0,34112.0,33351.0,22467.0,49290.0,17364.0,22626.0,30134.0,33781.0,19490.0,39517.0,48556.0,10055.0,15795.0,32139.0,24842.0,43260.0,10660.0,46357.0,39562.0,49217.0,39177.0,18952.0,19243.0,22735.0,40782.0,11342.0,34619.0,16147.0,29414.0,27113.0,39229.0,38550.0,12673.0,40738.0,22942.0,11629.0,44403.0,44820.0,39850.0,45908.0,44949.0,13939.0,32208.0,44666.0,24802.0,30502.0,45552.0,32783.0,36835.0,17857.0,49704.0,28424.0,42815.0,41156.0,26054.0,30252.0,39967.0,13079.0,38525.0,32726.0,48898.0,38016.0,28604.0,21988.0,10073.0,27790.0,36321.0,31154.0,31993.0,19729.0,23566.0,25666.0,25379.0,33815.0,39724.0,27883.0,26331.0,33487.0,10351.0,31651.0,13749.0,10763.0,10642.0,14449.0,20414.0,35160.0,25256.0,21212.0,14310.0,23506.0,40457.0,12379.0,12101.0,32056.0,21119.0,37670.0,36731.0,43214.0,33514.0,38942.0,22363.0,47926.0,15201.0,36032.0,40031.0,12920.0,18396.0,31075.0,32979.0,21162.0,49794.0,45256.0,33688.0,10866.0,47264.0,20292.0,14353.0,39843.0,36013.0,25469.0,16938.0,12630.0,13474.0,13439.0,44131.0,38010.0,19549.0,34875.0,38772.0,34575.0,14617.0,45893.0,35711.0,16959.0,20023.0,28329.0,46319.0,40424.0,28598.0,29887.0,48400.0,27893.0,49432.0,33374.0,45503.0,11362.0,21954.0,22048.0,39203.0,36497.0,38643.0,14217.0,48921.0,23605.0,19100.0,47620.0,37598.0,25350.0,10041.0,49287.0,39223.0,11433.0,28763.0,28979.0,22531.0,42610.0,46049.0,35918.0,41285.0,38351.0,22453.0,37813.0,26707.0,10669.0,28892.0,17874.0,11514.0,47844.0,45480.0,28369.0,20070.0,22478.0,25467.0,23346.0,34331.0,36924.0,49567.0,21441.0,32085.0,11962.0,25198.0,15278.0,34714.0,29423.0,45093.0,38769.0],\"yaxis\":\"y\",\"type\":\"scatter\"}],                        {\"template\":{\"data\":{\"histogram2dcontour\":[{\"type\":\"histogram2dcontour\",\"colorbar\":{\"outlinewidth\":0,\"ticks\":\"\"},\"colorscale\":[[0.0,\"#0d0887\"],[0.1111111111111111,\"#46039f\"],[0.2222222222222222,\"#7201a8\"],[0.3333333333333333,\"#9c179e\"],[0.4444444444444444,\"#bd3786\"],[0.5555555555555556,\"#d8576b\"],[0.6666666666666666,\"#ed7953\"],[0.7777777777777778,\"#fb9f3a\"],[0.8888888888888888,\"#fdca26\"],[1.0,\"#f0f921\"]]}],\"choropleth\":[{\"type\":\"choropleth\",\"colorbar\":{\"outlinewidth\":0,\"ticks\":\"\"}}],\"histogram2d\":[{\"type\":\"histogram2d\",\"colorbar\":{\"outlinewidth\":0,\"ticks\":\"\"},\"colorscale\":[[0.0,\"#0d0887\"],[0.1111111111111111,\"#46039f\"],[0.2222222222222222,\"#7201a8\"],[0.3333333333333333,\"#9c179e\"],[0.4444444444444444,\"#bd3786\"],[0.5555555555555556,\"#d8576b\"],[0.6666666666666666,\"#ed7953\"],[0.7777777777777778,\"#fb9f3a\"],[0.8888888888888888,\"#fdca26\"],[1.0,\"#f0f921\"]]}],\"heatmap\":[{\"type\":\"heatmap\",\"colorbar\":{\"outlinewidth\":0,\"ticks\":\"\"},\"colorscale\":[[0.0,\"#0d0887\"],[0.1111111111111111,\"#46039f\"],[0.2222222222222222,\"#7201a8\"],[0.3333333333333333,\"#9c179e\"],[0.4444444444444444,\"#bd3786\"],[0.5555555555555556,\"#d8576b\"],[0.6666666666666666,\"#ed7953\"],[0.7777777777777778,\"#fb9f3a\"],[0.8888888888888888,\"#fdca26\"],[1.0,\"#f0f921\"]]}],\"heatmapgl\":[{\"type\":\"heatmapgl\",\"colorbar\":{\"outlinewidth\":0,\"ticks\":\"\"},\"colorscale\":[[0.0,\"#0d0887\"],[0.1111111111111111,\"#46039f\"],[0.2222222222222222,\"#7201a8\"],[0.3333333333333333,\"#9c179e\"],[0.4444444444444444,\"#bd3786\"],[0.5555555555555556,\"#d8576b\"],[0.6666666666666666,\"#ed7953\"],[0.7777777777777778,\"#fb9f3a\"],[0.8888888888888888,\"#fdca26\"],[1.0,\"#f0f921\"]]}],\"contourcarpet\":[{\"type\":\"contourcarpet\",\"colorbar\":{\"outlinewidth\":0,\"ticks\":\"\"}}],\"contour\":[{\"type\":\"contour\",\"colorbar\":{\"outlinewidth\":0,\"ticks\":\"\"},\"colorscale\":[[0.0,\"#0d0887\"],[0.1111111111111111,\"#46039f\"],[0.2222222222222222,\"#7201a8\"],[0.3333333333333333,\"#9c179e\"],[0.4444444444444444,\"#bd3786\"],[0.5555555555555556,\"#d8576b\"],[0.6666666666666666,\"#ed7953\"],[0.7777777777777778,\"#fb9f3a\"],[0.8888888888888888,\"#fdca26\"],[1.0,\"#f0f921\"]]}],\"surface\":[{\"type\":\"surface\",\"colorbar\":{\"outlinewidth\":0,\"ticks\":\"\"},\"colorscale\":[[0.0,\"#0d0887\"],[0.1111111111111111,\"#46039f\"],[0.2222222222222222,\"#7201a8\"],[0.3333333333333333,\"#9c179e\"],[0.4444444444444444,\"#bd3786\"],[0.5555555555555556,\"#d8576b\"],[0.6666666666666666,\"#ed7953\"],[0.7777777777777778,\"#fb9f3a\"],[0.8888888888888888,\"#fdca26\"],[1.0,\"#f0f921\"]]}],\"mesh3d\":[{\"type\":\"mesh3d\",\"colorbar\":{\"outlinewidth\":0,\"ticks\":\"\"}}],\"scatter\":[{\"fillpattern\":{\"fillmode\":\"overlay\",\"size\":10,\"solidity\":0.2},\"type\":\"scatter\"}],\"parcoords\":[{\"type\":\"parcoords\",\"line\":{\"colorbar\":{\"outlinewidth\":0,\"ticks\":\"\"}}}],\"scatterpolargl\":[{\"type\":\"scatterpolargl\",\"marker\":{\"colorbar\":{\"outlinewidth\":0,\"ticks\":\"\"}}}],\"bar\":[{\"error_x\":{\"color\":\"#2a3f5f\"},\"error_y\":{\"color\":\"#2a3f5f\"},\"marker\":{\"line\":{\"color\":\"#E5ECF6\",\"width\":0.5},\"pattern\":{\"fillmode\":\"overlay\",\"size\":10,\"solidity\":0.2}},\"type\":\"bar\"}],\"scattergeo\":[{\"type\":\"scattergeo\",\"marker\":{\"colorbar\":{\"outlinewidth\":0,\"ticks\":\"\"}}}],\"scatterpolar\":[{\"type\":\"scatterpolar\",\"marker\":{\"colorbar\":{\"outlinewidth\":0,\"ticks\":\"\"}}}],\"histogram\":[{\"marker\":{\"pattern\":{\"fillmode\":\"overlay\",\"size\":10,\"solidity\":0.2}},\"type\":\"histogram\"}],\"scattergl\":[{\"type\":\"scattergl\",\"marker\":{\"colorbar\":{\"outlinewidth\":0,\"ticks\":\"\"}}}],\"scatter3d\":[{\"type\":\"scatter3d\",\"line\":{\"colorbar\":{\"outlinewidth\":0,\"ticks\":\"\"}},\"marker\":{\"colorbar\":{\"outlinewidth\":0,\"ticks\":\"\"}}}],\"scattermapbox\":[{\"type\":\"scattermapbox\",\"marker\":{\"colorbar\":{\"outlinewidth\":0,\"ticks\":\"\"}}}],\"scatterternary\":[{\"type\":\"scatterternary\",\"marker\":{\"colorbar\":{\"outlinewidth\":0,\"ticks\":\"\"}}}],\"scattercarpet\":[{\"type\":\"scattercarpet\",\"marker\":{\"colorbar\":{\"outlinewidth\":0,\"ticks\":\"\"}}}],\"carpet\":[{\"aaxis\":{\"endlinecolor\":\"#2a3f5f\",\"gridcolor\":\"white\",\"linecolor\":\"white\",\"minorgridcolor\":\"white\",\"startlinecolor\":\"#2a3f5f\"},\"baxis\":{\"endlinecolor\":\"#2a3f5f\",\"gridcolor\":\"white\",\"linecolor\":\"white\",\"minorgridcolor\":\"white\",\"startlinecolor\":\"#2a3f5f\"},\"type\":\"carpet\"}],\"table\":[{\"cells\":{\"fill\":{\"color\":\"#EBF0F8\"},\"line\":{\"color\":\"white\"}},\"header\":{\"fill\":{\"color\":\"#C8D4E3\"},\"line\":{\"color\":\"white\"}},\"type\":\"table\"}],\"barpolar\":[{\"marker\":{\"line\":{\"color\":\"#E5ECF6\",\"width\":0.5},\"pattern\":{\"fillmode\":\"overlay\",\"size\":10,\"solidity\":0.2}},\"type\":\"barpolar\"}],\"pie\":[{\"automargin\":true,\"type\":\"pie\"}]},\"layout\":{\"autotypenumbers\":\"strict\",\"colorway\":[\"#636efa\",\"#EF553B\",\"#00cc96\",\"#ab63fa\",\"#FFA15A\",\"#19d3f3\",\"#FF6692\",\"#B6E880\",\"#FF97FF\",\"#FECB52\"],\"font\":{\"color\":\"#2a3f5f\"},\"hovermode\":\"closest\",\"hoverlabel\":{\"align\":\"left\"},\"paper_bgcolor\":\"white\",\"plot_bgcolor\":\"#E5ECF6\",\"polar\":{\"bgcolor\":\"#E5ECF6\",\"angularaxis\":{\"gridcolor\":\"white\",\"linecolor\":\"white\",\"ticks\":\"\"},\"radialaxis\":{\"gridcolor\":\"white\",\"linecolor\":\"white\",\"ticks\":\"\"}},\"ternary\":{\"bgcolor\":\"#E5ECF6\",\"aaxis\":{\"gridcolor\":\"white\",\"linecolor\":\"white\",\"ticks\":\"\"},\"baxis\":{\"gridcolor\":\"white\",\"linecolor\":\"white\",\"ticks\":\"\"},\"caxis\":{\"gridcolor\":\"white\",\"linecolor\":\"white\",\"ticks\":\"\"}},\"coloraxis\":{\"colorbar\":{\"outlinewidth\":0,\"ticks\":\"\"}},\"colorscale\":{\"sequential\":[[0.0,\"#0d0887\"],[0.1111111111111111,\"#46039f\"],[0.2222222222222222,\"#7201a8\"],[0.3333333333333333,\"#9c179e\"],[0.4444444444444444,\"#bd3786\"],[0.5555555555555556,\"#d8576b\"],[0.6666666666666666,\"#ed7953\"],[0.7777777777777778,\"#fb9f3a\"],[0.8888888888888888,\"#fdca26\"],[1.0,\"#f0f921\"]],\"sequentialminus\":[[0.0,\"#0d0887\"],[0.1111111111111111,\"#46039f\"],[0.2222222222222222,\"#7201a8\"],[0.3333333333333333,\"#9c179e\"],[0.4444444444444444,\"#bd3786\"],[0.5555555555555556,\"#d8576b\"],[0.6666666666666666,\"#ed7953\"],[0.7777777777777778,\"#fb9f3a\"],[0.8888888888888888,\"#fdca26\"],[1.0,\"#f0f921\"]],\"diverging\":[[0,\"#8e0152\"],[0.1,\"#c51b7d\"],[0.2,\"#de77ae\"],[0.3,\"#f1b6da\"],[0.4,\"#fde0ef\"],[0.5,\"#f7f7f7\"],[0.6,\"#e6f5d0\"],[0.7,\"#b8e186\"],[0.8,\"#7fbc41\"],[0.9,\"#4d9221\"],[1,\"#276419\"]]},\"xaxis\":{\"gridcolor\":\"white\",\"linecolor\":\"white\",\"ticks\":\"\",\"title\":{\"standoff\":15},\"zerolinecolor\":\"white\",\"automargin\":true,\"zerolinewidth\":2},\"yaxis\":{\"gridcolor\":\"white\",\"linecolor\":\"white\",\"ticks\":\"\",\"title\":{\"standoff\":15},\"zerolinecolor\":\"white\",\"automargin\":true,\"zerolinewidth\":2},\"scene\":{\"xaxis\":{\"backgroundcolor\":\"#E5ECF6\",\"gridcolor\":\"white\",\"linecolor\":\"white\",\"showbackground\":true,\"ticks\":\"\",\"zerolinecolor\":\"white\",\"gridwidth\":2},\"yaxis\":{\"backgroundcolor\":\"#E5ECF6\",\"gridcolor\":\"white\",\"linecolor\":\"white\",\"showbackground\":true,\"ticks\":\"\",\"zerolinecolor\":\"white\",\"gridwidth\":2},\"zaxis\":{\"backgroundcolor\":\"#E5ECF6\",\"gridcolor\":\"white\",\"linecolor\":\"white\",\"showbackground\":true,\"ticks\":\"\",\"zerolinecolor\":\"white\",\"gridwidth\":2}},\"shapedefaults\":{\"line\":{\"color\":\"#2a3f5f\"}},\"annotationdefaults\":{\"arrowcolor\":\"#2a3f5f\",\"arrowhead\":0,\"arrowwidth\":1},\"geo\":{\"bgcolor\":\"white\",\"landcolor\":\"#E5ECF6\",\"subunitcolor\":\"white\",\"showland\":true,\"showlakes\":true,\"lakecolor\":\"white\"},\"title\":{\"x\":0.05},\"mapbox\":{\"style\":\"light\"}}},\"xaxis\":{\"anchor\":\"y\",\"domain\":[0.0,1.0],\"title\":{\"text\":\"Date\"}},\"yaxis\":{\"anchor\":\"x\",\"domain\":[0.0,1.0],\"title\":{\"text\":\"Sale Price\"}},\"legend\":{\"tracegroupgap\":0},\"title\":{\"text\":\"Cars Sale Price 2022-2023\"}},                        {\"responsive\": true}                    ).then(function(){\n",
              "                            \n",
              "var gd = document.getElementById('2edae21a-16ad-49ac-b815-3b72f275530d');\n",
              "var x = new MutationObserver(function (mutations, observer) {{\n",
              "        var display = window.getComputedStyle(gd).display;\n",
              "        if (!display || display === 'none') {{\n",
              "            console.log([gd, 'removed!']);\n",
              "            Plotly.purge(gd);\n",
              "            observer.disconnect();\n",
              "        }}\n",
              "}});\n",
              "\n",
              "// Listen for the removal of the full notebook cells\n",
              "var notebookContainer = gd.closest('#notebook-container');\n",
              "if (notebookContainer) {{\n",
              "    x.observe(notebookContainer, {childList: true});\n",
              "}}\n",
              "\n",
              "// Listen for the clearing of the current output cell\n",
              "var outputEl = gd.closest('.output');\n",
              "if (outputEl) {{\n",
              "    x.observe(outputEl, {childList: true});\n",
              "}}\n",
              "\n",
              "                        })                };                            </script>        </div>\n",
              "</body>\n",
              "</html>"
            ]
          },
          "metadata": {}
        }
      ]
    },
    {
      "cell_type": "code",
      "source": [
        "# Heatmap to show the correlation of the data\n",
        "ax= plt.figure(figsize=(15,8))\n",
        "sb.heatmap(car_sales_pandas.corr(),linewidths=1,linecolor='white',annot=True)"
      ],
      "metadata": {
        "colab": {
          "base_uri": "https://localhost:8080/",
          "height": 789
        },
        "id": "lUKpZpaxPSJd",
        "outputId": "710b90ed-02f2-48d2-a234-52779ed75bd4"
      },
      "execution_count": null,
      "outputs": [
        {
          "output_type": "stream",
          "name": "stderr",
          "text": [
            "<ipython-input-120-db7721d128ca>:2: FutureWarning:\n",
            "\n",
            "The default value of numeric_only in DataFrame.corr is deprecated. In a future version, it will default to False. Select only valid columns or specify the value of numeric_only to silence this warning.\n",
            "\n"
          ]
        },
        {
          "output_type": "execute_result",
          "data": {
            "text/plain": [
              "<Axes: >"
            ]
          },
          "metadata": {},
          "execution_count": 120
        },
        {
          "output_type": "display_data",
          "data": {
            "text/plain": [
              "<Figure size 1500x800 with 2 Axes>"
            ],
            "image/png": "[encoded data removed]"
          },
          "metadata": {}
        }
      ]
    },
    {
      "cell_type": "markdown",
      "source": [
        "# Gus"
      ],
      "metadata": {
        "id": "P2irtRdyQt1j"
      }
    },
    {
      "cell_type": "code",
      "source": [],
      "metadata": {
        "id": "N5L07e-XQvFq"
      },
      "execution_count": null,
      "outputs": []
    },
    {
      "cell_type": "markdown",
      "source": [
        "# Kevin"
      ],
      "metadata": {
        "id": "aN8tH0TeQc0x"
      }
    },
    {
      "cell_type": "code",
      "source": [],
      "metadata": {
        "id": "GVAseHeDQfkk"
      },
      "execution_count": null,
      "outputs": []
    },
    {
      "cell_type": "markdown",
      "source": [
        "# Fahmida"
      ],
      "metadata": {
        "id": "5JnJW56RQg21"
      }
    },
    {
      "cell_type": "code",
      "source": [],
      "metadata": {
        "id": "kSHsCF0OQjmb"
      },
      "execution_count": null,
      "outputs": []
    },
    {
      "cell_type": "markdown",
      "source": [
        "# Mohanathas"
      ],
      "metadata": {
        "id": "LHNoV9uxQpwh"
      }
    },
    {
      "cell_type": "code",
      "source": [],
      "metadata": {
        "id": "_3rc3c9zQscA"
      },
      "execution_count": null,
      "outputs": []
    }
  ]
}